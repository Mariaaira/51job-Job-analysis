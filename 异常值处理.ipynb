{
 "cells": [
  {
   "cell_type": "code",
   "execution_count": 3,
   "metadata": {
    "collapsed": true,
    "pycharm": {
     "name": "#%%\n"
    }
   },
   "outputs": [],
   "source": [
    "#-*- coding : utf-8-*-\n",
    "# coding:unicode_escape\n",
    "import pandas as pd\n",
    "import numpy as np\n",
    "\n",
    "data = pd.read_csv(r'D:\\Crawler\\51job\\人力-1-特征.csv')"
   ]
  },
  {
   "cell_type": "markdown",
   "source": [],
   "metadata": {
    "collapsed": false,
    "pycharm": {
     "name": "#%% md\n"
    }
   }
  },
  {
   "cell_type": "code",
   "execution_count": 8,
   "outputs": [],
   "source": [
    "data.drop(columns=['公司标签_政府/公共事业','学历要求_初中及以下','公司标签_法律','学历要求_高中','公司标签_奢侈品/收藏品/工艺品/珠宝', '公司标签_计算机服务(系统、数据服务、维修)','公司标签_文字媒体/出版','公司标签_会计/审计','公司标签_采掘业/冶炼', '公司标签_广告', '公司标签_检测，认证','公司标签_航天/航空', '公司标签_公关/市场推广/会展', '公司标签_通信/电信运营、增值服务','公司标签_办公用品及设备', '公司标签_家居/室内设计/装潢','公司类型_创业公司','学历要求_中技/中专', '公司标签_计算机硬件', '公司标签_娱乐/休闲/体育','公司类型_非营利组织','公司标签_租赁服务','公司标签_环保', '公司标签_美容/保健','公司标签_中介服务','工作经验要求_无需经验','公司标签_保险', '公司标签_汽车零配件','公司标签_交通/运输/物流','公司标签_家具/家电/玩具/礼品','公司标签_贸易/进出口', '公司标签_生活服务','公司标签_电气/电力/水利'], axis=1,inplace=True)"
   ],
   "metadata": {
    "collapsed": false,
    "pycharm": {
     "name": "#%%\n"
    }
   }
  },
  {
   "cell_type": "code",
   "execution_count": 9,
   "outputs": [],
   "source": [
    "fd = pd.DataFrame(data)\n",
    "fd.to_csv('人力-1-特征-clean.csv',header = True,index=0)"
   ],
   "metadata": {
    "collapsed": false,
    "pycharm": {
     "name": "#%%\n"
    }
   }
  },
  {
   "cell_type": "code",
   "execution_count": null,
   "outputs": [],
   "source": [],
   "metadata": {
    "collapsed": false,
    "pycharm": {
     "name": "#%%\n"
    }
   }
  }
 ],
 "metadata": {
  "kernelspec": {
   "display_name": "Python 3",
   "language": "python",
   "name": "python3"
  },
  "language_info": {
   "codemirror_mode": {
    "name": "ipython",
    "version": 2
   },
   "file_extension": ".py",
   "mimetype": "text/x-python",
   "name": "python",
   "nbconvert_exporter": "python",
   "pygments_lexer": "ipython2",
   "version": "2.7.6"
  }
 },
 "nbformat": 4,
 "nbformat_minor": 0
}