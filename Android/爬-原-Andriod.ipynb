{
 "cells": [
  {
   "cell_type": "markdown",
   "source": [
    "### 51job-保留部分原始代码"
   ],
   "metadata": {
    "collapsed": false,
    "pycharm": {
     "name": "#%% md\n"
    }
   }
  },
  {
   "cell_type": "code",
   "execution_count": 2,
   "metadata": {
    "collapsed": true,
    "pycharm": {
     "name": "#%%\n"
    }
   },
   "outputs": [],
   "source": [
    "from time import sleep\n",
    "from lxml import etree\n",
    "from selenium.webdriver import Chrome\n",
    "from selenium.webdriver.chrome.options import Options\n",
    "from selenium.webdriver.common.keys import Keys\n",
    "import re"
   ]
  },
  {
   "cell_type": "code",
   "execution_count": 3,
   "outputs": [],
   "source": [
    "职位名称=[]\n",
    "公司名称=[]\n",
    "工作经验要求=[]\n",
    "学历要求=[]\n",
    "工作地点=[]\n",
    "薪酬=[]\n",
    "发布时间=[]\n",
    "职位描述或任职要求=[]\n",
    "\n",
    "更新时间=[]\n",
    "城市地区=[]\n",
    "公司福利=[]\n",
    "公司规模=[]\n",
    "公司类型=[]\n",
    "公司标签=[]\n",
    "地区经验学历=[]"
   ],
   "metadata": {
    "collapsed": false,
    "pycharm": {
     "name": "#%%\n"
    }
   }
  },
  {
   "cell_type": "code",
   "execution_count": 3,
   "outputs": [
    {
     "ename": "KeyboardInterrupt",
     "evalue": "",
     "output_type": "error",
     "traceback": [
      "\u001B[1;31m---------------------------------------------------------------------------\u001B[0m",
      "\u001B[1;31mKeyboardInterrupt\u001B[0m                         Traceback (most recent call last)",
      "Cell \u001B[1;32mIn [3], line 11\u001B[0m\n\u001B[0;32m      8\u001B[0m driver\u001B[38;5;241m.\u001B[39mget(\u001B[38;5;124m'\u001B[39m\u001B[38;5;124mhttps://www.51job.com\u001B[39m\u001B[38;5;124m'\u001B[39m)\n\u001B[0;32m     10\u001B[0m driver\u001B[38;5;241m.\u001B[39mfind_element(By\u001B[38;5;241m.\u001B[39mID,\u001B[38;5;124m'\u001B[39m\u001B[38;5;124mkwdselectid\u001B[39m\u001B[38;5;124m'\u001B[39m)\u001B[38;5;241m.\u001B[39msend_keys(\u001B[38;5;124m'\u001B[39m\u001B[38;5;124m安卓工程师\u001B[39m\u001B[38;5;124m'\u001B[39m,Keys\u001B[38;5;241m.\u001B[39mENTER)\n\u001B[1;32m---> 11\u001B[0m sleep(\u001B[38;5;241m20\u001B[39m)\n\u001B[0;32m     12\u001B[0m \u001B[38;5;28;01mfor\u001B[39;00m k \u001B[38;5;129;01min\u001B[39;00m \u001B[38;5;28mrange\u001B[39m(\u001B[38;5;241m1\u001B[39m,\u001B[38;5;241m3\u001B[39m):\n\u001B[0;32m     13\u001B[0m     handles\u001B[38;5;241m=\u001B[39mdriver\u001B[38;5;241m.\u001B[39mwindow_handles\n",
      "\u001B[1;31mKeyboardInterrupt\u001B[0m: "
     ]
    }
   ],
   "source": [
    "from selenium.webdriver.common.by import By\n",
    "\n",
    "option=Options()\n",
    "option.add_argument('--disable-blink-features=AutomationControlled')\n",
    "option.add_argument(\"--log-level=3\")\n",
    "option.add_argument(\"--use-fake-ui-for-media-stream\")\n",
    "driver = Chrome(options=option)\n",
    "driver.get('https://www.51job.com')\n",
    "\n",
    "driver.find_element(By.ID,'kwdselectid').send_keys('安卓工程师',Keys.ENTER)\n",
    "sleep(20)\n",
    "for k in range(1,3):\n",
    "    handles=driver.window_handles\n",
    "    driver.switch_to.window(handles[-1])\n",
    "    page1=driver.page_source\n",
    "\n",
    "\n",
    "    # issuedate=re.findall(r'\"job_name\":\".*?\".*?\"issuedate\":\"(.*?)\"',page1)#发布时间\n",
    "    # 发布时间=发布时间+issuedate\n",
    "    # updatedate=re.findall(r'\"job_name\":\".*?\".*?\"updatedate\":\"(.*?)\"',page1)#更新时间\n",
    "    # 更新时间=更新时间+updatedate\n",
    "    # jobwelf=re.findall(r'\"job_name\":\".*?\".*?\"jobwelf\":\"(.*?)\"',page1)#公司福利\n",
    "    # 公司福利=公司福利+jobwelf\n",
    "    # job_name=re.findall(r'\"job_name\":\"(.*?)\"',page1)#职位名称\n",
    "    # 职位名称=职位名称+job_name\n",
    "    # company_name=re.findall(r'\"job_name\":\".*?\".*?\"company_name\":\"(.*?)\"',page1)#公司名称\n",
    "    # 公司名称=公司名称+company_name\n",
    "    # providesalary_text=re.findall(r'\"job_name\":\".*?\".*?\"providesalary_text\":\"(.*?)\"',page1)#薪酬\n",
    "    # 薪酬=薪酬+providesalary_text\n",
    "    # companysize_text=re.findall(r'\"job_name\":\".*?\".*?\"companysize_text\":\"(.*?)\"',page1)#公司规模\n",
    "    # 公司规模=公司规模+companysize_text\n",
    "    # companytype_text=re.findall(r'\"job_name\":\".*?\".*?\"companytype_text\":\"(.*?)\"',page1)#公司类型\n",
    "    # 公司类型=公司类型+companytype_text\n",
    "    # companyind_text=re.findall(r'\"job_name\":\".*?\".*?\"companyind_text\":\"(.*?)\"',page1)#公司标签\n",
    "    # 公司标签=公司标签+companyind_text\n",
    "    # attribute_text=re.findall(r'\"attribute_text\":(\\[.*?\\])',page1)#地区经验学历\n",
    "    # 地区经验学历=地区经验学历+attribute_text\n",
    "\n",
    "\n",
    "    joblist=driver.find_elements(By.XPATH, '/html/body/div[2]/div[3]/div/div[2]/div[4]/div[1]/div')\n",
    "    for i in range(len(joblist)):\n",
    "        joblist[i].find_element(By.XPATH, './a/p[1]/span[1]').click()\n",
    "        sleep(12)\n",
    "        handles=driver.window_handles\n",
    "        driver.switch_to.window(handles[-1])\n",
    "        page2=driver.page_source\n",
    "        html2=etree.HTML(page2)\n",
    "        city=\"\".join(html2.xpath('/html/body/div[2]/div[2]/div[2]/div/div[1]/p/text()[1]')).replace('\\xa0','')#城市地区\n",
    "        城市地区.append(city)\n",
    "        work_exp=\"\".join(html2.xpath('/html/body/div[2]/div[2]/div[2]/div/div[1]/p/text()[2]')).replace('\\xa0','')#工作经验\n",
    "        工作经验要求.append(work_exp)\n",
    "        degree=\"\".join(html2.xpath('/html/body/div[2]/div[2]/div[2]/div/div[1]/p/text()[3]')).replace('\\xa0','')#学历\n",
    "        学历要求.append(degree)\n",
    "        con=\"\".join(html2.xpath('/html/body/div[2]/div[2]/div[3]/div[1]/div//text()')).replace(' ','').replace('\\n','')\n",
    "        职位描述或任职要求.append(con)\n",
    "        location=\"\".join(html2.xpath('/html/body/div[2]/div[2]/div[3]/div[2]/div/p/text()'))#工作地点\n",
    "        工作地点.append(location)\n",
    "        driver.close()\n",
    "        handles=driver.window_handles\n",
    "        driver.switch_to.window(handles[-1])\n",
    "    handles=driver.window_handles\n",
    "    driver.switch_to.window(handles[-1])\n",
    "    js=\"var q=document.documentElement.scrollTop=10000\"  # 滚动到最下面\n",
    "    driver.execute_script(js)\n",
    "    sleep(8)\n",
    "    target=driver.find_element(By.XPATH, '//button[@class=\"btn-next\"]')\n",
    "    driver.execute_script('arguments[0].click();',target)\n",
    "    sleep(8)\n",
    "    handles=driver.window_handles\n",
    "    driver.switch_to.window(handles[-1])\n",
    "print('已完成')\n",
    "#     print(f\"已爬完{k}页\")\n",
    "#     break"
   ],
   "metadata": {
    "collapsed": false,
    "pycharm": {
     "name": "#%%\n"
    }
   }
  },
  {
   "cell_type": "code",
   "execution_count": 13,
   "outputs": [],
   "source": [
    "import pandas as pd\n",
    "info ={\n",
    "    '职位名称':职位名称,'公司名称':公司名称,'工作经验要求':工作经验要求,'学历要求':学历要求,\n",
    "    '工作地点':工作地点,'薪酬':薪酬,'发布时间':发布时间,'职位描述或任职要求':职位描述或任职要求,\n",
    "    '更新时间':更新时间,'城市地区':城市地区,'公司福利':公司福利,\n",
    "    '公司规模':公司规模,'公司类型':公司类型,'公司标签':公司标签,\n",
    "    '地区经验学历':地区经验学历\n",
    "}\n",
    "fd = pd.DataFrame(info)\n",
    "fd.to_csv('job.csv',header = True,index=0)"
   ],
   "metadata": {
    "collapsed": false,
    "pycharm": {
     "name": "#%%\n"
    }
   }
  },
  {
   "cell_type": "code",
   "execution_count": null,
   "outputs": [],
   "source": [],
   "metadata": {
    "collapsed": false,
    "pycharm": {
     "name": "#%%\n"
    }
   }
  }
 ],
 "metadata": {
  "kernelspec": {
   "display_name": "Python 3",
   "language": "python",
   "name": "python3"
  },
  "language_info": {
   "codemirror_mode": {
    "name": "ipython",
    "version": 2
   },
   "file_extension": ".py",
   "mimetype": "text/x-python",
   "name": "python",
   "nbconvert_exporter": "python",
   "pygments_lexer": "ipython2",
   "version": "2.7.6"
  }
 },
 "nbformat": 4,
 "nbformat_minor": 0
}