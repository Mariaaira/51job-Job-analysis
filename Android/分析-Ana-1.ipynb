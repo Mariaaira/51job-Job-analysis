{
 "cells": [
  {
   "cell_type": "markdown",
   "source": [
    "## 社招-分析1 （自己尝试转薪酬）"
   ],
   "metadata": {
    "collapsed": false,
    "pycharm": {
     "name": "#%% md\n"
    }
   }
  },
  {
   "cell_type": "code",
   "execution_count": 456,
   "outputs": [],
   "source": [
    "#-*- coding : utf-8-*-\n",
    "# coding:unicode_escape\n",
    "import pandas as pd\n",
    "import numpy as np"
   ],
   "metadata": {
    "collapsed": false,
    "pycharm": {
     "name": "#%%\n"
    }
   }
  },
  {
   "cell_type": "code",
   "execution_count": 457,
   "outputs": [],
   "source": [
    "data=pd.read_excel(r'D:\\Crawler\\51job\\工作簿1.xlsx')"
   ],
   "metadata": {
    "collapsed": false,
    "pycharm": {
     "name": "#%%\n"
    }
   }
  },
  {
   "cell_type": "code",
   "execution_count": 458,
   "outputs": [],
   "source": [
    "data=pd.DataFrame(data)"
   ],
   "metadata": {
    "collapsed": false,
    "pycharm": {
     "name": "#%%\n"
    }
   }
  },
  {
   "cell_type": "code",
   "execution_count": 459,
   "outputs": [
    {
     "data": {
      "text/plain": "(50, 12)"
     },
     "execution_count": 459,
     "metadata": {},
     "output_type": "execute_result"
    }
   ],
   "source": [
    "data.shape"
   ],
   "metadata": {
    "collapsed": false,
    "pycharm": {
     "name": "#%%\n"
    }
   }
  },
  {
   "cell_type": "code",
   "execution_count": 460,
   "outputs": [
    {
     "data": {
      "text/plain": "<bound method NDFrame.head of                                 职位名称              公司名称  工作经验要求 学历要求  \\\n0              JAVA软件工程师（安卓APP维护与开发）      上海芮想信息科技有限公司  5-7年经验   大专   \n1                 安卓开发工程师 (MJ000140)      深圳至一数字科技有限公司  3-4年经验   本科   \n2                        安卓高级软件开发工程师      上海宝象医疗科技有限公司  3-4年经验   本科   \n3                      安卓工程师（双休 13薪）      上海豪亿信息科技有限公司  5-7年经验   大专   \n4                              安卓工程师      上海芮想信息科技有限公司  5-7年经验   大专   \n5                              安卓工程师    爱乔（上海）医疗科技有限公司  5-7年经验   本科   \n6                              安卓工程师      广州三晶电气股份有限公司  5-7年经验   本科   \n7                       Android安卓工程师    常州市荣瑞信息自动化有限公司  3-4年经验   本科   \n8                              安卓工程师      上海芮想信息科技有限公司  5-7年经验   大专   \n9                           中高级安卓工程师    苏州咖乐美咖啡机科技有限公司  3-4年经验   本科   \n10                  Android工程师/安卓工程师    北京恒远恒信科技发展有限公司    2年经验   本科   \n11                      Android安卓工程师       深圳市恺恩科技有限公司    1年经验   本科   \n12                             安卓工程师      上海芮想信息科技有限公司  5-7年经验   大专   \n13                             安卓工程师      苏州君百智能科技有限公司  3-4年经验   大专   \n14                      Android安卓工程师        本无网络科技有限公司  3-4年经验   本科   \n15                             安卓工程师      海南钦诚软件技术有限公司  3-4年经验   本科   \n16                             安卓工程师      上海芮想信息科技有限公司  5-7年经验   大专   \n17                             安卓工程师  嘉信商务管理咨询（大连）有限公司  5-7年经验   本科   \n18                         java安卓工程师  滨江兄弟信息技术（杭州）有限公司    1年经验   本科   \n19                           高级安卓工程师    惠州市华阳多媒体电子有限公司  3-4年经验   本科   \n20             安卓工程师（Android）-北京市平谷区      上海芮想信息科技有限公司  5-7年经验   大专   \n21                           安卓系统工程师      盐城一之来计算机有限公司    2年经验   大专   \n22                             安卓工程师      青岛沐贤人才服务有限公司  3-4年经验   本科   \n23                           安卓系统工程师    惠州市华阳多媒体电子有限公司  3-4年经验   本科   \n24                           安卓开发工程师      上海芮想信息科技有限公司  5-7年经验   大专   \n25                   Android/安卓开发工程师      江苏金软软件技术有限公司  3-4年经验   本科   \n26                           安卓开发工程师              云涌科技    1年经验   本科   \n27                 安卓/Android软件开发工程师      重庆舟海智能科技有限公司    2年经验   大专   \n28                   Android/安卓开发工程师      上海芮想信息科技有限公司  5-7年经验   大专   \n29                        安卓APP开发工程师      武汉飞流智能技术有限公司  5-7年经验   本科   \n30                 安卓/Android软件开发工程师       北京白象新技术有限公司    2年经验   大专   \n31                     安卓开发工程师（智能硬件）       奇虎360科技有限公司  5-7年经验   本科   \n32                             安卓工程师      上海芮想信息科技有限公司  5-7年经验   大专   \n33  Software Android Engineer软件安卓工程师     深圳市橙视科技发展有限公司    1年经验   大专   \n34                       车辆车机安卓框架工程师      大连隆基信息技术有限公司    1年经验   大专   \n35                  深圳OPPO驻场-安卓应用工程师      浙江大华技术股份有限公司    1年经验   本科   \n36                           安卓系统工程师      上海芮想信息科技有限公司  5-7年经验   大专   \n37                       iOS/安卓开发工程师        绵阳优森科技有限公司  3-4年经验   本科   \n38                         高级安卓开发工程师     深圳市秦峰科技发展有限公司    2年经验   大专   \n39                      大厂驻场-安卓应用工程师    安徽奥里奥克科技股份有限公司  3-4年经验   大专   \n40                 安卓/Android软件开发工程师      上海芮想信息科技有限公司  5-7年经验   大专   \n41                      安卓软件工程师-运通国际   青岛智力云人工智能科技有限公司    1年经验   本科   \n42                安卓系统工程师 (MJ000257)  腾柏新迅（上海）智能科技有限公司  3-4年经验   本科   \n43                         安卓驱动开发工程师    惠州市华阳多媒体电子有限公司  3-4年经验   本科   \n44                 安卓应用开发工程师(J15512)      上海芮想信息科技有限公司  5-7年经验   大专   \n45                        安卓APP开发工程师  优华劳斯汽车系统(上海)有限公司  3-4年经验   大专   \n46                    安卓Android开发工程师    广东物控联动智能科技有限公司  3-4年经验   本科   \n47                           安卓开发工程师   马瑞利汽车电子（广州）有限公司  5-7年经验   本科   \n48                    安卓Android开发工程师      青岛腾创信息技术有限公司    2年经验   本科   \n49                           安卓开发工程师  广州广电运通金融电子股份有限公司  3-4年经验   本科   \n\n                                                 工作地点             薪酬     发布时间  \\\n0                                     长沙长沙县三一魔豆仓创新中心1       1.5-2.2万  01-27发布   \n1                                    航城智谷中城未来产业园7栋307         1.5-2万  01-27发布   \n2                         上海市徐汇区枫林路420号枫林国际二期A座2楼C10室       15-30万/年  01-27发布   \n3                                         张江润和总部园写字楼1       1.8-2.8万  01-27发布   \n4                                     长沙长沙县三一魔豆仓创新中心1       1.5-2.2万  01-27发布   \n5                                 龙东大道3000号1幢A楼505、06   1.5-2.5万·14薪  01-27发布   \n6                                        黄埔区科学城荔枝山路9号   1.5-2.5万·15薪  01-27发布   \n7                                           新闻大厦1201室        8千-1.2万  01-20发布   \n8                                     长沙长沙县三一魔豆仓创新中心1       1.5-2.2万  01-27发布   \n9                                      园区星龙街428号苏春工业坊   1.8-2.5万·14薪  01-20发布   \n10                   深圳市南山区留仙大道1183号南山云谷创新产业园南风楼A座407       1.3-1.8万  01-17发布   \n11                               南山区西丽街道国际创新谷6栋A座804室         1-1.5万  01-17发布   \n12                                    长沙长沙县三一魔豆仓创新中心1       1.5-2.2万  01-27发布   \n13                                        昆山市金沙江南路16号         1.5-2万  01-16发布   \n14  西永康田国际企业港10号楼5层（地铁1号线微电园站转247、276、295路公交团结村站下车即到）       1.2-1.8万  01-18发布   \n15                                            软件园12号楼         1-1.8万  01-18发布   \n16                                    长沙长沙县三一魔豆仓创新中心1       1.5-2.2万  01-27发布   \n17                                                上海市         1.5-3万  01-18发布   \n18                                 西兴街道江陵路88号万轮科技园8号楼  7.5千-1.2万·14薪  01-16发布   \n19                                     惠州市华阳多媒体电子有限公司       1.3-2.5万  01-14发布   \n20                                    长沙长沙县三一魔豆仓创新中心1       1.5-2.2万  01-27发布   \n21                              文港南路49号西伏河智能数字社区3号楼6层        8千-1.3万  01-13发布   \n22                                               汉峪金谷         1-1.5万  01-10发布   \n23                                     惠州市华阳多媒体电子有限公司       1.3-2.5万  01-14发布   \n24                                    长沙长沙县三一魔豆仓创新中心1       1.5-2.2万  01-27发布   \n25                               崇川区工农南路118号汇金国际B座16楼        6千-1.2万  01-10发布   \n26                            长椿路11号国家大学科技园孵化2号楼B座16层        8千-1.2万  01-03发布   \n27                                 空港朗月路6号临空智能产业园9栋四楼        6千-1.2万  12-31发布   \n28                                    长沙长沙县三一魔豆仓创新中心1       1.5-2.2万  01-27发布   \n29                                     未来科技城C区C3栋502室       1.8-2.5万  12-28发布   \n30                                   兴谷经济开发区M2-5区9号7房        8千-1.2万  12-26发布   \n31                                            奇虎360总部       2-4万·15薪  01-26发布   \n32                                    长沙长沙县三一魔豆仓创新中心1       1.5-2.2万  01-27发布   \n33                                       西乡易尚三维产业园11楼   1.6-2.2万·13薪  12-16发布   \n34                                            数码广场软件园        8千-1.5万  01-27发布   \n35                                           滨安路1199号   1.5-2.5万·14薪  01-27发布   \n36                                    长沙长沙县三一魔豆仓创新中心1       1.5-2.2万  01-27发布   \n37                                     天府四街长虹科技大厦B416       30-50万/年  01-26发布   \n38                                            颐丰华工业园区         1-1.5万  01-25发布   \n39                             习友路与香樟大道交口“深港城”3号楼A-B座        7千-1.4万  01-26发布   \n40                                    长沙长沙县三一魔豆仓创新中心1       1.5-2.2万  01-27发布   \n41                                          市南香港中路61号        6千-1.2万  01-27发布   \n42                              上海市浦东新区碧波路690号微电子港7号楼       1.2-1.5万  01-27发布   \n43                    广东省惠州市东江高新科技产业园上霞北路1号华阳工业园B区4号楼       1.2-1.5万  12-13发布   \n44                                    长沙长沙县三一魔豆仓创新中心1       1.5-2.2万  01-27发布   \n45                                           将军大道118号       30-40万/年  01-23发布   \n46                                            港口镇星晨花园        8千-1.2万  01-21发布   \n47                                      广州花都区新华镇新雅街2号         1.5千以下  12-12发布   \n48                                        城阳区天一仁和财富中心           6-9千  01-27发布   \n49                                 科学城黄埔区科林路11号（广电运通）        8千-1.5万  01-27发布   \n\n                                            职位描述或任职要求     城市地区         公司规模  \\\n0   岗位职责：1、负责Android客户端APP产品研发，参与技术方案设计和改进。2、负责And...       长沙   1000-5000人   \n1   岗位职责：1、负责Android客户端APP产品研发，参与技术方案设计和改进。2、负责And...   深圳-宝安区        少于50人   \n2   任职要求：1、大专及以上学历2、5年以上安卓原生开发经验3、熟悉java开发语言，熟悉kot...   上海-徐汇区        少于50人   \n3   任职要求：1、大专及以上学历2、5年以上安卓原生开发经验3、熟悉java开发语言，熟悉kot...  上海-浦东新区    500-1000人   \n4   任职要求：1、大专及以上学历2、5年以上安卓原生开发经验3、熟悉java开发语言，熟悉kot...       长沙   1000-5000人   \n5   任职要求：1、大专及以上学历2、5年以上安卓原生开发经验3、熟悉java开发语言，熟悉kot...  上海-浦东新区      50-150人   \n6   岗位职责：1、负责Android客户端APP产品研发，参与技术方案设计和改进。2、负责And...       广州    500-1000人   \n7   工作职责：①　按产品需求完成系统设计和功能模块的编写；②　遵循工作制度，开发规范，及时交付工...   常州-钟楼区      50-150人   \n8   职位描述：1、配合设计师实现交互效果，配合后台工程师完成应用开发；2、独立负责公司安卓端的研...       长沙   1000-5000人   \n9   任职要求：1、大专及以上学历2、5年以上安卓原生开发经验3、熟悉java开发语言，熟悉kot...  苏州-工业园区     150-500人   \n10  Android/iOS开发工程师岗位职责1、根据业务需求，负责公司Android/iOS海外...   深圳-南山区      50-150人   \n11  职位描述：1、遵循敏捷开发流程，依据项目计划和需求进行app的设计、开发和维护；2、编写技术...   深圳-南山区      50-150人   \n12  职位描述及要求:岗位职责：1、负责Android平台客户端产品开发和维护工作，并负责在实际开...       长沙   1000-5000人   \n13  任职要求：1、大专及以上学历2、5年以上安卓原生开发经验3、熟悉java开发语言，熟悉kot...       昆山        少于50人   \n14  职责描述：1、根据需求设计功能模块的技术方案；2、独立进行功能模块的开发编码与调试；3、负责...  重庆-沙坪坝区        少于50人   \n15  1、负责公司业务所需的Android的设计和开发；2、参与项目需求分析、产品模块的概要和详细...       大连   1000-5000人   \n16  岗位职责：1、根据需求进行APP软件设计、开发和维护；2、负责相关技术文档编写；3、负责与服...       长沙     150-500人   \n17  任职要求：1、大专及以上学历2、5年以上安卓原生开发经验3、熟悉java开发语言，熟悉kot...       上海   1000-5000人   \n18  工作职责：1、参与产品设计，使用流程等，方案讨论，负责Android客户端软件开发工作;2、...   杭州-滨江区   1000-5000人   \n19  来都来了，投一个吧，我回复超快哟~~试一试嘛岗位职责：1、负责Android手机软件的开发及...   惠州-惠城区        少于50人   \n20  1.精通Android基础功能开发，拥有良好的编程风格，扎实的编程基础和数据结构算法基础；2...       长沙        少于50人   \n21  任职要求：1、大专及以上学历2、5年以上安卓原生开发经验3、熟悉java开发语言，熟悉kot...   盐城-亭湖区   1000-5000人   \n22  要求：6年以上开发经验，3年以上Android开发经验主要是Java实现Android开发，...   济南-高新区   1000-5000人   \n23  【岗位职责】1.Brother自有产品的的AndroidApp开发和优化；2.负责调研、产品...   惠州-惠城区      50-150人   \n24  岗位职责：负责HUD产品的Android应用开发。任职要求：1.本科及以上，3年及以上安卓开...       长沙     150-500人   \n25  任职要求：1、大专及以上学历2、5年以上安卓原生开发经验3、熟悉java开发语言，熟悉kot...       南通     150-500人   \n26  1.能够独立开发app完成相关软件项目的设计与开发；2.熟练使用Android常用组件；3....   郑州-高新区   1000-5000人   \n27  岗位职责1、负责公司AIOT相关android端应用app的开发和性能优化；2、对客户端架构...   重庆-渝北区        少于50人   \n28  岗位职责：负责HUD产品的Android应用开发。任职要求：1.本科及以上，3年及以上安卓开...       长沙     150-500人   \n29  任职要求：1、大专及以上学历2、5年以上安卓原生开发经验3、熟悉java开发语言，熟悉kot...       武汉  5000-10000人   \n30  任职要求：1、熟悉java编程语言；2、熟练应用Oracle、MySql、SQLServer...   北京-平谷区   1000-5000人   \n31  1、基于Android手持机和工控板进行客户端应用设计和开发；2、基于工控板和相应外设进行身...       北京      50-150人   \n32  岗位职责：1、主要从事基于在公司sdk基础上，对Android平台客户端应用程序的功能设计、...       长沙     150-500人   \n33  任职要求：1、大专及以上学历2、5年以上安卓原生开发经验3、熟悉java开发语言，熟悉kot...   深圳-宝安区  5000-10000人   \n34  一、岗位职责：1、自动化系统及相关产品的Android应用程序设计开发、调测、发布、维护。2...  大连-沙河口区   1000-5000人   \n35  1、计算机、通信、电子等相关专业专科以上学历；2、良好的Java技术功底，有较强的文档编写能...   杭州-滨江区     150-500人   \n36  岗位要求1、良好的Java/C++语言基础，熟悉常用数据结构和算法，熟悉设计模式2、熟练掌握...       长沙        少于50人   \n37  任职要求：1、大专及以上学历2、5年以上安卓原生开发经验3、熟悉java开发语言，熟悉kot...   成都-武侯区      50-150人   \n38  1、负责公司基于android平台系统整合与应用的开发；2、负责项目设计,以及项目核心功能的...   深圳-龙华区   1000-5000人   \n39  任职要求：1.大专及以上学历，计算机/电子等相关专业优先；2.1年以上Android应用开发...   合肥-高新区        少于50人   \n40  工作职责:1、参与安卓产品的开发；2、负责产品系统的需求澄清以及文档编写工作；3、负责安卓驱...       长沙        少于50人   \n41  任职要求：1、大专及以上学历2、5年以上安卓原生开发经验3、熟悉java开发语言，熟悉kot...   青岛-市南区   1000-5000人   \n42  1.负责完成Android平台移动应用产品开发及架构设计。2.对项目的需求，进行系统分析并提...  上海-浦东新区   1000-5000人   \n43  岗位职责：1.Android客户端功能模块的技术方案规划和设计2.Android客户端代码的...       惠州     150-500人   \n44  岗位职责：1.基于Android平台进行手机软件的设计、开发、需求分析等；2.熟悉手机客户端...       长沙      50-150人   \n45  任职要求：1、大专及以上学历2、5年以上安卓原生开发经验3、熟悉java开发语言，熟悉kot...   南京-江宁区  5000-10000人   \n46  1.负责移动平台Android客户端的应用开发；2.负责Android手机平台应用软件的需求...   中山-石岐区     10000人以上   \n47  岗位职责：1、负责Android平板APP智能工具柜APP设计及研发；2、负责硬件驱动设计3...   广州-花都区          NaN   \n48  岗位职责：负责HUD产品的Android应用开发。任职要求：1、本科，电子/软件相关专业，3...       青岛          NaN   \n49  任职要求：1、大专及以上学历2、5年以上安卓原生开发经验3、熟悉java开发语言，熟悉kot...   广州-黄埔区          NaN   \n\n                                                 公司类型              公司标签  \n0                                                  民营             计算机软件  \n1                                                  民营             计算机软件  \n2                                                  民营          医疗/护理/卫生  \n3                                                  民营        通信/电信/网络设备  \n4                                                  民营             计算机软件  \n5                                                  民营           医疗设备/器械  \n6                                                  民营               新能源  \n7                                                  民营             计算机软件  \n8                                                  民营             计算机软件  \n9                                                  民营       家具/家电/玩具/礼品  \n10                                                 民营      通信/电信运营、增值服务  \n11                                                 民营        仪器仪表/工业自动化  \n12                                                 民营             计算机软件  \n13                                                 民营          机械/设备/重工  \n14                                                 民营          互联网/电子商务  \n15  民营  </p><p data-v-5190a29c=\"\" class=\"int at\">计...             计算机软件  \n16  民营  </p><p data-v-5190a29c=\"\" class=\"int at\">计...             计算机软件  \n17                                                已上市             计算机软件  \n18                                                 民营             计算机软件  \n19                                                 民营     电子技术/半导体/集成电路  \n20                                                 民营             计算机软件  \n21                                                已上市             计算机软件  \n22                                                 民营  专业服务(咨询、人力资源、财会)  \n23                                                 民营     电子技术/半导体/集成电路  \n24                                                已上市             计算机软件  \n25                                                 民营             计算机软件  \n26                                                 民营        仪器仪表/工业自动化  \n27                                                 民营     电子技术/半导体/集成电路  \n28                                                 民营             计算机软件  \n29                                                已上市        仪器仪表/工业自动化  \n30                                                 民营           医疗设备/器械  \n31                                                 民营          互联网/电子商务  \n32                                                 民营             计算机软件  \n33                                                 民营        通信/电信/网络设备  \n34                                                 民营             计算机软件  \n35                                                 民营             计算机软件  \n36                                                 民营             计算机软件  \n37                                                 民营             计算机软件  \n38                                                 民营        仪器仪表/工业自动化  \n39                                                 民营          机械/设备/重工  \n40                                                 民营             计算机软件  \n41                                                 合资             计算机软件  \n42                                                 民营     电子技术/半导体/集成电路  \n43                                                 合资     电子技术/半导体/集成电路  \n44                                                 民营             计算机软件  \n45                                             外资（欧美）                汽车  \n46  民营  </p><p data-v-5190a29c=\"\" class=\"int at\">电...          电气/电力/水利  \n47                                                NaN             汽车零配件  \n48                                                NaN     电子技术/半导体/集成电路  \n49                                                NaN             计算机软件  >"
     },
     "execution_count": 460,
     "metadata": {},
     "output_type": "execute_result"
    }
   ],
   "source": [
    "data.head"
   ],
   "metadata": {
    "collapsed": false,
    "pycharm": {
     "name": "#%%\n"
    }
   }
  },
  {
   "cell_type": "code",
   "execution_count": 461,
   "outputs": [
    {
     "data": {
      "text/plain": "         职位名称          公司名称  工作经验要求 学历要求             工作地点        薪酬     发布时间  \\\ncount      50            50      50   50               50        50       50   \nunique     28            37       4    2               38        27       19   \ntop     安卓工程师  上海芮想信息科技有限公司  5-7年经验   本科  长沙长沙县三一魔豆仓创新中心1  1.5-2.2万  01-27发布   \nfreq       11            12      19   28               12        12       23   \n\n                                                职位描述或任职要求 城市地区        公司规模  \\\ncount                                                  50   50          47   \nunique                                                 33   33           7   \ntop     任职要求：1、大专及以上学历2、5年以上安卓原生开发经验3、熟悉java开发语言，熟悉kot...   长沙  1000-5000人   \nfreq                                                   15   12          15   \n\n       公司类型   公司标签  \ncount    47     50  \nunique    7     15  \ntop      民营  计算机软件  \nfreq     37     24  ",
      "text/html": "<div>\n<style scoped>\n    .dataframe tbody tr th:only-of-type {\n        vertical-align: middle;\n    }\n\n    .dataframe tbody tr th {\n        vertical-align: top;\n    }\n\n    .dataframe thead th {\n        text-align: right;\n    }\n</style>\n<table border=\"1\" class=\"dataframe\">\n  <thead>\n    <tr style=\"text-align: right;\">\n      <th></th>\n      <th>职位名称</th>\n      <th>公司名称</th>\n      <th>工作经验要求</th>\n      <th>学历要求</th>\n      <th>工作地点</th>\n      <th>薪酬</th>\n      <th>发布时间</th>\n      <th>职位描述或任职要求</th>\n      <th>城市地区</th>\n      <th>公司规模</th>\n      <th>公司类型</th>\n      <th>公司标签</th>\n    </tr>\n  </thead>\n  <tbody>\n    <tr>\n      <th>count</th>\n      <td>50</td>\n      <td>50</td>\n      <td>50</td>\n      <td>50</td>\n      <td>50</td>\n      <td>50</td>\n      <td>50</td>\n      <td>50</td>\n      <td>50</td>\n      <td>47</td>\n      <td>47</td>\n      <td>50</td>\n    </tr>\n    <tr>\n      <th>unique</th>\n      <td>28</td>\n      <td>37</td>\n      <td>4</td>\n      <td>2</td>\n      <td>38</td>\n      <td>27</td>\n      <td>19</td>\n      <td>33</td>\n      <td>33</td>\n      <td>7</td>\n      <td>7</td>\n      <td>15</td>\n    </tr>\n    <tr>\n      <th>top</th>\n      <td>安卓工程师</td>\n      <td>上海芮想信息科技有限公司</td>\n      <td>5-7年经验</td>\n      <td>本科</td>\n      <td>长沙长沙县三一魔豆仓创新中心1</td>\n      <td>1.5-2.2万</td>\n      <td>01-27发布</td>\n      <td>任职要求：1、大专及以上学历2、5年以上安卓原生开发经验3、熟悉java开发语言，熟悉kot...</td>\n      <td>长沙</td>\n      <td>1000-5000人</td>\n      <td>民营</td>\n      <td>计算机软件</td>\n    </tr>\n    <tr>\n      <th>freq</th>\n      <td>11</td>\n      <td>12</td>\n      <td>19</td>\n      <td>28</td>\n      <td>12</td>\n      <td>12</td>\n      <td>23</td>\n      <td>15</td>\n      <td>12</td>\n      <td>15</td>\n      <td>37</td>\n      <td>24</td>\n    </tr>\n  </tbody>\n</table>\n</div>"
     },
     "execution_count": 461,
     "metadata": {},
     "output_type": "execute_result"
    }
   ],
   "source": [
    "data.describe()"
   ],
   "metadata": {
    "collapsed": false,
    "pycharm": {
     "name": "#%%\n"
    }
   }
  },
  {
   "cell_type": "code",
   "execution_count": 462,
   "outputs": [
    {
     "data": {
      "text/plain": "职位名称         0\n公司名称         0\n工作经验要求       0\n学历要求         0\n工作地点         0\n薪酬           0\n发布时间         0\n职位描述或任职要求    0\n城市地区         0\n公司规模         3\n公司类型         3\n公司标签         0\ndtype: int64"
     },
     "execution_count": 462,
     "metadata": {},
     "output_type": "execute_result"
    }
   ],
   "source": [
    "data.isnull().sum()"
   ],
   "metadata": {
    "collapsed": false,
    "pycharm": {
     "name": "#%%\n"
    }
   }
  },
  {
   "cell_type": "code",
   "execution_count": 463,
   "outputs": [
    {
     "name": "stdout",
     "output_type": "stream",
     "text": [
      "<class 'pandas.core.frame.DataFrame'>\n",
      "RangeIndex: 50 entries, 0 to 49\n",
      "Data columns (total 12 columns):\n",
      " #   Column     Non-Null Count  Dtype \n",
      "---  ------     --------------  ----- \n",
      " 0   职位名称       50 non-null     object\n",
      " 1   公司名称       50 non-null     object\n",
      " 2   工作经验要求     50 non-null     object\n",
      " 3   学历要求       50 non-null     object\n",
      " 4   工作地点       50 non-null     object\n",
      " 5   薪酬         50 non-null     object\n",
      " 6   发布时间       50 non-null     object\n",
      " 7   职位描述或任职要求  50 non-null     object\n",
      " 8   城市地区       50 non-null     object\n",
      " 9   公司规模       47 non-null     object\n",
      " 10  公司类型       47 non-null     object\n",
      " 11  公司标签       50 non-null     object\n",
      "dtypes: object(12)\n",
      "memory usage: 4.8+ KB\n"
     ]
    }
   ],
   "source": [
    "data.info()"
   ],
   "metadata": {
    "collapsed": false,
    "pycharm": {
     "name": "#%%\n"
    }
   }
  },
  {
   "cell_type": "code",
   "execution_count": 464,
   "outputs": [
    {
     "data": {
      "text/plain": "0"
     },
     "execution_count": 464,
     "metadata": {},
     "output_type": "execute_result"
    }
   ],
   "source": [
    "data.duplicated().sum()"
   ],
   "metadata": {
    "collapsed": false,
    "pycharm": {
     "name": "#%%\n"
    }
   }
  },
  {
   "cell_type": "code",
   "execution_count": 465,
   "outputs": [
    {
     "name": "stdout",
     "output_type": "stream",
     "text": [
      "安卓工程师                11\n",
      "安卓开发工程师               4\n",
      "安卓/Android软件开发工程师     3\n",
      "安卓系统工程师               3\n",
      "Android安卓工程师          3\n",
      "Name: 职位名称, dtype: int64\n",
      "-----------------------------------------------------------------------------------\n",
      "上海芮想信息科技有限公司      12\n",
      "惠州市华阳多媒体电子有限公司     3\n",
      "绵阳优森科技有限公司         1\n",
      "武汉飞流智能技术有限公司       1\n",
      "北京白象新技术有限公司        1\n",
      "Name: 公司名称, dtype: int64\n"
     ]
    }
   ],
   "source": [
    "# pd.set_option('display.max_columns',None)\n",
    "# pd.set_option('display.max_rows',None)\n",
    "print(data.职位名称.value_counts().head())\n",
    "print('-----------------------------------------------------------------------------------')\n",
    "print(data.公司名称.value_counts().head())"
   ],
   "metadata": {
    "collapsed": false,
    "pycharm": {
     "name": "#%%\n"
    }
   }
  },
  {
   "cell_type": "code",
   "execution_count": 466,
   "outputs": [
    {
     "data": {
      "text/plain": "5-7年经验    19\n3-4年经验    18\n1年经验       7\n2年经验       6\nName: 工作经验要求, dtype: int64"
     },
     "execution_count": 466,
     "metadata": {},
     "output_type": "execute_result"
    }
   ],
   "source": [
    "data['工作经验要求'].value_counts()"
   ],
   "metadata": {
    "collapsed": false,
    "pycharm": {
     "name": "#%%\n"
    }
   }
  },
  {
   "cell_type": "code",
   "execution_count": 467,
   "outputs": [
    {
     "data": {
      "text/plain": "本科    28\n大专    22\nName: 学历要求, dtype: int64"
     },
     "execution_count": 467,
     "metadata": {},
     "output_type": "execute_result"
    }
   ],
   "source": [
    "data['学历要求'].value_counts()"
   ],
   "metadata": {
    "collapsed": false,
    "pycharm": {
     "name": "#%%\n"
    }
   }
  },
  {
   "cell_type": "code",
   "execution_count": 468,
   "outputs": [
    {
     "data": {
      "text/plain": "长沙         12\n上海-浦东新区     3\n深圳-宝安区      2\n深圳-南山区      2\n惠州-惠城区      2\nName: 城市地区, dtype: int64"
     },
     "execution_count": 468,
     "metadata": {},
     "output_type": "execute_result"
    }
   ],
   "source": [
    "data['城市地区'].value_counts().head()"
   ],
   "metadata": {
    "collapsed": false,
    "pycharm": {
     "name": "#%%\n"
    }
   }
  },
  {
   "cell_type": "code",
   "execution_count": 469,
   "outputs": [],
   "source": [
    "data['地区']=data['城市地区'].str[:2]"
   ],
   "metadata": {
    "collapsed": false,
    "pycharm": {
     "name": "#%%\n"
    }
   }
  },
  {
   "cell_type": "code",
   "execution_count": 470,
   "outputs": [
    {
     "data": {
      "text/plain": "0     长沙\n1     深圳\n2     上海\n3     上海\n4     长沙\n5     上海\n6     广州\n7     常州\n8     长沙\n9     苏州\n10    深圳\n11    深圳\n12    长沙\n13    昆山\n14    重庆\n15    大连\n16    长沙\n17    上海\n18    杭州\n19    惠州\n20    长沙\n21    盐城\n22    济南\n23    惠州\n24    长沙\n25    南通\n26    郑州\n27    重庆\n28    长沙\n29    武汉\n30    北京\n31    北京\n32    长沙\n33    深圳\n34    大连\n35    杭州\n36    长沙\n37    成都\n38    深圳\n39    合肥\n40    长沙\n41    青岛\n42    上海\n43    惠州\n44    长沙\n45    南京\n46    中山\n47    广州\n48    青岛\n49    广州\nName: 地区, dtype: object"
     },
     "execution_count": 470,
     "metadata": {},
     "output_type": "execute_result"
    }
   ],
   "source": [
    "data['地区']"
   ],
   "metadata": {
    "collapsed": false,
    "pycharm": {
     "name": "#%%\n"
    }
   }
  },
  {
   "cell_type": "code",
   "execution_count": 471,
   "outputs": [
    {
     "data": {
      "text/plain": "长沙    12\n上海     5\n深圳     5\n广州     3\n惠州     3\n青岛     2\n重庆     2\n大连     2\n杭州     2\n北京     2\n武汉     1\n南京     1\n合肥     1\n成都     1\n盐城     1\n郑州     1\n南通     1\n济南     1\n昆山     1\n苏州     1\n常州     1\n中山     1\nName: 地区, dtype: int64"
     },
     "execution_count": 471,
     "metadata": {},
     "output_type": "execute_result"
    }
   ],
   "source": [
    "data['地区'].value_counts()"
   ],
   "metadata": {
    "collapsed": false,
    "pycharm": {
     "name": "#%%\n"
    }
   }
  },
  {
   "cell_type": "code",
   "execution_count": 472,
   "outputs": [
    {
     "data": {
      "text/plain": "1.5-2.2万         12\n8千-1.2万           4\n6千-1.2万           3\n1-1.5万            3\n1.5-2.5万·14薪      2\n1.2-1.5万          2\n8千-1.5万           2\n1.5-2万            2\n1.3-2.5万          2\n1.5千以下            1\n30-40万/年          1\n7千-1.4万           1\n30-50万/年          1\n1.6-2.2万·13薪      1\n2-4万·15薪          1\n1.8-2.5万          1\n7.5千-1.2万·14薪     1\n8千-1.3万           1\n1.5-3万            1\n1-1.8万            1\n1.2-1.8万          1\n1.3-1.8万          1\n1.8-2.5万·14薪      1\n1.5-2.5万·15薪      1\n1.8-2.8万          1\n15-30万/年          1\n6-9千              1\nName: 薪酬, dtype: int64"
     },
     "execution_count": 472,
     "metadata": {},
     "output_type": "execute_result"
    }
   ],
   "source": [
    "data['薪酬'].value_counts()"
   ],
   "metadata": {
    "collapsed": false,
    "pycharm": {
     "name": "#%%\n"
    }
   }
  },
  {
   "cell_type": "code",
   "execution_count": 473,
   "outputs": [
    {
     "data": {
      "text/plain": "<AxesSubplot: >"
     },
     "execution_count": 473,
     "metadata": {},
     "output_type": "execute_result"
    },
    {
     "data": {
      "text/plain": "<Figure size 640x480 with 1 Axes>",
      "image/png": "[encoded data removed]"
     },
     "metadata": {},
     "output_type": "display_data"
    }
   ],
   "source": [
    "import matplotlib as plt\n",
    "plt.rcParams['font.sans-serif']=['SimHei']  # 显示中文\n",
    "\n",
    "data['薪酬'].value_counts().plot(kind='line', color='green')"
   ],
   "metadata": {
    "collapsed": false,
    "pycharm": {
     "name": "#%%\n"
    }
   }
  },
  {
   "cell_type": "code",
   "execution_count": 474,
   "outputs": [],
   "source": [
    "data['*n薪']=data['薪酬'].str.extract(('·(\\d+)薪'))"
   ],
   "metadata": {
    "collapsed": false,
    "pycharm": {
     "name": "#%%\n"
    }
   }
  },
  {
   "cell_type": "code",
   "execution_count": 475,
   "outputs": [
    {
     "data": {
      "text/plain": "13    1\n14    4\n15    2\nName: *n薪, dtype: int64"
     },
     "execution_count": 475,
     "metadata": {},
     "output_type": "execute_result"
    }
   ],
   "source": [
    "data['*n薪'].value_counts().sort_index()"
   ],
   "metadata": {
    "collapsed": false,
    "pycharm": {
     "name": "#%%\n"
    }
   }
  },
  {
   "cell_type": "code",
   "execution_count": 476,
   "outputs": [
    {
     "data": {
      "text/plain": "15-30万/年    1\n30-40万/年    1\n30-50万/年    1\ndtype: int64"
     },
     "execution_count": 476,
     "metadata": {},
     "output_type": "execute_result"
    }
   ],
   "source": [
    "data['薪酬'].str.extract(('(.*?年)')).value_counts()"
   ],
   "metadata": {
    "collapsed": false,
    "pycharm": {
     "name": "#%%\n"
    }
   }
  },
  {
   "cell_type": "code",
   "execution_count": 477,
   "outputs": [],
   "source": [
    "data['最低年薪']=data['薪酬'].str.extract(('^(\\d+).*?年'))"
   ],
   "metadata": {
    "collapsed": false,
    "pycharm": {
     "name": "#%%\n"
    }
   }
  },
  {
   "cell_type": "code",
   "execution_count": 478,
   "outputs": [
    {
     "data": {
      "text/plain": "30    2\n15    1\nName: 最低年薪, dtype: int64"
     },
     "execution_count": 478,
     "metadata": {},
     "output_type": "execute_result"
    }
   ],
   "source": [
    "data['最低年薪'].value_counts()"
   ],
   "metadata": {
    "collapsed": false,
    "pycharm": {
     "name": "#%%\n"
    }
   }
  },
  {
   "cell_type": "code",
   "execution_count": 479,
   "outputs": [],
   "source": [
    "data['最高年薪']=data['薪酬'].str.extract(('^\\d+-(\\d+).*?年'))"
   ],
   "metadata": {
    "collapsed": false,
    "pycharm": {
     "name": "#%%\n"
    }
   }
  },
  {
   "cell_type": "code",
   "execution_count": 480,
   "outputs": [
    {
     "data": {
      "text/plain": "30    1\n50    1\n40    1\nName: 最高年薪, dtype: int64"
     },
     "execution_count": 480,
     "metadata": {},
     "output_type": "execute_result"
    }
   ],
   "source": [
    "data['最高年薪'].value_counts()"
   ],
   "metadata": {
    "collapsed": false,
    "pycharm": {
     "name": "#%%\n"
    }
   }
  },
  {
   "cell_type": "code",
   "execution_count": 481,
   "outputs": [],
   "source": [
    "data['nianxin'] = data['薪酬'].str.extract(('(.*?年)'))"
   ],
   "metadata": {
    "collapsed": false,
    "pycharm": {
     "name": "#%%\n"
    }
   }
  },
  {
   "cell_type": "code",
   "execution_count": 482,
   "outputs": [
    {
     "data": {
      "text/plain": "0          NaN\n1          NaN\n2     15-30万/年\n3          NaN\n4          NaN\n5          NaN\n6          NaN\n7          NaN\n8          NaN\n9          NaN\n10         NaN\n11         NaN\n12         NaN\n13         NaN\n14         NaN\n15         NaN\n16         NaN\n17         NaN\n18         NaN\n19         NaN\n20         NaN\n21         NaN\n22         NaN\n23         NaN\n24         NaN\n25         NaN\n26         NaN\n27         NaN\n28         NaN\n29         NaN\n30         NaN\n31         NaN\n32         NaN\n33         NaN\n34         NaN\n35         NaN\n36         NaN\n37    30-50万/年\n38         NaN\n39         NaN\n40         NaN\n41         NaN\n42         NaN\n43         NaN\n44         NaN\n45    30-40万/年\n46         NaN\n47         NaN\n48         NaN\n49         NaN\nName: nianxin, dtype: object"
     },
     "execution_count": 482,
     "metadata": {},
     "output_type": "execute_result"
    }
   ],
   "source": [
    "data['nianxin']"
   ],
   "metadata": {
    "collapsed": false,
    "pycharm": {
     "name": "#%%\n"
    }
   }
  },
  {
   "cell_type": "code",
   "execution_count": 483,
   "outputs": [],
   "source": [
    "data['nianxin'].dropna(inplace=True)"
   ],
   "metadata": {
    "collapsed": false,
    "pycharm": {
     "name": "#%%\n"
    }
   }
  },
  {
   "cell_type": "code",
   "execution_count": 484,
   "outputs": [
    {
     "data": {
      "text/plain": "str"
     },
     "execution_count": 484,
     "metadata": {},
     "output_type": "execute_result"
    }
   ],
   "source": [
    "nianxin = data['nianxin'].dropna()\n",
    "nianxin\n",
    "type('nianxin')"
   ],
   "metadata": {
    "collapsed": false,
    "pycharm": {
     "name": "#%%\n"
    }
   }
  },
  {
   "cell_type": "code",
   "execution_count": 485,
   "outputs": [
    {
     "data": {
      "text/plain": "Int64Index([2, 37, 45], dtype='int64')"
     },
     "execution_count": 485,
     "metadata": {},
     "output_type": "execute_result"
    }
   ],
   "source": [
    "nianxin.index"
   ],
   "metadata": {
    "collapsed": false,
    "pycharm": {
     "name": "#%%\n"
    }
   }
  },
  {
   "cell_type": "code",
   "execution_count": 486,
   "outputs": [
    {
     "data": {
      "text/plain": "1.5-2.2万     12\n8千-1.2万       4\n1-1.5万        3\n6千-1.2万       3\n1.5-2.5万      3\n1.5-2万        2\n1.8-2.5万      2\n1.3-2.5万      2\n1.2-1.5万      2\n8千-1.5万       2\n1.3-1.8万      1\n1.5-3万        1\n1.6-2.2万      1\n1-1.8万        1\n1.8-2.8万      1\n15-30万        1\n2-4万          1\n30-40万        1\n30-50万        1\n1.2-1.8万      1\n7.5千-1.2万     1\n7千-1.4万       1\n8千-1.3万       1\ndtype: int64"
     },
     "execution_count": 486,
     "metadata": {},
     "output_type": "execute_result"
    }
   ],
   "source": [
    "data['薪酬'].str.extract(('(.*?万)')).value_counts()"
   ],
   "metadata": {
    "collapsed": false,
    "pycharm": {
     "name": "#%%\n"
    }
   }
  },
  {
   "cell_type": "code",
   "execution_count": 486,
   "outputs": [],
   "source": [],
   "metadata": {
    "collapsed": false,
    "pycharm": {
     "name": "#%%\n"
    }
   }
  },
  {
   "cell_type": "code",
   "execution_count": 487,
   "outputs": [],
   "source": [
    "data['yuexin-w'] = data['薪酬'].str.extract(('(.*?万)'))"
   ],
   "metadata": {
    "collapsed": false,
    "pycharm": {
     "name": "#%%\n"
    }
   }
  },
  {
   "cell_type": "code",
   "execution_count": 488,
   "outputs": [],
   "source": [
    "data['yuexin-w'].replace('15-30万', np.NaN, inplace=True)"
   ],
   "metadata": {
    "collapsed": false,
    "pycharm": {
     "name": "#%%\n"
    }
   }
  },
  {
   "cell_type": "code",
   "execution_count": 489,
   "outputs": [],
   "source": [
    "data['yuexin-w'].replace('30-40万', np.NaN, inplace=True)\n",
    "data['yuexin-w'].replace('30-50万', np.NaN, inplace=True)"
   ],
   "metadata": {
    "collapsed": false,
    "pycharm": {
     "name": "#%%\n"
    }
   }
  },
  {
   "cell_type": "code",
   "execution_count": 490,
   "outputs": [
    {
     "data": {
      "text/plain": "0      1.5-2.2万\n1        1.5-2万\n2           NaN\n3      1.8-2.8万\n4      1.5-2.2万\n5      1.5-2.5万\n6      1.5-2.5万\n7       8千-1.2万\n8      1.5-2.2万\n9      1.8-2.5万\n10     1.3-1.8万\n11       1-1.5万\n12     1.5-2.2万\n13       1.5-2万\n14     1.2-1.8万\n15       1-1.8万\n16     1.5-2.2万\n17       1.5-3万\n18    7.5千-1.2万\n19     1.3-2.5万\n20     1.5-2.2万\n21      8千-1.3万\n22       1-1.5万\n23     1.3-2.5万\n24     1.5-2.2万\n25      6千-1.2万\n26      8千-1.2万\n27      6千-1.2万\n28     1.5-2.2万\n29     1.8-2.5万\n30      8千-1.2万\n31         2-4万\n32     1.5-2.2万\n33     1.6-2.2万\n34      8千-1.5万\n35     1.5-2.5万\n36     1.5-2.2万\n37          NaN\n38       1-1.5万\n39      7千-1.4万\n40     1.5-2.2万\n41      6千-1.2万\n42     1.2-1.5万\n43     1.2-1.5万\n44     1.5-2.2万\n45          NaN\n46      8千-1.2万\n47          NaN\n48          NaN\n49      8千-1.5万\nName: yuexin-w, dtype: object"
     },
     "execution_count": 490,
     "metadata": {},
     "output_type": "execute_result"
    }
   ],
   "source": [
    "data['yuexin-w']"
   ],
   "metadata": {
    "collapsed": false,
    "pycharm": {
     "name": "#%%\n"
    }
   }
  },
  {
   "cell_type": "code",
   "execution_count": 491,
   "outputs": [
    {
     "data": {
      "text/plain": "1.5-2.2万     12\n8千-1.2万       4\n1.5-2.5万      3\n6千-1.2万       3\n1-1.5万        3\n1.5-2万        2\n8千-1.5万       2\n1.3-2.5万      2\n1.2-1.5万      2\n1.8-2.5万      2\n1-1.8万        1\n1.2-1.8万      1\n7.5千-1.2万     1\n1.3-1.8万      1\n8千-1.3万       1\n2-4万          1\n1.6-2.2万      1\n1.8-2.8万      1\n7千-1.4万       1\n1.5-3万        1\nName: yuexin-w, dtype: int64"
     },
     "execution_count": 491,
     "metadata": {},
     "output_type": "execute_result"
    }
   ],
   "source": [
    "data['yuexin-w'].value_counts()"
   ],
   "metadata": {
    "collapsed": false,
    "pycharm": {
     "name": "#%%\n"
    }
   }
  },
  {
   "cell_type": "code",
   "execution_count": 492,
   "outputs": [],
   "source": [
    "data['yuexin-k'] = data['薪酬'].str.extract('(.*?-.*?千)')"
   ],
   "metadata": {
    "collapsed": false,
    "pycharm": {
     "name": "#%%\n"
    }
   }
  },
  {
   "cell_type": "code",
   "execution_count": 493,
   "outputs": [
    {
     "data": {
      "text/plain": "6-9千    1\nName: yuexin-k, dtype: int64"
     },
     "execution_count": 493,
     "metadata": {},
     "output_type": "execute_result"
    }
   ],
   "source": [
    "data['yuexin-k'].dropna()\n",
    "data['yuexin-k'].unique()\n",
    "data['yuexin-k'].value_counts()"
   ],
   "metadata": {
    "collapsed": false,
    "pycharm": {
     "name": "#%%\n"
    }
   }
  },
  {
   "cell_type": "code",
   "execution_count": 494,
   "outputs": [],
   "source": [
    "data1 = data.drop(\n",
    "['公司名称',\n",
    "'工作经验要求'\n",
    ",'学历要求'\n",
    ",'工作地点'\n",
    ",'薪酬'\n",
    ",'发布时间'\n",
    ",'职位描述或任职要求'\n",
    ",'公司规模'\n",
    ",'公司类型'\n",
    ",'公司标签'\n",
    "],\n",
    "    axis=1\n",
    "       )"
   ],
   "metadata": {
    "collapsed": false,
    "pycharm": {
     "name": "#%%\n"
    }
   }
  },
  {
   "cell_type": "code",
   "execution_count": 495,
   "outputs": [
    {
     "data": {
      "text/plain": "                    职位名称     城市地区  地区  *n薪 最低年薪 最高年薪   nianxin  yuexin-w  \\\n0  JAVA软件工程师（安卓APP维护与开发）       长沙  长沙  NaN  NaN  NaN       NaN  1.5-2.2万   \n1     安卓开发工程师 (MJ000140)   深圳-宝安区  深圳  NaN  NaN  NaN       NaN    1.5-2万   \n2            安卓高级软件开发工程师   上海-徐汇区  上海  NaN   15   30  15-30万/年       NaN   \n3          安卓工程师（双休 13薪）  上海-浦东新区  上海  NaN  NaN  NaN       NaN  1.8-2.8万   \n4                  安卓工程师       长沙  长沙  NaN  NaN  NaN       NaN  1.5-2.2万   \n\n  yuexin-k  \n0      NaN  \n1      NaN  \n2      NaN  \n3      NaN  \n4      NaN  ",
      "text/html": "<div>\n<style scoped>\n    .dataframe tbody tr th:only-of-type {\n        vertical-align: middle;\n    }\n\n    .dataframe tbody tr th {\n        vertical-align: top;\n    }\n\n    .dataframe thead th {\n        text-align: right;\n    }\n</style>\n<table border=\"1\" class=\"dataframe\">\n  <thead>\n    <tr style=\"text-align: right;\">\n      <th></th>\n      <th>职位名称</th>\n      <th>城市地区</th>\n      <th>地区</th>\n      <th>*n薪</th>\n      <th>最低年薪</th>\n      <th>最高年薪</th>\n      <th>nianxin</th>\n      <th>yuexin-w</th>\n      <th>yuexin-k</th>\n    </tr>\n  </thead>\n  <tbody>\n    <tr>\n      <th>0</th>\n      <td>JAVA软件工程师（安卓APP维护与开发）</td>\n      <td>长沙</td>\n      <td>长沙</td>\n      <td>NaN</td>\n      <td>NaN</td>\n      <td>NaN</td>\n      <td>NaN</td>\n      <td>1.5-2.2万</td>\n      <td>NaN</td>\n    </tr>\n    <tr>\n      <th>1</th>\n      <td>安卓开发工程师 (MJ000140)</td>\n      <td>深圳-宝安区</td>\n      <td>深圳</td>\n      <td>NaN</td>\n      <td>NaN</td>\n      <td>NaN</td>\n      <td>NaN</td>\n      <td>1.5-2万</td>\n      <td>NaN</td>\n    </tr>\n    <tr>\n      <th>2</th>\n      <td>安卓高级软件开发工程师</td>\n      <td>上海-徐汇区</td>\n      <td>上海</td>\n      <td>NaN</td>\n      <td>15</td>\n      <td>30</td>\n      <td>15-30万/年</td>\n      <td>NaN</td>\n      <td>NaN</td>\n    </tr>\n    <tr>\n      <th>3</th>\n      <td>安卓工程师（双休 13薪）</td>\n      <td>上海-浦东新区</td>\n      <td>上海</td>\n      <td>NaN</td>\n      <td>NaN</td>\n      <td>NaN</td>\n      <td>NaN</td>\n      <td>1.8-2.8万</td>\n      <td>NaN</td>\n    </tr>\n    <tr>\n      <th>4</th>\n      <td>安卓工程师</td>\n      <td>长沙</td>\n      <td>长沙</td>\n      <td>NaN</td>\n      <td>NaN</td>\n      <td>NaN</td>\n      <td>NaN</td>\n      <td>1.5-2.2万</td>\n      <td>NaN</td>\n    </tr>\n  </tbody>\n</table>\n</div>"
     },
     "execution_count": 495,
     "metadata": {},
     "output_type": "execute_result"
    }
   ],
   "source": [
    "data1.head()"
   ],
   "metadata": {
    "collapsed": false,
    "pycharm": {
     "name": "#%%\n"
    }
   }
  },
  {
   "cell_type": "code",
   "execution_count": 496,
   "outputs": [],
   "source": [
    "data1.drop(['城市地区','地区'],axis=1,inplace=True)"
   ],
   "metadata": {
    "collapsed": false,
    "pycharm": {
     "name": "#%%\n"
    }
   }
  },
  {
   "cell_type": "code",
   "execution_count": 497,
   "outputs": [
    {
     "data": {
      "text/plain": "                    职位名称  *n薪 最低年薪 最高年薪   nianxin  yuexin-w yuexin-k\n0  JAVA软件工程师（安卓APP维护与开发）  NaN  NaN  NaN       NaN  1.5-2.2万      NaN\n1     安卓开发工程师 (MJ000140)  NaN  NaN  NaN       NaN    1.5-2万      NaN\n2            安卓高级软件开发工程师  NaN   15   30  15-30万/年       NaN      NaN\n3          安卓工程师（双休 13薪）  NaN  NaN  NaN       NaN  1.8-2.8万      NaN\n4                  安卓工程师  NaN  NaN  NaN       NaN  1.5-2.2万      NaN",
      "text/html": "<div>\n<style scoped>\n    .dataframe tbody tr th:only-of-type {\n        vertical-align: middle;\n    }\n\n    .dataframe tbody tr th {\n        vertical-align: top;\n    }\n\n    .dataframe thead th {\n        text-align: right;\n    }\n</style>\n<table border=\"1\" class=\"dataframe\">\n  <thead>\n    <tr style=\"text-align: right;\">\n      <th></th>\n      <th>职位名称</th>\n      <th>*n薪</th>\n      <th>最低年薪</th>\n      <th>最高年薪</th>\n      <th>nianxin</th>\n      <th>yuexin-w</th>\n      <th>yuexin-k</th>\n    </tr>\n  </thead>\n  <tbody>\n    <tr>\n      <th>0</th>\n      <td>JAVA软件工程师（安卓APP维护与开发）</td>\n      <td>NaN</td>\n      <td>NaN</td>\n      <td>NaN</td>\n      <td>NaN</td>\n      <td>1.5-2.2万</td>\n      <td>NaN</td>\n    </tr>\n    <tr>\n      <th>1</th>\n      <td>安卓开发工程师 (MJ000140)</td>\n      <td>NaN</td>\n      <td>NaN</td>\n      <td>NaN</td>\n      <td>NaN</td>\n      <td>1.5-2万</td>\n      <td>NaN</td>\n    </tr>\n    <tr>\n      <th>2</th>\n      <td>安卓高级软件开发工程师</td>\n      <td>NaN</td>\n      <td>15</td>\n      <td>30</td>\n      <td>15-30万/年</td>\n      <td>NaN</td>\n      <td>NaN</td>\n    </tr>\n    <tr>\n      <th>3</th>\n      <td>安卓工程师（双休 13薪）</td>\n      <td>NaN</td>\n      <td>NaN</td>\n      <td>NaN</td>\n      <td>NaN</td>\n      <td>1.8-2.8万</td>\n      <td>NaN</td>\n    </tr>\n    <tr>\n      <th>4</th>\n      <td>安卓工程师</td>\n      <td>NaN</td>\n      <td>NaN</td>\n      <td>NaN</td>\n      <td>NaN</td>\n      <td>1.5-2.2万</td>\n      <td>NaN</td>\n    </tr>\n  </tbody>\n</table>\n</div>"
     },
     "execution_count": 497,
     "metadata": {},
     "output_type": "execute_result"
    }
   ],
   "source": [
    "data1.head()"
   ],
   "metadata": {
    "collapsed": false,
    "pycharm": {
     "name": "#%%\n"
    }
   }
  },
  {
   "cell_type": "code",
   "execution_count": 498,
   "outputs": [
    {
     "data": {
      "text/plain": "0      1.5\n1      1.5\n2      NaN\n3      1.8\n4      1.5\n5      1.5\n6      1.5\n7       8千\n8      1.5\n9      1.8\n10     1.3\n11       1\n12     1.5\n13     1.5\n14     1.2\n15       1\n16     1.5\n17     1.5\n18    7.5千\n19     1.3\n20     1.5\n21      8千\n22       1\n23     1.3\n24     1.5\n25      6千\n26      8千\n27      6千\n28     1.5\n29     1.8\n30      8千\n31       2\n32     1.5\n33     1.6\n34      8千\n35     1.5\n36     1.5\n37     NaN\n38       1\n39      7千\n40     1.5\n41      6千\n42     1.2\n43     1.2\n44     1.5\n45     NaN\n46      8千\n47     NaN\n48     NaN\n49      8千\nName: 最低月薪, dtype: object"
     },
     "execution_count": 498,
     "metadata": {},
     "output_type": "execute_result"
    }
   ],
   "source": [
    "data1['最低月薪']=data1['yuexin-w'].str.extract(('(.*?)-.*?万'))\n",
    "data1['最低月薪']"
   ],
   "metadata": {
    "collapsed": false,
    "pycharm": {
     "name": "#%%\n"
    }
   }
  },
  {
   "cell_type": "code",
   "execution_count": 499,
   "outputs": [
    {
     "data": {
      "text/plain": "0     2.2\n1       2\n2     NaN\n3     2.8\n4     2.2\n5     2.5\n6     2.5\n7     1.2\n8     2.2\n9     2.5\n10    1.8\n11    1.5\n12    2.2\n13      2\n14    1.8\n15    1.8\n16    2.2\n17      3\n18    1.2\n19    2.5\n20    2.2\n21    1.3\n22    1.5\n23    2.5\n24    2.2\n25    1.2\n26    1.2\n27    1.2\n28    2.2\n29    2.5\n30    1.2\n31      4\n32    2.2\n33    2.2\n34    1.5\n35    2.5\n36    2.2\n37    NaN\n38    1.5\n39    1.4\n40    2.2\n41    1.2\n42    1.5\n43    1.5\n44    2.2\n45    NaN\n46    1.2\n47    NaN\n48    NaN\n49    1.5\nName: 最高月薪, dtype: object"
     },
     "execution_count": 499,
     "metadata": {},
     "output_type": "execute_result"
    }
   ],
   "source": [
    "data1['最高月薪']=data1['yuexin-w'].str.extract(('.*?-(.*?)万'))\n",
    "data1['最高月薪']"
   ],
   "metadata": {
    "collapsed": false,
    "pycharm": {
     "name": "#%%\n"
    }
   }
  },
  {
   "cell_type": "code",
   "execution_count": 500,
   "outputs": [],
   "source": [
    "data1['最低月薪'].str.replace('万','0000')\n",
    "a = data1['最低月薪'].str.replace('千','000')"
   ],
   "metadata": {
    "collapsed": false,
    "pycharm": {
     "name": "#%%\n"
    }
   }
  },
  {
   "cell_type": "code",
   "execution_count": 504,
   "outputs": [
    {
     "name": "stdout",
     "output_type": "stream",
     "text": [
      "15000\n",
      "15000\n",
      "18000\n",
      "15000\n",
      "15000\n",
      "15000\n",
      "15000\n",
      "18000\n",
      "13000\n",
      "10000\n",
      "15000\n",
      "15000\n",
      "12000\n",
      "10000\n",
      "15000\n",
      "15000\n",
      "75000\n",
      "13000\n",
      "15000\n",
      "10000\n",
      "13000\n",
      "15000\n",
      "15000\n",
      "18000\n",
      "20000\n",
      "15000\n",
      "16000\n",
      "15000\n",
      "15000\n",
      "10000\n",
      "15000\n",
      "12000\n",
      "12000\n",
      "15000\n"
     ]
    }
   ],
   "source": [
    "diyue = []\n",
    "for i in list(a):\n",
    "    if float(i) < 1000:\n",
    "        i=int(float(i)*10000)\n",
    "        print(i)\n",
    "        diyue.append(i)"
   ],
   "metadata": {
    "collapsed": false,
    "pycharm": {
     "name": "#%%\n"
    }
   }
  },
  {
   "cell_type": "code",
   "execution_count": 505,
   "outputs": [
    {
     "data": {
      "text/plain": "[15000,\n 15000,\n 18000,\n 15000,\n 15000,\n 15000,\n 15000,\n 18000,\n 13000,\n 10000,\n 15000,\n 15000,\n 12000,\n 10000,\n 15000,\n 15000,\n 75000,\n 13000,\n 15000,\n 10000,\n 13000,\n 15000,\n 15000,\n 18000,\n 20000,\n 15000,\n 16000,\n 15000,\n 15000,\n 10000,\n 15000,\n 12000,\n 12000,\n 15000]"
     },
     "execution_count": 505,
     "metadata": {},
     "output_type": "execute_result"
    }
   ],
   "source": [
    "diyue"
   ],
   "metadata": {
    "collapsed": false,
    "pycharm": {
     "name": "#%%\n"
    }
   }
  },
  {
   "cell_type": "code",
   "execution_count": 439,
   "outputs": [
    {
     "data": {
      "text/plain": "0     2.2\n1       2\n2     NaN\n3     2.8\n4     2.2\n5     2.5\n6     2.5\n7     1.2\n8     2.2\n9     2.5\n10    1.8\n11    1.5\n12    2.2\n13      2\n14    1.8\n15    1.8\n16    2.2\n17      3\n18    1.2\n19    2.5\n20    2.2\n21    1.3\n22    1.5\n23    2.5\n24    2.2\n25    1.2\n26    1.2\n27    1.2\n28    2.2\n29    2.5\n30    1.2\n31      4\n32    2.2\n33    2.2\n34    1.5\n35    2.5\n36    2.2\n37    NaN\n38    1.5\n39    1.4\n40    2.2\n41    1.2\n42    1.5\n43    1.5\n44    2.2\n45    NaN\n46    1.2\n47    NaN\n48    NaN\n49    1.5\nName: 最高月薪, dtype: object"
     },
     "execution_count": 439,
     "metadata": {},
     "output_type": "execute_result"
    }
   ],
   "source": [
    "data1['最高月薪'].str.replace('万','0000')"
   ],
   "metadata": {
    "collapsed": false,
    "pycharm": {
     "name": "#%%\n"
    }
   }
  },
  {
   "cell_type": "code",
   "execution_count": 506,
   "outputs": [
    {
     "name": "stdout",
     "output_type": "stream",
     "text": [
      "22000\n",
      "20000\n",
      "28000\n",
      "22000\n",
      "25000\n",
      "25000\n",
      "12000\n",
      "22000\n",
      "25000\n",
      "18000\n",
      "15000\n",
      "22000\n",
      "20000\n",
      "18000\n",
      "18000\n",
      "22000\n",
      "30000\n",
      "12000\n",
      "25000\n",
      "22000\n",
      "13000\n",
      "15000\n",
      "25000\n",
      "22000\n",
      "12000\n",
      "12000\n",
      "12000\n",
      "22000\n",
      "25000\n",
      "12000\n",
      "40000\n",
      "22000\n",
      "22000\n",
      "15000\n",
      "25000\n",
      "22000\n",
      "15000\n",
      "14000\n",
      "22000\n",
      "12000\n",
      "15000\n",
      "15000\n",
      "22000\n",
      "12000\n",
      "15000\n"
     ]
    }
   ],
   "source": [
    "gaoyue = []\n",
    "for i in data1['最高月薪']:\n",
    "    # print(type(i))\n",
    "    if type(i) is str:\n",
    "        # print(i)\n",
    "        i = int(float(i)*10000)\n",
    "        print(i)\n",
    "        gaoyue.append(i)"
   ],
   "metadata": {
    "collapsed": false,
    "pycharm": {
     "name": "#%%\n"
    }
   }
  },
  {
   "cell_type": "code",
   "execution_count": 509,
   "outputs": [
    {
     "data": {
      "text/plain": "0    19577.777778\ndtype: float64"
     },
     "execution_count": 509,
     "metadata": {},
     "output_type": "execute_result"
    }
   ],
   "source": [
    "gaoyue=pd.DataFrame(gaoyue)\n",
    "gaoyue.mean()"
   ],
   "metadata": {
    "collapsed": false,
    "pycharm": {
     "name": "#%%\n"
    }
   }
  },
  {
   "cell_type": "code",
   "execution_count": null,
   "outputs": [],
   "source": [],
   "metadata": {
    "collapsed": false,
    "pycharm": {
     "name": "#%%\n"
    }
   }
  }
 ],
 "metadata": {
  "kernelspec": {
   "display_name": "Python 3",
   "language": "python",
   "name": "python3"
  },
  "language_info": {
   "codemirror_mode": {
    "name": "ipython",
    "version": 2
   },
   "file_extension": ".py",
   "mimetype": "text/x-python",
   "name": "python",
   "nbconvert_exporter": "python",
   "pygments_lexer": "ipython2",
   "version": "2.7.6"
  }
 },
 "nbformat": 4,
 "nbformat_minor": 0
}