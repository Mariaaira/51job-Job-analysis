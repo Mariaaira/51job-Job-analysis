{
 "cells": [
  {
   "cell_type": "markdown",
   "source": [
    "## 社招-分析2 （薪酬8种排列转为数字）\n",
    "\n",
    "#### 后面是数据分组和聚合、透视和合并的练习"
   ],
   "metadata": {
    "collapsed": false,
    "pycharm": {
     "name": "#%% md\n"
    }
   }
  },
  {
   "cell_type": "code",
   "execution_count": 1,
   "outputs": [],
   "source": [
    "#-*- coding : utf-8-*-\n",
    "# coding:unicode_escape\n",
    "import pandas as pd\n",
    "import numpy as np"
   ],
   "metadata": {
    "collapsed": false,
    "pycharm": {
     "name": "#%%\n"
    }
   }
  },
  {
   "cell_type": "code",
   "execution_count": 8,
   "outputs": [],
   "source": [
    "# -*- coding: utf-8 -*-\n",
    "data=pd.read_csv(r'D:\\Crawler\\51job\\营销-去重换列名.csv', encoding='gb18030')"
   ],
   "metadata": {
    "collapsed": false,
    "pycharm": {
     "name": "#%%\n"
    }
   }
  },
  {
   "cell_type": "code",
   "execution_count": 9,
   "outputs": [],
   "source": [
    "data=pd.DataFrame(data)"
   ],
   "metadata": {
    "collapsed": false,
    "pycharm": {
     "name": "#%%\n"
    }
   }
  },
  {
   "cell_type": "code",
   "execution_count": 10,
   "outputs": [
    {
     "data": {
      "text/plain": "(1174, 16)"
     },
     "execution_count": 10,
     "metadata": {},
     "output_type": "execute_result"
    }
   ],
   "source": [
    "data.shape"
   ],
   "metadata": {
    "collapsed": false,
    "pycharm": {
     "name": "#%%\n"
    }
   }
  },
  {
   "cell_type": "code",
   "execution_count": 11,
   "outputs": [
    {
     "data": {
      "text/plain": "       职位名称            公司名称        薪酬          城市地区 学历要求 工作经验要求  \\\n0      营销助理  伯锦船舶科技（上海）有限公司     6千-1万       上海·浦东新区   大专     1年   \n1    市场营销专员      中国外运长江有限公司     5千-1万        无锡·江阴市   本科   无需经验   \n2    营销策划专员  富民乡村宝贝农业开发有限公司  3.5-4.5千            昆明   大专     2年   \n3      营销经理  天诚（中国）科技发展有限公司    1-1.2万  西安·高新技术产业开发区   大专   3-4年   \n4  市场渠道营销专员    广东中铭信息科技有限公司   6千-1.2万        湛江·霞山区   大专   无需经验   \n\n                                                公司福利        公司标签  职位描述或任职要求  \\\n0  五险一金\\n交通补贴\\n通讯补贴\\n绩效奖金\\n周末双休\\nppt\\n微信公众号\\n视频号\\...       学术/科研        NaN   \n1                                                NaN    交通/运输/物流        NaN   \n2                                                NaN     农/林/牧/渔        NaN   \n3       销售管理\\n营销策略\\n营销策划\\n营销宣传\\n绩效奖金\\n节日福利\\n五险\\n生日福利       计算机软件        NaN   \n4  信用卡\\n个贷\\n车贷\\n房贷\\n市场营销\\n营销\\n拓展专员\\n渠道营销\\n五险一金\\n交...  通信/电信/网络设备        NaN   \n\n   Unnamed: 9               规模类型  地区  *n薪  薪酬_n  月薪最小值  月薪最大值  \n0         NaN       民营  |  少于50人 NaN  NaN   NaN    NaN    NaN  \n1         NaN  国企  |  1000-5000人 NaN  NaN   NaN    NaN    NaN  \n2         NaN     民营  |  50-150人 NaN  NaN   NaN    NaN    NaN  \n3         NaN               民营   NaN  NaN   NaN    NaN    NaN  \n4         NaN       民营  |  少于50人 NaN  NaN   NaN    NaN    NaN  ",
      "text/html": "<div>\n<style scoped>\n    .dataframe tbody tr th:only-of-type {\n        vertical-align: middle;\n    }\n\n    .dataframe tbody tr th {\n        vertical-align: top;\n    }\n\n    .dataframe thead th {\n        text-align: right;\n    }\n</style>\n<table border=\"1\" class=\"dataframe\">\n  <thead>\n    <tr style=\"text-align: right;\">\n      <th></th>\n      <th>职位名称</th>\n      <th>公司名称</th>\n      <th>薪酬</th>\n      <th>城市地区</th>\n      <th>学历要求</th>\n      <th>工作经验要求</th>\n      <th>公司福利</th>\n      <th>公司标签</th>\n      <th>职位描述或任职要求</th>\n      <th>Unnamed: 9</th>\n      <th>规模类型</th>\n      <th>地区</th>\n      <th>*n薪</th>\n      <th>薪酬_n</th>\n      <th>月薪最小值</th>\n      <th>月薪最大值</th>\n    </tr>\n  </thead>\n  <tbody>\n    <tr>\n      <th>0</th>\n      <td>营销助理</td>\n      <td>伯锦船舶科技（上海）有限公司</td>\n      <td>6千-1万</td>\n      <td>上海·浦东新区</td>\n      <td>大专</td>\n      <td>1年</td>\n      <td>五险一金\\n交通补贴\\n通讯补贴\\n绩效奖金\\n周末双休\\nppt\\n微信公众号\\n视频号\\...</td>\n      <td>学术/科研</td>\n      <td>NaN</td>\n      <td>NaN</td>\n      <td>民营  |  少于50人</td>\n      <td>NaN</td>\n      <td>NaN</td>\n      <td>NaN</td>\n      <td>NaN</td>\n      <td>NaN</td>\n    </tr>\n    <tr>\n      <th>1</th>\n      <td>市场营销专员</td>\n      <td>中国外运长江有限公司</td>\n      <td>5千-1万</td>\n      <td>无锡·江阴市</td>\n      <td>本科</td>\n      <td>无需经验</td>\n      <td>NaN</td>\n      <td>交通/运输/物流</td>\n      <td>NaN</td>\n      <td>NaN</td>\n      <td>国企  |  1000-5000人</td>\n      <td>NaN</td>\n      <td>NaN</td>\n      <td>NaN</td>\n      <td>NaN</td>\n      <td>NaN</td>\n    </tr>\n    <tr>\n      <th>2</th>\n      <td>营销策划专员</td>\n      <td>富民乡村宝贝农业开发有限公司</td>\n      <td>3.5-4.5千</td>\n      <td>昆明</td>\n      <td>大专</td>\n      <td>2年</td>\n      <td>NaN</td>\n      <td>农/林/牧/渔</td>\n      <td>NaN</td>\n      <td>NaN</td>\n      <td>民营  |  50-150人</td>\n      <td>NaN</td>\n      <td>NaN</td>\n      <td>NaN</td>\n      <td>NaN</td>\n      <td>NaN</td>\n    </tr>\n    <tr>\n      <th>3</th>\n      <td>营销经理</td>\n      <td>天诚（中国）科技发展有限公司</td>\n      <td>1-1.2万</td>\n      <td>西安·高新技术产业开发区</td>\n      <td>大专</td>\n      <td>3-4年</td>\n      <td>销售管理\\n营销策略\\n营销策划\\n营销宣传\\n绩效奖金\\n节日福利\\n五险\\n生日福利</td>\n      <td>计算机软件</td>\n      <td>NaN</td>\n      <td>NaN</td>\n      <td>民营</td>\n      <td>NaN</td>\n      <td>NaN</td>\n      <td>NaN</td>\n      <td>NaN</td>\n      <td>NaN</td>\n    </tr>\n    <tr>\n      <th>4</th>\n      <td>市场渠道营销专员</td>\n      <td>广东中铭信息科技有限公司</td>\n      <td>6千-1.2万</td>\n      <td>湛江·霞山区</td>\n      <td>大专</td>\n      <td>无需经验</td>\n      <td>信用卡\\n个贷\\n车贷\\n房贷\\n市场营销\\n营销\\n拓展专员\\n渠道营销\\n五险一金\\n交...</td>\n      <td>通信/电信/网络设备</td>\n      <td>NaN</td>\n      <td>NaN</td>\n      <td>民营  |  少于50人</td>\n      <td>NaN</td>\n      <td>NaN</td>\n      <td>NaN</td>\n      <td>NaN</td>\n      <td>NaN</td>\n    </tr>\n  </tbody>\n</table>\n</div>"
     },
     "execution_count": 11,
     "metadata": {},
     "output_type": "execute_result"
    }
   ],
   "source": [
    "data.head()"
   ],
   "metadata": {
    "collapsed": false,
    "pycharm": {
     "name": "#%%\n"
    }
   }
  },
  {
   "cell_type": "code",
   "execution_count": 12,
   "outputs": [
    {
     "name": "stdout",
     "output_type": "stream",
     "text": [
      "<class 'pandas.core.frame.DataFrame'>\n",
      "RangeIndex: 1174 entries, 0 to 1173\n",
      "Data columns (total 16 columns):\n",
      " #   Column      Non-Null Count  Dtype  \n",
      "---  ------      --------------  -----  \n",
      " 0   职位名称        1174 non-null   object \n",
      " 1   公司名称        1174 non-null   object \n",
      " 2   薪酬          1174 non-null   object \n",
      " 3   城市地区        1174 non-null   object \n",
      " 4   学历要求        1117 non-null   object \n",
      " 5   工作经验要求      1173 non-null   object \n",
      " 6   公司福利        1124 non-null   object \n",
      " 7   公司标签        1174 non-null   object \n",
      " 8   职位描述或任职要求   0 non-null      float64\n",
      " 9   Unnamed: 9  0 non-null      float64\n",
      " 10  规模类型        1174 non-null   object \n",
      " 11  地区          0 non-null      float64\n",
      " 12  *n薪         0 non-null      float64\n",
      " 13  薪酬_n        0 non-null      float64\n",
      " 14  月薪最小值       0 non-null      float64\n",
      " 15  月薪最大值       0 non-null      float64\n",
      "dtypes: float64(7), object(9)\n",
      "memory usage: 146.9+ KB\n"
     ]
    }
   ],
   "source": [
    "data.info()"
   ],
   "metadata": {
    "collapsed": false,
    "pycharm": {
     "name": "#%%\n"
    }
   }
  },
  {
   "cell_type": "code",
   "execution_count": 13,
   "outputs": [
    {
     "name": "stdout",
     "output_type": "stream",
     "text": [
      "营销总监          65\n",
      "市场营销专员        54\n",
      "营销经理          53\n",
      "市场营销经理        38\n",
      "营销专员          29\n",
      "市场/营销/拓展专员    24\n",
      "主动营销经理-华东区    21\n",
      "市场营销总监        15\n",
      "市场营销          14\n",
      "营销策划          13\n",
      "Name: 职位名称, dtype: int64\n",
      "-----------------------------------------------------------------------------------\n",
      "喜临门家具股份有限公司        27\n",
      "深圳市乐有家控股集团有限公司     26\n",
      "航天宏图信息技术股份有限公司     26\n",
      "郑州市倾程众联网络科技有限公司    15\n",
      "北京核成科技有限公司         10\n",
      "Name: 公司名称, dtype: int64\n"
     ]
    }
   ],
   "source": [
    "# pd.set_option('display.max_columns',None)\n",
    "# pd.set_option('display.max_rows',None)\n",
    "print(data.职位名称.value_counts().head(10))\n",
    "print('-----------------------------------------------------------------------------------')\n",
    "print(data.公司名称.value_counts().head())"
   ],
   "metadata": {
    "collapsed": false,
    "pycharm": {
     "name": "#%%\n"
    }
   }
  },
  {
   "cell_type": "code",
   "execution_count": 14,
   "outputs": [
    {
     "data": {
      "text/plain": "3-4年     306\n2年       234\n5-7年     224\n1年       198\n无需经验     147\n8-9年      37\n10年以上     26\n本科         1\nName: 工作经验要求, dtype: int64"
     },
     "execution_count": 14,
     "metadata": {},
     "output_type": "execute_result"
    }
   ],
   "source": [
    "data['工作经验要求'].value_counts()"
   ],
   "metadata": {
    "collapsed": false,
    "pycharm": {
     "name": "#%%\n"
    }
   }
  },
  {
   "cell_type": "code",
   "execution_count": 15,
   "outputs": [
    {
     "data": {
      "text/plain": "大专       607\n本科       445\n高中        41\n中技/中专     14\n硕士         8\n初中及以下      2\nName: 学历要求, dtype: int64"
     },
     "execution_count": 15,
     "metadata": {},
     "output_type": "execute_result"
    }
   ],
   "source": [
    "data['学历要求'].value_counts()"
   ],
   "metadata": {
    "collapsed": false,
    "pycharm": {
     "name": "#%%\n"
    }
   }
  },
  {
   "cell_type": "code",
   "execution_count": 16,
   "outputs": [],
   "source": [
    "data['地区']=data['城市地区'].str[:2]"
   ],
   "metadata": {
    "collapsed": false,
    "pycharm": {
     "name": "#%%\n"
    }
   }
  },
  {
   "cell_type": "code",
   "execution_count": 17,
   "outputs": [
    {
     "data": {
      "text/plain": "上海    130\n广州    109\n深圳    108\n武汉     67\n成都     54\n     ... \n银川      1\n濮阳      1\n新乡      1\n亳州      1\n宜春      1\nName: 地区, Length: 149, dtype: int64"
     },
     "execution_count": 17,
     "metadata": {},
     "output_type": "execute_result"
    }
   ],
   "source": [
    "data['地区'].value_counts()"
   ],
   "metadata": {
    "collapsed": false,
    "pycharm": {
     "name": "#%%\n"
    }
   }
  },
  {
   "cell_type": "code",
   "execution_count": 18,
   "outputs": [
    {
     "data": {
      "text/plain": "1-1.5万          79\n1-2万            66\n8千-1.5万         42\n6-8千            42\n6千-1.2万         37\n                ..\n5.5-8千·13薪       1\n1.4-2.5万·15薪     1\n3.5-7千·13薪       1\n1.3-1.7万         1\n3-4万·13薪         1\nName: 薪酬, Length: 235, dtype: int64"
     },
     "execution_count": 18,
     "metadata": {},
     "output_type": "execute_result"
    }
   ],
   "source": [
    "data['薪酬'].value_counts()"
   ],
   "metadata": {
    "collapsed": false,
    "pycharm": {
     "name": "#%%\n"
    }
   }
  },
  {
   "cell_type": "code",
   "execution_count": 19,
   "outputs": [
    {
     "data": {
      "text/plain": "<AxesSubplot: >"
     },
     "execution_count": 19,
     "metadata": {},
     "output_type": "execute_result"
    },
    {
     "data": {
      "text/plain": "<Figure size 800x600 with 1 Axes>",
      "image/png": "[encoded data removed]"
     },
     "metadata": {},
     "output_type": "display_data"
    }
   ],
   "source": [
    "import matplotlib as plt\n",
    "import seaborn as sns\n",
    "\n",
    "plt.rcParams['font.sans-serif']=['SimHei']  # 显示中文\n",
    "data['薪酬'].value_counts().plot(kind='line', color='green',figsize=(8,6))\n"
   ],
   "metadata": {
    "collapsed": false,
    "pycharm": {
     "name": "#%%\n"
    }
   }
  },
  {
   "cell_type": "code",
   "execution_count": 20,
   "outputs": [],
   "source": [
    "data['*n薪']=data['薪酬'].str.extract(('·(\\d+)薪'))"
   ],
   "metadata": {
    "collapsed": false,
    "pycharm": {
     "name": "#%%\n"
    }
   }
  },
  {
   "cell_type": "code",
   "execution_count": 21,
   "outputs": [
    {
     "data": {
      "text/plain": "13    116\n14     27\n15      9\n16      9\n17      2\nName: *n薪, dtype: int64"
     },
     "execution_count": 21,
     "metadata": {},
     "output_type": "execute_result"
    }
   ],
   "source": [
    "data['*n薪'].value_counts().sort_index()"
   ],
   "metadata": {
    "collapsed": false,
    "pycharm": {
     "name": "#%%\n"
    }
   }
  },
  {
   "cell_type": "code",
   "execution_count": 22,
   "outputs": [
    {
     "data": {
      "text/plain": "15-20万/年      16\n15-30万/年      12\n20-30万/年      11\n10-20万/年       8\n30-60万/年       7\n30-40万/年       6\n8-10万/年        6\n12-20万/年       4\n20-40万/年       4\n50-100万/年      4\n30-50万/年       3\n50-60万/年       3\n12-18万/年       3\n18-25万/年       2\n40-60万/年       2\n50-80万/年       2\n25-30万/年       2\n25-40万/年       2\n25-50万/年       2\n40-80万/年       2\n50-55万/年       1\n6-10万/年        1\n6-12万/年        1\n45-60万/年       1\n8-16万/年        1\n10-12万/年       1\n25-35万/年       1\n35-40万/年       1\n30-45万/年       1\n10-13万/年       1\n20-38万/年       1\n20-35万/年       1\n18-35万/年       1\n18-23万/年       1\n18-20万/年       1\n15-25万/年       1\n12.5-25万/年     1\n10-15万/年       1\n80-100万/年      1\ndtype: int64"
     },
     "execution_count": 22,
     "metadata": {},
     "output_type": "execute_result"
    }
   ],
   "source": [
    "data['薪酬'].str.extract(('(.*?年)')).value_counts()"
   ],
   "metadata": {
    "collapsed": false,
    "pycharm": {
     "name": "#%%\n"
    }
   }
  },
  {
   "cell_type": "code",
   "execution_count": 23,
   "outputs": [],
   "source": [
    "data['最低年薪']=data['薪酬'].str.extract(('^(\\d+).*?年'))+'0000'"
   ],
   "metadata": {
    "collapsed": false,
    "pycharm": {
     "name": "#%%\n"
    }
   }
  },
  {
   "cell_type": "code",
   "execution_count": 24,
   "outputs": [
    {
     "data": {
      "text/plain": "150000    29\n200000    17\n300000    17\n100000    11\n500000    10\n120000     8\n250000     7\n80000      7\n180000     5\n400000     4\n60000      2\n800000     1\n350000     1\n450000     1\nName: 最低年薪, dtype: int64"
     },
     "execution_count": 24,
     "metadata": {},
     "output_type": "execute_result"
    }
   ],
   "source": [
    "data['最低年薪'].value_counts()"
   ],
   "metadata": {
    "collapsed": false,
    "pycharm": {
     "name": "#%%\n"
    }
   }
  },
  {
   "cell_type": "code",
   "execution_count": 25,
   "outputs": [],
   "source": [
    "data['最高年薪']=data['薪酬'].str.extract(('^\\d+-(\\d+).*?年'))+'0000'"
   ],
   "metadata": {
    "collapsed": false,
    "pycharm": {
     "name": "#%%\n"
    }
   }
  },
  {
   "cell_type": "code",
   "execution_count": 26,
   "outputs": [
    {
     "data": {
      "text/plain": "200000     29\n300000     25\n400000     13\n600000     13\n100000      7\n1000000     5\n500000      5\n800000      4\n180000      3\n350000      3\n250000      3\n120000      2\n160000      1\n130000      1\n150000      1\n450000      1\n230000      1\n550000      1\n380000      1\nName: 最高年薪, dtype: int64"
     },
     "execution_count": 26,
     "metadata": {},
     "output_type": "execute_result"
    }
   ],
   "source": [
    "data['最高年薪'].value_counts()"
   ],
   "metadata": {
    "collapsed": false,
    "pycharm": {
     "name": "#%%\n"
    }
   }
  },
  {
   "cell_type": "markdown",
   "source": [
    "1. 月薪 最低最高月薪都没有小数点"
   ],
   "metadata": {
    "collapsed": false,
    "pycharm": {
     "name": "#%% md\n"
    }
   }
  },
  {
   "cell_type": "code",
   "execution_count": 27,
   "outputs": [
    {
     "data": {
      "text/plain": "1-2万    73\n2-3万    15\n3-5万    11\n2-4万     8\n3-4万     6\n4-7万     3\n3-6万     2\n4-5万     1\n4-6万     1\ndtype: int64"
     },
     "execution_count": 27,
     "metadata": {},
     "output_type": "execute_result"
    }
   ],
   "source": [
    "data['薪酬'].str.extract(('(^\\d-\\d万)')).value_counts()"
   ],
   "metadata": {
    "collapsed": false,
    "pycharm": {
     "name": "#%%\n"
    }
   }
  },
  {
   "cell_type": "code",
   "execution_count": 28,
   "outputs": [
    {
     "data": {
      "text/plain": "0        NaN\n1        NaN\n2        NaN\n3        NaN\n4        NaN\n        ... \n1169     NaN\n1170    1-2万\n1171     NaN\n1172     NaN\n1173    3-4万\nName: 薪酬1, Length: 1174, dtype: object"
     },
     "execution_count": 28,
     "metadata": {},
     "output_type": "execute_result"
    }
   ],
   "source": [
    "data['薪酬1']=data['薪酬'].str.extract(('(^\\d-\\d万)'))\n",
    "data['薪酬1']"
   ],
   "metadata": {
    "collapsed": false,
    "pycharm": {
     "name": "#%%\n"
    }
   }
  },
  {
   "cell_type": "code",
   "execution_count": 29,
   "outputs": [
    {
     "data": {
      "text/plain": "0           NaN\n1           NaN\n2           NaN\n3           NaN\n4           NaN\n         ...   \n1169        NaN\n1170    1-20000\n1171        NaN\n1172        NaN\n1173    3-40000\nName: 薪酬1, Length: 1174, dtype: object"
     },
     "execution_count": 29,
     "metadata": {},
     "output_type": "execute_result"
    }
   ],
   "source": [
    "data['薪酬1']=data['薪酬1'].str.replace('万','0000')\n",
    "data['薪酬1']"
   ],
   "metadata": {
    "collapsed": false,
    "pycharm": {
     "name": "#%%\n"
    }
   }
  },
  {
   "cell_type": "code",
   "execution_count": 30,
   "outputs": [],
   "source": [
    "data['薪酬1']=data['薪酬1'].str[0]+'0000'+'-'+data['薪酬1'].str[2:]"
   ],
   "metadata": {
    "collapsed": false,
    "pycharm": {
     "name": "#%%\n"
    }
   }
  },
  {
   "cell_type": "code",
   "execution_count": 31,
   "outputs": [
    {
     "data": {
      "text/plain": "10000-20000    73\n20000-30000    15\n30000-50000    11\n20000-40000     8\n30000-40000     6\n40000-70000     3\n30000-60000     2\n40000-60000     1\n40000-50000     1\nName: 薪酬1, dtype: int64"
     },
     "execution_count": 31,
     "metadata": {},
     "output_type": "execute_result"
    }
   ],
   "source": [
    "data['薪酬1'].value_counts()"
   ],
   "metadata": {
    "collapsed": false,
    "pycharm": {
     "name": "#%%\n"
    }
   }
  },
  {
   "cell_type": "code",
   "execution_count": 32,
   "outputs": [
    {
     "data": {
      "text/plain": "6-8千    50\n5-8千    31\n4-8千    30\n4-6千    20\n6-9千    15\n5-6千    12\n5-7千    11\n6-7千     8\n7-8千     8\n7-9千     8\n4-5千     7\n3-6千     6\n4-7千     4\n5-9千     4\n3-4千     2\n8-9千     2\ndtype: int64"
     },
     "execution_count": 32,
     "metadata": {},
     "output_type": "execute_result"
    }
   ],
   "source": [
    "data['薪酬'].str.extract(('(^\\d-\\d千)')).value_counts()"
   ],
   "metadata": {
    "collapsed": false,
    "pycharm": {
     "name": "#%%\n"
    }
   }
  },
  {
   "cell_type": "code",
   "execution_count": 33,
   "outputs": [],
   "source": [
    "data['薪酬2']=data['薪酬'].str.extract(('(^\\d-\\d千)'))\n",
    "data['薪酬2']=data['薪酬2'].str.replace('千','000')\n",
    "data['薪酬2']=data['薪酬2'].str[0]+'000'+'-'+data['薪酬2'].str[2:]"
   ],
   "metadata": {
    "collapsed": false,
    "pycharm": {
     "name": "#%%\n"
    }
   }
  },
  {
   "cell_type": "code",
   "execution_count": 34,
   "outputs": [
    {
     "data": {
      "text/plain": "0       NaN\n1       NaN\n2       NaN\n3       NaN\n4       NaN\n       ... \n1169    NaN\n1170    NaN\n1171    NaN\n1172    NaN\n1173    NaN\nName: 薪酬2, Length: 1174, dtype: object"
     },
     "execution_count": 34,
     "metadata": {},
     "output_type": "execute_result"
    }
   ],
   "source": [
    "data['薪酬2']"
   ],
   "metadata": {
    "collapsed": false,
    "pycharm": {
     "name": "#%%\n"
    }
   }
  },
  {
   "cell_type": "markdown",
   "source": [
    "2. 月薪 最低最高月薪都有小数点"
   ],
   "metadata": {
    "collapsed": false,
    "pycharm": {
     "name": "#%% md\n"
    }
   }
  },
  {
   "cell_type": "code",
   "execution_count": 35,
   "outputs": [
    {
     "data": {
      "text/plain": "3.5-4.5千    3\n4.5-7.5千    1\n4.5-8.5千    1\ndtype: int64"
     },
     "execution_count": 35,
     "metadata": {},
     "output_type": "execute_result"
    }
   ],
   "source": [
    "data['薪酬'].str.extract(('(^\\d.\\d-\\d.\\d[千])')).value_counts()"
   ],
   "metadata": {
    "collapsed": false,
    "pycharm": {
     "name": "#%%\n"
    }
   }
  },
  {
   "cell_type": "code",
   "execution_count": 36,
   "outputs": [
    {
     "name": "stderr",
     "output_type": "stream",
     "text": [
      "C:\\Users\\Administrator\\AppData\\Local\\Temp\\ipykernel_19188\\712542690.py:2: FutureWarning: The default value of regex will change from True to False in a future version. In addition, single character regular expressions will *not* be treated as literal strings when regex=True.\n",
      "  data['薪酬11']=data['薪酬11'].str.replace('千','').str.replace('.','')\n"
     ]
    }
   ],
   "source": [
    "data['薪酬11']=data['薪酬'].str.extract(('(^\\d.\\d-\\d.\\d[千])'))\n",
    "data['薪酬11']=data['薪酬11'].str.replace('千','').str.replace('.','')\n",
    "data['薪酬11']=data['薪酬11'].str[:2]+'00'+'-'+data['薪酬11'].str[3:]+'00'"
   ],
   "metadata": {
    "collapsed": false,
    "pycharm": {
     "name": "#%%\n"
    }
   }
  },
  {
   "cell_type": "code",
   "execution_count": 37,
   "outputs": [
    {
     "data": {
      "text/plain": "0             NaN\n1             NaN\n2       3500-4500\n3             NaN\n4             NaN\n          ...    \n1169          NaN\n1170          NaN\n1171          NaN\n1172          NaN\n1173          NaN\nName: 薪酬11, Length: 1174, dtype: object"
     },
     "execution_count": 37,
     "metadata": {},
     "output_type": "execute_result"
    }
   ],
   "source": [
    "data['薪酬11']"
   ],
   "metadata": {
    "collapsed": false,
    "pycharm": {
     "name": "#%%\n"
    }
   }
  },
  {
   "cell_type": "code",
   "execution_count": 38,
   "outputs": [
    {
     "data": {
      "text/plain": "1.5-2.5万    22\n1.8-2.5万    13\n1.2-1.5万     9\n1.2-1.8万     5\n1.5-1.8万     5\n1.2-1.6万     4\n1.2-2.4万     3\n1.5-2.3万     2\n1.2-2.2万     2\n1.6-2.5万     2\n1.6-2.2万     2\n1.1-1.5万     1\n1.7-2.2万     1\n1.5-2.8万     1\n1.4-2.5万     1\n1.5-1.9万     1\n1.5-1.6万     1\n1.1-2.2万     1\n1.3-2.6万     1\n1.3-2.5万     1\n1.3-1.7万     1\n1.2-1.4万     1\n2.5-2.8万     1\ndtype: int64"
     },
     "execution_count": 38,
     "metadata": {},
     "output_type": "execute_result"
    }
   ],
   "source": [
    "data['薪酬'].str.extract(('(^\\d.\\d-\\d.\\d[万])')).value_counts()"
   ],
   "metadata": {
    "collapsed": false,
    "pycharm": {
     "name": "#%%\n"
    }
   }
  },
  {
   "cell_type": "code",
   "execution_count": 39,
   "outputs": [
    {
     "name": "stderr",
     "output_type": "stream",
     "text": [
      "C:\\Users\\Administrator\\AppData\\Local\\Temp\\ipykernel_19188\\1293286263.py:2: FutureWarning: The default value of regex will change from True to False in a future version. In addition, single character regular expressions will *not* be treated as literal strings when regex=True.\n",
      "  data['薪酬3']=data['薪酬3'].str.replace('万','').str.replace('.','')\n"
     ]
    }
   ],
   "source": [
    "data['薪酬3']=data['薪酬'].str.extract(('(^\\d.\\d-\\d.\\d[万])'))\n",
    "data['薪酬3']=data['薪酬3'].str.replace('万','').str.replace('.','')\n",
    "data['薪酬3']=data['薪酬3'].str[:2]+'000'+'-'+data['薪酬3'].str[3:]+'000'"
   ],
   "metadata": {
    "collapsed": false,
    "pycharm": {
     "name": "#%%\n"
    }
   }
  },
  {
   "cell_type": "code",
   "execution_count": 40,
   "outputs": [
    {
     "data": {
      "text/plain": "0               NaN\n1               NaN\n2               NaN\n3               NaN\n4               NaN\n           ...     \n1169            NaN\n1170            NaN\n1171    18000-25000\n1172            NaN\n1173            NaN\nName: 薪酬3, Length: 1174, dtype: object"
     },
     "execution_count": 40,
     "metadata": {},
     "output_type": "execute_result"
    }
   ],
   "source": [
    "data['薪酬3']"
   ],
   "metadata": {
    "collapsed": false,
    "pycharm": {
     "name": "#%%\n"
    }
   }
  },
  {
   "cell_type": "markdown",
   "source": [
    "3. 月薪 最低月薪有小数点最高月薪没有小数点"
   ],
   "metadata": {
    "collapsed": false,
    "pycharm": {
     "name": "#%% md\n"
    }
   }
  },
  {
   "cell_type": "code",
   "execution_count": 41,
   "outputs": [
    {
     "data": {
      "text/plain": "0.8-1万    32\n1.5-2万    31\n1.5-3万    28\n1.2-2万    11\n4.5-6千     8\n3.5-7千     7\n2.5-5万     4\n3.5-6千     2\n3.5-4万     2\n2.5-4万     2\n2.5-3万     2\n1.8-2万     1\n1.6-3万     1\n1.6-2万     1\n1.4-2万     1\n1.3-2万     1\n4.5-7千     1\n5.5-8千     1\n6.4-8千     1\n6.5-7千     1\ndtype: int64"
     },
     "execution_count": 41,
     "metadata": {},
     "output_type": "execute_result"
    }
   ],
   "source": [
    "data['薪酬'].str.extract(('(^\\d.\\d-\\d+[万|千])')).value_counts()"
   ],
   "metadata": {
    "collapsed": false,
    "pycharm": {
     "name": "#%%\n"
    }
   }
  },
  {
   "cell_type": "code",
   "execution_count": 42,
   "outputs": [
    {
     "name": "stderr",
     "output_type": "stream",
     "text": [
      "C:\\Users\\Administrator\\AppData\\Local\\Temp\\ipykernel_19188\\1458125990.py:2: FutureWarning: The default value of regex will change from True to False in a future version. In addition, single character regular expressions will *not* be treated as literal strings when regex=True.\n",
      "  data['薪酬4']=data['薪酬4'].str.replace('千','000').str.replace('.','')\n"
     ]
    }
   ],
   "source": [
    "data['薪酬4']=data['薪酬'].str.extract(('(^\\d.\\d-\\d+[千])'))\n",
    "data['薪酬4']=data['薪酬4'].str.replace('千','000').str.replace('.','')\n",
    "data['薪酬4']=data['薪酬4'].str[:2]+'00'+'-'+data['薪酬4'].str[3:]"
   ],
   "metadata": {
    "collapsed": false,
    "pycharm": {
     "name": "#%%\n"
    }
   }
  },
  {
   "cell_type": "code",
   "execution_count": 43,
   "outputs": [
    {
     "data": {
      "text/plain": "4500-6000    8\n3500-7000    7\n3500-6000    2\n6400-8000    1\n5500-8000    1\n6500-7000    1\n4500-7000    1\nName: 薪酬4, dtype: int64"
     },
     "execution_count": 43,
     "metadata": {},
     "output_type": "execute_result"
    }
   ],
   "source": [
    "data['薪酬4'].value_counts()"
   ],
   "metadata": {
    "collapsed": false,
    "pycharm": {
     "name": "#%%\n"
    }
   }
  },
  {
   "cell_type": "code",
   "execution_count": 44,
   "outputs": [
    {
     "name": "stderr",
     "output_type": "stream",
     "text": [
      "C:\\Users\\Administrator\\AppData\\Local\\Temp\\ipykernel_19188\\337341264.py:2: FutureWarning: The default value of regex will change from True to False in a future version. In addition, single character regular expressions will *not* be treated as literal strings when regex=True.\n",
      "  data['薪酬9']=data['薪酬9'].str.replace('万','0000').str.replace('.','')\n"
     ]
    }
   ],
   "source": [
    "data['薪酬9']=data['薪酬'].str.extract(('(^\\d.\\d-\\d+[万])'))\n",
    "data['薪酬9']=data['薪酬9'].str.replace('万','0000').str.replace('.','')\n",
    "data['薪酬9']=data['薪酬9'].str[:2]+'000'+'-'+data['薪酬9'].str[3:]"
   ],
   "metadata": {
    "collapsed": false,
    "pycharm": {
     "name": "#%%\n"
    }
   }
  },
  {
   "cell_type": "code",
   "execution_count": 45,
   "outputs": [
    {
     "data": {
      "text/plain": "08000-10000    32\n15000-20000    31\n15000-30000    28\n12000-20000    11\n25000-50000     4\n25000-30000     2\n25000-40000     2\n35000-40000     2\n18000-20000     1\n16000-30000     1\n14000-20000     1\n16000-20000     1\n13000-20000     1\nName: 薪酬9, dtype: int64"
     },
     "execution_count": 45,
     "metadata": {},
     "output_type": "execute_result"
    }
   ],
   "source": [
    "data['薪酬9'].value_counts()"
   ],
   "metadata": {
    "collapsed": false,
    "pycharm": {
     "name": "#%%\n"
    }
   }
  },
  {
   "cell_type": "markdown",
   "source": [
    "4. 月薪 最低月薪没有小数点最高月薪有小数点"
   ],
   "metadata": {
    "collapsed": false,
    "pycharm": {
     "name": "#%% md\n"
    }
   }
  },
  {
   "cell_type": "code",
   "execution_count": 46,
   "outputs": [
    {
     "data": {
      "text/plain": "1-1.5万     86\n1-1.2万     10\n1-1.6万     10\n2-2.5万     10\n2-3.5万      6\n1-1.8万      5\n3-3.5万      4\n50-100万     4\n6-7.5千      3\n1-1.4万      2\n1-1.3万      2\n5-8.5千      1\n8-8.5千      1\n6-6.5千      1\n3-3.3万      1\n5-5.5千      1\n3-4.5千      1\n2-2.8万      1\n2-2.7万      1\n80-100万     1\ndtype: int64"
     },
     "execution_count": 46,
     "metadata": {},
     "output_type": "execute_result"
    }
   ],
   "source": [
    "data['薪酬'].str.extract(('(^\\d+-\\d.\\d[万|千])')).value_counts()"
   ],
   "metadata": {
    "collapsed": false,
    "pycharm": {
     "name": "#%%\n"
    }
   }
  },
  {
   "cell_type": "code",
   "execution_count": 47,
   "outputs": [
    {
     "name": "stderr",
     "output_type": "stream",
     "text": [
      "C:\\Users\\Administrator\\AppData\\Local\\Temp\\ipykernel_19188\\981881271.py:2: FutureWarning: The default value of regex will change from True to False in a future version. In addition, single character regular expressions will *not* be treated as literal strings when regex=True.\n",
      "  data['薪酬5']=data['薪酬5'].str.replace('千','00').str.replace('.','')\n"
     ]
    }
   ],
   "source": [
    "data['薪酬5']=data['薪酬'].str.extract(('(^\\d+-\\d.\\d[千])'))\n",
    "data['薪酬5']=data['薪酬5'].str.replace('千','00').str.replace('.','')\n",
    "data['薪酬5']=data['薪酬5'].str[0]+'000'+'-'+data['薪酬5'].str[2:]"
   ],
   "metadata": {
    "collapsed": false,
    "pycharm": {
     "name": "#%%\n"
    }
   }
  },
  {
   "cell_type": "code",
   "execution_count": 48,
   "outputs": [
    {
     "data": {
      "text/plain": "6000-7500    3\n8000-8500    1\n6000-6500    1\n5000-5500    1\n5000-8500    1\n3000-4500    1\nName: 薪酬5, dtype: int64"
     },
     "execution_count": 48,
     "metadata": {},
     "output_type": "execute_result"
    }
   ],
   "source": [
    "data['薪酬5'].value_counts()"
   ],
   "metadata": {
    "collapsed": false,
    "pycharm": {
     "name": "#%%\n"
    }
   }
  },
  {
   "cell_type": "code",
   "execution_count": 49,
   "outputs": [
    {
     "name": "stderr",
     "output_type": "stream",
     "text": [
      "C:\\Users\\Administrator\\AppData\\Local\\Temp\\ipykernel_19188\\4087412332.py:3: FutureWarning: The default value of regex will change from True to False in a future version. In addition, single character regular expressions will *not* be treated as literal strings when regex=True.\n",
      "  data['薪酬10'] = data['薪酬10'].str.replace('万', '000').str.replace('.', '')\n"
     ]
    }
   ],
   "source": [
    "data['薪酬'].str.extract(('(^\\d+-\\d.\\d[万])')).value_counts()\n",
    "data['薪酬10'] = data['薪酬'].str.extract(('(^\\d+-\\d.\\d[万])'))\n",
    "data['薪酬10'] = data['薪酬10'].str.replace('万', '000').str.replace('.', '')\n",
    "data['薪酬10'] = data['薪酬10'].str[0] + '0000' + '-' + data['薪酬10'].str[2:]"
   ],
   "metadata": {
    "collapsed": false,
    "pycharm": {
     "name": "#%%\n"
    }
   }
  },
  {
   "cell_type": "code",
   "execution_count": 50,
   "outputs": [
    {
     "data": {
      "text/plain": "10000-15000      86\n10000-12000      10\n10000-16000      10\n20000-25000      10\n20000-35000       6\n10000-18000       5\n30000-35000       4\n50000--100000     4\n10000-14000       2\n10000-13000       2\n20000-28000       1\n80000--100000     1\n20000-27000       1\n30000-33000       1\nName: 薪酬10, dtype: int64"
     },
     "execution_count": 50,
     "metadata": {},
     "output_type": "execute_result"
    }
   ],
   "source": [
    "data['薪酬10'].value_counts()"
   ],
   "metadata": {
    "collapsed": false,
    "pycharm": {
     "name": "#%%\n"
    }
   }
  },
  {
   "cell_type": "markdown",
   "source": [
    "5. 最低最高月薪都带单位\n",
    "月薪 最低最高月薪都没有小数点"
   ],
   "metadata": {
    "collapsed": false,
    "pycharm": {
     "name": "#%% md\n"
    }
   }
  },
  {
   "cell_type": "code",
   "execution_count": 51,
   "outputs": [
    {
     "data": {
      "text/plain": "Series([], dtype: int64)"
     },
     "execution_count": 51,
     "metadata": {},
     "output_type": "execute_result"
    }
   ],
   "source": [
    "data['薪酬'].str.extract(('(^\\d[千]-\\d[千])')).value_counts()"
   ],
   "metadata": {
    "collapsed": false,
    "pycharm": {
     "name": "#%%\n"
    }
   }
  },
  {
   "cell_type": "code",
   "execution_count": 52,
   "outputs": [
    {
     "data": {
      "text/plain": "Series([], dtype: int64)"
     },
     "execution_count": 52,
     "metadata": {},
     "output_type": "execute_result"
    }
   ],
   "source": [
    "data['薪酬'].str.extract(('(^\\d[万]-\\d[万])')).value_counts()"
   ],
   "metadata": {
    "collapsed": false,
    "pycharm": {
     "name": "#%%\n"
    }
   }
  },
  {
   "cell_type": "code",
   "execution_count": 53,
   "outputs": [
    {
     "data": {
      "text/plain": "5千-1万    41\n6千-1万    32\n8千-1万    27\n7千-1万    17\n9千-1万     1\ndtype: int64"
     },
     "execution_count": 53,
     "metadata": {},
     "output_type": "execute_result"
    }
   ],
   "source": [
    "data['薪酬'].str.extract(('(^\\d[万|千]-\\d[万|千])')).value_counts()"
   ],
   "metadata": {
    "collapsed": false,
    "pycharm": {
     "name": "#%%\n"
    }
   }
  },
  {
   "cell_type": "code",
   "execution_count": 54,
   "outputs": [],
   "source": [
    "data['薪酬6']=data['薪酬'].str.extract(('(^\\d[万|千]-\\d[万|千])'))\n",
    "data['薪酬6']=data['薪酬6'].str.replace('万','0000').str.replace('千','000')"
   ],
   "metadata": {
    "collapsed": false,
    "pycharm": {
     "name": "#%%\n"
    }
   }
  },
  {
   "cell_type": "code",
   "execution_count": 55,
   "outputs": [
    {
     "data": {
      "text/plain": "0       6000-10000\n1       5000-10000\n2              NaN\n3              NaN\n4              NaN\n           ...    \n1169           NaN\n1170           NaN\n1171           NaN\n1172           NaN\n1173           NaN\nName: 薪酬6, Length: 1174, dtype: object"
     },
     "execution_count": 55,
     "metadata": {},
     "output_type": "execute_result"
    }
   ],
   "source": [
    "data['薪酬6']"
   ],
   "metadata": {
    "collapsed": false,
    "pycharm": {
     "name": "#%%\n"
    }
   }
  },
  {
   "cell_type": "markdown",
   "source": [
    "6. 月薪 最低最高月薪都有小数点(没有这种情况)"
   ],
   "metadata": {
    "collapsed": false,
    "pycharm": {
     "name": "#%% md\n"
    }
   }
  },
  {
   "cell_type": "code",
   "execution_count": 56,
   "outputs": [
    {
     "data": {
      "text/plain": "7.5千-1.3万    3\n7.5千-1.5万    3\n6.5千-1.2万    1\n7.5千-1.2万    1\n8.3千-1.3万    1\n8.5千-1.1万    1\n8.5千-1.5万    1\ndtype: int64"
     },
     "execution_count": 56,
     "metadata": {},
     "output_type": "execute_result"
    }
   ],
   "source": [
    "data['薪酬'].str.extract(('(^\\d.\\d[万|千]-\\d.\\d[万|千])')).value_counts()"
   ],
   "metadata": {
    "collapsed": false,
    "pycharm": {
     "name": "#%%\n"
    }
   }
  },
  {
   "cell_type": "code",
   "execution_count": 57,
   "outputs": [
    {
     "name": "stderr",
     "output_type": "stream",
     "text": [
      "C:\\Users\\Administrator\\AppData\\Local\\Temp\\ipykernel_19188\\1918584178.py:2: FutureWarning: The default value of regex will change from True to False in a future version. In addition, single character regular expressions will *not* be treated as literal strings when regex=True.\n",
      "  data['薪酬7']=data['薪酬7'].str.replace('万','000').str.replace('.','')\n",
      "C:\\Users\\Administrator\\AppData\\Local\\Temp\\ipykernel_19188\\1918584178.py:3: FutureWarning: The default value of regex will change from True to False in a future version. In addition, single character regular expressions will *not* be treated as literal strings when regex=True.\n",
      "  data['薪酬7']=data['薪酬7'].str.replace('千','00').str.replace('.','')\n"
     ]
    }
   ],
   "source": [
    "data['薪酬7']=data['薪酬'].str.extract(('(^\\d.\\d[万|千]-\\d.\\d[万|千])'))\n",
    "data['薪酬7']=data['薪酬7'].str.replace('万','000').str.replace('.','')\n",
    "data['薪酬7']=data['薪酬7'].str.replace('千','00').str.replace('.','')"
   ],
   "metadata": {
    "collapsed": false,
    "pycharm": {
     "name": "#%%\n"
    }
   }
  },
  {
   "cell_type": "code",
   "execution_count": 58,
   "outputs": [
    {
     "data": {
      "text/plain": "7500-13000    3\n7500-15000    3\n8500-11000    1\n8500-15000    1\n7500-12000    1\n8300-13000    1\n6500-12000    1\nName: 薪酬7, dtype: int64"
     },
     "execution_count": 58,
     "metadata": {},
     "output_type": "execute_result"
    }
   ],
   "source": [
    "data['薪酬7'].value_counts()"
   ],
   "metadata": {
    "collapsed": false,
    "pycharm": {
     "name": "#%%\n"
    }
   }
  },
  {
   "cell_type": "markdown",
   "source": [
    "7. 月薪 最低月薪有小数点最高月薪没有小数点"
   ],
   "metadata": {
    "collapsed": false,
    "pycharm": {
     "name": "#%% md\n"
    }
   }
  },
  {
   "cell_type": "code",
   "execution_count": 59,
   "outputs": [
    {
     "data": {
      "text/plain": "5.5千-1万    1\ndtype: int64"
     },
     "execution_count": 59,
     "metadata": {},
     "output_type": "execute_result"
    }
   ],
   "source": [
    "data['薪酬'].str.extract(('(^\\d.\\d[万|千]-\\d+[万|千])')).value_counts()"
   ],
   "metadata": {
    "collapsed": false,
    "pycharm": {
     "name": "#%%\n"
    }
   }
  },
  {
   "cell_type": "code",
   "execution_count": 60,
   "outputs": [
    {
     "name": "stderr",
     "output_type": "stream",
     "text": [
      "C:\\Users\\Administrator\\AppData\\Local\\Temp\\ipykernel_19188\\2551071522.py:3: FutureWarning: The default value of regex will change from True to False in a future version. In addition, single character regular expressions will *not* be treated as literal strings when regex=True.\n",
      "  data['薪酬12']=data['薪酬12'].str.replace('千','00').str.replace('.','')\n"
     ]
    }
   ],
   "source": [
    "data['薪酬12']=data['薪酬'].str.extract(('(^\\d.\\d[万|千]-\\d+[万|千])'))\n",
    "data['薪酬12']=data['薪酬12'].str.replace('万','0000')\n",
    "data['薪酬12']=data['薪酬12'].str.replace('千','00').str.replace('.','')"
   ],
   "metadata": {
    "collapsed": false,
    "pycharm": {
     "name": "#%%\n"
    }
   }
  },
  {
   "cell_type": "code",
   "execution_count": 61,
   "outputs": [
    {
     "data": {
      "text/plain": "0       NaN\n1       NaN\n2       NaN\n3       NaN\n4       NaN\n       ... \n1169    NaN\n1170    NaN\n1171    NaN\n1172    NaN\n1173    NaN\nName: 薪酬12, Length: 1174, dtype: object"
     },
     "execution_count": 61,
     "metadata": {},
     "output_type": "execute_result"
    }
   ],
   "source": [
    "data['薪酬12']"
   ],
   "metadata": {
    "collapsed": false,
    "pycharm": {
     "name": "#%%\n"
    }
   }
  },
  {
   "cell_type": "markdown",
   "source": [
    "8. 月薪 最低月薪有小数点最高月薪没有小数点"
   ],
   "metadata": {
    "collapsed": false,
    "pycharm": {
     "name": "#%% md\n"
    }
   }
  },
  {
   "cell_type": "code",
   "execution_count": 62,
   "outputs": [
    {
     "data": {
      "text/plain": "8千-1.5万    59\n8千-1.2万    42\n6千-1.2万    41\n8千-1.6万    17\n7千-1.4万    10\n7千-1.2万     7\n9千-1.5万     6\n9千-1.2万     6\n7千-1.3万     5\n6千-1.1万     4\n8千-1.3万     4\n9千-1.6万     3\n8千-1.1万     2\n9千-1.3万     2\n9千-1.4万     2\n9千-1.8万     2\n7千-1.1万     1\ndtype: int64"
     },
     "execution_count": 62,
     "metadata": {},
     "output_type": "execute_result"
    }
   ],
   "source": [
    "data['薪酬'].str.extract(('(^\\d+[万|千]-\\d.\\d[万|千])')).value_counts()"
   ],
   "metadata": {
    "collapsed": false,
    "pycharm": {
     "name": "#%%\n"
    }
   }
  },
  {
   "cell_type": "code",
   "execution_count": 63,
   "outputs": [
    {
     "name": "stderr",
     "output_type": "stream",
     "text": [
      "C:\\Users\\Administrator\\AppData\\Local\\Temp\\ipykernel_19188\\1762529826.py:2: FutureWarning: The default value of regex will change from True to False in a future version. In addition, single character regular expressions will *not* be treated as literal strings when regex=True.\n",
      "  data['薪酬8']=data['薪酬8'].str.replace('万','000').str.replace('千','000').str.replace('.','')\n"
     ]
    }
   ],
   "source": [
    "data['薪酬8']=data['薪酬'].str.extract(('(^\\d+[万|千]-\\d.\\d[万|千])'))\n",
    "data['薪酬8']=data['薪酬8'].str.replace('万','000').str.replace('千','000').str.replace('.','')"
   ],
   "metadata": {
    "collapsed": false,
    "pycharm": {
     "name": "#%%\n"
    }
   }
  },
  {
   "cell_type": "code",
   "execution_count": 64,
   "outputs": [
    {
     "data": {
      "text/plain": "8000-15000    59\n8000-12000    42\n6000-12000    41\n8000-16000    17\n7000-14000    10\n7000-12000     7\n9000-12000     6\n9000-15000     6\n7000-13000     5\n6000-11000     4\n8000-13000     4\n9000-16000     3\n8000-11000     2\n9000-13000     2\n9000-14000     2\n9000-18000     2\n7000-11000     1\nName: 薪酬8, dtype: int64"
     },
     "execution_count": 64,
     "metadata": {},
     "output_type": "execute_result"
    }
   ],
   "source": [
    "data['薪酬8'].value_counts()"
   ],
   "metadata": {
    "collapsed": false,
    "pycharm": {
     "name": "#%%\n"
    }
   }
  },
  {
   "cell_type": "code",
   "execution_count": 65,
   "outputs": [],
   "source": [
    "data['薪酬_n']=data['薪酬1'].combine_first(data['薪酬2']).combine_first(data['薪酬3']).combine_first(data['薪酬4']).combine_first(data['薪酬5']).combine_first(data['薪酬6']).combine_first(data['薪酬7']).combine_first(data['薪酬8']).combine_first(data['薪酬9']).combine_first(data['薪酬10']).combine_first(data['薪酬11']).combine_first(data['薪酬12'])"
   ],
   "metadata": {
    "collapsed": false,
    "pycharm": {
     "name": "#%%\n"
    }
   }
  },
  {
   "cell_type": "code",
   "execution_count": 66,
   "outputs": [],
   "source": [
    "data['薪酬_n']=data['薪酬_n'].astype('str')"
   ],
   "metadata": {
    "collapsed": false,
    "pycharm": {
     "name": "#%%\n"
    }
   }
  },
  {
   "cell_type": "code",
   "execution_count": 67,
   "outputs": [],
   "source": [
    "# data['月薪最小值']=data['薪酬'].str.findall('(.*?)-').astype('str')\n",
    "data['月薪最小值']=data['薪酬_n'].str.findall('(.*?)-').astype('str').str[2:-2]"
   ],
   "metadata": {
    "collapsed": false,
    "pycharm": {
     "name": "#%%\n"
    }
   }
  },
  {
   "cell_type": "code",
   "execution_count": 68,
   "outputs": [],
   "source": [
    "data['月薪最大值']=data['薪酬_n'].str.findall('-(\\d+)').astype('str').str[2:-2]"
   ],
   "metadata": {
    "collapsed": false,
    "pycharm": {
     "name": "#%%\n"
    }
   }
  },
  {
   "cell_type": "code",
   "execution_count": 69,
   "outputs": [],
   "source": [
    "data1=data.drop(['薪酬1', '薪酬2', '薪酬3', '薪酬4','薪酬5','薪酬6','薪酬7','薪酬8','薪酬9','薪酬10','薪酬11','薪酬12'],axis=1)"
   ],
   "metadata": {
    "collapsed": false,
    "pycharm": {
     "name": "#%%\n"
    }
   }
  },
  {
   "cell_type": "code",
   "execution_count": 70,
   "outputs": [
    {
     "data": {
      "text/plain": "       职位名称            公司名称        薪酬          城市地区 学历要求 工作经验要求  \\\n0      营销助理  伯锦船舶科技（上海）有限公司     6千-1万       上海·浦东新区   大专     1年   \n1    市场营销专员      中国外运长江有限公司     5千-1万        无锡·江阴市   本科   无需经验   \n2    营销策划专员  富民乡村宝贝农业开发有限公司  3.5-4.5千            昆明   大专     2年   \n3      营销经理  天诚（中国）科技发展有限公司    1-1.2万  西安·高新技术产业开发区   大专   3-4年   \n4  市场渠道营销专员    广东中铭信息科技有限公司   6千-1.2万        湛江·霞山区   大专   无需经验   \n\n                                                公司福利        公司标签  职位描述或任职要求  \\\n0  五险一金\\n交通补贴\\n通讯补贴\\n绩效奖金\\n周末双休\\nppt\\n微信公众号\\n视频号\\...       学术/科研        NaN   \n1                                                NaN    交通/运输/物流        NaN   \n2                                                NaN     农/林/牧/渔        NaN   \n3       销售管理\\n营销策略\\n营销策划\\n营销宣传\\n绩效奖金\\n节日福利\\n五险\\n生日福利       计算机软件        NaN   \n4  信用卡\\n个贷\\n车贷\\n房贷\\n市场营销\\n营销\\n拓展专员\\n渠道营销\\n五险一金\\n交...  通信/电信/网络设备        NaN   \n\n   Unnamed: 9               规模类型  地区  *n薪         薪酬_n  月薪最小值  月薪最大值 最低年薪 最高年薪  \n0         NaN       民营  |  少于50人  上海  NaN   6000-10000   6000  10000  NaN  NaN  \n1         NaN  国企  |  1000-5000人  无锡  NaN   5000-10000   5000  10000  NaN  NaN  \n2         NaN     民营  |  50-150人  昆明  NaN    3500-4500   3500   4500  NaN  NaN  \n3         NaN               民营    西安  NaN  10000-12000  10000  12000  NaN  NaN  \n4         NaN       民营  |  少于50人  湛江  NaN   6000-12000   6000  12000  NaN  NaN  ",
      "text/html": "<div>\n<style scoped>\n    .dataframe tbody tr th:only-of-type {\n        vertical-align: middle;\n    }\n\n    .dataframe tbody tr th {\n        vertical-align: top;\n    }\n\n    .dataframe thead th {\n        text-align: right;\n    }\n</style>\n<table border=\"1\" class=\"dataframe\">\n  <thead>\n    <tr style=\"text-align: right;\">\n      <th></th>\n      <th>职位名称</th>\n      <th>公司名称</th>\n      <th>薪酬</th>\n      <th>城市地区</th>\n      <th>学历要求</th>\n      <th>工作经验要求</th>\n      <th>公司福利</th>\n      <th>公司标签</th>\n      <th>职位描述或任职要求</th>\n      <th>Unnamed: 9</th>\n      <th>规模类型</th>\n      <th>地区</th>\n      <th>*n薪</th>\n      <th>薪酬_n</th>\n      <th>月薪最小值</th>\n      <th>月薪最大值</th>\n      <th>最低年薪</th>\n      <th>最高年薪</th>\n    </tr>\n  </thead>\n  <tbody>\n    <tr>\n      <th>0</th>\n      <td>营销助理</td>\n      <td>伯锦船舶科技（上海）有限公司</td>\n      <td>6千-1万</td>\n      <td>上海·浦东新区</td>\n      <td>大专</td>\n      <td>1年</td>\n      <td>五险一金\\n交通补贴\\n通讯补贴\\n绩效奖金\\n周末双休\\nppt\\n微信公众号\\n视频号\\...</td>\n      <td>学术/科研</td>\n      <td>NaN</td>\n      <td>NaN</td>\n      <td>民营  |  少于50人</td>\n      <td>上海</td>\n      <td>NaN</td>\n      <td>6000-10000</td>\n      <td>6000</td>\n      <td>10000</td>\n      <td>NaN</td>\n      <td>NaN</td>\n    </tr>\n    <tr>\n      <th>1</th>\n      <td>市场营销专员</td>\n      <td>中国外运长江有限公司</td>\n      <td>5千-1万</td>\n      <td>无锡·江阴市</td>\n      <td>本科</td>\n      <td>无需经验</td>\n      <td>NaN</td>\n      <td>交通/运输/物流</td>\n      <td>NaN</td>\n      <td>NaN</td>\n      <td>国企  |  1000-5000人</td>\n      <td>无锡</td>\n      <td>NaN</td>\n      <td>5000-10000</td>\n      <td>5000</td>\n      <td>10000</td>\n      <td>NaN</td>\n      <td>NaN</td>\n    </tr>\n    <tr>\n      <th>2</th>\n      <td>营销策划专员</td>\n      <td>富民乡村宝贝农业开发有限公司</td>\n      <td>3.5-4.5千</td>\n      <td>昆明</td>\n      <td>大专</td>\n      <td>2年</td>\n      <td>NaN</td>\n      <td>农/林/牧/渔</td>\n      <td>NaN</td>\n      <td>NaN</td>\n      <td>民营  |  50-150人</td>\n      <td>昆明</td>\n      <td>NaN</td>\n      <td>3500-4500</td>\n      <td>3500</td>\n      <td>4500</td>\n      <td>NaN</td>\n      <td>NaN</td>\n    </tr>\n    <tr>\n      <th>3</th>\n      <td>营销经理</td>\n      <td>天诚（中国）科技发展有限公司</td>\n      <td>1-1.2万</td>\n      <td>西安·高新技术产业开发区</td>\n      <td>大专</td>\n      <td>3-4年</td>\n      <td>销售管理\\n营销策略\\n营销策划\\n营销宣传\\n绩效奖金\\n节日福利\\n五险\\n生日福利</td>\n      <td>计算机软件</td>\n      <td>NaN</td>\n      <td>NaN</td>\n      <td>民营</td>\n      <td>西安</td>\n      <td>NaN</td>\n      <td>10000-12000</td>\n      <td>10000</td>\n      <td>12000</td>\n      <td>NaN</td>\n      <td>NaN</td>\n    </tr>\n    <tr>\n      <th>4</th>\n      <td>市场渠道营销专员</td>\n      <td>广东中铭信息科技有限公司</td>\n      <td>6千-1.2万</td>\n      <td>湛江·霞山区</td>\n      <td>大专</td>\n      <td>无需经验</td>\n      <td>信用卡\\n个贷\\n车贷\\n房贷\\n市场营销\\n营销\\n拓展专员\\n渠道营销\\n五险一金\\n交...</td>\n      <td>通信/电信/网络设备</td>\n      <td>NaN</td>\n      <td>NaN</td>\n      <td>民营  |  少于50人</td>\n      <td>湛江</td>\n      <td>NaN</td>\n      <td>6000-12000</td>\n      <td>6000</td>\n      <td>12000</td>\n      <td>NaN</td>\n      <td>NaN</td>\n    </tr>\n  </tbody>\n</table>\n</div>"
     },
     "execution_count": 70,
     "metadata": {},
     "output_type": "execute_result"
    }
   ],
   "source": [
    "data1.head()"
   ],
   "metadata": {
    "collapsed": false,
    "pycharm": {
     "name": "#%%\n"
    }
   }
  },
  {
   "cell_type": "code",
   "execution_count": 71,
   "outputs": [],
   "source": [
    "fd = pd.DataFrame(data1)\n",
    "fd.to_csv('营销-1-clean.csv',header = True,index=0)"
   ],
   "metadata": {
    "collapsed": false,
    "pycharm": {
     "name": "#%%\n"
    }
   }
  },
  {
   "cell_type": "code",
   "execution_count": 156,
   "outputs": [
    {
     "name": "stderr",
     "output_type": "stream",
     "text": [
      "C:\\Users\\Administrator\\AppData\\Local\\Temp\\ipykernel_19648\\2111348984.py:2: SettingWithCopyWarning: \n",
      "A value is trying to be set on a copy of a slice from a DataFrame\n",
      "\n",
      "See the caveats in the documentation: https://pandas.pydata.org/pandas-docs/stable/user_guide/indexing.html#returning-a-view-versus-a-copy\n",
      "  data2.dropna(how='any', inplace=True)\n"
     ]
    },
    {
     "data": {
      "text/plain": "      月薪最小值  月薪最大值   工作经验要求\n0      6000   8000     2年经验\n1                      2年经验\n4     13000  17000   5-7年经验\n5     15000  16000   5-7年经验\n6                    5-7年经验\n...     ...    ...      ...\n1549                10年以上经验\n1550                 5-7年经验\n1551                 3-4年经验\n1552                 3-4年经验\n1553                 5-7年经验\n\n[1192 rows x 3 columns]",
      "text/html": "<div>\n<style scoped>\n    .dataframe tbody tr th:only-of-type {\n        vertical-align: middle;\n    }\n\n    .dataframe tbody tr th {\n        vertical-align: top;\n    }\n\n    .dataframe thead th {\n        text-align: right;\n    }\n</style>\n<table border=\"1\" class=\"dataframe\">\n  <thead>\n    <tr style=\"text-align: right;\">\n      <th></th>\n      <th>月薪最小值</th>\n      <th>月薪最大值</th>\n      <th>工作经验要求</th>\n    </tr>\n  </thead>\n  <tbody>\n    <tr>\n      <th>0</th>\n      <td>6000</td>\n      <td>8000</td>\n      <td>2年经验</td>\n    </tr>\n    <tr>\n      <th>1</th>\n      <td></td>\n      <td></td>\n      <td>2年经验</td>\n    </tr>\n    <tr>\n      <th>4</th>\n      <td>13000</td>\n      <td>17000</td>\n      <td>5-7年经验</td>\n    </tr>\n    <tr>\n      <th>5</th>\n      <td>15000</td>\n      <td>16000</td>\n      <td>5-7年经验</td>\n    </tr>\n    <tr>\n      <th>6</th>\n      <td></td>\n      <td></td>\n      <td>5-7年经验</td>\n    </tr>\n    <tr>\n      <th>...</th>\n      <td>...</td>\n      <td>...</td>\n      <td>...</td>\n    </tr>\n    <tr>\n      <th>1549</th>\n      <td></td>\n      <td></td>\n      <td>10年以上经验</td>\n    </tr>\n    <tr>\n      <th>1550</th>\n      <td></td>\n      <td></td>\n      <td>5-7年经验</td>\n    </tr>\n    <tr>\n      <th>1551</th>\n      <td></td>\n      <td></td>\n      <td>3-4年经验</td>\n    </tr>\n    <tr>\n      <th>1552</th>\n      <td></td>\n      <td></td>\n      <td>3-4年经验</td>\n    </tr>\n    <tr>\n      <th>1553</th>\n      <td></td>\n      <td></td>\n      <td>5-7年经验</td>\n    </tr>\n  </tbody>\n</table>\n<p>1192 rows × 3 columns</p>\n</div>"
     },
     "execution_count": 156,
     "metadata": {},
     "output_type": "execute_result"
    }
   ],
   "source": [
    "data2 = data1[['月薪最小值', '月薪最大值','工作经验要求']]\n",
    "data2.dropna(how='any', inplace=True)\n",
    "data2.replace('None',np.NaN)  # 2种方法都没有用，不是空值\n",
    "data2\n",
    "# data2.iloc[2,:]\n",
    "# data2.isnull().sum()"
   ],
   "metadata": {
    "collapsed": false,
    "pycharm": {
     "name": "#%%\n"
    }
   }
  },
  {
   "cell_type": "code",
   "execution_count": 64,
   "outputs": [],
   "source": [
    "# for i in data2['月薪最小值']:\n",
    "#     if len(i)<4:\n",
    "#         print(i.index)\n",
    "\n",
    "#\n",
    "# for j in data2['月薪最大值']:\n",
    "#     j.strip()\n",
    "#     j.strip(\"\\n\")\n",
    "#     j.strip(\"\\t\")\n",
    "#     j.strip(\"\\\"\")\n",
    "#     j = [float(x) for x in j]\n"
   ],
   "metadata": {
    "collapsed": false,
    "pycharm": {
     "name": "#%%\n"
    }
   }
  },
  {
   "cell_type": "code",
   "execution_count": 65,
   "outputs": [
    {
     "name": "stderr",
     "output_type": "stream",
     "text": [
      "C:\\Users\\Administrator\\AppData\\Local\\Temp\\ipykernel_19648\\2099506960.py:1: SettingWithCopyWarning: \n",
      "A value is trying to be set on a copy of a slice from a DataFrame\n",
      "\n",
      "See the caveats in the documentation: https://pandas.pydata.org/pandas-docs/stable/user_guide/indexing.html#returning-a-view-versus-a-copy\n",
      "  data2.drop(index=74, axis=0, inplace=True)\n",
      "C:\\Users\\Administrator\\AppData\\Local\\Temp\\ipykernel_19648\\2099506960.py:2: SettingWithCopyWarning: \n",
      "A value is trying to be set on a copy of a slice from a DataFrame\n",
      "\n",
      "See the caveats in the documentation: https://pandas.pydata.org/pandas-docs/stable/user_guide/indexing.html#returning-a-view-versus-a-copy\n",
      "  data2.drop(index=85, axis=0, inplace=True)\n"
     ]
    },
    {
     "ename": "KeyError",
     "evalue": "'[92] not found in axis'",
     "output_type": "error",
     "traceback": [
      "\u001B[1;31m---------------------------------------------------------------------------\u001B[0m",
      "\u001B[1;31mKeyError\u001B[0m                                  Traceback (most recent call last)",
      "Cell \u001B[1;32mIn [65], line 3\u001B[0m\n\u001B[0;32m      1\u001B[0m data2\u001B[38;5;241m.\u001B[39mdrop(index\u001B[38;5;241m=\u001B[39m\u001B[38;5;241m74\u001B[39m, axis\u001B[38;5;241m=\u001B[39m\u001B[38;5;241m0\u001B[39m, inplace\u001B[38;5;241m=\u001B[39m\u001B[38;5;28;01mTrue\u001B[39;00m)\n\u001B[0;32m      2\u001B[0m data2\u001B[38;5;241m.\u001B[39mdrop(index\u001B[38;5;241m=\u001B[39m\u001B[38;5;241m85\u001B[39m, axis\u001B[38;5;241m=\u001B[39m\u001B[38;5;241m0\u001B[39m, inplace\u001B[38;5;241m=\u001B[39m\u001B[38;5;28;01mTrue\u001B[39;00m)\n\u001B[1;32m----> 3\u001B[0m data2\u001B[38;5;241m.\u001B[39mdrop(index\u001B[38;5;241m=\u001B[39m\u001B[38;5;241m92\u001B[39m, axis\u001B[38;5;241m=\u001B[39m\u001B[38;5;241m0\u001B[39m, inplace\u001B[38;5;241m=\u001B[39m\u001B[38;5;28;01mTrue\u001B[39;00m)\n\u001B[0;32m      4\u001B[0m data2\u001B[38;5;241m.\u001B[39mdrop(index\u001B[38;5;241m=\u001B[39m\u001B[38;5;241m137\u001B[39m, axis\u001B[38;5;241m=\u001B[39m\u001B[38;5;241m0\u001B[39m, inplace\u001B[38;5;241m=\u001B[39m\u001B[38;5;28;01mTrue\u001B[39;00m)\n\u001B[0;32m      5\u001B[0m data2\u001B[38;5;241m.\u001B[39mdrop(index\u001B[38;5;241m=\u001B[39m\u001B[38;5;241m142\u001B[39m, axis\u001B[38;5;241m=\u001B[39m\u001B[38;5;241m0\u001B[39m, inplace\u001B[38;5;241m=\u001B[39m\u001B[38;5;28;01mTrue\u001B[39;00m)\n",
      "File \u001B[1;32mD:\\DL_Homework\\Kaggle2_Titanic\\Project_Titanic\\venv\\lib\\site-packages\\pandas\\util\\_decorators.py:317\u001B[0m, in \u001B[0;36mdeprecate_nonkeyword_arguments.<locals>.decorate.<locals>.wrapper\u001B[1;34m(*args, **kwargs)\u001B[0m\n\u001B[0;32m    311\u001B[0m \u001B[38;5;28;01mif\u001B[39;00m \u001B[38;5;28mlen\u001B[39m(args) \u001B[38;5;241m>\u001B[39m num_allow_args:\n\u001B[0;32m    312\u001B[0m     warnings\u001B[38;5;241m.\u001B[39mwarn(\n\u001B[0;32m    313\u001B[0m         msg\u001B[38;5;241m.\u001B[39mformat(arguments\u001B[38;5;241m=\u001B[39marguments),\n\u001B[0;32m    314\u001B[0m         \u001B[38;5;167;01mFutureWarning\u001B[39;00m,\n\u001B[0;32m    315\u001B[0m         stacklevel\u001B[38;5;241m=\u001B[39mfind_stack_level(inspect\u001B[38;5;241m.\u001B[39mcurrentframe()),\n\u001B[0;32m    316\u001B[0m     )\n\u001B[1;32m--> 317\u001B[0m \u001B[38;5;28;01mreturn\u001B[39;00m func(\u001B[38;5;241m*\u001B[39margs, \u001B[38;5;241m*\u001B[39m\u001B[38;5;241m*\u001B[39mkwargs)\n",
      "File \u001B[1;32mD:\\DL_Homework\\Kaggle2_Titanic\\Project_Titanic\\venv\\lib\\site-packages\\pandas\\core\\frame.py:5391\u001B[0m, in \u001B[0;36mDataFrame.drop\u001B[1;34m(self, labels, axis, index, columns, level, inplace, errors)\u001B[0m\n\u001B[0;32m   5243\u001B[0m \u001B[38;5;129m@deprecate_nonkeyword_arguments\u001B[39m(version\u001B[38;5;241m=\u001B[39m\u001B[38;5;28;01mNone\u001B[39;00m, allowed_args\u001B[38;5;241m=\u001B[39m[\u001B[38;5;124m\"\u001B[39m\u001B[38;5;124mself\u001B[39m\u001B[38;5;124m\"\u001B[39m, \u001B[38;5;124m\"\u001B[39m\u001B[38;5;124mlabels\u001B[39m\u001B[38;5;124m\"\u001B[39m])\n\u001B[0;32m   5244\u001B[0m \u001B[38;5;28;01mdef\u001B[39;00m \u001B[38;5;21mdrop\u001B[39m(  \u001B[38;5;66;03m# type: ignore[override]\u001B[39;00m\n\u001B[0;32m   5245\u001B[0m     \u001B[38;5;28mself\u001B[39m,\n\u001B[1;32m   (...)\u001B[0m\n\u001B[0;32m   5252\u001B[0m     errors: IgnoreRaise \u001B[38;5;241m=\u001B[39m \u001B[38;5;124m\"\u001B[39m\u001B[38;5;124mraise\u001B[39m\u001B[38;5;124m\"\u001B[39m,\n\u001B[0;32m   5253\u001B[0m ) \u001B[38;5;241m-\u001B[39m\u001B[38;5;241m>\u001B[39m DataFrame \u001B[38;5;241m|\u001B[39m \u001B[38;5;28;01mNone\u001B[39;00m:\n\u001B[0;32m   5254\u001B[0m     \u001B[38;5;124;03m\"\"\"\u001B[39;00m\n\u001B[0;32m   5255\u001B[0m \u001B[38;5;124;03m    Drop specified labels from rows or columns.\u001B[39;00m\n\u001B[0;32m   5256\u001B[0m \n\u001B[1;32m   (...)\u001B[0m\n\u001B[0;32m   5389\u001B[0m \u001B[38;5;124;03m            weight  1.0     0.8\u001B[39;00m\n\u001B[0;32m   5390\u001B[0m \u001B[38;5;124;03m    \"\"\"\u001B[39;00m\n\u001B[1;32m-> 5391\u001B[0m     \u001B[38;5;28;01mreturn\u001B[39;00m \u001B[38;5;28;43msuper\u001B[39;49m\u001B[43m(\u001B[49m\u001B[43m)\u001B[49m\u001B[38;5;241;43m.\u001B[39;49m\u001B[43mdrop\u001B[49m\u001B[43m(\u001B[49m\n\u001B[0;32m   5392\u001B[0m \u001B[43m        \u001B[49m\u001B[43mlabels\u001B[49m\u001B[38;5;241;43m=\u001B[39;49m\u001B[43mlabels\u001B[49m\u001B[43m,\u001B[49m\n\u001B[0;32m   5393\u001B[0m \u001B[43m        \u001B[49m\u001B[43maxis\u001B[49m\u001B[38;5;241;43m=\u001B[39;49m\u001B[43maxis\u001B[49m\u001B[43m,\u001B[49m\n\u001B[0;32m   5394\u001B[0m \u001B[43m        \u001B[49m\u001B[43mindex\u001B[49m\u001B[38;5;241;43m=\u001B[39;49m\u001B[43mindex\u001B[49m\u001B[43m,\u001B[49m\n\u001B[0;32m   5395\u001B[0m \u001B[43m        \u001B[49m\u001B[43mcolumns\u001B[49m\u001B[38;5;241;43m=\u001B[39;49m\u001B[43mcolumns\u001B[49m\u001B[43m,\u001B[49m\n\u001B[0;32m   5396\u001B[0m \u001B[43m        \u001B[49m\u001B[43mlevel\u001B[49m\u001B[38;5;241;43m=\u001B[39;49m\u001B[43mlevel\u001B[49m\u001B[43m,\u001B[49m\n\u001B[0;32m   5397\u001B[0m \u001B[43m        \u001B[49m\u001B[43minplace\u001B[49m\u001B[38;5;241;43m=\u001B[39;49m\u001B[43minplace\u001B[49m\u001B[43m,\u001B[49m\n\u001B[0;32m   5398\u001B[0m \u001B[43m        \u001B[49m\u001B[43merrors\u001B[49m\u001B[38;5;241;43m=\u001B[39;49m\u001B[43merrors\u001B[49m\u001B[43m,\u001B[49m\n\u001B[0;32m   5399\u001B[0m \u001B[43m    \u001B[49m\u001B[43m)\u001B[49m\n",
      "File \u001B[1;32mD:\\DL_Homework\\Kaggle2_Titanic\\Project_Titanic\\venv\\lib\\site-packages\\pandas\\util\\_decorators.py:317\u001B[0m, in \u001B[0;36mdeprecate_nonkeyword_arguments.<locals>.decorate.<locals>.wrapper\u001B[1;34m(*args, **kwargs)\u001B[0m\n\u001B[0;32m    311\u001B[0m \u001B[38;5;28;01mif\u001B[39;00m \u001B[38;5;28mlen\u001B[39m(args) \u001B[38;5;241m>\u001B[39m num_allow_args:\n\u001B[0;32m    312\u001B[0m     warnings\u001B[38;5;241m.\u001B[39mwarn(\n\u001B[0;32m    313\u001B[0m         msg\u001B[38;5;241m.\u001B[39mformat(arguments\u001B[38;5;241m=\u001B[39marguments),\n\u001B[0;32m    314\u001B[0m         \u001B[38;5;167;01mFutureWarning\u001B[39;00m,\n\u001B[0;32m    315\u001B[0m         stacklevel\u001B[38;5;241m=\u001B[39mfind_stack_level(inspect\u001B[38;5;241m.\u001B[39mcurrentframe()),\n\u001B[0;32m    316\u001B[0m     )\n\u001B[1;32m--> 317\u001B[0m \u001B[38;5;28;01mreturn\u001B[39;00m func(\u001B[38;5;241m*\u001B[39margs, \u001B[38;5;241m*\u001B[39m\u001B[38;5;241m*\u001B[39mkwargs)\n",
      "File \u001B[1;32mD:\\DL_Homework\\Kaggle2_Titanic\\Project_Titanic\\venv\\lib\\site-packages\\pandas\\core\\generic.py:4510\u001B[0m, in \u001B[0;36mNDFrame.drop\u001B[1;34m(self, labels, axis, index, columns, level, inplace, errors)\u001B[0m\n\u001B[0;32m   4508\u001B[0m \u001B[38;5;28;01mfor\u001B[39;00m axis, labels \u001B[38;5;129;01min\u001B[39;00m axes\u001B[38;5;241m.\u001B[39mitems():\n\u001B[0;32m   4509\u001B[0m     \u001B[38;5;28;01mif\u001B[39;00m labels \u001B[38;5;129;01mis\u001B[39;00m \u001B[38;5;129;01mnot\u001B[39;00m \u001B[38;5;28;01mNone\u001B[39;00m:\n\u001B[1;32m-> 4510\u001B[0m         obj \u001B[38;5;241m=\u001B[39m \u001B[43mobj\u001B[49m\u001B[38;5;241;43m.\u001B[39;49m\u001B[43m_drop_axis\u001B[49m\u001B[43m(\u001B[49m\u001B[43mlabels\u001B[49m\u001B[43m,\u001B[49m\u001B[43m \u001B[49m\u001B[43maxis\u001B[49m\u001B[43m,\u001B[49m\u001B[43m \u001B[49m\u001B[43mlevel\u001B[49m\u001B[38;5;241;43m=\u001B[39;49m\u001B[43mlevel\u001B[49m\u001B[43m,\u001B[49m\u001B[43m \u001B[49m\u001B[43merrors\u001B[49m\u001B[38;5;241;43m=\u001B[39;49m\u001B[43merrors\u001B[49m\u001B[43m)\u001B[49m\n\u001B[0;32m   4512\u001B[0m \u001B[38;5;28;01mif\u001B[39;00m inplace:\n\u001B[0;32m   4513\u001B[0m     \u001B[38;5;28mself\u001B[39m\u001B[38;5;241m.\u001B[39m_update_inplace(obj)\n",
      "File \u001B[1;32mD:\\DL_Homework\\Kaggle2_Titanic\\Project_Titanic\\venv\\lib\\site-packages\\pandas\\core\\generic.py:4551\u001B[0m, in \u001B[0;36mNDFrame._drop_axis\u001B[1;34m(self, labels, axis, level, errors, only_slice)\u001B[0m\n\u001B[0;32m   4549\u001B[0m         new_axis \u001B[38;5;241m=\u001B[39m axis\u001B[38;5;241m.\u001B[39mdrop(labels, level\u001B[38;5;241m=\u001B[39mlevel, errors\u001B[38;5;241m=\u001B[39merrors)\n\u001B[0;32m   4550\u001B[0m     \u001B[38;5;28;01melse\u001B[39;00m:\n\u001B[1;32m-> 4551\u001B[0m         new_axis \u001B[38;5;241m=\u001B[39m \u001B[43maxis\u001B[49m\u001B[38;5;241;43m.\u001B[39;49m\u001B[43mdrop\u001B[49m\u001B[43m(\u001B[49m\u001B[43mlabels\u001B[49m\u001B[43m,\u001B[49m\u001B[43m \u001B[49m\u001B[43merrors\u001B[49m\u001B[38;5;241;43m=\u001B[39;49m\u001B[43merrors\u001B[49m\u001B[43m)\u001B[49m\n\u001B[0;32m   4552\u001B[0m     indexer \u001B[38;5;241m=\u001B[39m axis\u001B[38;5;241m.\u001B[39mget_indexer(new_axis)\n\u001B[0;32m   4554\u001B[0m \u001B[38;5;66;03m# Case for non-unique axis\u001B[39;00m\n\u001B[0;32m   4555\u001B[0m \u001B[38;5;28;01melse\u001B[39;00m:\n",
      "File \u001B[1;32mD:\\DL_Homework\\Kaggle2_Titanic\\Project_Titanic\\venv\\lib\\site-packages\\pandas\\core\\indexes\\base.py:6972\u001B[0m, in \u001B[0;36mIndex.drop\u001B[1;34m(self, labels, errors)\u001B[0m\n\u001B[0;32m   6970\u001B[0m \u001B[38;5;28;01mif\u001B[39;00m mask\u001B[38;5;241m.\u001B[39many():\n\u001B[0;32m   6971\u001B[0m     \u001B[38;5;28;01mif\u001B[39;00m errors \u001B[38;5;241m!=\u001B[39m \u001B[38;5;124m\"\u001B[39m\u001B[38;5;124mignore\u001B[39m\u001B[38;5;124m\"\u001B[39m:\n\u001B[1;32m-> 6972\u001B[0m         \u001B[38;5;28;01mraise\u001B[39;00m \u001B[38;5;167;01mKeyError\u001B[39;00m(\u001B[38;5;124mf\u001B[39m\u001B[38;5;124m\"\u001B[39m\u001B[38;5;132;01m{\u001B[39;00m\u001B[38;5;28mlist\u001B[39m(labels[mask])\u001B[38;5;132;01m}\u001B[39;00m\u001B[38;5;124m not found in axis\u001B[39m\u001B[38;5;124m\"\u001B[39m)\n\u001B[0;32m   6973\u001B[0m     indexer \u001B[38;5;241m=\u001B[39m indexer[\u001B[38;5;241m~\u001B[39mmask]\n\u001B[0;32m   6974\u001B[0m \u001B[38;5;28;01mreturn\u001B[39;00m \u001B[38;5;28mself\u001B[39m\u001B[38;5;241m.\u001B[39mdelete(indexer)\n",
      "\u001B[1;31mKeyError\u001B[0m: '[92] not found in axis'"
     ]
    }
   ],
   "source": [
    "data2.drop(index=1, axis=0, inplace=True)\n",
    "data2.drop(index=6, axis=0, inplace=True)\n",
    "data2.drop(index=25, axis=0, inplace=True)\n",
    "data2.drop(index=29, axis=0, inplace=True)\n",
    "data2.drop(index=48, axis=0, inplace=True)\n",
    "data2.drop(index=67, axis=0, inplace=True)\n",
    "data2.drop(index=74, axis=0, inplace=True)\n",
    "data2.drop(index=85, axis=0, inplace=True)\n",
    "data2.drop(index=86, axis=0, inplace=True)\n",
    "data2.drop(index=95, axis=0, inplace=True)\n",
    "data2.drop(index=98, axis=0, inplace=True)\n",
    "data2.drop(index=488, axis=0, inplace=True)"
   ],
   "metadata": {
    "collapsed": false,
    "pycharm": {
     "name": "#%%\n"
    }
   }
  },
  {
   "cell_type": "code",
   "execution_count": 55,
   "outputs": [
    {
     "name": "stderr",
     "output_type": "stream",
     "text": [
      "C:\\Users\\Administrator\\AppData\\Local\\Temp\\ipykernel_4572\\1796989315.py:1: SettingWithCopyWarning: \n",
      "A value is trying to be set on a copy of a slice from a DataFrame\n",
      "\n",
      "See the caveats in the documentation: https://pandas.pydata.org/pandas-docs/stable/user_guide/indexing.html#returning-a-view-versus-a-copy\n",
      "  data2.drop(index=43, axis=0, inplace=True)\n"
     ]
    },
    {
     "data": {
      "text/plain": "     月薪最小值  月薪最大值  工作经验要求\n0     8000  12000  3-4年经验\n1    18000  25000  3-4年经验\n2    15000  20000  5-7年经验\n4    15000  22000  5-7年经验\n6    10000  20000  3-4年经验\n..     ...    ...     ...\n489   8000  16000  5-7年经验\n491  10000  15000    2年经验\n494  25000  30000  5-7年经验\n495  13000  17000    1年经验\n497  15000  30000  5-7年经验\n\n[383 rows x 3 columns]",
      "text/html": "<div>\n<style scoped>\n    .dataframe tbody tr th:only-of-type {\n        vertical-align: middle;\n    }\n\n    .dataframe tbody tr th {\n        vertical-align: top;\n    }\n\n    .dataframe thead th {\n        text-align: right;\n    }\n</style>\n<table border=\"1\" class=\"dataframe\">\n  <thead>\n    <tr style=\"text-align: right;\">\n      <th></th>\n      <th>月薪最小值</th>\n      <th>月薪最大值</th>\n      <th>工作经验要求</th>\n    </tr>\n  </thead>\n  <tbody>\n    <tr>\n      <th>0</th>\n      <td>8000</td>\n      <td>12000</td>\n      <td>3-4年经验</td>\n    </tr>\n    <tr>\n      <th>1</th>\n      <td>18000</td>\n      <td>25000</td>\n      <td>3-4年经验</td>\n    </tr>\n    <tr>\n      <th>2</th>\n      <td>15000</td>\n      <td>20000</td>\n      <td>5-7年经验</td>\n    </tr>\n    <tr>\n      <th>4</th>\n      <td>15000</td>\n      <td>22000</td>\n      <td>5-7年经验</td>\n    </tr>\n    <tr>\n      <th>6</th>\n      <td>10000</td>\n      <td>20000</td>\n      <td>3-4年经验</td>\n    </tr>\n    <tr>\n      <th>...</th>\n      <td>...</td>\n      <td>...</td>\n      <td>...</td>\n    </tr>\n    <tr>\n      <th>489</th>\n      <td>8000</td>\n      <td>16000</td>\n      <td>5-7年经验</td>\n    </tr>\n    <tr>\n      <th>491</th>\n      <td>10000</td>\n      <td>15000</td>\n      <td>2年经验</td>\n    </tr>\n    <tr>\n      <th>494</th>\n      <td>25000</td>\n      <td>30000</td>\n      <td>5-7年经验</td>\n    </tr>\n    <tr>\n      <th>495</th>\n      <td>13000</td>\n      <td>17000</td>\n      <td>1年经验</td>\n    </tr>\n    <tr>\n      <th>497</th>\n      <td>15000</td>\n      <td>30000</td>\n      <td>5-7年经验</td>\n    </tr>\n  </tbody>\n</table>\n<p>383 rows × 3 columns</p>\n</div>"
     },
     "execution_count": 55,
     "metadata": {},
     "output_type": "execute_result"
    }
   ],
   "source": [
    "data2.drop(index=43, axis=0, inplace=True)\n",
    "data2"
   ],
   "metadata": {
    "collapsed": false,
    "pycharm": {
     "name": "#%%\n"
    }
   }
  },
  {
   "cell_type": "code",
   "execution_count": 56,
   "outputs": [],
   "source": [
    "# data2['月薪最小值']\n",
    "# for i in data2['月薪最小值']:\n",
    "#     i = float(i)\n",
    "#     print(i)\n",
    "#     # print(type(i))"
   ],
   "metadata": {
    "collapsed": false,
    "pycharm": {
     "name": "#%%\n"
    }
   }
  },
  {
   "cell_type": "markdown",
   "source": [
    "for循环没有改变总体dtype值\n",
    "\n",
    "把不是空值的空白值手动去除后用astype"
   ],
   "metadata": {
    "collapsed": false,
    "pycharm": {
     "name": "#%% md\n"
    }
   }
  },
  {
   "cell_type": "code",
   "execution_count": 57,
   "outputs": [
    {
     "name": "stderr",
     "output_type": "stream",
     "text": [
      "C:\\Users\\Administrator\\AppData\\Local\\Temp\\ipykernel_4572\\3137457581.py:1: SettingWithCopyWarning: \n",
      "A value is trying to be set on a copy of a slice from a DataFrame.\n",
      "Try using .loc[row_indexer,col_indexer] = value instead\n",
      "\n",
      "See the caveats in the documentation: https://pandas.pydata.org/pandas-docs/stable/user_guide/indexing.html#returning-a-view-versus-a-copy\n",
      "  data2['月薪最小值']=data2['月薪最小值'].astype('int')\n",
      "C:\\Users\\Administrator\\AppData\\Local\\Temp\\ipykernel_4572\\3137457581.py:2: SettingWithCopyWarning: \n",
      "A value is trying to be set on a copy of a slice from a DataFrame.\n",
      "Try using .loc[row_indexer,col_indexer] = value instead\n",
      "\n",
      "See the caveats in the documentation: https://pandas.pydata.org/pandas-docs/stable/user_guide/indexing.html#returning-a-view-versus-a-copy\n",
      "  data2['月薪最大值']=data2['月薪最大值'].astype('int')\n"
     ]
    }
   ],
   "source": [
    "data2['月薪最小值']=data2['月薪最小值'].astype('int')\n",
    "data2['月薪最大值']=data2['月薪最大值'].astype('int')"
   ],
   "metadata": {
    "collapsed": false,
    "pycharm": {
     "name": "#%%\n"
    }
   }
  },
  {
   "cell_type": "code",
   "execution_count": 58,
   "outputs": [
    {
     "name": "stdout",
     "output_type": "stream",
     "text": [
      "<class 'pandas.core.frame.DataFrame'>\n",
      "Int64Index: 383 entries, 0 to 497\n",
      "Data columns (total 3 columns):\n",
      " #   Column  Non-Null Count  Dtype \n",
      "---  ------  --------------  ----- \n",
      " 0   月薪最小值   383 non-null    int32 \n",
      " 1   月薪最大值   383 non-null    int32 \n",
      " 2   工作经验要求  383 non-null    object\n",
      "dtypes: int32(2), object(1)\n",
      "memory usage: 9.0+ KB\n"
     ]
    }
   ],
   "source": [
    "data2.info()"
   ],
   "metadata": {
    "collapsed": false,
    "pycharm": {
     "name": "#%%\n"
    }
   }
  },
  {
   "cell_type": "code",
   "execution_count": 59,
   "outputs": [
    {
     "data": {
      "text/plain": "工作经验要求\n1年经验      12166.67\n2年经验      12133.33\n3-4年经验    13479.53\n5-7年经验    12626.76\n8-9年经验    15750.00\n无需经验      12125.00\nName: 月薪最小值, dtype: float64"
     },
     "execution_count": 59,
     "metadata": {},
     "output_type": "execute_result"
    }
   ],
   "source": [
    "a = data2.groupby('工作经验要求')['月薪最小值'].mean()\n",
    "a = round(a, 2)\n",
    "a"
   ],
   "metadata": {
    "collapsed": false,
    "pycharm": {
     "name": "#%%\n"
    }
   }
  },
  {
   "cell_type": "code",
   "execution_count": 60,
   "outputs": [
    {
     "data": {
      "text/plain": "工作经验要求\n1年经验      19888.89\n2年经验      19600.00\n3-4年经验    21368.42\n5-7年经验    20309.86\n8-9年经验    27000.00\n无需经验      18625.00\nName: 月薪最大值, dtype: float64"
     },
     "execution_count": 60,
     "metadata": {},
     "output_type": "execute_result"
    }
   ],
   "source": [
    "b = data2.groupby('工作经验要求')['月薪最大值'].mean()\n",
    "b = round(b, 2)\n",
    "b"
   ],
   "metadata": {
    "collapsed": false,
    "pycharm": {
     "name": "#%%\n"
    }
   }
  },
  {
   "cell_type": "code",
   "execution_count": 61,
   "outputs": [],
   "source": [
    "经验1年 = list(data2[data2['工作经验要求']=='1年经验']['月薪最小值'])\n",
    "经验2年 = data2[data2['工作经验要求']=='2年经验']['月薪最小值']\n",
    "经验3到4年 = data2[data2['工作经验要求']=='3-4年经验']['月薪最小值']\n",
    "经验5到7年 = data2[data2['工作经验要求']=='5-7年经验']['月薪最小值']\n",
    "经验8到9年 = data2[data2['工作经验要求']=='8-9年经验']['月薪最小值']\n",
    "无需经验 = data2[data2['工作经验要求']=='无需经验']['月薪最小值']"
   ],
   "metadata": {
    "collapsed": false,
    "pycharm": {
     "name": "#%%\n"
    }
   }
  },
  {
   "cell_type": "code",
   "execution_count": 62,
   "outputs": [
    {
     "data": {
      "text/plain": "[8000,\n 15000,\n 15000,\n 6000,\n 8000,\n 6000,\n 8000,\n 15000,\n 9000,\n 8000,\n 10000,\n 7000,\n 10000,\n 15000,\n 13000,\n 15000,\n 18000,\n 18000,\n 13000,\n 30000,\n 15000,\n 8000,\n 10000,\n 15000,\n 13000,\n 15000,\n 12000,\n 9000,\n 4000,\n 15000,\n 10000,\n 13000,\n 15000,\n 8000,\n 12000,\n 25000,\n 7000,\n 10000,\n 15000,\n 8000,\n 15000,\n 12000,\n 15000,\n 15000,\n 10000,\n 12000,\n 5000,\n 10000,\n 16000,\n 8000,\n 10000,\n 15000,\n 15000,\n 13000]"
     },
     "execution_count": 62,
     "metadata": {},
     "output_type": "execute_result"
    }
   ],
   "source": [
    "type(经验1年)\n",
    "经验1年"
   ],
   "metadata": {
    "collapsed": false,
    "pycharm": {
     "name": "#%%\n"
    }
   }
  },
  {
   "cell_type": "code",
   "execution_count": 63,
   "outputs": [
    {
     "data": {
      "text/plain": "<Figure size 640x480 with 1 Axes>",
      "image/png": "[encoded data removed]"
     },
     "metadata": {},
     "output_type": "display_data"
    }
   ],
   "source": [
    "import matplotlib.pyplot as plt\n",
    "plt.boxplot((经验1年,\n",
    "经验2年,\n",
    "经验3到4年,\n",
    "经验5到7年,\n",
    "经验8到9年,\n",
    "无需经验\n",
    "             ),labels=(\n",
    "    '经验1年',\n",
    "    '经验2年',\n",
    "    '经验3到4年',\n",
    "    '经验5到7年',\n",
    "    '经验8到9年',\n",
    "    '无需经验',\n",
    "),\n",
    "    medianprops={'color': 'red', 'linewidth': '1.5'},\n",
    "    meanline=True,\n",
    "    showmeans=True,\n",
    "    meanprops={'color': 'blue', 'ls': '--', 'linewidth': '1.5'},\n",
    "    flierprops={\"marker\": \"o\", \"markerfacecolor\": \"yellow\", \"markersize\": 10},\n",
    "            )\n",
    "plt.title('月薪最小值')\n",
    "plt.grid(visible=True)\n",
    "plt.show()"
   ],
   "metadata": {
    "collapsed": false,
    "pycharm": {
     "name": "#%%\n"
    }
   }
  },
  {
   "cell_type": "code",
   "execution_count": 64,
   "outputs": [
    {
     "data": {
      "text/plain": "0       8000\n1      18000\n2      15000\n4      15000\n6      10000\n7      20000\n8      15000\n9      15000\n10      8000\n13     18000\n14     12000\n16     15000\n17     10000\n22      7000\n46     15000\n60      6000\n68     20000\n71      8000\n78     10000\n82      6000\n164    12000\n224     8000\n316    15000\n372    20000\n385    10000\n425    16000\n429    10000\n436    15000\n475    18000\nName: 月薪最小值, dtype: object"
     },
     "execution_count": 64,
     "metadata": {},
     "output_type": "execute_result"
    }
   ],
   "source": [
    "z = data.groupby('工作经验要求')['月薪最小值']\n",
    "z.head()"
   ],
   "metadata": {
    "collapsed": false,
    "pycharm": {
     "name": "#%%\n"
    }
   }
  },
  {
   "cell_type": "code",
   "execution_count": 68,
   "outputs": [
    {
     "data": {
      "text/plain": "<Figure size 1000x400 with 2 Axes>",
      "image/png": "[encoded data removed]"
     },
     "metadata": {},
     "output_type": "display_data"
    }
   ],
   "source": [
    "import matplotlib.pyplot as plt\n",
    "import numpy as np\n",
    "\n",
    "#通过对象绘图\n",
    "fig=plt.figure(figsize=(10,4))\n",
    "ax1=fig.add_subplot(1,2,1)\n",
    "ax2=fig.add_subplot(1,2,2)\n",
    "x=a.index\n",
    "\n",
    "#绘制第一幅图\n",
    "Y1=a\n",
    "ax1.plot(x,Y1,label='月薪最小值', color='r',linewidth=3)\n",
    "ax1.legend(loc=\"best\")\n",
    "ax1.grid(color='k')\n",
    "ax1.set_title(\"月薪最小值\")\n",
    "\n",
    "#绘制第二幅图\n",
    "Y2=b\n",
    "ax2.plot(x,Y2,label='月薪最大值', color='green',linewidth=3)\n",
    "ax2.legend(loc=\"best\")\n",
    "ax2.set_title(\"月薪最大值\")\n",
    "# ax2.set_xlabel(\"X\")\n",
    "# ax2.set_ylabel(\"Y\")\n",
    "ax2.grid(color='k')\n",
    "\n",
    "plt.show()"
   ],
   "metadata": {
    "collapsed": false,
    "pycharm": {
     "name": "#%%\n"
    }
   }
  },
  {
   "cell_type": "code",
   "execution_count": 69,
   "outputs": [
    {
     "data": {
      "text/plain": "工作经验要求\n1年经验      30000\n2年经验      25000\n3-4年经验    30000\n5-7年经验    25000\n8-9年经验    20000\n无需经验      20000\nName: 月薪最小值, dtype: int32"
     },
     "execution_count": 69,
     "metadata": {},
     "output_type": "execute_result"
    }
   ],
   "source": [
    "a = data2.groupby('工作经验要求')['月薪最小值'].max()\n",
    "round(a, 2)"
   ],
   "metadata": {
    "collapsed": false,
    "pycharm": {
     "name": "#%%\n"
    }
   }
  },
  {
   "cell_type": "code",
   "execution_count": 70,
   "outputs": [
    {
     "data": {
      "text/plain": "工作经验要求\n1年经验      50000\n2年经验      40000\n3-4年经验    60000\n5-7年经验    40000\n8-9年经验    30000\n无需经验      35000\nName: 月薪最大值, dtype: int32"
     },
     "execution_count": 70,
     "metadata": {},
     "output_type": "execute_result"
    }
   ],
   "source": [
    "b = data2.groupby('工作经验要求')['月薪最大值'].max()\n",
    "round(b, 2)"
   ],
   "metadata": {
    "collapsed": false,
    "pycharm": {
     "name": "#%%\n"
    }
   }
  },
  {
   "cell_type": "code",
   "execution_count": 71,
   "outputs": [],
   "source": [
    "c = data1.groupby([\"地区\",\"月薪最小值\"]).groups\n",
    "c = data1.groupby([\"地区\",\"月薪最小值\"]).get_group(('成都', '15000'))"
   ],
   "metadata": {
    "collapsed": false,
    "pycharm": {
     "name": "#%%\n"
    }
   }
  },
  {
   "cell_type": "code",
   "execution_count": 72,
   "outputs": [
    {
     "data": {
      "text/plain": "0        |  50-150人\n1       |  150-500人\n2       |  150-500人\n4        1000-5000人\n6      民营  |  少于50人\n           ...     \n489      1000-5000人\n491      |  50-150人\n494      1000-5000人\n495     5000-10000人\n497      |  50-150人\nName: 规模类型, Length: 396, dtype: object"
     },
     "execution_count": 72,
     "metadata": {},
     "output_type": "execute_result"
    }
   ],
   "source": [
    "e = data1['规模类型'].str[-12:]\n",
    "e"
   ],
   "metadata": {
    "collapsed": false,
    "pycharm": {
     "name": "#%%\n"
    }
   }
  },
  {
   "cell_type": "code",
   "execution_count": 73,
   "outputs": [
    {
     "name": "stdout",
     "output_type": "stream",
     "text": [
      "50-150人\n",
      "150-500人\n",
      "150-500人\n",
      "1000-5000人\n",
      "少于50人\n",
      "500-1000人\n",
      "1000-5000人\n",
      "少于50人\n",
      "少于50人\n",
      "10000人以上\n",
      "1000-5000人\n",
      "5000-10000人\n",
      "150-500人\n",
      "10000人以上\n",
      "1000-5000人\n",
      "50-150人\n",
      "150-500人\n",
      "150-500人\n",
      "1000-5000人\n",
      "1000-5000人\n",
      "150-500人\n",
      "1000-5000人\n",
      "1000-5000人\n",
      "50-150人\n",
      "少于50人\n",
      "50-150人\n",
      "1000-5000人\n",
      "10000人以上\n",
      "1000-5000人\n",
      "150-500人\n",
      "少于50人\n",
      "1000-5000人\n",
      "50-150人\n",
      "少于50人\n",
      "少于50人\n",
      "\n",
      "150-500人\n",
      "1000-5000人\n",
      "50-150人\n",
      "150-500人\n",
      "1000-5000人\n",
      "150-500人\n",
      "少于50人\n",
      "150-500人\n",
      "500-1000人\n",
      "50-150人\n",
      "少于50人\n",
      "5000-10000人\n",
      "50-150人\n",
      "500-1000人\n",
      "150-500人\n",
      "500-1000人\n",
      "500-1000人\n",
      "50-150人\n",
      "150-500人\n",
      "50-150人\n",
      "50-150人\n",
      "50-150人\n",
      "50-150人\n",
      "150-500人\n",
      "少于50人\n",
      "150-500人\n",
      "150-500人\n",
      "少于50人\n",
      "150-500人\n",
      "5000-10000人\n",
      "50-150人\n",
      "150-500人\n",
      "50-150人\n",
      "150-500人\n",
      "少于50人\n",
      "150-500人\n",
      "\n",
      "少于50人\n",
      "50-150人\n",
      "1000-5000人\n",
      "少于50人\n",
      "150-500人\n",
      "10000人以上\n",
      "50-150人\n",
      "150-500人\n",
      "50-150人\n",
      "1000-5000人\n",
      "5000-10000人\n",
      "50-150人\n",
      "150-500人\n",
      "50-150人\n",
      "\n",
      "150-500人\n",
      "50-150人\n",
      "少于50人\n",
      "500-1000人\n",
      "150-500人\n",
      "500-1000人\n",
      "1000-5000人\n",
      "50-150人\n",
      "150-500人\n",
      "150-500人\n",
      "50-150人\n",
      "150-500人\n",
      "10000人以上\n",
      "50-150人\n",
      "5000-10000人\n",
      "\n",
      "500-1000人\n",
      "150-500人\n",
      "1000-5000人\n",
      "150-500人\n",
      "500-1000人\n",
      "1000-5000人\n",
      "150-500人\n",
      "1000-5000人\n",
      "少于50人\n",
      "50-150人\n",
      "少于50人\n",
      "5000-10000人\n",
      "5000-10000人\n",
      "50-150人\n",
      "少于50人\n",
      "少于50人\n",
      "\n",
      "150-500人\n",
      "150-500人\n",
      "500-1000人\n",
      "500-1000人\n",
      "50-150人\n",
      "150-500人\n",
      "1000-5000人\n",
      "500-1000人\n",
      "150-500人\n",
      "1000-5000人\n",
      "1000-5000人\n",
      "500-1000人\n",
      "150-500人\n",
      "1000-5000人\n",
      "150-500人\n",
      "1000-5000人\n",
      "\n",
      "少于50人\n",
      "1000-5000人\n",
      "50-150人\n",
      "少于50人\n",
      "1000-5000人\n",
      "500-1000人\n",
      "50-150人\n",
      "少于50人\n",
      "1000-5000人\n",
      "1000-5000人\n",
      "1000-5000人\n",
      "50-150人\n",
      "50-150人\n",
      "1000-5000人\n",
      "150-500人\n",
      "50-150人\n",
      "500-1000人\n",
      "10000人以上\n",
      "50-150人\n",
      "500-1000人\n",
      "50-150人\n",
      "50-150人\n",
      "500-1000人\n",
      "50-150人\n",
      "少于50人\n",
      "500-1000人\n",
      "150-500人\n",
      "50-150人\n",
      "500-1000人\n",
      "150-500人\n",
      "50-150人\n",
      "少于50人\n",
      "500-1000人\n",
      "10000人以上\n",
      "150-500人\n",
      "500-1000人\n",
      "50-150人\n",
      "500-1000人\n",
      "50-150人\n",
      "50-150人\n",
      "150-500人\n",
      "少于50人\n",
      "少于50人\n",
      "150-500人\n",
      "50-150人\n",
      "150-500人\n",
      "50-150人\n",
      "50-150人\n",
      "150-500人\n",
      "150-500人\n",
      "50-150人\n",
      "1000-5000人\n",
      "1000-5000人\n",
      "少于50人\n",
      "1000-5000人\n",
      "少于50人\n",
      "150-500人\n",
      "50-150人\n",
      "500-1000人\n",
      "少于50人\n",
      "少于50人\n",
      "50-150人\n",
      "150-500人\n",
      "1000-5000人\n",
      "1000-5000人\n",
      "150-500人\n",
      "\n",
      "150-500人\n",
      "150-500人\n",
      "1000-5000人\n",
      "50-150人\n",
      "150-500人\n",
      "500-1000人\n",
      "500-1000人\n",
      "50-150人\n",
      "\n",
      "150-500人\n",
      "少于50人\n",
      "少于50人\n",
      "150-500人\n",
      "50-150人\n",
      "5000-10000人\n",
      "1000-5000人\n",
      "150-500人\n",
      "50-150人\n",
      "5000-10000人\n",
      "50-150人\n",
      "少于50人\n",
      "50-150人\n",
      "150-500人\n",
      "50-150人\n",
      "少于50人\n",
      "1000-5000人\n",
      "150-500人\n",
      "50-150人\n",
      "150-500人\n",
      "50-150人\n",
      "\n",
      "1000-5000人\n",
      "50-150人\n",
      "150-500人\n",
      "50-150人\n",
      "50-150人\n",
      "150-500人\n",
      "500-1000人\n",
      "少于50人\n",
      "150-500人\n",
      "1000-5000人\n",
      "少于50人\n",
      "500-1000人\n",
      "500-1000人\n",
      "50-150人\n",
      "1000-5000人\n",
      "5000-10000人\n",
      "50-150人\n",
      "500-1000人\n",
      "少于50人\n",
      "\n",
      "150-500人\n",
      "50-150人\n",
      "1000-5000人\n",
      "5000-10000人\n",
      "少于50人\n",
      "50-150人\n",
      "50-150人\n",
      "50-150人\n",
      "少于50人\n",
      "150-500人\n",
      "50-150人\n",
      "少于50人\n",
      "1000-5000人\n",
      "500-1000人\n",
      "少于50人\n",
      "少于50人\n",
      "\n",
      "50-150人\n",
      "150-500人\n",
      "150-500人\n",
      "少于50人\n",
      "50-150人\n",
      "150-500人\n",
      "少于50人\n",
      "50-150人\n",
      "少于50人\n",
      "少于50人\n",
      "500-1000人\n",
      "1000-5000人\n",
      "少于50人\n",
      "150-500人\n",
      "50-150人\n",
      "50-150人\n",
      "150-500人\n",
      "150-500人\n",
      "1000-5000人\n",
      "1000-5000人\n",
      "50-150人\n",
      "50-150人\n",
      "1000-5000人\n",
      "150-500人\n",
      "50-150人\n",
      "50-150人\n",
      "500-1000人\n",
      "150-500人\n",
      "10000人以上\n",
      "500-1000人\n",
      "150-500人\n",
      "150-500人\n",
      "1000-5000人\n",
      "1000-5000人\n",
      "150-500人\n",
      "50-150人\n",
      "50-150人\n",
      "50-150人\n",
      "10000人以上\n",
      "50-150人\n",
      "50-150人\n",
      "500-1000人\n",
      "50-150人\n",
      "10000人以上\n",
      "1000-5000人\n",
      "少于50人\n",
      "少于50人\n",
      "150-500人\n",
      "150-500人\n",
      "500-1000人\n",
      "150-500人\n",
      "少于50人\n",
      "1000-5000人\n",
      "150-500人\n",
      "少于50人\n",
      "1000-5000人\n",
      "50-150人\n",
      "50-150人\n",
      "\n",
      "少于50人\n",
      "50-150人\n",
      "50-150人\n",
      "150-500人\n",
      "50-150人\n",
      "150-500人\n",
      "1000-5000人\n",
      "150-500人\n",
      "500-1000人\n",
      "少于50人\n",
      "50-150人\n",
      "\n",
      "1000-5000人\n",
      "\n",
      "150-500人\n",
      "150-500人\n",
      "500-1000人\n",
      "150-500人\n",
      "50-150人\n",
      "少于50人\n",
      "50-150人\n",
      "10000人以上\n",
      "150-500人\n",
      "少于50人\n",
      "50-150人\n",
      "50-150人\n",
      "50-150人\n",
      "少于50人\n",
      "50-150人\n",
      "5000-10000人\n",
      "10000人以上\n",
      "50-150人\n",
      "150-500人\n",
      "少于50人\n",
      "少于50人\n",
      "150-500人\n",
      "少于50人\n",
      "\n",
      "50-150人\n",
      "1000-5000人\n",
      "少于50人\n",
      "少于50人\n",
      "1000-5000人\n",
      "500-1000人\n",
      "少于50人\n",
      "150-500人\n",
      "50-150人\n",
      "1000-5000人\n",
      "1000-5000人\n",
      "500-1000人\n",
      "150-500人\n",
      "50-150人\n",
      "500-1000人\n",
      "50-150人\n",
      "50-150人\n",
      "50-150人\n",
      "500-1000人\n",
      "50-150人\n",
      "150-500人\n",
      "1000-5000人\n",
      "50-150人\n",
      "1000-5000人\n",
      "5000-10000人\n",
      "50-150人\n"
     ]
    }
   ],
   "source": [
    "公司规模 = []\n",
    "for i in e:\n",
    "    i = i.strip()\n",
    "    i = i.strip('|')\n",
    "    i = i.strip()\n",
    "    i = i.strip('民营')\n",
    "    i = i.strip('美）')\n",
    "    i = i.strip('国企')\n",
    "    i = i.strip('公司')\n",
    "    i = i.strip('外资（欧美）')\n",
    "    i = i.strip('合资')\n",
    "    i = i.strip()\n",
    "    i = i.strip('|')\n",
    "    i = i.strip()\n",
    "    print(i)\n",
    "    公司规模.append(i)\n",
    "    # print(公司类型)"
   ],
   "metadata": {
    "collapsed": false,
    "pycharm": {
     "name": "#%%\n"
    }
   }
  },
  {
   "cell_type": "code",
   "execution_count": 74,
   "outputs": [],
   "source": [
    "公司规模 = pd.DataFrame(公司规模)\n",
    "data1['公司规模'] = 公司规模"
   ],
   "metadata": {
    "collapsed": false,
    "pycharm": {
     "name": "#%%\n"
    }
   }
  },
  {
   "cell_type": "code",
   "execution_count": 75,
   "outputs": [
    {
     "data": {
      "text/plain": "0      民营  |  \n1      民营  |  \n2      民营  |  \n4      民营  |  \n6      民营  |  \n        ...   \n489    民营  |  \n491    民营  |  \n494    民营  |  \n495    民营  |  \n497    民营  |  \nName: 规模类型, Length: 396, dtype: object"
     },
     "execution_count": 75,
     "metadata": {},
     "output_type": "execute_result"
    }
   ],
   "source": [
    "d = data1['规模类型'].str[:7]\n",
    "d"
   ],
   "metadata": {
    "collapsed": false,
    "pycharm": {
     "name": "#%%\n"
    }
   }
  },
  {
   "cell_type": "code",
   "execution_count": 76,
   "outputs": [
    {
     "name": "stdout",
     "output_type": "stream",
     "text": [
      "民营\n",
      "民营\n",
      "民营\n",
      "民营\n",
      "民营\n",
      "合资\n",
      "民营\n",
      "民营\n",
      "民营\n",
      "已上市\n",
      "民营\n",
      "已上市\n",
      "民营\n",
      "已上市\n",
      "民营\n",
      "民营\n",
      "民营\n",
      "民营\n",
      "民营\n",
      "民营\n",
      "国企\n",
      "国企\n",
      "民营\n",
      "民营\n",
      "民营\n",
      "民营\n",
      "民营\n",
      "已上市\n",
      "民营\n",
      "民营\n",
      "民营\n",
      "民营\n",
      "民营\n",
      "民营\n",
      "民营\n",
      "民营\n",
      "外资（非欧美）\n",
      "已上市\n",
      "民营\n",
      "已上市\n",
      "已上市\n",
      "民营\n",
      "民营\n",
      "民营\n",
      "已上市\n",
      "民营\n",
      "民营\n",
      "已上市\n",
      "民营\n",
      "民营\n",
      "已上市\n",
      "外资（非欧美）\n",
      "民营\n",
      "民营\n",
      "合资\n",
      "民营\n",
      "民营\n",
      "已上市\n",
      "民营\n",
      "民营\n",
      "民营\n",
      "民营\n",
      "民营\n",
      "民营\n",
      "合资\n",
      "民营\n",
      "民营\n",
      "民营\n",
      "民营\n",
      "民营\n",
      "民营\n",
      "民营\n",
      "民营\n",
      "民营\n",
      "民营\n",
      "外资（非欧美）\n",
      "民营\n",
      "民营\n",
      "已上市\n",
      "民营\n",
      "民营\n",
      "民营\n",
      "外资（欧美）\n",
      "已上市\n",
      "民营\n",
      "民营\n",
      "民营\n",
      "民营\n",
      "民营\n",
      "民营\n",
      "民营\n",
      "民营\n",
      "民营\n",
      "民营\n",
      "民营\n",
      "民营\n",
      "已上市\n",
      "合资\n",
      "民营\n",
      "民营\n",
      "已上市\n",
      "民营\n",
      "外资（欧美）\n",
      "民营\n",
      "民营\n",
      "民营\n",
      "创业公司\n",
      "民营\n",
      "民营\n",
      "创业公司\n",
      "民营\n",
      "已上市\n",
      "民营\n",
      "民营\n",
      "民营\n",
      "民营\n",
      "已上市\n",
      "民营\n",
      "民营\n",
      "民营\n",
      "民营\n",
      "民营\n",
      "民营\n",
      "民营\n",
      "民营\n",
      "民营\n",
      "民营\n",
      "外资（非欧美）\n",
      "民营\n",
      "民营\n",
      "创业公司\n",
      "外资（非欧美）\n",
      "民营\n",
      "民营\n",
      "创业公司\n",
      "民营\n",
      "已上市\n",
      "民营\n",
      "民营\n",
      "民营\n",
      "民营\n",
      "民营\n",
      "外资（非欧美）\n",
      "民营\n",
      "民营\n",
      "民营\n",
      "国企\n",
      "民营\n",
      "已上市\n",
      "民营\n",
      "民营\n",
      "民营\n",
      "民营\n",
      "民营\n",
      "民营\n",
      "已上市\n",
      "外资（欧美）\n",
      "民营\n",
      "民营\n",
      "外资（欧美）\n",
      "民营\n",
      "国企\n",
      "民营\n",
      "民营\n",
      "民营\n",
      "民营\n",
      "民营\n",
      "已上市\n",
      "民营\n",
      "民营\n",
      "已上市\n",
      "已上市\n",
      "民营\n",
      "民营\n",
      "民营\n",
      "外资（欧美）\n",
      "民营\n",
      "民营\n",
      "民营\n",
      "民营\n",
      "民营\n",
      "民营\n",
      "民营\n",
      "民营\n",
      "民营\n",
      "民营\n",
      "已上市\n",
      "民营\n",
      "民营\n",
      "民营\n",
      "已上市\n",
      "民营\n",
      "民营\n",
      "民营\n",
      "民营\n",
      "民营\n",
      "民营\n",
      "民营\n",
      "民营\n",
      "民营\n",
      "民营\n",
      "国企\n",
      "合资\n",
      "民营\n",
      "外资（欧美）\n",
      "已上市\n",
      "民营\n",
      "国企\n",
      "民营\n",
      "已上市\n",
      "民营\n",
      "民营\n",
      "民营\n",
      "民营\n",
      "民营\n",
      "民营\n",
      "民营\n",
      "民营\n",
      "已上市\n",
      "民营\n",
      "民营\n",
      "民营\n",
      "民营\n",
      "民营\n",
      "民营\n",
      "民营\n",
      "民营\n",
      "合资\n",
      "合资\n",
      "民营\n",
      "合资\n",
      "创业公司\n",
      "民营\n",
      "民营\n",
      "民营\n",
      "民营\n",
      "外资（欧美）\n",
      "民营\n",
      "民营\n",
      "民营\n",
      "民营\n",
      "民营\n",
      "合资\n",
      "创业公司\n",
      "民营\n",
      "民营\n",
      "国企\n",
      "民营\n",
      "民营\n",
      "民营\n",
      "已上市\n",
      "民营\n",
      "民营\n",
      "国企\n",
      "外资（非欧美）\n",
      "民营\n",
      "已上市\n",
      "民营\n",
      "已上市\n",
      "民营\n",
      "民营\n",
      "民营\n",
      "民营\n",
      "民营\n",
      "外资（非欧美）\n",
      "民营\n",
      "民营\n",
      "合资\n",
      "民营\n",
      "民营\n",
      "民营\n",
      "民营\n",
      "民营\n",
      "民营\n",
      "民营\n",
      "民营\n",
      "民营\n",
      "国企\n",
      "民营\n",
      "民营\n",
      "民营\n",
      "民营\n",
      "民营\n",
      "民营\n",
      "民营\n",
      "民营\n",
      "民营\n",
      "民营\n",
      "民营\n",
      "民营\n",
      "民营\n",
      "民营\n",
      "民营\n",
      "民营\n",
      "民营\n",
      "1000-\n",
      "民营\n",
      "民营\n",
      "外资（非欧美）\n",
      "民营\n",
      "外资（非欧美）\n",
      "已上市\n",
      "民营\n",
      "民营\n",
      "民营\n",
      "已上市\n",
      "已上市\n",
      "民营\n",
      "民营\n",
      "民营\n",
      "民营\n",
      "民营\n",
      "民营\n",
      "民营\n",
      "民营\n",
      "已上市\n",
      "已上市\n",
      "外资（非欧美）\n",
      "民营\n",
      "民营\n",
      "民营\n",
      "合资\n",
      "民营\n",
      "外资（非欧美）\n",
      "民营\n",
      "已上市\n",
      "民营\n",
      "民营\n",
      "民营\n",
      "创业公司\n",
      "民营\n",
      "民营\n",
      "民营\n",
      "民营\n",
      "民营\n",
      "国企\n",
      "民营\n",
      "合资\n",
      "已上市\n",
      "民营\n",
      "国企\n",
      "民营\n",
      "民营\n",
      "民营\n",
      "民营\n",
      "民营\n",
      "已上市\n",
      "民营\n",
      "民营\n",
      "民营\n",
      "民营\n",
      "民营\n",
      "民营\n",
      "民营\n",
      "民营\n",
      "民营\n",
      "民营\n",
      "外资（欧美）\n",
      "民营\n",
      "民营\n",
      "民营\n",
      "民营\n",
      "外资（欧美）\n",
      "外资（欧美）\n",
      "民营\n",
      "民营\n",
      "民营\n",
      "已上市\n",
      "民营\n",
      "民营\n",
      "民营\n",
      "已上市\n",
      "民营\n",
      "民营\n",
      "民营\n",
      "已上市\n",
      "民营\n",
      "民营\n",
      "事业单位\n",
      "民营\n",
      "已上市\n",
      "国企\n",
      "民营\n",
      "民营\n",
      "国企\n",
      "民营\n",
      "民营\n",
      "民营\n",
      "国企\n",
      "民营\n",
      "民营\n",
      "民营\n",
      "民营\n",
      "民营\n",
      "民营\n",
      "民营\n"
     ]
    }
   ],
   "source": [
    "公司类型 = []\n",
    "for i in d:\n",
    "    i = i.strip()\n",
    "    i = i.strip('|')\n",
    "    i = i.strip()\n",
    "    print(i)\n",
    "    公司类型.append(i)\n",
    "    # print(公司类型)"
   ],
   "metadata": {
    "collapsed": false,
    "pycharm": {
     "name": "#%%\n"
    }
   }
  },
  {
   "cell_type": "code",
   "execution_count": 77,
   "outputs": [],
   "source": [
    "公司类型 = pd.DataFrame(公司类型)"
   ],
   "metadata": {
    "collapsed": false,
    "pycharm": {
     "name": "#%%\n"
    }
   }
  },
  {
   "cell_type": "code",
   "execution_count": 78,
   "outputs": [],
   "source": [
    "data1['公司类型'] = 公司类型"
   ],
   "metadata": {
    "collapsed": false,
    "pycharm": {
     "name": "#%%\n"
    }
   }
  },
  {
   "cell_type": "code",
   "execution_count": 79,
   "outputs": [
    {
     "data": {
      "text/plain": "0      01-17\n1      01-29\n2      01-18\n4      01-14\n6      01-10\n       ...  \n489    12-08\n491    12-09\n494    12-07\n495    12-08\n497    12-07\nName: 发布时间, Length: 396, dtype: object"
     },
     "execution_count": 79,
     "metadata": {},
     "output_type": "execute_result"
    }
   ],
   "source": [
    "f = data1['发布时间'].str[0:5]\n",
    "f"
   ],
   "metadata": {
    "collapsed": false,
    "pycharm": {
     "name": "#%%\n"
    }
   }
  },
  {
   "cell_type": "code",
   "execution_count": 80,
   "outputs": [
    {
     "name": "stdout",
     "output_type": "stream",
     "text": [
      "01-17\n",
      "01-29\n",
      "01-18\n",
      "01-14\n",
      "01-10\n",
      "01-10\n",
      "01-14\n",
      "01-03\n",
      "12-31\n",
      "12-28\n",
      "12-26\n",
      "01-29\n",
      "01-29\n",
      "01-28\n",
      "01-28\n",
      "01-28\n",
      "01-28\n",
      "01-28\n",
      "12-16\n",
      "01-29\n",
      "01-29\n",
      "01-29\n",
      "01-28\n",
      "01-28\n",
      "01-28\n",
      "01-28\n",
      "01-28\n",
      "01-29\n",
      "01-29\n",
      "01-29\n",
      "01-29\n",
      "01-29\n",
      "01-29\n",
      "01-29\n",
      "01-29\n",
      "01-29\n",
      "01-29\n",
      "01-29\n",
      "01-29\n",
      "01-29\n",
      "01-29\n",
      "01-29\n",
      "01-29\n",
      "01-29\n",
      "01-29\n",
      "01-29\n",
      "01-29\n",
      "01-29\n",
      "01-29\n",
      "01-29\n",
      "01-29\n",
      "01-29\n",
      "01-29\n",
      "01-29\n",
      "01-29\n",
      "01-29\n",
      "01-29\n",
      "01-29\n",
      "01-29\n",
      "01-29\n",
      "01-29\n",
      "01-29\n",
      "01-29\n",
      "01-29\n",
      "01-29\n",
      "01-29\n",
      "01-29\n",
      "01-29\n",
      "01-29\n",
      "01-29\n",
      "01-29\n",
      "01-29\n",
      "01-17\n",
      "01-16\n",
      "01-18\n",
      "01-29\n",
      "01-17\n",
      "01-18\n",
      "01-16\n",
      "01-14\n",
      "01-10\n",
      "01-10\n",
      "01-14\n",
      "12-28\n",
      "01-29\n",
      "01-28\n",
      "01-28\n",
      "01-28\n",
      "01-28\n",
      "01-28\n",
      "01-29\n",
      "12-16\n",
      "01-28\n",
      "01-28\n",
      "01-28\n",
      "01-29\n",
      "01-28\n",
      "01-29\n",
      "01-29\n",
      "01-29\n",
      "01-28\n",
      "01-27\n",
      "01-27\n",
      "01-28\n",
      "01-28\n",
      "01-28\n",
      "01-27\n",
      "01-26\n",
      "01-29\n",
      "01-29\n",
      "01-29\n",
      "01-25\n",
      "01-29\n",
      "01-29\n",
      "01-27\n",
      "01-29\n",
      "01-29\n",
      "01-29\n",
      "01-28\n",
      "01-29\n",
      "01-29\n",
      "01-29\n",
      "01-28\n",
      "01-28\n",
      "01-28\n",
      "01-29\n",
      "01-29\n",
      "01-29\n",
      "01-29\n",
      "01-29\n",
      "01-28\n",
      "12-13\n",
      "01-28\n",
      "01-28\n",
      "01-28\n",
      "01-28\n",
      "01-29\n",
      "01-29\n",
      "01-29\n",
      "01-28\n",
      "01-28\n",
      "01-28\n",
      "01-28\n",
      "01-28\n",
      "01-28\n",
      "01-21\n",
      "01-28\n",
      "01-28\n",
      "01-28\n",
      "01-28\n",
      "01-20\n",
      "01-26\n",
      "01-20\n",
      "01-17\n",
      "01-20\n",
      "01-21\n",
      "01-22\n",
      "01-20\n",
      "01-16\n",
      "01-16\n",
      "01-16\n",
      "01-21\n",
      "01-21\n",
      "01-21\n",
      "01-16\n",
      "01-21\n",
      "01-15\n",
      "01-17\n",
      "01-15\n",
      "01-18\n",
      "01-17\n",
      "01-17\n",
      "01-17\n",
      "01-20\n",
      "01-17\n",
      "01-21\n",
      "01-17\n",
      "01-20\n",
      "01-20\n",
      "01-17\n",
      "01-20\n",
      "01-17\n",
      "01-17\n",
      "01-17\n",
      "01-16\n",
      "01-20\n",
      "01-20\n",
      "01-20\n",
      "01-29\n",
      "01-16\n",
      "01-13\n",
      "01-15\n",
      "01-19\n",
      "01-15\n",
      "01-18\n",
      "01-18\n",
      "01-12\n",
      "01-18\n",
      "01-18\n",
      "01-14\n",
      "01-17\n",
      "01-18\n",
      "01-17\n",
      "01-17\n",
      "01-17\n",
      "01-17\n",
      "01-11\n",
      "01-17\n",
      "01-16\n",
      "01-16\n",
      "01-16\n",
      "01-17\n",
      "01-18\n",
      "01-16\n",
      "01-17\n",
      "01-17\n",
      "01-12\n",
      "01-12\n",
      "01-13\n",
      "01-15\n",
      "01-15\n",
      "01-17\n",
      "01-15\n",
      "01-15\n",
      "01-15\n",
      "01-15\n",
      "01-15\n",
      "01-15\n",
      "12-01\n",
      "01-29\n",
      "01-15\n",
      "01-13\n",
      "01-11\n",
      "01-11\n",
      "01-14\n",
      "01-13\n",
      "01-13\n",
      "01-13\n",
      "01-14\n",
      "01-13\n",
      "01-12\n",
      "01-13\n",
      "01-13\n",
      "01-13\n",
      "01-10\n",
      "01-13\n",
      "01-09\n",
      "01-13\n",
      "01-14\n",
      "01-14\n",
      "01-14\n",
      "01-14\n",
      "01-29\n",
      "01-08\n",
      "01-11\n",
      "01-12\n",
      "01-09\n",
      "01-13\n",
      "01-13\n",
      "01-13\n",
      "01-13\n",
      "01-13\n",
      "01-13\n",
      "01-13\n",
      "01-11\n",
      "01-11\n",
      "01-07\n",
      "01-12\n",
      "01-10\n",
      "01-11\n",
      "01-09\n",
      "01-10\n",
      "01-11\n",
      "01-11\n",
      "01-11\n",
      "01-11\n",
      "01-03\n",
      "01-09\n",
      "01-10\n",
      "01-10\n",
      "01-10\n",
      "01-10\n",
      "01-09\n",
      "01-09\n",
      "01-09\n",
      "01-07\n",
      "01-06\n",
      "01-08\n",
      "01-03\n",
      "01-05\n",
      "01-07\n",
      "01-07\n",
      "01-02\n",
      "01-04\n",
      "01-07\n",
      "01-07\n",
      "01-06\n",
      "01-01\n",
      "12-29\n",
      "01-04\n",
      "01-05\n",
      "01-03\n",
      "01-03\n",
      "01-03\n",
      "01-04\n",
      "01-02\n",
      "01-03\n",
      "01-01\n",
      "01-03\n",
      "01-03\n",
      "01-03\n",
      "01-03\n",
      "12-31\n",
      "12-28\n",
      "12-28\n",
      "12-31\n",
      "12-31\n",
      "12-28\n",
      "12-23\n",
      "12-27\n",
      "12-28\n",
      "12-28\n",
      "12-28\n",
      "12-27\n",
      "12-29\n",
      "12-26\n",
      "12-27\n",
      "12-28\n",
      "12-26\n",
      "12-20\n",
      "12-26\n",
      "12-20\n",
      "12-27\n",
      "12-26\n",
      "12-20\n",
      "12-23\n",
      "12-17\n",
      "12-20\n",
      "12-20\n",
      "12-22\n",
      "12-22\n",
      "12-20\n",
      "12-21\n",
      "12-20\n",
      "12-21\n",
      "12-20\n",
      "12-20\n",
      "12-20\n",
      "12-20\n",
      "12-20\n",
      "12-19\n",
      "12-20\n",
      "12-19\n",
      "12-20\n",
      "12-19\n",
      "12-19\n",
      "12-19\n",
      "12-20\n",
      "12-12\n",
      "12-19\n",
      "12-16\n",
      "12-16\n",
      "12-15\n",
      "12-09\n",
      "12-16\n",
      "12-16\n",
      "12-16\n",
      "12-10\n",
      "12-13\n",
      "12-07\n",
      "12-07\n",
      "12-13\n",
      "12-09\n",
      "12-13\n",
      "12-12\n",
      "12-06\n",
      "12-13\n",
      "12-13\n",
      "12-10\n",
      "12-12\n",
      "12-11\n",
      "12-08\n",
      "12-10\n",
      "12-08\n",
      "12-09\n",
      "12-09\n",
      "12-09\n",
      "12-09\n",
      "12-03\n",
      "12-09\n",
      "12-10\n",
      "12-08\n",
      "12-09\n",
      "12-07\n",
      "12-08\n",
      "12-07\n"
     ]
    }
   ],
   "source": [
    "发布时间 = []\n",
    "for i in f:\n",
    "    i = i.strip('发布')\n",
    "    print(i)\n",
    "    发布时间.append(i)\n",
    "    # print(公司类型)\n",
    "发布时间 = pd.DataFrame(发布时间)\n",
    "data1['发布时间'] = 发布时间"
   ],
   "metadata": {
    "collapsed": false,
    "pycharm": {
     "name": "#%%\n"
    }
   }
  },
  {
   "cell_type": "code",
   "execution_count": 81,
   "outputs": [
    {
     "data": {
      "text/plain": "                 职位名称            公司名称            薪酬     城市地区 学历要求  工作经验要求  \\\n0       安卓工程师（双休 13薪）  常州市荣瑞信息自动化有限公司       8千-1.2万   常州-钟楼区   本科  3-4年经验   \n1               安卓工程师  苏州咖乐美咖啡机科技有限公司  1.8-2.5万·14薪  苏州-工业园区   本科  3-4年经验   \n2           高级安卓开发工程师    广州优谷信息技术有限公司    1.5-2万·13薪   广州-天河区   大专  5-7年经验   \n4          安卓APP开发工程师    上海芮想信息科技有限公司      1.5-2.2万       长沙   大专  5-7年经验   \n6  Android安卓应用高级开发工程师   深圳市微队信息技术有限公司          1-2万       昆山   本科  3-4年经验   \n\n    发布时间         公司标签                                          职位描述或任职要求  \\\n0  01-17        计算机软件  职位描述及要求:岗位职责：1、负责Android平台客户端产品开发和维护工作，并负责在实际开...   \n1  01-29  家具/家电/玩具/礼品  职责描述：1、根据需求设计功能模块的技术方案；2、独立进行功能模块的开发编码与调试；3、负责...   \n2  01-18        计算机软件  岗位职责1、负责公司核心产品，朗读亭、朗读教室、留声墙等产品的编码开发；2、对负责的编码和已...   \n4  01-10        计算机软件  任职要求：1、大专及以上学历2、5年以上安卓原生开发经验3、熟悉java开发语言，熟悉kot...   \n6  01-14        计算机软件  1、负责参与机器人项目的前期策划和目标制定并提供可行性建议；2、负责根据项目的要求，承担An...   \n\n                规模类型  地区  *n薪 最低年薪 最高年薪         薪酬_n  月薪最小值  月薪最大值  \\\n0     民营  |  50-150人  常州  NaN  NaN  NaN   8000-12000   8000  12000   \n1    民营  |  150-500人  苏州   14  NaN  NaN  18000-25000  18000  25000   \n2    民营  |  150-500人  广州   13  NaN  NaN  15000-20000  15000  20000   \n4  民营  |  1000-5000人  长沙  NaN  NaN  NaN  15000-22000  15000  22000   \n6       民营  |  少于50人  昆山  NaN  NaN  NaN  10000-20000  10000  20000   \n\n         公司规模 公司类型  \n0     50-150人   民营  \n1    150-500人   民营  \n2    150-500人   民营  \n4       少于50人   民营  \n6  1000-5000人   民营  ",
      "text/html": "<div>\n<style scoped>\n    .dataframe tbody tr th:only-of-type {\n        vertical-align: middle;\n    }\n\n    .dataframe tbody tr th {\n        vertical-align: top;\n    }\n\n    .dataframe thead th {\n        text-align: right;\n    }\n</style>\n<table border=\"1\" class=\"dataframe\">\n  <thead>\n    <tr style=\"text-align: right;\">\n      <th></th>\n      <th>职位名称</th>\n      <th>公司名称</th>\n      <th>薪酬</th>\n      <th>城市地区</th>\n      <th>学历要求</th>\n      <th>工作经验要求</th>\n      <th>发布时间</th>\n      <th>公司标签</th>\n      <th>职位描述或任职要求</th>\n      <th>规模类型</th>\n      <th>地区</th>\n      <th>*n薪</th>\n      <th>最低年薪</th>\n      <th>最高年薪</th>\n      <th>薪酬_n</th>\n      <th>月薪最小值</th>\n      <th>月薪最大值</th>\n      <th>公司规模</th>\n      <th>公司类型</th>\n    </tr>\n  </thead>\n  <tbody>\n    <tr>\n      <th>0</th>\n      <td>安卓工程师（双休 13薪）</td>\n      <td>常州市荣瑞信息自动化有限公司</td>\n      <td>8千-1.2万</td>\n      <td>常州-钟楼区</td>\n      <td>本科</td>\n      <td>3-4年经验</td>\n      <td>01-17</td>\n      <td>计算机软件</td>\n      <td>职位描述及要求:岗位职责：1、负责Android平台客户端产品开发和维护工作，并负责在实际开...</td>\n      <td>民营  |  50-150人</td>\n      <td>常州</td>\n      <td>NaN</td>\n      <td>NaN</td>\n      <td>NaN</td>\n      <td>8000-12000</td>\n      <td>8000</td>\n      <td>12000</td>\n      <td>50-150人</td>\n      <td>民营</td>\n    </tr>\n    <tr>\n      <th>1</th>\n      <td>安卓工程师</td>\n      <td>苏州咖乐美咖啡机科技有限公司</td>\n      <td>1.8-2.5万·14薪</td>\n      <td>苏州-工业园区</td>\n      <td>本科</td>\n      <td>3-4年经验</td>\n      <td>01-29</td>\n      <td>家具/家电/玩具/礼品</td>\n      <td>职责描述：1、根据需求设计功能模块的技术方案；2、独立进行功能模块的开发编码与调试；3、负责...</td>\n      <td>民营  |  150-500人</td>\n      <td>苏州</td>\n      <td>14</td>\n      <td>NaN</td>\n      <td>NaN</td>\n      <td>18000-25000</td>\n      <td>18000</td>\n      <td>25000</td>\n      <td>150-500人</td>\n      <td>民营</td>\n    </tr>\n    <tr>\n      <th>2</th>\n      <td>高级安卓开发工程师</td>\n      <td>广州优谷信息技术有限公司</td>\n      <td>1.5-2万·13薪</td>\n      <td>广州-天河区</td>\n      <td>大专</td>\n      <td>5-7年经验</td>\n      <td>01-18</td>\n      <td>计算机软件</td>\n      <td>岗位职责1、负责公司核心产品，朗读亭、朗读教室、留声墙等产品的编码开发；2、对负责的编码和已...</td>\n      <td>民营  |  150-500人</td>\n      <td>广州</td>\n      <td>13</td>\n      <td>NaN</td>\n      <td>NaN</td>\n      <td>15000-20000</td>\n      <td>15000</td>\n      <td>20000</td>\n      <td>150-500人</td>\n      <td>民营</td>\n    </tr>\n    <tr>\n      <th>4</th>\n      <td>安卓APP开发工程师</td>\n      <td>上海芮想信息科技有限公司</td>\n      <td>1.5-2.2万</td>\n      <td>长沙</td>\n      <td>大专</td>\n      <td>5-7年经验</td>\n      <td>01-10</td>\n      <td>计算机软件</td>\n      <td>任职要求：1、大专及以上学历2、5年以上安卓原生开发经验3、熟悉java开发语言，熟悉kot...</td>\n      <td>民营  |  1000-5000人</td>\n      <td>长沙</td>\n      <td>NaN</td>\n      <td>NaN</td>\n      <td>NaN</td>\n      <td>15000-22000</td>\n      <td>15000</td>\n      <td>22000</td>\n      <td>少于50人</td>\n      <td>民营</td>\n    </tr>\n    <tr>\n      <th>6</th>\n      <td>Android安卓应用高级开发工程师</td>\n      <td>深圳市微队信息技术有限公司</td>\n      <td>1-2万</td>\n      <td>昆山</td>\n      <td>本科</td>\n      <td>3-4年经验</td>\n      <td>01-14</td>\n      <td>计算机软件</td>\n      <td>1、负责参与机器人项目的前期策划和目标制定并提供可行性建议；2、负责根据项目的要求，承担An...</td>\n      <td>民营  |  少于50人</td>\n      <td>昆山</td>\n      <td>NaN</td>\n      <td>NaN</td>\n      <td>NaN</td>\n      <td>10000-20000</td>\n      <td>10000</td>\n      <td>20000</td>\n      <td>1000-5000人</td>\n      <td>民营</td>\n    </tr>\n  </tbody>\n</table>\n</div>"
     },
     "execution_count": 81,
     "metadata": {},
     "output_type": "execute_result"
    }
   ],
   "source": [
    "data1.head()"
   ],
   "metadata": {
    "collapsed": false,
    "pycharm": {
     "name": "#%%\n"
    }
   }
  },
  {
   "cell_type": "code",
   "execution_count": 82,
   "outputs": [
    {
     "data": {
      "text/plain": "                 公司规模\n行政区 companysize      \n上海  50-150人        12\n    1000-5000人      5\n    150-500人        5\n    500-1000人       5\n    少于50人           4\n...               ...\n长沙                  1\n    500-1000人       1\n青岛  1000-5000人      1\n    150-500人        1\n    500-1000人       1\n\n[117 rows x 1 columns]",
      "text/html": "<div>\n<style scoped>\n    .dataframe tbody tr th:only-of-type {\n        vertical-align: middle;\n    }\n\n    .dataframe tbody tr th {\n        vertical-align: top;\n    }\n\n    .dataframe thead th {\n        text-align: right;\n    }\n</style>\n<table border=\"1\" class=\"dataframe\">\n  <thead>\n    <tr style=\"text-align: right;\">\n      <th></th>\n      <th></th>\n      <th>公司规模</th>\n    </tr>\n    <tr>\n      <th>行政区</th>\n      <th>companysize</th>\n      <th></th>\n    </tr>\n  </thead>\n  <tbody>\n    <tr>\n      <th rowspan=\"5\" valign=\"top\">上海</th>\n      <th>50-150人</th>\n      <td>12</td>\n    </tr>\n    <tr>\n      <th>1000-5000人</th>\n      <td>5</td>\n    </tr>\n    <tr>\n      <th>150-500人</th>\n      <td>5</td>\n    </tr>\n    <tr>\n      <th>500-1000人</th>\n      <td>5</td>\n    </tr>\n    <tr>\n      <th>少于50人</th>\n      <td>4</td>\n    </tr>\n    <tr>\n      <th>...</th>\n      <th>...</th>\n      <td>...</td>\n    </tr>\n    <tr>\n      <th rowspan=\"2\" valign=\"top\">长沙</th>\n      <th></th>\n      <td>1</td>\n    </tr>\n    <tr>\n      <th>500-1000人</th>\n      <td>1</td>\n    </tr>\n    <tr>\n      <th rowspan=\"3\" valign=\"top\">青岛</th>\n      <th>1000-5000人</th>\n      <td>1</td>\n    </tr>\n    <tr>\n      <th>150-500人</th>\n      <td>1</td>\n    </tr>\n    <tr>\n      <th>500-1000人</th>\n      <td>1</td>\n    </tr>\n  </tbody>\n</table>\n<p>117 rows × 1 columns</p>\n</div>"
     },
     "execution_count": 82,
     "metadata": {},
     "output_type": "execute_result"
    }
   ],
   "source": [
    "pd.DataFrame(data1.groupby('地区')['公司规模'].value_counts()).rename_axis([\"行政区\", \"companysize\"])"
   ],
   "metadata": {
    "collapsed": false,
    "pycharm": {
     "name": "#%%\n"
    }
   }
  },
  {
   "cell_type": "code",
   "execution_count": 83,
   "outputs": [
    {
     "data": {
      "text/plain": "0      1.0\n1      1.0\n2      1.0\n4      1.0\n6      1.0\n      ... \n489    NaN\n491    NaN\n494    NaN\n495    NaN\n497    NaN\nName: 发布时间, Length: 396, dtype: float64"
     },
     "execution_count": 83,
     "metadata": {},
     "output_type": "execute_result"
    }
   ],
   "source": [
    "data1['发布时间'] = pd.to_datetime(data1['发布时间'], format=\"%m-%d\")\n",
    "data1['发布时间'].apply(lambda x:x.day)\n",
    "data1['发布时间'].apply(lambda x:x.month)"
   ],
   "metadata": {
    "collapsed": false,
    "pycharm": {
     "name": "#%%\n"
    }
   }
  },
  {
   "cell_type": "code",
   "execution_count": 84,
   "outputs": [
    {
     "data": {
      "text/plain": "          地区\n发布日  行政区    \n1.0  厦门    1\n     广州    1\n     武汉    1\n2.0  武汉    1\n     深圳    1\n...       ..\n29.0 惠州    1\n     武汉    1\n31.0 上海    1\n     佛山    1\n     深圳    1\n\n[176 rows x 1 columns]",
      "text/html": "<div>\n<style scoped>\n    .dataframe tbody tr th:only-of-type {\n        vertical-align: middle;\n    }\n\n    .dataframe tbody tr th {\n        vertical-align: top;\n    }\n\n    .dataframe thead th {\n        text-align: right;\n    }\n</style>\n<table border=\"1\" class=\"dataframe\">\n  <thead>\n    <tr style=\"text-align: right;\">\n      <th></th>\n      <th></th>\n      <th>地区</th>\n    </tr>\n    <tr>\n      <th>发布日</th>\n      <th>行政区</th>\n      <th></th>\n    </tr>\n  </thead>\n  <tbody>\n    <tr>\n      <th rowspan=\"3\" valign=\"top\">1.0</th>\n      <th>厦门</th>\n      <td>1</td>\n    </tr>\n    <tr>\n      <th>广州</th>\n      <td>1</td>\n    </tr>\n    <tr>\n      <th>武汉</th>\n      <td>1</td>\n    </tr>\n    <tr>\n      <th rowspan=\"2\" valign=\"top\">2.0</th>\n      <th>武汉</th>\n      <td>1</td>\n    </tr>\n    <tr>\n      <th>深圳</th>\n      <td>1</td>\n    </tr>\n    <tr>\n      <th>...</th>\n      <th>...</th>\n      <td>...</td>\n    </tr>\n    <tr>\n      <th rowspan=\"2\" valign=\"top\">29.0</th>\n      <th>惠州</th>\n      <td>1</td>\n    </tr>\n    <tr>\n      <th>武汉</th>\n      <td>1</td>\n    </tr>\n    <tr>\n      <th rowspan=\"3\" valign=\"top\">31.0</th>\n      <th>上海</th>\n      <td>1</td>\n    </tr>\n    <tr>\n      <th>佛山</th>\n      <td>1</td>\n    </tr>\n    <tr>\n      <th>深圳</th>\n      <td>1</td>\n    </tr>\n  </tbody>\n</table>\n<p>176 rows × 1 columns</p>\n</div>"
     },
     "execution_count": 84,
     "metadata": {},
     "output_type": "execute_result"
    }
   ],
   "source": [
    "pd.DataFrame(data1.groupby([data1.发布时间.apply(lambda x:x.day)])['地区'].value_counts()).rename_axis([\"发布日\", \"行政区\"])"
   ],
   "metadata": {
    "collapsed": false,
    "pycharm": {
     "name": "#%%\n"
    }
   }
  },
  {
   "cell_type": "code",
   "execution_count": 85,
   "outputs": [
    {
     "data": {
      "text/plain": "工作经验要求  月薪最小值\n1年经验    15000    16\n        10000     8\n        8000      8\n        13000     5\n        12000     4\n                 ..\n无需经验    15000     1\n        16000     1\n        20000     1\n        4000      1\n        8000      1\nName: 月薪最小值, Length: 75, dtype: int64"
     },
     "execution_count": 85,
     "metadata": {},
     "output_type": "execute_result"
    }
   ],
   "source": [
    "data1.groupby('工作经验要求')['月薪最小值'].value_counts()"
   ],
   "metadata": {
    "collapsed": false,
    "pycharm": {
     "name": "#%%\n"
    }
   }
  },
  {
   "cell_type": "code",
   "execution_count": 86,
   "outputs": [
    {
     "data": {
      "text/plain": "地区\n常州     0\n苏州     0\n广州     1\n长沙     2\n昆山     0\n深圳    10\n杭州     1\n宁波     0\n扬州     2\n佛山     2\n成都     1\n上海     2\n重庆     2\n大连     0\n武汉     0\n惠州     0\n济南     0\n南通     0\n东莞     0\n北京     0\n常熟     0\n南京     1\n青岛     0\n合肥     0\n中山     1\n宜宾     0\n长春     0\n厦门     0\n桂林     0\n昆明     0\n南宁     0\n福州     0\n天津     0\n珠海     0\n无锡     0\n延吉     0\n芜湖     0\n西安     0\n海口     0\nName: 公司名称, dtype: int64"
     },
     "execution_count": 86,
     "metadata": {},
     "output_type": "execute_result"
    }
   ],
   "source": [
    "data1.groupby(\"地区\", sort=False)[\"公司名称\"].apply(lambda x: x.str.contains(\"信息科技\").sum())"
   ],
   "metadata": {
    "collapsed": false,
    "pycharm": {
     "name": "#%%\n"
    }
   }
  },
  {
   "cell_type": "code",
   "execution_count": 87,
   "outputs": [
    {
     "data": {
      "text/plain": "                           职位名称                公司名称             薪酬     城市地区  \\\n2                     高级安卓开发工程师        广州优谷信息技术有限公司     1.5-2万·13薪   广州-天河区   \n6            Android安卓应用高级开发工程师       深圳市微队信息技术有限公司           1-2万       昆山   \n23              安卓开发工程师(J10686)      中移（杭州）信息技术有限公司       2-4万·16薪       长沙   \n54                 Android安卓工程师    滨江兄弟信息技术（杭州）有限公司  7.5千-1.2万·14薪       长沙   \n78                      安卓研发工程师        江苏敏行信息技术有限公司       1-2万·13薪   武汉-汉阳区   \n84          安卓软件开发工程师（国内/欧美/对日）        大连隆基信息技术有限公司        8千-1.5万       长沙   \n97            安卓/Android软件开发工程师        青岛腾创信息技术有限公司           6-9千   深圳-南山区   \n117           安卓/Android软件开发工程师        青岛腾创信息技术有限公司           6-9千  上海-浦东新区   \n119           安卓应用开发工程师(J15512)        上海云角信息技术有限公司         1.6-2万       常熟   \n144        安卓系统工程师（佛山桂城上班，提供住宿）      广东天波信息技术股份有限公司           1-2万   深圳-宝安区   \n163                   高级安卓系统工程师      广东天波信息技术股份有限公司         1.7-3万       上海   \n167                   安卓应用开发工程师      广东天波信息技术股份有限公司        9千-1.3万       青岛   \n171      高级安卓系统工程师（佛山桂城上班，提供住宿）      广东天波信息技术股份有限公司         1.5-3万   杭州-钱塘区   \n192                     安卓开发工程师        成都迈思信息技术有限公司         1.5-2万   成都-武侯区   \n209                     安卓系统工程师      广东天波信息技术股份有限公司           1-2万   深圳-罗湖区   \n216      高级安卓系统工程师（佛山桂城上班，提供住宿）      广东天波信息技术股份有限公司         1.5-3万       深圳   \n224                     安卓开发工程师      江苏卓恒信息技术发展有限公司        8千-1.5万   深圳-宝安区   \n268                   高级安卓开发工程师      深圳云卓科通信息技术有限公司       2.5-3.5万  上海-浦东新区   \n278                     安卓开发工程师    苏州云联智慧信息技术应用有限公司     1-1.5万·15薪   广州-天河区   \n286  Android Framework（安卓开发工程师）        宝马诚迈信息技术有限公司       1.5-2.5万   深圳-宝安区   \n288            APP软件开发工程师主管安卓前端        广州森泰信息技术有限公司         1.2-2万   深圳-宝安区   \n309                    安卓 开发工程师   大连亿达信息技术有限公司深圳分公司         1.5-2万   深圳-龙华区   \n318                  安卓APP开发工程师     深圳市汉锐信息技术股份有限公司          5千-1万   深圳-南山区   \n334                     安卓开发工程师        成都迈思信息技术有限公司       1.6-1.7万   上海-闵行区   \n337              安卓Android开发工程师  京北方信息技术股份有限公司珠海分公司     1.3-2万·13薪   深圳-龙华区   \n342                 安卓系统高级开发工程师      武汉东信同邦信息技术有限公司         1.5-3万   深圳-南山区   \n343                  安卓开发工程师-长沙  京北方信息技术股份有限公司珠海分公司         1-1.8万       武汉   \n353                  安卓开发工程师-合肥  京北方信息技术股份有限公司武汉分公司         1-1.6万       重庆   \n354              安卓开发工程师（大厂+餐补）       深圳市德科信息技术有限公司         1-1.5万   福州-鼓楼区   \n362                     安卓开发工程师       深圳市德科信息技术有限公司       1.4-2.8万   深圳-宝安区   \n378              Android安卓软件工程师      郑州中软高科信息技术有限公司        8千-1.5万   广州-白云区   \n383               高级安卓开发工程师（驻场）        上海软凌信息技术有限公司       1.7-2.4万   常州-天宁区   \n393                     安卓开发工程师      深圳极联信息技术股份有限公司         1.5-2万       长沙   \n395                  安卓客户端开发工程师        杭州海量信息技术有限公司        8千-1.6万   深圳-宝安区   \n405        安卓开发工程师（外派港资+粤语+氛围好）      深圳极联信息技术股份有限公司         1.2-2万   上海-普陀区   \n406             Android/安卓开发工程师    宇博信诚（北京）信息技术有限公司   1.3-1.5万·13薪   珠海-香洲区   \n425                   安卓系统开发工程师      武汉光庭信息技术股份有限公司         1.6-2万       深圳   \n434             Android/安卓开发工程师     北京双顺达信息技术股份有限公司           5-8千   广州-海珠区   \n440                   安卓助理开发工程师        合肥星游信息技术有限公司           4-6千       深圳   \n442            Android开发工程师（安卓）       京北方信息技术股份有限公司         1-1.5万   深圳-宝安区   \n444              Android安卓开发工程师  京北方信息技术股份有限公司珠海分公司       1.1-1.8万   东莞-凤岗镇   \n446              Android安卓开发工程师      南昌市微轲联信息技术有限公司        8千-1.5万   厦门-思明区   \n464            安卓framework开发工程师        南京睿悦信息技术有限公司         1.5-3万   深圳-宝安区   \n495                  安卓开发（线上面试）        杭州博彦信息技术有限公司       1.3-1.7万   深圳-南山区   \n\n        学历要求  工作经验要求       发布时间               公司标签  \\\n2         大专  5-7年经验 1900-01-18              计算机软件   \n6         本科  3-4年经验 1900-01-14              计算机软件   \n23        本科  3-4年经验 1900-01-28           互联网/电子商务   \n54        大专  5-7年经验 1900-01-29              计算机软件   \n78        本科    2年经验 1900-01-16              计算机软件   \n84        大专  5-7年经验 1900-01-29              计算机软件   \n97        本科    1年经验 1900-01-29      电子技术/半导体/集成电路   \n117       大专  3-4年经验 1900-01-29      电子技术/半导体/集成电路   \n119       本科  5-7年经验 1900-01-29              计算机软件   \n144       大专    1年经验 1900-01-28      电子技术/半导体/集成电路   \n163       本科  3-4年经验 1900-01-21      电子技术/半导体/集成电路   \n167       本科    2年经验 1900-01-17      电子技术/半导体/集成电路   \n171       本科    2年经验 1900-01-17      电子技术/半导体/集成电路   \n192       本科  3-4年经验 1900-01-19              计算机软件   \n209       大专    2年经验 1900-01-16      电子技术/半导体/集成电路   \n216       本科  3-4年经验 1900-01-12      电子技术/半导体/集成电路   \n224       本科    无需经验 1900-01-15              计算机硬件   \n268       本科  5-7年经验 1900-01-10              计算机软件   \n278       本科    2年经验 1900-01-10              计算机软件   \n286       本科  3-4年经验 1900-01-06              计算机软件   \n288       大专    1年经验 1900-01-03           互联网/电子商务   \n309       本科  3-4年经验 1900-01-03              计算机软件   \n318       本科  3-4年经验 1900-12-23              计算机软件   \n334       本科  3-4年经验 1900-12-20              计算机软件   \n337    中技/中专  3-4年经验 1900-12-20              计算机软件   \n342       本科    2年经验 1900-12-21              计算机硬件   \n343       本科  3-4年经验 1900-12-20              计算机软件   \n353       本科    2年经验 1900-12-20  计算机服务(系统、数据服务、维修)   \n354       本科  3-4年经验 1900-12-19  计算机服务(系统、数据服务、维修)   \n362       本科  3-4年经验 1900-12-15  计算机服务(系统、数据服务、维修)   \n378       大专    1年经验 1900-12-10              计算机软件   \n383       本科  3-4年经验 1900-12-08              计算机软件   \n393       本科    2年经验 1900-12-07              计算机软件   \n395       大专    2年经验 1900-12-07              计算机软件   \n405       本科    1年经验        NaT              计算机软件   \n406       本科  3-4年经验        NaT  计算机服务(系统、数据服务、维修)   \n425  12-20发布    无需经验        NaT              计算机软件   \n434       本科    1年经验        NaT              计算机软件   \n440  12-20发布    无需经验        NaT              计算机软件   \n442       大专  3-4年经验        NaT               外包服务   \n444       本科  3-4年经验        NaT              计算机软件   \n446       大专    1年经验        NaT              计算机软件   \n464       本科  5-7年经验        NaT              计算机软件   \n495       本科    1年经验        NaT           互联网/电子商务   \n\n                                             职位描述或任职要求                  规模类型  \\\n2    岗位职责1、负责公司核心产品，朗读亭、朗读教室、留声墙等产品的编码开发；2、对负责的编码和已...       民营  |  150-500人   \n6    1、负责参与机器人项目的前期策划和目标制定并提供可行性建议；2、负责根据项目的要求，承担An...          民营  |  少于50人   \n23   1.负责Android平台底层开发和驱动移植调试工作，与硬件工程师沟通合作，解决项目研发和量...     国企  |  1000-5000人   \n54   任职要求：1、大专及以上学历2、5年以上安卓原生开发经验3、熟悉java开发语言，熟悉kot...  外资（非欧美）  |  150-500人   \n78   简介：4个月短期项目，4个月短期项目，4个月短期项目！！签署兼职协议，薪资范围：18k-22...        民营  |  50-150人   \n84   任职要求：1、大专及以上学历2、5年以上安卓原生开发经验3、熟悉java开发语言，熟悉kot...       民营  |  150-500人   \n97   1、负责公司业务所需的Android的设计和开发；2、参与项目需求分析、产品模块的概要和详细...                  民营     \n117  岗位职责：1、你将协助完成公司Android客户端的开发，部分参与架构设计及优化、需求分析，...                  民营     \n119  工作内容：1、负责投影仪平台自动聚焦，梯形校正（主要是安华和歌尔等厂家算法）feature；...        民营  |  50-150人   \n144  岗位职责：1.对产品进行用例设计.系统测试，完成产品的质量保证和发布；2.根据项目要求制定性...      民营  |  500-1000人   \n163  岗位职责：1、负责APP架构（平台、数据库、接口和应用架构、客户端等）设计与实现；2、处理所...      民营  |  500-1000人   \n167  1.负责移动平台Android客户端的应用开发；2.负责Android手机平台应用软件的需求...      民营  |  500-1000人   \n171  岗位职责1、负责配合完成与APP层以及底层驱动的对接工作2、负责公司安卓应用软件框架的开发；...      民营  |  500-1000人   \n192  1.负责完成Android平台移动应用产品开发及架构设计。2.对项目的需求，进行系统分析并提...     民营  |  1000-5000人   \n209  岗位职责：1.负责Android平台系统的开发与维护；2.参与新需求的技术实现讨论与框架设计...      民营  |  500-1000人   \n216  岗位职责：1.负责linux动态库的开发；2.负责androidframework的设计和开...      民营  |  500-1000人   \n224  任职资格：1.统招本科及以上学历，电子、软件工程等相关专业，欢迎优秀应届生投递；2.熟悉Li...          民营  |  少于50人   \n268  PositionOverviewWearelookingforsomeonewhohasas...                  民营     \n278  岗位职责：1、参与公司Android项目框架的搭建，功能开发；2、参与应用系统开发过程产出文...       民营  |  150-500人   \n286  岗位职责：1.负责公司AndroidAPP产品的研发和维护，能编写高质量的代码；2.和产品经...       合资  |  150-500人   \n288  1.具有良好的java基础，理解面向对象编程原理，熟悉常用的设计模式。2.良好的ui绘制基础...        合资  |  50-150人   \n309  1、熟悉JAVA2、熟练使用adb命令3、熟练使用JNI开发（JAVA与C接口开发，如串口开...      民营  |  500-1000人   \n318  深圳顺晨网络科技有限公司高级安卓SDK开发工程师(25-40w)职位描述工作职责：1、负责公...                  民营     \n334  1、负责智能硬件设备AndroidAPP的功能开发、调试；2、优化App性能、稳定性与用户体...     民营  |  1000-5000人   \n337  岗位职责：一、负责安卓开发监控摄像头；二、视频编解码。岗位要求：一、熟练使用编程语言：JAV...          民营  |  少于50人   \n342  1、负责系统级功能的方案设计、开发、评估和维护。2、负责android系统层的性能、内存、稳...       民营  |  150-500人   \n343  岗位职责：1.负责公司新产品的开发工作。2.根据产品需求开发相关的移动客户端产品。3.不断优...          民营  |  少于50人   \n353  岗位职责1.根据产品设计和原型设计，保时保质地完成Android客户端的功能开发；2.根据开...      民营  |  500-1000人   \n354  岗位职责：1、负责公司安卓终端产品的应用及移动端app开发工作，包括需求评审、软件设计、开发...     民营  |  1000-5000人   \n362  任职要求：1.本科以上学历，计算机、电子工程、通信工程、软件工程等相关专业3年以上软件设计工...     民营  |  1000-5000人   \n378  岗位职责：1、全面负责android系统平台上的客户端软件的产品开发与维护；2、按软件需求完...       民营  |  150-500人   \n383  岗位职责1、负责移动端开发和维护2、负责解决开发过程中的技术问题3、参与业务需求讨论设计，以...        民营  |  50-150人   \n393  1、本科及以上学历，学信网可查，2年以上Android原生开发经验；2、深刻理解Androi...      民营  |  500-1000人   \n395  岗位职责：1.负责MTK或展锐Android平台外设驱动程序（Touch,LCD,Camer...       已上市  |  50-150人   \n405  1.负责Android应用开发，保证产品稳定迭代；2.参与需求调研、项目可行性分析、技术可行...      民营  |  500-1000人   \n406  岗位职责：1、负责？Android？应用产品核心功能开发；2、负责？Android？部分代码...  外资（非欧美）  |  150-500人   \n425  工作地点：比亚迪总部六角大楼深圳市坪山区比亚迪路3009号岗位职责：1、参与产品需求评审、U...    已上市  |  1000-5000人   \n434  发展理念：1、\\tWebelievethatWritetheCode,ChangetheWo...                  民营     \n440  工作地点：比亚迪总部六角大楼深圳市坪山区比亚迪路3009号岗位职责：1、参与产品需求评审、U...          民营  |  少于50人   \n442  岗位职责：1、计算机通信电子自动化相关专业，3年以上安卓系统开发经验；2、熟练运用Andro...       民营  |  10000人以上   \n444  1.\\t负责产品应用软件部分的设计，配合项目组按计划完成产品应用软件方面的开发任务；2.\\t...          民营  |  少于50人   \n446  岗位职责：1.负责公司车载信息娱乐核心需求的开发；2.从事Android平台软件产品开发；3...        民营  |  50-150人   \n464  岗位职责：1.负责iOS/安卓原生app、国内公众号、小程序软件产品代码的开发、调试、测试、...                  民营     \n495  岗位职责：1、负责Android项目核心模块代码编写；2、负责设计文档的编写，CodeRev...    民营  |  5000-10000人   \n\n     地区  *n薪 最低年薪 最高年薪         薪酬_n  月薪最小值  月薪最大值        公司规模    公司类型  \n2    广州   13  NaN  NaN  15000-20000  15000  20000    150-500人      民营  \n6    昆山  NaN  NaN  NaN  10000-20000  10000  20000  1000-5000人      民营  \n23   长沙   16  NaN  NaN  20000-40000  20000  40000     50-150人      民营  \n54   长沙   14  NaN  NaN   7500-12000   7500  12000    150-500人      合资  \n78   武汉   13  NaN  NaN  10000-20000  10000  20000    10000人以上     已上市  \n84   长沙  NaN  NaN  NaN   8000-15000   8000  15000     50-150人      民营  \n97   深圳  NaN  NaN  NaN    6000-9000   6000   9000    150-500人      合资  \n117  上海  NaN  NaN  NaN    6000-9000   6000   9000     50-150人      民营  \n119  常熟  NaN  NaN  NaN  16000-20000  16000  20000       少于50人      民营  \n144  深圳  NaN  NaN  NaN  10000-20000  10000  20000     50-150人      民营  \n163  上海  NaN  NaN  NaN  17000-30000  17000  30000   500-1000人      民营  \n167  青岛  NaN  NaN  NaN   9000-13000   9000  13000    150-500人     已上市  \n171  杭州  NaN  NaN  NaN  15000-30000  15000  30000    10000人以上     已上市  \n192  成都  NaN  NaN  NaN  15000-20000  15000  20000  1000-5000人      民营  \n209  深圳  NaN  NaN  NaN  10000-20000  10000  20000    150-500人     已上市  \n216  深圳  NaN  NaN  NaN  15000-30000  15000  30000       少于50人      民营  \n224  深圳  NaN  NaN  NaN   8000-15000   8000  15000     50-150人      民营  \n268  上海  NaN  NaN  NaN  25000-35000  25000  35000  1000-5000人      民营  \n278  广州   15  NaN  NaN  10000-15000  10000  15000    150-500人      民营  \n286  深圳  NaN  NaN  NaN  15000-25000  15000  25000    150-500人      民营  \n288  深圳  NaN  NaN  NaN  12000-20000  12000  20000     50-150人      民营  \n309  深圳  NaN  NaN  NaN  15000-20000  15000  20000     50-150人      民营  \n318  深圳  NaN  NaN  NaN   5000-10000   5000  10000       少于50人      民营  \n334  上海  NaN  NaN  NaN  16000-17000  16000  17000     50-150人      民营  \n337  深圳   13  NaN  NaN  13000-20000  13000  20000    150-500人      合资  \n342  深圳  NaN  NaN  NaN  15000-30000  15000  30000     50-150人      民营  \n343  武汉  NaN  NaN  NaN  10000-18000  10000  18000                  民营  \n353  重庆  NaN  NaN  NaN  10000-16000  10000  16000    10000人以上      民营  \n354  福州  NaN  NaN  NaN  10000-15000  10000  15000    150-500人      民营  \n362  深圳  NaN  NaN  NaN  14000-28000  14000  28000    10000人以上  外资（欧美）  \n378  广州  NaN  NaN  NaN   8000-15000   8000  15000     50-150人    事业单位  \n383  常州  NaN  NaN  NaN  17000-24000  17000  24000     50-150人      民营  \n393  长沙  NaN  NaN  NaN  15000-20000  15000  20000  1000-5000人      民营  \n395  深圳  NaN  NaN  NaN   8000-16000   8000  16000     50-150人      民营  \n405  上海  NaN  NaN  NaN  12000-20000  12000  20000         NaN     NaN  \n406  珠海   13  NaN  NaN  13000-15000  13000  15000         NaN     NaN  \n425  深圳  NaN  NaN  NaN  16000-20000  16000  20000         NaN     NaN  \n434  广州  NaN  NaN  NaN    5000-8000   5000   8000         NaN     NaN  \n440  深圳  NaN  NaN  NaN    4000-6000   4000   6000         NaN     NaN  \n442  深圳  NaN  NaN  NaN  10000-15000  10000  15000         NaN     NaN  \n444  东莞  NaN  NaN  NaN  11000-18000  11000  18000         NaN     NaN  \n446  厦门  NaN  NaN  NaN   8000-15000   8000  15000         NaN     NaN  \n464  深圳  NaN  NaN  NaN  15000-30000  15000  30000         NaN     NaN  \n495  深圳  NaN  NaN  NaN  13000-17000  13000  17000         NaN     NaN  ",
      "text/html": "<div>\n<style scoped>\n    .dataframe tbody tr th:only-of-type {\n        vertical-align: middle;\n    }\n\n    .dataframe tbody tr th {\n        vertical-align: top;\n    }\n\n    .dataframe thead th {\n        text-align: right;\n    }\n</style>\n<table border=\"1\" class=\"dataframe\">\n  <thead>\n    <tr style=\"text-align: right;\">\n      <th></th>\n      <th>职位名称</th>\n      <th>公司名称</th>\n      <th>薪酬</th>\n      <th>城市地区</th>\n      <th>学历要求</th>\n      <th>工作经验要求</th>\n      <th>发布时间</th>\n      <th>公司标签</th>\n      <th>职位描述或任职要求</th>\n      <th>规模类型</th>\n      <th>地区</th>\n      <th>*n薪</th>\n      <th>最低年薪</th>\n      <th>最高年薪</th>\n      <th>薪酬_n</th>\n      <th>月薪最小值</th>\n      <th>月薪最大值</th>\n      <th>公司规模</th>\n      <th>公司类型</th>\n    </tr>\n  </thead>\n  <tbody>\n    <tr>\n      <th>2</th>\n      <td>高级安卓开发工程师</td>\n      <td>广州优谷信息技术有限公司</td>\n      <td>1.5-2万·13薪</td>\n      <td>广州-天河区</td>\n      <td>大专</td>\n      <td>5-7年经验</td>\n      <td>1900-01-18</td>\n      <td>计算机软件</td>\n      <td>岗位职责1、负责公司核心产品，朗读亭、朗读教室、留声墙等产品的编码开发；2、对负责的编码和已...</td>\n      <td>民营  |  150-500人</td>\n      <td>广州</td>\n      <td>13</td>\n      <td>NaN</td>\n      <td>NaN</td>\n      <td>15000-20000</td>\n      <td>15000</td>\n      <td>20000</td>\n      <td>150-500人</td>\n      <td>民营</td>\n    </tr>\n    <tr>\n      <th>6</th>\n      <td>Android安卓应用高级开发工程师</td>\n      <td>深圳市微队信息技术有限公司</td>\n      <td>1-2万</td>\n      <td>昆山</td>\n      <td>本科</td>\n      <td>3-4年经验</td>\n      <td>1900-01-14</td>\n      <td>计算机软件</td>\n      <td>1、负责参与机器人项目的前期策划和目标制定并提供可行性建议；2、负责根据项目的要求，承担An...</td>\n      <td>民营  |  少于50人</td>\n      <td>昆山</td>\n      <td>NaN</td>\n      <td>NaN</td>\n      <td>NaN</td>\n      <td>10000-20000</td>\n      <td>10000</td>\n      <td>20000</td>\n      <td>1000-5000人</td>\n      <td>民营</td>\n    </tr>\n    <tr>\n      <th>23</th>\n      <td>安卓开发工程师(J10686)</td>\n      <td>中移（杭州）信息技术有限公司</td>\n      <td>2-4万·16薪</td>\n      <td>长沙</td>\n      <td>本科</td>\n      <td>3-4年经验</td>\n      <td>1900-01-28</td>\n      <td>互联网/电子商务</td>\n      <td>1.负责Android平台底层开发和驱动移植调试工作，与硬件工程师沟通合作，解决项目研发和量...</td>\n      <td>国企  |  1000-5000人</td>\n      <td>长沙</td>\n      <td>16</td>\n      <td>NaN</td>\n      <td>NaN</td>\n      <td>20000-40000</td>\n      <td>20000</td>\n      <td>40000</td>\n      <td>50-150人</td>\n      <td>民营</td>\n    </tr>\n    <tr>\n      <th>54</th>\n      <td>Android安卓工程师</td>\n      <td>滨江兄弟信息技术（杭州）有限公司</td>\n      <td>7.5千-1.2万·14薪</td>\n      <td>长沙</td>\n      <td>大专</td>\n      <td>5-7年经验</td>\n      <td>1900-01-29</td>\n      <td>计算机软件</td>\n      <td>任职要求：1、大专及以上学历2、5年以上安卓原生开发经验3、熟悉java开发语言，熟悉kot...</td>\n      <td>外资（非欧美）  |  150-500人</td>\n      <td>长沙</td>\n      <td>14</td>\n      <td>NaN</td>\n      <td>NaN</td>\n      <td>7500-12000</td>\n      <td>7500</td>\n      <td>12000</td>\n      <td>150-500人</td>\n      <td>合资</td>\n    </tr>\n    <tr>\n      <th>78</th>\n      <td>安卓研发工程师</td>\n      <td>江苏敏行信息技术有限公司</td>\n      <td>1-2万·13薪</td>\n      <td>武汉-汉阳区</td>\n      <td>本科</td>\n      <td>2年经验</td>\n      <td>1900-01-16</td>\n      <td>计算机软件</td>\n      <td>简介：4个月短期项目，4个月短期项目，4个月短期项目！！签署兼职协议，薪资范围：18k-22...</td>\n      <td>民营  |  50-150人</td>\n      <td>武汉</td>\n      <td>13</td>\n      <td>NaN</td>\n      <td>NaN</td>\n      <td>10000-20000</td>\n      <td>10000</td>\n      <td>20000</td>\n      <td>10000人以上</td>\n      <td>已上市</td>\n    </tr>\n    <tr>\n      <th>84</th>\n      <td>安卓软件开发工程师（国内/欧美/对日）</td>\n      <td>大连隆基信息技术有限公司</td>\n      <td>8千-1.5万</td>\n      <td>长沙</td>\n      <td>大专</td>\n      <td>5-7年经验</td>\n      <td>1900-01-29</td>\n      <td>计算机软件</td>\n      <td>任职要求：1、大专及以上学历2、5年以上安卓原生开发经验3、熟悉java开发语言，熟悉kot...</td>\n      <td>民营  |  150-500人</td>\n      <td>长沙</td>\n      <td>NaN</td>\n      <td>NaN</td>\n      <td>NaN</td>\n      <td>8000-15000</td>\n      <td>8000</td>\n      <td>15000</td>\n      <td>50-150人</td>\n      <td>民营</td>\n    </tr>\n    <tr>\n      <th>97</th>\n      <td>安卓/Android软件开发工程师</td>\n      <td>青岛腾创信息技术有限公司</td>\n      <td>6-9千</td>\n      <td>深圳-南山区</td>\n      <td>本科</td>\n      <td>1年经验</td>\n      <td>1900-01-29</td>\n      <td>电子技术/半导体/集成电路</td>\n      <td>1、负责公司业务所需的Android的设计和开发；2、参与项目需求分析、产品模块的概要和详细...</td>\n      <td>民营</td>\n      <td>深圳</td>\n      <td>NaN</td>\n      <td>NaN</td>\n      <td>NaN</td>\n      <td>6000-9000</td>\n      <td>6000</td>\n      <td>9000</td>\n      <td>150-500人</td>\n      <td>合资</td>\n    </tr>\n    <tr>\n      <th>117</th>\n      <td>安卓/Android软件开发工程师</td>\n      <td>青岛腾创信息技术有限公司</td>\n      <td>6-9千</td>\n      <td>上海-浦东新区</td>\n      <td>大专</td>\n      <td>3-4年经验</td>\n      <td>1900-01-29</td>\n      <td>电子技术/半导体/集成电路</td>\n      <td>岗位职责：1、你将协助完成公司Android客户端的开发，部分参与架构设计及优化、需求分析，...</td>\n      <td>民营</td>\n      <td>上海</td>\n      <td>NaN</td>\n      <td>NaN</td>\n      <td>NaN</td>\n      <td>6000-9000</td>\n      <td>6000</td>\n      <td>9000</td>\n      <td>50-150人</td>\n      <td>民营</td>\n    </tr>\n    <tr>\n      <th>119</th>\n      <td>安卓应用开发工程师(J15512)</td>\n      <td>上海云角信息技术有限公司</td>\n      <td>1.6-2万</td>\n      <td>常熟</td>\n      <td>本科</td>\n      <td>5-7年经验</td>\n      <td>1900-01-29</td>\n      <td>计算机软件</td>\n      <td>工作内容：1、负责投影仪平台自动聚焦，梯形校正（主要是安华和歌尔等厂家算法）feature；...</td>\n      <td>民营  |  50-150人</td>\n      <td>常熟</td>\n      <td>NaN</td>\n      <td>NaN</td>\n      <td>NaN</td>\n      <td>16000-20000</td>\n      <td>16000</td>\n      <td>20000</td>\n      <td>少于50人</td>\n      <td>民营</td>\n    </tr>\n    <tr>\n      <th>144</th>\n      <td>安卓系统工程师（佛山桂城上班，提供住宿）</td>\n      <td>广东天波信息技术股份有限公司</td>\n      <td>1-2万</td>\n      <td>深圳-宝安区</td>\n      <td>大专</td>\n      <td>1年经验</td>\n      <td>1900-01-28</td>\n      <td>电子技术/半导体/集成电路</td>\n      <td>岗位职责：1.对产品进行用例设计.系统测试，完成产品的质量保证和发布；2.根据项目要求制定性...</td>\n      <td>民营  |  500-1000人</td>\n      <td>深圳</td>\n      <td>NaN</td>\n      <td>NaN</td>\n      <td>NaN</td>\n      <td>10000-20000</td>\n      <td>10000</td>\n      <td>20000</td>\n      <td>50-150人</td>\n      <td>民营</td>\n    </tr>\n    <tr>\n      <th>163</th>\n      <td>高级安卓系统工程师</td>\n      <td>广东天波信息技术股份有限公司</td>\n      <td>1.7-3万</td>\n      <td>上海</td>\n      <td>本科</td>\n      <td>3-4年经验</td>\n      <td>1900-01-21</td>\n      <td>电子技术/半导体/集成电路</td>\n      <td>岗位职责：1、负责APP架构（平台、数据库、接口和应用架构、客户端等）设计与实现；2、处理所...</td>\n      <td>民营  |  500-1000人</td>\n      <td>上海</td>\n      <td>NaN</td>\n      <td>NaN</td>\n      <td>NaN</td>\n      <td>17000-30000</td>\n      <td>17000</td>\n      <td>30000</td>\n      <td>500-1000人</td>\n      <td>民营</td>\n    </tr>\n    <tr>\n      <th>167</th>\n      <td>安卓应用开发工程师</td>\n      <td>广东天波信息技术股份有限公司</td>\n      <td>9千-1.3万</td>\n      <td>青岛</td>\n      <td>本科</td>\n      <td>2年经验</td>\n      <td>1900-01-17</td>\n      <td>电子技术/半导体/集成电路</td>\n      <td>1.负责移动平台Android客户端的应用开发；2.负责Android手机平台应用软件的需求...</td>\n      <td>民营  |  500-1000人</td>\n      <td>青岛</td>\n      <td>NaN</td>\n      <td>NaN</td>\n      <td>NaN</td>\n      <td>9000-13000</td>\n      <td>9000</td>\n      <td>13000</td>\n      <td>150-500人</td>\n      <td>已上市</td>\n    </tr>\n    <tr>\n      <th>171</th>\n      <td>高级安卓系统工程师（佛山桂城上班，提供住宿）</td>\n      <td>广东天波信息技术股份有限公司</td>\n      <td>1.5-3万</td>\n      <td>杭州-钱塘区</td>\n      <td>本科</td>\n      <td>2年经验</td>\n      <td>1900-01-17</td>\n      <td>电子技术/半导体/集成电路</td>\n      <td>岗位职责1、负责配合完成与APP层以及底层驱动的对接工作2、负责公司安卓应用软件框架的开发；...</td>\n      <td>民营  |  500-1000人</td>\n      <td>杭州</td>\n      <td>NaN</td>\n      <td>NaN</td>\n      <td>NaN</td>\n      <td>15000-30000</td>\n      <td>15000</td>\n      <td>30000</td>\n      <td>10000人以上</td>\n      <td>已上市</td>\n    </tr>\n    <tr>\n      <th>192</th>\n      <td>安卓开发工程师</td>\n      <td>成都迈思信息技术有限公司</td>\n      <td>1.5-2万</td>\n      <td>成都-武侯区</td>\n      <td>本科</td>\n      <td>3-4年经验</td>\n      <td>1900-01-19</td>\n      <td>计算机软件</td>\n      <td>1.负责完成Android平台移动应用产品开发及架构设计。2.对项目的需求，进行系统分析并提...</td>\n      <td>民营  |  1000-5000人</td>\n      <td>成都</td>\n      <td>NaN</td>\n      <td>NaN</td>\n      <td>NaN</td>\n      <td>15000-20000</td>\n      <td>15000</td>\n      <td>20000</td>\n      <td>1000-5000人</td>\n      <td>民营</td>\n    </tr>\n    <tr>\n      <th>209</th>\n      <td>安卓系统工程师</td>\n      <td>广东天波信息技术股份有限公司</td>\n      <td>1-2万</td>\n      <td>深圳-罗湖区</td>\n      <td>大专</td>\n      <td>2年经验</td>\n      <td>1900-01-16</td>\n      <td>电子技术/半导体/集成电路</td>\n      <td>岗位职责：1.负责Android平台系统的开发与维护；2.参与新需求的技术实现讨论与框架设计...</td>\n      <td>民营  |  500-1000人</td>\n      <td>深圳</td>\n      <td>NaN</td>\n      <td>NaN</td>\n      <td>NaN</td>\n      <td>10000-20000</td>\n      <td>10000</td>\n      <td>20000</td>\n      <td>150-500人</td>\n      <td>已上市</td>\n    </tr>\n    <tr>\n      <th>216</th>\n      <td>高级安卓系统工程师（佛山桂城上班，提供住宿）</td>\n      <td>广东天波信息技术股份有限公司</td>\n      <td>1.5-3万</td>\n      <td>深圳</td>\n      <td>本科</td>\n      <td>3-4年经验</td>\n      <td>1900-01-12</td>\n      <td>电子技术/半导体/集成电路</td>\n      <td>岗位职责：1.负责linux动态库的开发；2.负责androidframework的设计和开...</td>\n      <td>民营  |  500-1000人</td>\n      <td>深圳</td>\n      <td>NaN</td>\n      <td>NaN</td>\n      <td>NaN</td>\n      <td>15000-30000</td>\n      <td>15000</td>\n      <td>30000</td>\n      <td>少于50人</td>\n      <td>民营</td>\n    </tr>\n    <tr>\n      <th>224</th>\n      <td>安卓开发工程师</td>\n      <td>江苏卓恒信息技术发展有限公司</td>\n      <td>8千-1.5万</td>\n      <td>深圳-宝安区</td>\n      <td>本科</td>\n      <td>无需经验</td>\n      <td>1900-01-15</td>\n      <td>计算机硬件</td>\n      <td>任职资格：1.统招本科及以上学历，电子、软件工程等相关专业，欢迎优秀应届生投递；2.熟悉Li...</td>\n      <td>民营  |  少于50人</td>\n      <td>深圳</td>\n      <td>NaN</td>\n      <td>NaN</td>\n      <td>NaN</td>\n      <td>8000-15000</td>\n      <td>8000</td>\n      <td>15000</td>\n      <td>50-150人</td>\n      <td>民营</td>\n    </tr>\n    <tr>\n      <th>268</th>\n      <td>高级安卓开发工程师</td>\n      <td>深圳云卓科通信息技术有限公司</td>\n      <td>2.5-3.5万</td>\n      <td>上海-浦东新区</td>\n      <td>本科</td>\n      <td>5-7年经验</td>\n      <td>1900-01-10</td>\n      <td>计算机软件</td>\n      <td>PositionOverviewWearelookingforsomeonewhohasas...</td>\n      <td>民营</td>\n      <td>上海</td>\n      <td>NaN</td>\n      <td>NaN</td>\n      <td>NaN</td>\n      <td>25000-35000</td>\n      <td>25000</td>\n      <td>35000</td>\n      <td>1000-5000人</td>\n      <td>民营</td>\n    </tr>\n    <tr>\n      <th>278</th>\n      <td>安卓开发工程师</td>\n      <td>苏州云联智慧信息技术应用有限公司</td>\n      <td>1-1.5万·15薪</td>\n      <td>广州-天河区</td>\n      <td>本科</td>\n      <td>2年经验</td>\n      <td>1900-01-10</td>\n      <td>计算机软件</td>\n      <td>岗位职责：1、参与公司Android项目框架的搭建，功能开发；2、参与应用系统开发过程产出文...</td>\n      <td>民营  |  150-500人</td>\n      <td>广州</td>\n      <td>15</td>\n      <td>NaN</td>\n      <td>NaN</td>\n      <td>10000-15000</td>\n      <td>10000</td>\n      <td>15000</td>\n      <td>150-500人</td>\n      <td>民营</td>\n    </tr>\n    <tr>\n      <th>286</th>\n      <td>Android Framework（安卓开发工程师）</td>\n      <td>宝马诚迈信息技术有限公司</td>\n      <td>1.5-2.5万</td>\n      <td>深圳-宝安区</td>\n      <td>本科</td>\n      <td>3-4年经验</td>\n      <td>1900-01-06</td>\n      <td>计算机软件</td>\n      <td>岗位职责：1.负责公司AndroidAPP产品的研发和维护，能编写高质量的代码；2.和产品经...</td>\n      <td>合资  |  150-500人</td>\n      <td>深圳</td>\n      <td>NaN</td>\n      <td>NaN</td>\n      <td>NaN</td>\n      <td>15000-25000</td>\n      <td>15000</td>\n      <td>25000</td>\n      <td>150-500人</td>\n      <td>民营</td>\n    </tr>\n    <tr>\n      <th>288</th>\n      <td>APP软件开发工程师主管安卓前端</td>\n      <td>广州森泰信息技术有限公司</td>\n      <td>1.2-2万</td>\n      <td>深圳-宝安区</td>\n      <td>大专</td>\n      <td>1年经验</td>\n      <td>1900-01-03</td>\n      <td>互联网/电子商务</td>\n      <td>1.具有良好的java基础，理解面向对象编程原理，熟悉常用的设计模式。2.良好的ui绘制基础...</td>\n      <td>合资  |  50-150人</td>\n      <td>深圳</td>\n      <td>NaN</td>\n      <td>NaN</td>\n      <td>NaN</td>\n      <td>12000-20000</td>\n      <td>12000</td>\n      <td>20000</td>\n      <td>50-150人</td>\n      <td>民营</td>\n    </tr>\n    <tr>\n      <th>309</th>\n      <td>安卓 开发工程师</td>\n      <td>大连亿达信息技术有限公司深圳分公司</td>\n      <td>1.5-2万</td>\n      <td>深圳-龙华区</td>\n      <td>本科</td>\n      <td>3-4年经验</td>\n      <td>1900-01-03</td>\n      <td>计算机软件</td>\n      <td>1、熟悉JAVA2、熟练使用adb命令3、熟练使用JNI开发（JAVA与C接口开发，如串口开...</td>\n      <td>民营  |  500-1000人</td>\n      <td>深圳</td>\n      <td>NaN</td>\n      <td>NaN</td>\n      <td>NaN</td>\n      <td>15000-20000</td>\n      <td>15000</td>\n      <td>20000</td>\n      <td>50-150人</td>\n      <td>民营</td>\n    </tr>\n    <tr>\n      <th>318</th>\n      <td>安卓APP开发工程师</td>\n      <td>深圳市汉锐信息技术股份有限公司</td>\n      <td>5千-1万</td>\n      <td>深圳-南山区</td>\n      <td>本科</td>\n      <td>3-4年经验</td>\n      <td>1900-12-23</td>\n      <td>计算机软件</td>\n      <td>深圳顺晨网络科技有限公司高级安卓SDK开发工程师(25-40w)职位描述工作职责：1、负责公...</td>\n      <td>民营</td>\n      <td>深圳</td>\n      <td>NaN</td>\n      <td>NaN</td>\n      <td>NaN</td>\n      <td>5000-10000</td>\n      <td>5000</td>\n      <td>10000</td>\n      <td>少于50人</td>\n      <td>民营</td>\n    </tr>\n    <tr>\n      <th>334</th>\n      <td>安卓开发工程师</td>\n      <td>成都迈思信息技术有限公司</td>\n      <td>1.6-1.7万</td>\n      <td>上海-闵行区</td>\n      <td>本科</td>\n      <td>3-4年经验</td>\n      <td>1900-12-20</td>\n      <td>计算机软件</td>\n      <td>1、负责智能硬件设备AndroidAPP的功能开发、调试；2、优化App性能、稳定性与用户体...</td>\n      <td>民营  |  1000-5000人</td>\n      <td>上海</td>\n      <td>NaN</td>\n      <td>NaN</td>\n      <td>NaN</td>\n      <td>16000-17000</td>\n      <td>16000</td>\n      <td>17000</td>\n      <td>50-150人</td>\n      <td>民营</td>\n    </tr>\n    <tr>\n      <th>337</th>\n      <td>安卓Android开发工程师</td>\n      <td>京北方信息技术股份有限公司珠海分公司</td>\n      <td>1.3-2万·13薪</td>\n      <td>深圳-龙华区</td>\n      <td>中技/中专</td>\n      <td>3-4年经验</td>\n      <td>1900-12-20</td>\n      <td>计算机软件</td>\n      <td>岗位职责：一、负责安卓开发监控摄像头；二、视频编解码。岗位要求：一、熟练使用编程语言：JAV...</td>\n      <td>民营  |  少于50人</td>\n      <td>深圳</td>\n      <td>13</td>\n      <td>NaN</td>\n      <td>NaN</td>\n      <td>13000-20000</td>\n      <td>13000</td>\n      <td>20000</td>\n      <td>150-500人</td>\n      <td>合资</td>\n    </tr>\n    <tr>\n      <th>342</th>\n      <td>安卓系统高级开发工程师</td>\n      <td>武汉东信同邦信息技术有限公司</td>\n      <td>1.5-3万</td>\n      <td>深圳-南山区</td>\n      <td>本科</td>\n      <td>2年经验</td>\n      <td>1900-12-21</td>\n      <td>计算机硬件</td>\n      <td>1、负责系统级功能的方案设计、开发、评估和维护。2、负责android系统层的性能、内存、稳...</td>\n      <td>民营  |  150-500人</td>\n      <td>深圳</td>\n      <td>NaN</td>\n      <td>NaN</td>\n      <td>NaN</td>\n      <td>15000-30000</td>\n      <td>15000</td>\n      <td>30000</td>\n      <td>50-150人</td>\n      <td>民营</td>\n    </tr>\n    <tr>\n      <th>343</th>\n      <td>安卓开发工程师-长沙</td>\n      <td>京北方信息技术股份有限公司珠海分公司</td>\n      <td>1-1.8万</td>\n      <td>武汉</td>\n      <td>本科</td>\n      <td>3-4年经验</td>\n      <td>1900-12-20</td>\n      <td>计算机软件</td>\n      <td>岗位职责：1.负责公司新产品的开发工作。2.根据产品需求开发相关的移动客户端产品。3.不断优...</td>\n      <td>民营  |  少于50人</td>\n      <td>武汉</td>\n      <td>NaN</td>\n      <td>NaN</td>\n      <td>NaN</td>\n      <td>10000-18000</td>\n      <td>10000</td>\n      <td>18000</td>\n      <td></td>\n      <td>民营</td>\n    </tr>\n    <tr>\n      <th>353</th>\n      <td>安卓开发工程师-合肥</td>\n      <td>京北方信息技术股份有限公司武汉分公司</td>\n      <td>1-1.6万</td>\n      <td>重庆</td>\n      <td>本科</td>\n      <td>2年经验</td>\n      <td>1900-12-20</td>\n      <td>计算机服务(系统、数据服务、维修)</td>\n      <td>岗位职责1.根据产品设计和原型设计，保时保质地完成Android客户端的功能开发；2.根据开...</td>\n      <td>民营  |  500-1000人</td>\n      <td>重庆</td>\n      <td>NaN</td>\n      <td>NaN</td>\n      <td>NaN</td>\n      <td>10000-16000</td>\n      <td>10000</td>\n      <td>16000</td>\n      <td>10000人以上</td>\n      <td>民营</td>\n    </tr>\n    <tr>\n      <th>354</th>\n      <td>安卓开发工程师（大厂+餐补）</td>\n      <td>深圳市德科信息技术有限公司</td>\n      <td>1-1.5万</td>\n      <td>福州-鼓楼区</td>\n      <td>本科</td>\n      <td>3-4年经验</td>\n      <td>1900-12-19</td>\n      <td>计算机服务(系统、数据服务、维修)</td>\n      <td>岗位职责：1、负责公司安卓终端产品的应用及移动端app开发工作，包括需求评审、软件设计、开发...</td>\n      <td>民营  |  1000-5000人</td>\n      <td>福州</td>\n      <td>NaN</td>\n      <td>NaN</td>\n      <td>NaN</td>\n      <td>10000-15000</td>\n      <td>10000</td>\n      <td>15000</td>\n      <td>150-500人</td>\n      <td>民营</td>\n    </tr>\n    <tr>\n      <th>362</th>\n      <td>安卓开发工程师</td>\n      <td>深圳市德科信息技术有限公司</td>\n      <td>1.4-2.8万</td>\n      <td>深圳-宝安区</td>\n      <td>本科</td>\n      <td>3-4年经验</td>\n      <td>1900-12-15</td>\n      <td>计算机服务(系统、数据服务、维修)</td>\n      <td>任职要求：1.本科以上学历，计算机、电子工程、通信工程、软件工程等相关专业3年以上软件设计工...</td>\n      <td>民营  |  1000-5000人</td>\n      <td>深圳</td>\n      <td>NaN</td>\n      <td>NaN</td>\n      <td>NaN</td>\n      <td>14000-28000</td>\n      <td>14000</td>\n      <td>28000</td>\n      <td>10000人以上</td>\n      <td>外资（欧美）</td>\n    </tr>\n    <tr>\n      <th>378</th>\n      <td>Android安卓软件工程师</td>\n      <td>郑州中软高科信息技术有限公司</td>\n      <td>8千-1.5万</td>\n      <td>广州-白云区</td>\n      <td>大专</td>\n      <td>1年经验</td>\n      <td>1900-12-10</td>\n      <td>计算机软件</td>\n      <td>岗位职责：1、全面负责android系统平台上的客户端软件的产品开发与维护；2、按软件需求完...</td>\n      <td>民营  |  150-500人</td>\n      <td>广州</td>\n      <td>NaN</td>\n      <td>NaN</td>\n      <td>NaN</td>\n      <td>8000-15000</td>\n      <td>8000</td>\n      <td>15000</td>\n      <td>50-150人</td>\n      <td>事业单位</td>\n    </tr>\n    <tr>\n      <th>383</th>\n      <td>高级安卓开发工程师（驻场）</td>\n      <td>上海软凌信息技术有限公司</td>\n      <td>1.7-2.4万</td>\n      <td>常州-天宁区</td>\n      <td>本科</td>\n      <td>3-4年经验</td>\n      <td>1900-12-08</td>\n      <td>计算机软件</td>\n      <td>岗位职责1、负责移动端开发和维护2、负责解决开发过程中的技术问题3、参与业务需求讨论设计，以...</td>\n      <td>民营  |  50-150人</td>\n      <td>常州</td>\n      <td>NaN</td>\n      <td>NaN</td>\n      <td>NaN</td>\n      <td>17000-24000</td>\n      <td>17000</td>\n      <td>24000</td>\n      <td>50-150人</td>\n      <td>民营</td>\n    </tr>\n    <tr>\n      <th>393</th>\n      <td>安卓开发工程师</td>\n      <td>深圳极联信息技术股份有限公司</td>\n      <td>1.5-2万</td>\n      <td>长沙</td>\n      <td>本科</td>\n      <td>2年经验</td>\n      <td>1900-12-07</td>\n      <td>计算机软件</td>\n      <td>1、本科及以上学历，学信网可查，2年以上Android原生开发经验；2、深刻理解Androi...</td>\n      <td>民营  |  500-1000人</td>\n      <td>长沙</td>\n      <td>NaN</td>\n      <td>NaN</td>\n      <td>NaN</td>\n      <td>15000-20000</td>\n      <td>15000</td>\n      <td>20000</td>\n      <td>1000-5000人</td>\n      <td>民营</td>\n    </tr>\n    <tr>\n      <th>395</th>\n      <td>安卓客户端开发工程师</td>\n      <td>杭州海量信息技术有限公司</td>\n      <td>8千-1.6万</td>\n      <td>深圳-宝安区</td>\n      <td>大专</td>\n      <td>2年经验</td>\n      <td>1900-12-07</td>\n      <td>计算机软件</td>\n      <td>岗位职责：1.负责MTK或展锐Android平台外设驱动程序（Touch,LCD,Camer...</td>\n      <td>已上市  |  50-150人</td>\n      <td>深圳</td>\n      <td>NaN</td>\n      <td>NaN</td>\n      <td>NaN</td>\n      <td>8000-16000</td>\n      <td>8000</td>\n      <td>16000</td>\n      <td>50-150人</td>\n      <td>民营</td>\n    </tr>\n    <tr>\n      <th>405</th>\n      <td>安卓开发工程师（外派港资+粤语+氛围好）</td>\n      <td>深圳极联信息技术股份有限公司</td>\n      <td>1.2-2万</td>\n      <td>上海-普陀区</td>\n      <td>本科</td>\n      <td>1年经验</td>\n      <td>NaT</td>\n      <td>计算机软件</td>\n      <td>1.负责Android应用开发，保证产品稳定迭代；2.参与需求调研、项目可行性分析、技术可行...</td>\n      <td>民营  |  500-1000人</td>\n      <td>上海</td>\n      <td>NaN</td>\n      <td>NaN</td>\n      <td>NaN</td>\n      <td>12000-20000</td>\n      <td>12000</td>\n      <td>20000</td>\n      <td>NaN</td>\n      <td>NaN</td>\n    </tr>\n    <tr>\n      <th>406</th>\n      <td>Android/安卓开发工程师</td>\n      <td>宇博信诚（北京）信息技术有限公司</td>\n      <td>1.3-1.5万·13薪</td>\n      <td>珠海-香洲区</td>\n      <td>本科</td>\n      <td>3-4年经验</td>\n      <td>NaT</td>\n      <td>计算机服务(系统、数据服务、维修)</td>\n      <td>岗位职责：1、负责？Android？应用产品核心功能开发；2、负责？Android？部分代码...</td>\n      <td>外资（非欧美）  |  150-500人</td>\n      <td>珠海</td>\n      <td>13</td>\n      <td>NaN</td>\n      <td>NaN</td>\n      <td>13000-15000</td>\n      <td>13000</td>\n      <td>15000</td>\n      <td>NaN</td>\n      <td>NaN</td>\n    </tr>\n    <tr>\n      <th>425</th>\n      <td>安卓系统开发工程师</td>\n      <td>武汉光庭信息技术股份有限公司</td>\n      <td>1.6-2万</td>\n      <td>深圳</td>\n      <td>12-20发布</td>\n      <td>无需经验</td>\n      <td>NaT</td>\n      <td>计算机软件</td>\n      <td>工作地点：比亚迪总部六角大楼深圳市坪山区比亚迪路3009号岗位职责：1、参与产品需求评审、U...</td>\n      <td>已上市  |  1000-5000人</td>\n      <td>深圳</td>\n      <td>NaN</td>\n      <td>NaN</td>\n      <td>NaN</td>\n      <td>16000-20000</td>\n      <td>16000</td>\n      <td>20000</td>\n      <td>NaN</td>\n      <td>NaN</td>\n    </tr>\n    <tr>\n      <th>434</th>\n      <td>Android/安卓开发工程师</td>\n      <td>北京双顺达信息技术股份有限公司</td>\n      <td>5-8千</td>\n      <td>广州-海珠区</td>\n      <td>本科</td>\n      <td>1年经验</td>\n      <td>NaT</td>\n      <td>计算机软件</td>\n      <td>发展理念：1、\\tWebelievethatWritetheCode,ChangetheWo...</td>\n      <td>民营</td>\n      <td>广州</td>\n      <td>NaN</td>\n      <td>NaN</td>\n      <td>NaN</td>\n      <td>5000-8000</td>\n      <td>5000</td>\n      <td>8000</td>\n      <td>NaN</td>\n      <td>NaN</td>\n    </tr>\n    <tr>\n      <th>440</th>\n      <td>安卓助理开发工程师</td>\n      <td>合肥星游信息技术有限公司</td>\n      <td>4-6千</td>\n      <td>深圳</td>\n      <td>12-20发布</td>\n      <td>无需经验</td>\n      <td>NaT</td>\n      <td>计算机软件</td>\n      <td>工作地点：比亚迪总部六角大楼深圳市坪山区比亚迪路3009号岗位职责：1、参与产品需求评审、U...</td>\n      <td>民营  |  少于50人</td>\n      <td>深圳</td>\n      <td>NaN</td>\n      <td>NaN</td>\n      <td>NaN</td>\n      <td>4000-6000</td>\n      <td>4000</td>\n      <td>6000</td>\n      <td>NaN</td>\n      <td>NaN</td>\n    </tr>\n    <tr>\n      <th>442</th>\n      <td>Android开发工程师（安卓）</td>\n      <td>京北方信息技术股份有限公司</td>\n      <td>1-1.5万</td>\n      <td>深圳-宝安区</td>\n      <td>大专</td>\n      <td>3-4年经验</td>\n      <td>NaT</td>\n      <td>外包服务</td>\n      <td>岗位职责：1、计算机通信电子自动化相关专业，3年以上安卓系统开发经验；2、熟练运用Andro...</td>\n      <td>民营  |  10000人以上</td>\n      <td>深圳</td>\n      <td>NaN</td>\n      <td>NaN</td>\n      <td>NaN</td>\n      <td>10000-15000</td>\n      <td>10000</td>\n      <td>15000</td>\n      <td>NaN</td>\n      <td>NaN</td>\n    </tr>\n    <tr>\n      <th>444</th>\n      <td>Android安卓开发工程师</td>\n      <td>京北方信息技术股份有限公司珠海分公司</td>\n      <td>1.1-1.8万</td>\n      <td>东莞-凤岗镇</td>\n      <td>本科</td>\n      <td>3-4年经验</td>\n      <td>NaT</td>\n      <td>计算机软件</td>\n      <td>1.\\t负责产品应用软件部分的设计，配合项目组按计划完成产品应用软件方面的开发任务；2.\\t...</td>\n      <td>民营  |  少于50人</td>\n      <td>东莞</td>\n      <td>NaN</td>\n      <td>NaN</td>\n      <td>NaN</td>\n      <td>11000-18000</td>\n      <td>11000</td>\n      <td>18000</td>\n      <td>NaN</td>\n      <td>NaN</td>\n    </tr>\n    <tr>\n      <th>446</th>\n      <td>Android安卓开发工程师</td>\n      <td>南昌市微轲联信息技术有限公司</td>\n      <td>8千-1.5万</td>\n      <td>厦门-思明区</td>\n      <td>大专</td>\n      <td>1年经验</td>\n      <td>NaT</td>\n      <td>计算机软件</td>\n      <td>岗位职责：1.负责公司车载信息娱乐核心需求的开发；2.从事Android平台软件产品开发；3...</td>\n      <td>民营  |  50-150人</td>\n      <td>厦门</td>\n      <td>NaN</td>\n      <td>NaN</td>\n      <td>NaN</td>\n      <td>8000-15000</td>\n      <td>8000</td>\n      <td>15000</td>\n      <td>NaN</td>\n      <td>NaN</td>\n    </tr>\n    <tr>\n      <th>464</th>\n      <td>安卓framework开发工程师</td>\n      <td>南京睿悦信息技术有限公司</td>\n      <td>1.5-3万</td>\n      <td>深圳-宝安区</td>\n      <td>本科</td>\n      <td>5-7年经验</td>\n      <td>NaT</td>\n      <td>计算机软件</td>\n      <td>岗位职责：1.负责iOS/安卓原生app、国内公众号、小程序软件产品代码的开发、调试、测试、...</td>\n      <td>民营</td>\n      <td>深圳</td>\n      <td>NaN</td>\n      <td>NaN</td>\n      <td>NaN</td>\n      <td>15000-30000</td>\n      <td>15000</td>\n      <td>30000</td>\n      <td>NaN</td>\n      <td>NaN</td>\n    </tr>\n    <tr>\n      <th>495</th>\n      <td>安卓开发（线上面试）</td>\n      <td>杭州博彦信息技术有限公司</td>\n      <td>1.3-1.7万</td>\n      <td>深圳-南山区</td>\n      <td>本科</td>\n      <td>1年经验</td>\n      <td>NaT</td>\n      <td>互联网/电子商务</td>\n      <td>岗位职责：1、负责Android项目核心模块代码编写；2、负责设计文档的编写，CodeRev...</td>\n      <td>民营  |  5000-10000人</td>\n      <td>深圳</td>\n      <td>NaN</td>\n      <td>NaN</td>\n      <td>NaN</td>\n      <td>13000-17000</td>\n      <td>13000</td>\n      <td>17000</td>\n      <td>NaN</td>\n      <td>NaN</td>\n    </tr>\n  </tbody>\n</table>\n</div>"
     },
     "execution_count": 87,
     "metadata": {},
     "output_type": "execute_result"
    }
   ],
   "source": [
    "data1[data1['公司名称'].str.contains(\"信息技术\")]"
   ],
   "metadata": {
    "collapsed": false,
    "pycharm": {
     "name": "#%%\n"
    }
   }
  },
  {
   "cell_type": "code",
   "execution_count": 88,
   "outputs": [
    {
     "data": {
      "text/plain": "工作经验要求\n4    12145.985401\n6    13270.325203\nName: 月薪最小值, dtype: float64"
     },
     "execution_count": 88,
     "metadata": {},
     "output_type": "execute_result"
    }
   ],
   "source": [
    "data2.set_index(\"工作经验要求\").groupby(len)['月薪最小值'].mean()"
   ],
   "metadata": {
    "collapsed": false,
    "pycharm": {
     "name": "#%%\n"
    }
   }
  },
  {
   "cell_type": "code",
   "execution_count": 89,
   "outputs": [
    {
     "data": {
      "text/plain": "    district    最大值    最小值\n0         常州  12000   8000\n1         苏州  25000  18000\n2         广州  20000  15000\n4         长沙  22000  15000\n6         昆山  20000  10000\n..       ...    ...    ...\n489       上海  16000   8000\n491       杭州  15000  10000\n494       西安  30000  25000\n495       深圳  17000  13000\n497       北京  30000  15000\n\n[396 rows x 3 columns]",
      "text/html": "<div>\n<style scoped>\n    .dataframe tbody tr th:only-of-type {\n        vertical-align: middle;\n    }\n\n    .dataframe tbody tr th {\n        vertical-align: top;\n    }\n\n    .dataframe thead th {\n        text-align: right;\n    }\n</style>\n<table border=\"1\" class=\"dataframe\">\n  <thead>\n    <tr style=\"text-align: right;\">\n      <th></th>\n      <th>district</th>\n      <th>最大值</th>\n      <th>最小值</th>\n    </tr>\n  </thead>\n  <tbody>\n    <tr>\n      <th>0</th>\n      <td>常州</td>\n      <td>12000</td>\n      <td>8000</td>\n    </tr>\n    <tr>\n      <th>1</th>\n      <td>苏州</td>\n      <td>25000</td>\n      <td>18000</td>\n    </tr>\n    <tr>\n      <th>2</th>\n      <td>广州</td>\n      <td>20000</td>\n      <td>15000</td>\n    </tr>\n    <tr>\n      <th>4</th>\n      <td>长沙</td>\n      <td>22000</td>\n      <td>15000</td>\n    </tr>\n    <tr>\n      <th>6</th>\n      <td>昆山</td>\n      <td>20000</td>\n      <td>10000</td>\n    </tr>\n    <tr>\n      <th>...</th>\n      <td>...</td>\n      <td>...</td>\n      <td>...</td>\n    </tr>\n    <tr>\n      <th>489</th>\n      <td>上海</td>\n      <td>16000</td>\n      <td>8000</td>\n    </tr>\n    <tr>\n      <th>491</th>\n      <td>杭州</td>\n      <td>15000</td>\n      <td>10000</td>\n    </tr>\n    <tr>\n      <th>494</th>\n      <td>西安</td>\n      <td>30000</td>\n      <td>25000</td>\n    </tr>\n    <tr>\n      <th>495</th>\n      <td>深圳</td>\n      <td>17000</td>\n      <td>13000</td>\n    </tr>\n    <tr>\n      <th>497</th>\n      <td>北京</td>\n      <td>30000</td>\n      <td>15000</td>\n    </tr>\n  </tbody>\n</table>\n<p>396 rows × 3 columns</p>\n</div>"
     },
     "execution_count": 89,
     "metadata": {},
     "output_type": "execute_result"
    }
   ],
   "source": [
    "data1.groupby({'地区':'district','月薪最小值':'最小值','月薪最大值':'最大值'}, axis=1).sum()"
   ],
   "metadata": {
    "collapsed": false,
    "pycharm": {
     "name": "#%%\n"
    }
   }
  },
  {
   "cell_type": "code",
   "execution_count": 90,
   "outputs": [
    {
     "name": "stderr",
     "output_type": "stream",
     "text": [
      "C:\\Users\\Administrator\\AppData\\Local\\Temp\\ipykernel_4572\\249347651.py:1: SettingWithCopyWarning: \n",
      "A value is trying to be set on a copy of a slice from a DataFrame.\n",
      "Try using .loc[row_indexer,col_indexer] = value instead\n",
      "\n",
      "See the caveats in the documentation: https://pandas.pydata.org/pandas-docs/stable/user_guide/indexing.html#returning-a-view-versus-a-copy\n",
      "  data2['地区'] = data1['地区']\n"
     ]
    },
    {
     "data": {
      "text/plain": "     月薪最小值  月薪最大值  工作经验要求  地区\n0     8000  12000  3-4年经验  常州\n1    18000  25000  3-4年经验  苏州\n2    15000  20000  5-7年经验  广州\n4    15000  22000  5-7年经验  长沙\n6    10000  20000  3-4年经验  昆山\n..     ...    ...     ...  ..\n489   8000  16000  5-7年经验  上海\n491  10000  15000    2年经验  杭州\n494  25000  30000  5-7年经验  西安\n495  13000  17000    1年经验  深圳\n497  15000  30000  5-7年经验  北京\n\n[383 rows x 4 columns]",
      "text/html": "<div>\n<style scoped>\n    .dataframe tbody tr th:only-of-type {\n        vertical-align: middle;\n    }\n\n    .dataframe tbody tr th {\n        vertical-align: top;\n    }\n\n    .dataframe thead th {\n        text-align: right;\n    }\n</style>\n<table border=\"1\" class=\"dataframe\">\n  <thead>\n    <tr style=\"text-align: right;\">\n      <th></th>\n      <th>月薪最小值</th>\n      <th>月薪最大值</th>\n      <th>工作经验要求</th>\n      <th>地区</th>\n    </tr>\n  </thead>\n  <tbody>\n    <tr>\n      <th>0</th>\n      <td>8000</td>\n      <td>12000</td>\n      <td>3-4年经验</td>\n      <td>常州</td>\n    </tr>\n    <tr>\n      <th>1</th>\n      <td>18000</td>\n      <td>25000</td>\n      <td>3-4年经验</td>\n      <td>苏州</td>\n    </tr>\n    <tr>\n      <th>2</th>\n      <td>15000</td>\n      <td>20000</td>\n      <td>5-7年经验</td>\n      <td>广州</td>\n    </tr>\n    <tr>\n      <th>4</th>\n      <td>15000</td>\n      <td>22000</td>\n      <td>5-7年经验</td>\n      <td>长沙</td>\n    </tr>\n    <tr>\n      <th>6</th>\n      <td>10000</td>\n      <td>20000</td>\n      <td>3-4年经验</td>\n      <td>昆山</td>\n    </tr>\n    <tr>\n      <th>...</th>\n      <td>...</td>\n      <td>...</td>\n      <td>...</td>\n      <td>...</td>\n    </tr>\n    <tr>\n      <th>489</th>\n      <td>8000</td>\n      <td>16000</td>\n      <td>5-7年经验</td>\n      <td>上海</td>\n    </tr>\n    <tr>\n      <th>491</th>\n      <td>10000</td>\n      <td>15000</td>\n      <td>2年经验</td>\n      <td>杭州</td>\n    </tr>\n    <tr>\n      <th>494</th>\n      <td>25000</td>\n      <td>30000</td>\n      <td>5-7年经验</td>\n      <td>西安</td>\n    </tr>\n    <tr>\n      <th>495</th>\n      <td>13000</td>\n      <td>17000</td>\n      <td>1年经验</td>\n      <td>深圳</td>\n    </tr>\n    <tr>\n      <th>497</th>\n      <td>15000</td>\n      <td>30000</td>\n      <td>5-7年经验</td>\n      <td>北京</td>\n    </tr>\n  </tbody>\n</table>\n<p>383 rows × 4 columns</p>\n</div>"
     },
     "execution_count": 90,
     "metadata": {},
     "output_type": "execute_result"
    }
   ],
   "source": [
    "data2['地区'] = data1['地区']\n",
    "data2"
   ],
   "metadata": {
    "collapsed": false,
    "pycharm": {
     "name": "#%%\n"
    }
   }
  },
  {
   "cell_type": "code",
   "execution_count": 91,
   "outputs": [
    {
     "data": {
      "text/plain": "地区\n上海    12666.666667\n东莞    15250.000000\n中山    10000.000000\n佛山    12000.000000\n北京    12000.000000\n南京    13684.210526\n南宁    13500.000000\n南通    11500.000000\n厦门    15285.714286\n合肥    14571.428571\n大连     9800.000000\n天津    17500.000000\n宁波    18000.000000\n宜宾     6000.000000\n常州     9666.666667\n常熟    16000.000000\n广州    11468.750000\n延吉    13000.000000\n惠州    15000.000000\n成都    15714.285714\n扬州    15666.666667\n无锡    15000.000000\n昆山     9500.000000\n昆明    15000.000000\n杭州    13846.153846\n桂林    13000.000000\n武汉    13588.235294\n济南    12500.000000\n海口    15000.000000\n深圳    12634.615385\n珠海    11500.000000\n福州    10000.000000\n芜湖    16000.000000\n苏州    11272.727273\n西安    17500.000000\n重庆    13900.000000\n长春    12000.000000\n长沙    12150.000000\n青岛     9666.666667\nName: 月薪最小值, dtype: float64"
     },
     "execution_count": 91,
     "metadata": {},
     "output_type": "execute_result"
    }
   ],
   "source": [
    "y = data2.groupby('地区')['月薪最小值'].mean()\n",
    "y"
   ],
   "metadata": {
    "collapsed": false,
    "pycharm": {
     "name": "#%%\n"
    }
   }
  },
  {
   "cell_type": "code",
   "execution_count": 92,
   "outputs": [
    {
     "ename": "ValueError",
     "evalue": "Unable to determine Axes to steal space for Colorbar. Either provide the *cax* argument to use as the Axes for the Colorbar, provide the *ax* argument to steal space from it, or add *mappable* to an Axes.",
     "output_type": "error",
     "traceback": [
      "\u001B[1;31m---------------------------------------------------------------------------\u001B[0m",
      "\u001B[1;31mValueError\u001B[0m                                Traceback (most recent call last)",
      "Cell \u001B[1;32mIn [92], line 12\u001B[0m\n\u001B[0;32m     10\u001B[0m plt\u001B[38;5;241m.\u001B[39mylabel(\u001B[38;5;124m\"\u001B[39m\u001B[38;5;124m地区\u001B[39m\u001B[38;5;124m\"\u001B[39m)\n\u001B[0;32m     11\u001B[0m sm \u001B[38;5;241m=\u001B[39m plt\u001B[38;5;241m.\u001B[39mcm\u001B[38;5;241m.\u001B[39mScalarMappable(norm\u001B[38;5;241m=\u001B[39mplt\u001B[38;5;241m.\u001B[39mNormalize(vmin\u001B[38;5;241m=\u001B[39my\u001B[38;5;241m.\u001B[39mmin(), vmax\u001B[38;5;241m=\u001B[39my\u001B[38;5;241m.\u001B[39mmax()))\n\u001B[1;32m---> 12\u001B[0m plt\u001B[38;5;241m.\u001B[39mcolorbar(sm)\n\u001B[0;32m     14\u001B[0m \u001B[38;5;28;01mfor\u001B[39;00m a, b \u001B[38;5;129;01min\u001B[39;00m \u001B[38;5;28mzip\u001B[39m(y\u001B[38;5;241m.\u001B[39mindex, y):\n\u001B[0;32m     15\u001B[0m  plt\u001B[38;5;241m.\u001B[39mtext(a, b, \u001B[38;5;124m'\u001B[39m\u001B[38;5;132;01m%.0f\u001B[39;00m\u001B[38;5;124m'\u001B[39m \u001B[38;5;241m%\u001B[39m b, ha\u001B[38;5;241m=\u001B[39m\u001B[38;5;124m'\u001B[39m\u001B[38;5;124mcenter\u001B[39m\u001B[38;5;124m'\u001B[39m, va\u001B[38;5;241m=\u001B[39m\u001B[38;5;124m'\u001B[39m\u001B[38;5;124mbottom\u001B[39m\u001B[38;5;124m'\u001B[39m, fontsize\u001B[38;5;241m=\u001B[39m\u001B[38;5;241m11\u001B[39m)\n",
      "File \u001B[1;32mD:\\DL_Homework\\Kaggle2_Titanic\\Project_Titanic\\venv\\lib\\site-packages\\matplotlib\\pyplot.py:2053\u001B[0m, in \u001B[0;36mcolorbar\u001B[1;34m(mappable, cax, ax, **kwargs)\u001B[0m\n\u001B[0;32m   2048\u001B[0m     \u001B[38;5;28;01mif\u001B[39;00m mappable \u001B[38;5;129;01mis\u001B[39;00m \u001B[38;5;28;01mNone\u001B[39;00m:\n\u001B[0;32m   2049\u001B[0m         \u001B[38;5;28;01mraise\u001B[39;00m \u001B[38;5;167;01mRuntimeError\u001B[39;00m(\u001B[38;5;124m'\u001B[39m\u001B[38;5;124mNo mappable was found to use for colorbar \u001B[39m\u001B[38;5;124m'\u001B[39m\n\u001B[0;32m   2050\u001B[0m                            \u001B[38;5;124m'\u001B[39m\u001B[38;5;124mcreation. First define a mappable such as \u001B[39m\u001B[38;5;124m'\u001B[39m\n\u001B[0;32m   2051\u001B[0m                            \u001B[38;5;124m'\u001B[39m\u001B[38;5;124man image (with imshow) or a contour set (\u001B[39m\u001B[38;5;124m'\u001B[39m\n\u001B[0;32m   2052\u001B[0m                            \u001B[38;5;124m'\u001B[39m\u001B[38;5;124mwith contourf).\u001B[39m\u001B[38;5;124m'\u001B[39m)\n\u001B[1;32m-> 2053\u001B[0m ret \u001B[38;5;241m=\u001B[39m gcf()\u001B[38;5;241m.\u001B[39mcolorbar(mappable, cax\u001B[38;5;241m=\u001B[39mcax, ax\u001B[38;5;241m=\u001B[39max, \u001B[38;5;241m*\u001B[39m\u001B[38;5;241m*\u001B[39mkwargs)\n\u001B[0;32m   2054\u001B[0m \u001B[38;5;28;01mreturn\u001B[39;00m ret\n",
      "File \u001B[1;32mD:\\DL_Homework\\Kaggle2_Titanic\\Project_Titanic\\venv\\lib\\site-packages\\matplotlib\\figure.py:1256\u001B[0m, in \u001B[0;36mFigureBase.colorbar\u001B[1;34m(self, mappable, cax, ax, use_gridspec, **kwargs)\u001B[0m\n\u001B[0;32m   1254\u001B[0m \u001B[38;5;28;01mif\u001B[39;00m cax \u001B[38;5;129;01mis\u001B[39;00m \u001B[38;5;28;01mNone\u001B[39;00m:\n\u001B[0;32m   1255\u001B[0m     \u001B[38;5;28;01mif\u001B[39;00m ax \u001B[38;5;129;01mis\u001B[39;00m \u001B[38;5;28;01mNone\u001B[39;00m:\n\u001B[1;32m-> 1256\u001B[0m         \u001B[38;5;28;01mraise\u001B[39;00m \u001B[38;5;167;01mValueError\u001B[39;00m(\n\u001B[0;32m   1257\u001B[0m             \u001B[38;5;124m'\u001B[39m\u001B[38;5;124mUnable to determine Axes to steal space for Colorbar. \u001B[39m\u001B[38;5;124m'\u001B[39m\n\u001B[0;32m   1258\u001B[0m             \u001B[38;5;124m'\u001B[39m\u001B[38;5;124mEither provide the *cax* argument to use as the Axes for \u001B[39m\u001B[38;5;124m'\u001B[39m\n\u001B[0;32m   1259\u001B[0m             \u001B[38;5;124m'\u001B[39m\u001B[38;5;124mthe Colorbar, provide the *ax* argument to steal space \u001B[39m\u001B[38;5;124m'\u001B[39m\n\u001B[0;32m   1260\u001B[0m             \u001B[38;5;124m'\u001B[39m\u001B[38;5;124mfrom it, or add *mappable* to an Axes.\u001B[39m\u001B[38;5;124m'\u001B[39m)\n\u001B[0;32m   1261\u001B[0m     current_ax \u001B[38;5;241m=\u001B[39m \u001B[38;5;28mself\u001B[39m\u001B[38;5;241m.\u001B[39mgca()\n\u001B[0;32m   1262\u001B[0m     userax \u001B[38;5;241m=\u001B[39m \u001B[38;5;28;01mFalse\u001B[39;00m\n",
      "\u001B[1;31mValueError\u001B[0m: Unable to determine Axes to steal space for Colorbar. Either provide the *cax* argument to use as the Axes for the Colorbar, provide the *ax* argument to steal space from it, or add *mappable* to an Axes."
     ]
    },
    {
     "data": {
      "text/plain": "<Figure size 400x800 with 1 Axes>",
      "image/png": "[encoded data removed]"
     },
     "metadata": {},
     "output_type": "display_data"
    }
   ],
   "source": [
    "from matplotlib import colors\n",
    "import matplotlib.cm as cm\n",
    "\n",
    "norm1 = colors.LogNorm()\n",
    "fig = plt.figure(figsize = (4,8))\n",
    "plt.barh(y.index, y, label='月薪', color=cm.ScalarMappable(norm1, 'viridis').to_rgba(y))\n",
    "plt.legend()\n",
    "plt.title(\"各地区月薪最小值\")\n",
    "plt.xlabel(\"月薪最小值\")\n",
    "plt.ylabel(\"地区\")\n",
    "sm = plt.cm.ScalarMappable(norm=plt.Normalize(vmin=y.min(), vmax=y.max()))\n",
    "plt.colorbar(sm)\n",
    "\n",
    "for a, b in zip(y.index, y):\n",
    " plt.text(a, b, '%.0f' % b, ha='center', va='bottom', fontsize=11)\n",
    "\n",
    "\n",
    "plt.show()\n"
   ],
   "metadata": {
    "collapsed": false,
    "pycharm": {
     "name": "#%%\n"
    }
   }
  },
  {
   "cell_type": "code",
   "execution_count": null,
   "outputs": [],
   "source": [
    "pd.DataFrame(data2['月薪最小值'].groupby([data2['地区'], data2['工作经验要求']]).mean())"
   ],
   "metadata": {
    "collapsed": false,
    "pycharm": {
     "name": "#%%\n"
    }
   }
  },
  {
   "cell_type": "code",
   "execution_count": null,
   "outputs": [],
   "source": [
    "data2['该区平均工资'] = data2[['地区','月薪最小值']].groupby(by='地区').transform('mean')\n",
    "data2"
   ],
   "metadata": {
    "collapsed": false,
    "pycharm": {
     "name": "#%%\n"
    }
   }
  },
  {
   "cell_type": "code",
   "execution_count": null,
   "outputs": [],
   "source": [
    "data2.groupby('地区').filter(lambda x: x['月薪最小值'].mean() < 10000)"
   ],
   "metadata": {
    "collapsed": false,
    "pycharm": {
     "name": "#%%\n"
    }
   }
  },
  {
   "cell_type": "code",
   "execution_count": null,
   "outputs": [],
   "source": [
    "data2.groupby('地区')['月薪最小值'].agg([min, max, np.mean])"
   ],
   "metadata": {
    "collapsed": false,
    "pycharm": {
     "name": "#%%\n"
    }
   }
  },
  {
   "cell_type": "code",
   "execution_count": null,
   "outputs": [],
   "source": [
    "data2.groupby('地区').agg(最低工资=('月薪最小值', 'min'), 最高工资=(\n",
    "    '月薪最小值', 'max'), 平均工资=('月薪最小值', 'mean')).rename_axis([\"行政区\"])"
   ],
   "metadata": {
    "collapsed": false,
    "pycharm": {
     "name": "#%%\n"
    }
   }
  },
  {
   "cell_type": "code",
   "execution_count": null,
   "outputs": [],
   "source": [
    "data2['job_title'] = data1['职位名称']\n",
    "data2.groupby('job_title').agg({'月薪最小值': np.mean})"
   ],
   "metadata": {
    "collapsed": false,
    "pycharm": {
     "name": "#%%\n"
    }
   }
  },
  {
   "cell_type": "code",
   "execution_count": null,
   "outputs": [],
   "source": [
    "data2.groupby('district').agg(\n",
    "    {'salary': [np.mean, np.median, np.std], 'score': np.mean})"
   ],
   "metadata": {
    "collapsed": false,
    "pycharm": {
     "name": "#%%\n"
    }
   }
  },
  {
   "cell_type": "code",
   "execution_count": null,
   "outputs": [],
   "source": [
    "def myfunc(x):\n",
    "\n",
    "    return x.max()-x.mean()\n",
    "\n",
    "data2.groupby('district').agg(最低工资=('salary', 'min'), 最高工资=(\n",
    "    'salary', 'max'), 平均工资=('salary', 'mean'), 最大值与均值差值=('salary', myfunc)).rename_axis([\"行政区\"])"
   ],
   "metadata": {
    "collapsed": false,
    "pycharm": {
     "name": "#%%\n"
    }
   }
  },
  {
   "cell_type": "markdown",
   "source": [
    "### 数据透视与合并"
   ],
   "metadata": {
    "collapsed": false,
    "pycharm": {
     "name": "#%% md\n"
    }
   }
  },
  {
   "cell_type": "markdown",
   "source": [
    "pd.pivot_table(data, values = [''], index = '', columns='', aggfunc = ['', ''], margins=True)\n",
    "\n",
    "table.query(' == [\"\"]')\n",
    "\n",
    "table.melt(id_vars=['数量'],var_name='分类',value_name='金额')"
   ],
   "metadata": {
    "collapsed": false,
    "pycharm": {
     "name": "#%% md\n"
    }
   }
  },
  {
   "cell_type": "code",
   "execution_count": 93,
   "outputs": [
    {
     "data": {
      "text/plain": "           月薪最小值\n地区              \n上海  12666.666667\n东莞  15250.000000\n中山  10000.000000\n佛山  12000.000000\n北京  12000.000000\n南京  13684.210526\n南宁  13500.000000\n南通  11500.000000\n厦门  15285.714286\n合肥  14571.428571\n大连   9800.000000\n天津  17500.000000\n宁波  18000.000000\n宜宾   6000.000000\n常州   9666.666667\n常熟  16000.000000\n广州  11468.750000\n延吉  13000.000000\n惠州  15000.000000\n成都  15714.285714\n扬州  15666.666667\n无锡  15000.000000\n昆山   9500.000000\n昆明  15000.000000\n杭州  13846.153846\n桂林  13000.000000\n武汉  13588.235294\n济南  12500.000000\n海口  15000.000000\n深圳  12634.615385\n珠海  11500.000000\n福州  10000.000000\n芜湖  16000.000000\n苏州  11272.727273\n西安  17500.000000\n重庆  13900.000000\n长春  12000.000000\n长沙  12150.000000\n青岛   9666.666667",
      "text/html": "<div>\n<style scoped>\n    .dataframe tbody tr th:only-of-type {\n        vertical-align: middle;\n    }\n\n    .dataframe tbody tr th {\n        vertical-align: top;\n    }\n\n    .dataframe thead th {\n        text-align: right;\n    }\n</style>\n<table border=\"1\" class=\"dataframe\">\n  <thead>\n    <tr style=\"text-align: right;\">\n      <th></th>\n      <th>月薪最小值</th>\n    </tr>\n    <tr>\n      <th>地区</th>\n      <th></th>\n    </tr>\n  </thead>\n  <tbody>\n    <tr>\n      <th>上海</th>\n      <td>12666.666667</td>\n    </tr>\n    <tr>\n      <th>东莞</th>\n      <td>15250.000000</td>\n    </tr>\n    <tr>\n      <th>中山</th>\n      <td>10000.000000</td>\n    </tr>\n    <tr>\n      <th>佛山</th>\n      <td>12000.000000</td>\n    </tr>\n    <tr>\n      <th>北京</th>\n      <td>12000.000000</td>\n    </tr>\n    <tr>\n      <th>南京</th>\n      <td>13684.210526</td>\n    </tr>\n    <tr>\n      <th>南宁</th>\n      <td>13500.000000</td>\n    </tr>\n    <tr>\n      <th>南通</th>\n      <td>11500.000000</td>\n    </tr>\n    <tr>\n      <th>厦门</th>\n      <td>15285.714286</td>\n    </tr>\n    <tr>\n      <th>合肥</th>\n      <td>14571.428571</td>\n    </tr>\n    <tr>\n      <th>大连</th>\n      <td>9800.000000</td>\n    </tr>\n    <tr>\n      <th>天津</th>\n      <td>17500.000000</td>\n    </tr>\n    <tr>\n      <th>宁波</th>\n      <td>18000.000000</td>\n    </tr>\n    <tr>\n      <th>宜宾</th>\n      <td>6000.000000</td>\n    </tr>\n    <tr>\n      <th>常州</th>\n      <td>9666.666667</td>\n    </tr>\n    <tr>\n      <th>常熟</th>\n      <td>16000.000000</td>\n    </tr>\n    <tr>\n      <th>广州</th>\n      <td>11468.750000</td>\n    </tr>\n    <tr>\n      <th>延吉</th>\n      <td>13000.000000</td>\n    </tr>\n    <tr>\n      <th>惠州</th>\n      <td>15000.000000</td>\n    </tr>\n    <tr>\n      <th>成都</th>\n      <td>15714.285714</td>\n    </tr>\n    <tr>\n      <th>扬州</th>\n      <td>15666.666667</td>\n    </tr>\n    <tr>\n      <th>无锡</th>\n      <td>15000.000000</td>\n    </tr>\n    <tr>\n      <th>昆山</th>\n      <td>9500.000000</td>\n    </tr>\n    <tr>\n      <th>昆明</th>\n      <td>15000.000000</td>\n    </tr>\n    <tr>\n      <th>杭州</th>\n      <td>13846.153846</td>\n    </tr>\n    <tr>\n      <th>桂林</th>\n      <td>13000.000000</td>\n    </tr>\n    <tr>\n      <th>武汉</th>\n      <td>13588.235294</td>\n    </tr>\n    <tr>\n      <th>济南</th>\n      <td>12500.000000</td>\n    </tr>\n    <tr>\n      <th>海口</th>\n      <td>15000.000000</td>\n    </tr>\n    <tr>\n      <th>深圳</th>\n      <td>12634.615385</td>\n    </tr>\n    <tr>\n      <th>珠海</th>\n      <td>11500.000000</td>\n    </tr>\n    <tr>\n      <th>福州</th>\n      <td>10000.000000</td>\n    </tr>\n    <tr>\n      <th>芜湖</th>\n      <td>16000.000000</td>\n    </tr>\n    <tr>\n      <th>苏州</th>\n      <td>11272.727273</td>\n    </tr>\n    <tr>\n      <th>西安</th>\n      <td>17500.000000</td>\n    </tr>\n    <tr>\n      <th>重庆</th>\n      <td>13900.000000</td>\n    </tr>\n    <tr>\n      <th>长春</th>\n      <td>12000.000000</td>\n    </tr>\n    <tr>\n      <th>长沙</th>\n      <td>12150.000000</td>\n    </tr>\n    <tr>\n      <th>青岛</th>\n      <td>9666.666667</td>\n    </tr>\n  </tbody>\n</table>\n</div>"
     },
     "execution_count": 93,
     "metadata": {},
     "output_type": "execute_result"
    }
   ],
   "source": [
    "pd.pivot_table(data2, values = ['月薪最小值'],index = '地区')"
   ],
   "metadata": {
    "collapsed": false,
    "pycharm": {
     "name": "#%%\n"
    }
   }
  },
  {
   "cell_type": "code",
   "execution_count": 96,
   "outputs": [
    {
     "data": {
      "text/plain": "            mean median\n           月薪最小值  月薪最小值\n地区                     \n上海  12666.666667  13000\n东莞  15250.000000  15500\n中山  10000.000000  10000\n佛山  12000.000000  11000\n北京  12000.000000  11000\n南京  13684.210526  15000\n南宁  13500.000000  13500\n南通  11500.000000  11500\n厦门  15285.714286  12000\n合肥  14571.428571  15000\n大连   9800.000000  10000\n天津  17500.000000  17500\n宁波  18000.000000  17500\n宜宾   6000.000000   6000\n常州   9666.666667   8000\n常熟  16000.000000  16000\n广州  11468.750000  10000\n延吉  13000.000000  13000\n惠州  15000.000000  15000\n成都  15714.285714  15000\n扬州  15666.666667  16500\n无锡  15000.000000  15000\n昆山   9500.000000   9000\n昆明  15000.000000  15000\n杭州  13846.153846  15000\n桂林  13000.000000  13000\n武汉  13588.235294  15000\n济南  12500.000000  12500\n海口  15000.000000  15000\n深圳  12634.615385  12500\n珠海  11500.000000  11500\n福州  10000.000000  10000\n芜湖  16000.000000  16000\n苏州  11272.727273  10000\n西安  17500.000000  17500\n重庆  13900.000000  15000\n长春  12000.000000  12000\n长沙  12150.000000  11000\n青岛   9666.666667   9000",
      "text/html": "<div>\n<style scoped>\n    .dataframe tbody tr th:only-of-type {\n        vertical-align: middle;\n    }\n\n    .dataframe tbody tr th {\n        vertical-align: top;\n    }\n\n    .dataframe thead tr th {\n        text-align: left;\n    }\n\n    .dataframe thead tr:last-of-type th {\n        text-align: right;\n    }\n</style>\n<table border=\"1\" class=\"dataframe\">\n  <thead>\n    <tr>\n      <th></th>\n      <th>mean</th>\n      <th>median</th>\n    </tr>\n    <tr>\n      <th></th>\n      <th>月薪最小值</th>\n      <th>月薪最小值</th>\n    </tr>\n    <tr>\n      <th>地区</th>\n      <th></th>\n      <th></th>\n    </tr>\n  </thead>\n  <tbody>\n    <tr>\n      <th>上海</th>\n      <td>12666.666667</td>\n      <td>13000</td>\n    </tr>\n    <tr>\n      <th>东莞</th>\n      <td>15250.000000</td>\n      <td>15500</td>\n    </tr>\n    <tr>\n      <th>中山</th>\n      <td>10000.000000</td>\n      <td>10000</td>\n    </tr>\n    <tr>\n      <th>佛山</th>\n      <td>12000.000000</td>\n      <td>11000</td>\n    </tr>\n    <tr>\n      <th>北京</th>\n      <td>12000.000000</td>\n      <td>11000</td>\n    </tr>\n    <tr>\n      <th>南京</th>\n      <td>13684.210526</td>\n      <td>15000</td>\n    </tr>\n    <tr>\n      <th>南宁</th>\n      <td>13500.000000</td>\n      <td>13500</td>\n    </tr>\n    <tr>\n      <th>南通</th>\n      <td>11500.000000</td>\n      <td>11500</td>\n    </tr>\n    <tr>\n      <th>厦门</th>\n      <td>15285.714286</td>\n      <td>12000</td>\n    </tr>\n    <tr>\n      <th>合肥</th>\n      <td>14571.428571</td>\n      <td>15000</td>\n    </tr>\n    <tr>\n      <th>大连</th>\n      <td>9800.000000</td>\n      <td>10000</td>\n    </tr>\n    <tr>\n      <th>天津</th>\n      <td>17500.000000</td>\n      <td>17500</td>\n    </tr>\n    <tr>\n      <th>宁波</th>\n      <td>18000.000000</td>\n      <td>17500</td>\n    </tr>\n    <tr>\n      <th>宜宾</th>\n      <td>6000.000000</td>\n      <td>6000</td>\n    </tr>\n    <tr>\n      <th>常州</th>\n      <td>9666.666667</td>\n      <td>8000</td>\n    </tr>\n    <tr>\n      <th>常熟</th>\n      <td>16000.000000</td>\n      <td>16000</td>\n    </tr>\n    <tr>\n      <th>广州</th>\n      <td>11468.750000</td>\n      <td>10000</td>\n    </tr>\n    <tr>\n      <th>延吉</th>\n      <td>13000.000000</td>\n      <td>13000</td>\n    </tr>\n    <tr>\n      <th>惠州</th>\n      <td>15000.000000</td>\n      <td>15000</td>\n    </tr>\n    <tr>\n      <th>成都</th>\n      <td>15714.285714</td>\n      <td>15000</td>\n    </tr>\n    <tr>\n      <th>扬州</th>\n      <td>15666.666667</td>\n      <td>16500</td>\n    </tr>\n    <tr>\n      <th>无锡</th>\n      <td>15000.000000</td>\n      <td>15000</td>\n    </tr>\n    <tr>\n      <th>昆山</th>\n      <td>9500.000000</td>\n      <td>9000</td>\n    </tr>\n    <tr>\n      <th>昆明</th>\n      <td>15000.000000</td>\n      <td>15000</td>\n    </tr>\n    <tr>\n      <th>杭州</th>\n      <td>13846.153846</td>\n      <td>15000</td>\n    </tr>\n    <tr>\n      <th>桂林</th>\n      <td>13000.000000</td>\n      <td>13000</td>\n    </tr>\n    <tr>\n      <th>武汉</th>\n      <td>13588.235294</td>\n      <td>15000</td>\n    </tr>\n    <tr>\n      <th>济南</th>\n      <td>12500.000000</td>\n      <td>12500</td>\n    </tr>\n    <tr>\n      <th>海口</th>\n      <td>15000.000000</td>\n      <td>15000</td>\n    </tr>\n    <tr>\n      <th>深圳</th>\n      <td>12634.615385</td>\n      <td>12500</td>\n    </tr>\n    <tr>\n      <th>珠海</th>\n      <td>11500.000000</td>\n      <td>11500</td>\n    </tr>\n    <tr>\n      <th>福州</th>\n      <td>10000.000000</td>\n      <td>10000</td>\n    </tr>\n    <tr>\n      <th>芜湖</th>\n      <td>16000.000000</td>\n      <td>16000</td>\n    </tr>\n    <tr>\n      <th>苏州</th>\n      <td>11272.727273</td>\n      <td>10000</td>\n    </tr>\n    <tr>\n      <th>西安</th>\n      <td>17500.000000</td>\n      <td>17500</td>\n    </tr>\n    <tr>\n      <th>重庆</th>\n      <td>13900.000000</td>\n      <td>15000</td>\n    </tr>\n    <tr>\n      <th>长春</th>\n      <td>12000.000000</td>\n      <td>12000</td>\n    </tr>\n    <tr>\n      <th>长沙</th>\n      <td>12150.000000</td>\n      <td>11000</td>\n    </tr>\n    <tr>\n      <th>青岛</th>\n      <td>9666.666667</td>\n      <td>9000</td>\n    </tr>\n  </tbody>\n</table>\n</div>"
     },
     "execution_count": 96,
     "metadata": {},
     "output_type": "execute_result"
    }
   ],
   "source": [
    "pd.pivot_table(data2, values = ['月薪最小值'],index = '地区', aggfunc = ['mean', 'median'])"
   ],
   "metadata": {
    "collapsed": false,
    "pycharm": {
     "name": "#%%\n"
    }
   }
  },
  {
   "cell_type": "code",
   "execution_count": 98,
   "outputs": [
    {
     "data": {
      "text/plain": "            mean               median       \n           月薪最大值         月薪最小值  月薪最大值  月薪最小值\n地区                                          \n上海  19538.461538  12666.666667  19000  13000\n东莞  25750.000000  15250.000000  22500  15500\n中山  15000.000000  10000.000000  15000  10000\n佛山  19333.333333  12000.000000  19000  11000\n北京  20285.714286  12000.000000  20000  11000\n南京  21842.105263  13684.210526  20000  15000\n南宁  20000.000000  13500.000000  20000  13500\n南通  16000.000000  11500.000000  16000  11500\n厦门  21714.285714  15285.714286  18000  12000\n合肥  24714.285714  14571.428571  23000  15000\n大连  17200.000000   9800.000000  18000  10000\n天津  32500.000000  17500.000000  32500  17500\n宁波  28750.000000  18000.000000  30000  17500\n宜宾  10000.000000   6000.000000  10000   6000\n常州  14666.666667   9666.666667  12000   8000\n常熟  20000.000000  16000.000000  20000  16000\n广州  19093.750000  11468.750000  16000  10000\n延吉  20000.000000  13000.000000  20000  13000\n惠州  22000.000000  15000.000000  25000  15000\n成都  25214.285714  15714.285714  22500  15000\n扬州  21000.000000  15666.666667  23500  16500\n无锡  25000.000000  15000.000000  25000  15000\n昆山  15333.333333   9500.000000  15000   9000\n昆明  20000.000000  15000.000000  20000  15000\n杭州  21923.076923  13846.153846  20000  15000\n桂林  21500.000000  13000.000000  21500  13000\n武汉  21058.823529  13588.235294  20000  15000\n济南  22500.000000  12500.000000  22500  12500\n海口  25000.000000  15000.000000  25000  15000\n深圳  20798.076923  12634.615385  20000  12500\n珠海  17500.000000  11500.000000  17500  11500\n福州  14500.000000  10000.000000  14500  10000\n芜湖  23000.000000  16000.000000  23000  16000\n苏州  17454.545455  11272.727273  15000  10000\n西安  22500.000000  17500.000000  22500  17500\n重庆  23100.000000  13900.000000  25000  15000\n长春  18000.000000  12000.000000  18000  12000\n长沙  19800.000000  12150.000000  18000  11000\n青岛  16000.000000   9666.666667  13000   9000",
      "text/html": "<div>\n<style scoped>\n    .dataframe tbody tr th:only-of-type {\n        vertical-align: middle;\n    }\n\n    .dataframe tbody tr th {\n        vertical-align: top;\n    }\n\n    .dataframe thead tr th {\n        text-align: left;\n    }\n\n    .dataframe thead tr:last-of-type th {\n        text-align: right;\n    }\n</style>\n<table border=\"1\" class=\"dataframe\">\n  <thead>\n    <tr>\n      <th></th>\n      <th colspan=\"2\" halign=\"left\">mean</th>\n      <th colspan=\"2\" halign=\"left\">median</th>\n    </tr>\n    <tr>\n      <th></th>\n      <th>月薪最大值</th>\n      <th>月薪最小值</th>\n      <th>月薪最大值</th>\n      <th>月薪最小值</th>\n    </tr>\n    <tr>\n      <th>地区</th>\n      <th></th>\n      <th></th>\n      <th></th>\n      <th></th>\n    </tr>\n  </thead>\n  <tbody>\n    <tr>\n      <th>上海</th>\n      <td>19538.461538</td>\n      <td>12666.666667</td>\n      <td>19000</td>\n      <td>13000</td>\n    </tr>\n    <tr>\n      <th>东莞</th>\n      <td>25750.000000</td>\n      <td>15250.000000</td>\n      <td>22500</td>\n      <td>15500</td>\n    </tr>\n    <tr>\n      <th>中山</th>\n      <td>15000.000000</td>\n      <td>10000.000000</td>\n      <td>15000</td>\n      <td>10000</td>\n    </tr>\n    <tr>\n      <th>佛山</th>\n      <td>19333.333333</td>\n      <td>12000.000000</td>\n      <td>19000</td>\n      <td>11000</td>\n    </tr>\n    <tr>\n      <th>北京</th>\n      <td>20285.714286</td>\n      <td>12000.000000</td>\n      <td>20000</td>\n      <td>11000</td>\n    </tr>\n    <tr>\n      <th>南京</th>\n      <td>21842.105263</td>\n      <td>13684.210526</td>\n      <td>20000</td>\n      <td>15000</td>\n    </tr>\n    <tr>\n      <th>南宁</th>\n      <td>20000.000000</td>\n      <td>13500.000000</td>\n      <td>20000</td>\n      <td>13500</td>\n    </tr>\n    <tr>\n      <th>南通</th>\n      <td>16000.000000</td>\n      <td>11500.000000</td>\n      <td>16000</td>\n      <td>11500</td>\n    </tr>\n    <tr>\n      <th>厦门</th>\n      <td>21714.285714</td>\n      <td>15285.714286</td>\n      <td>18000</td>\n      <td>12000</td>\n    </tr>\n    <tr>\n      <th>合肥</th>\n      <td>24714.285714</td>\n      <td>14571.428571</td>\n      <td>23000</td>\n      <td>15000</td>\n    </tr>\n    <tr>\n      <th>大连</th>\n      <td>17200.000000</td>\n      <td>9800.000000</td>\n      <td>18000</td>\n      <td>10000</td>\n    </tr>\n    <tr>\n      <th>天津</th>\n      <td>32500.000000</td>\n      <td>17500.000000</td>\n      <td>32500</td>\n      <td>17500</td>\n    </tr>\n    <tr>\n      <th>宁波</th>\n      <td>28750.000000</td>\n      <td>18000.000000</td>\n      <td>30000</td>\n      <td>17500</td>\n    </tr>\n    <tr>\n      <th>宜宾</th>\n      <td>10000.000000</td>\n      <td>6000.000000</td>\n      <td>10000</td>\n      <td>6000</td>\n    </tr>\n    <tr>\n      <th>常州</th>\n      <td>14666.666667</td>\n      <td>9666.666667</td>\n      <td>12000</td>\n      <td>8000</td>\n    </tr>\n    <tr>\n      <th>常熟</th>\n      <td>20000.000000</td>\n      <td>16000.000000</td>\n      <td>20000</td>\n      <td>16000</td>\n    </tr>\n    <tr>\n      <th>广州</th>\n      <td>19093.750000</td>\n      <td>11468.750000</td>\n      <td>16000</td>\n      <td>10000</td>\n    </tr>\n    <tr>\n      <th>延吉</th>\n      <td>20000.000000</td>\n      <td>13000.000000</td>\n      <td>20000</td>\n      <td>13000</td>\n    </tr>\n    <tr>\n      <th>惠州</th>\n      <td>22000.000000</td>\n      <td>15000.000000</td>\n      <td>25000</td>\n      <td>15000</td>\n    </tr>\n    <tr>\n      <th>成都</th>\n      <td>25214.285714</td>\n      <td>15714.285714</td>\n      <td>22500</td>\n      <td>15000</td>\n    </tr>\n    <tr>\n      <th>扬州</th>\n      <td>21000.000000</td>\n      <td>15666.666667</td>\n      <td>23500</td>\n      <td>16500</td>\n    </tr>\n    <tr>\n      <th>无锡</th>\n      <td>25000.000000</td>\n      <td>15000.000000</td>\n      <td>25000</td>\n      <td>15000</td>\n    </tr>\n    <tr>\n      <th>昆山</th>\n      <td>15333.333333</td>\n      <td>9500.000000</td>\n      <td>15000</td>\n      <td>9000</td>\n    </tr>\n    <tr>\n      <th>昆明</th>\n      <td>20000.000000</td>\n      <td>15000.000000</td>\n      <td>20000</td>\n      <td>15000</td>\n    </tr>\n    <tr>\n      <th>杭州</th>\n      <td>21923.076923</td>\n      <td>13846.153846</td>\n      <td>20000</td>\n      <td>15000</td>\n    </tr>\n    <tr>\n      <th>桂林</th>\n      <td>21500.000000</td>\n      <td>13000.000000</td>\n      <td>21500</td>\n      <td>13000</td>\n    </tr>\n    <tr>\n      <th>武汉</th>\n      <td>21058.823529</td>\n      <td>13588.235294</td>\n      <td>20000</td>\n      <td>15000</td>\n    </tr>\n    <tr>\n      <th>济南</th>\n      <td>22500.000000</td>\n      <td>12500.000000</td>\n      <td>22500</td>\n      <td>12500</td>\n    </tr>\n    <tr>\n      <th>海口</th>\n      <td>25000.000000</td>\n      <td>15000.000000</td>\n      <td>25000</td>\n      <td>15000</td>\n    </tr>\n    <tr>\n      <th>深圳</th>\n      <td>20798.076923</td>\n      <td>12634.615385</td>\n      <td>20000</td>\n      <td>12500</td>\n    </tr>\n    <tr>\n      <th>珠海</th>\n      <td>17500.000000</td>\n      <td>11500.000000</td>\n      <td>17500</td>\n      <td>11500</td>\n    </tr>\n    <tr>\n      <th>福州</th>\n      <td>14500.000000</td>\n      <td>10000.000000</td>\n      <td>14500</td>\n      <td>10000</td>\n    </tr>\n    <tr>\n      <th>芜湖</th>\n      <td>23000.000000</td>\n      <td>16000.000000</td>\n      <td>23000</td>\n      <td>16000</td>\n    </tr>\n    <tr>\n      <th>苏州</th>\n      <td>17454.545455</td>\n      <td>11272.727273</td>\n      <td>15000</td>\n      <td>10000</td>\n    </tr>\n    <tr>\n      <th>西安</th>\n      <td>22500.000000</td>\n      <td>17500.000000</td>\n      <td>22500</td>\n      <td>17500</td>\n    </tr>\n    <tr>\n      <th>重庆</th>\n      <td>23100.000000</td>\n      <td>13900.000000</td>\n      <td>25000</td>\n      <td>15000</td>\n    </tr>\n    <tr>\n      <th>长春</th>\n      <td>18000.000000</td>\n      <td>12000.000000</td>\n      <td>18000</td>\n      <td>12000</td>\n    </tr>\n    <tr>\n      <th>长沙</th>\n      <td>19800.000000</td>\n      <td>12150.000000</td>\n      <td>18000</td>\n      <td>11000</td>\n    </tr>\n    <tr>\n      <th>青岛</th>\n      <td>16000.000000</td>\n      <td>9666.666667</td>\n      <td>13000</td>\n      <td>9000</td>\n    </tr>\n  </tbody>\n</table>\n</div>"
     },
     "execution_count": 98,
     "metadata": {},
     "output_type": "execute_result"
    }
   ],
   "source": [
    "pd.pivot_table(data2, values = ['月薪最小值','月薪最大值'], index = '地区', aggfunc = ['mean','median'])"
   ],
   "metadata": {
    "collapsed": false,
    "pycharm": {
     "name": "#%%\n"
    }
   }
  },
  {
   "cell_type": "code",
   "execution_count": 99,
   "outputs": [
    {
     "data": {
      "text/plain": "   月薪最小值  月薪最大值  工作经验要求  地区\n0   8000  12000  3-4年经验  常州\n1  18000  25000  3-4年经验  苏州\n2  15000  20000  5-7年经验  广州\n4  15000  22000  5-7年经验  长沙\n6  10000  20000  3-4年经验  昆山",
      "text/html": "<div>\n<style scoped>\n    .dataframe tbody tr th:only-of-type {\n        vertical-align: middle;\n    }\n\n    .dataframe tbody tr th {\n        vertical-align: top;\n    }\n\n    .dataframe thead th {\n        text-align: right;\n    }\n</style>\n<table border=\"1\" class=\"dataframe\">\n  <thead>\n    <tr style=\"text-align: right;\">\n      <th></th>\n      <th>月薪最小值</th>\n      <th>月薪最大值</th>\n      <th>工作经验要求</th>\n      <th>地区</th>\n    </tr>\n  </thead>\n  <tbody>\n    <tr>\n      <th>0</th>\n      <td>8000</td>\n      <td>12000</td>\n      <td>3-4年经验</td>\n      <td>常州</td>\n    </tr>\n    <tr>\n      <th>1</th>\n      <td>18000</td>\n      <td>25000</td>\n      <td>3-4年经验</td>\n      <td>苏州</td>\n    </tr>\n    <tr>\n      <th>2</th>\n      <td>15000</td>\n      <td>20000</td>\n      <td>5-7年经验</td>\n      <td>广州</td>\n    </tr>\n    <tr>\n      <th>4</th>\n      <td>15000</td>\n      <td>22000</td>\n      <td>5-7年经验</td>\n      <td>长沙</td>\n    </tr>\n    <tr>\n      <th>6</th>\n      <td>10000</td>\n      <td>20000</td>\n      <td>3-4年经验</td>\n      <td>昆山</td>\n    </tr>\n  </tbody>\n</table>\n</div>"
     },
     "execution_count": 99,
     "metadata": {},
     "output_type": "execute_result"
    }
   ],
   "source": [
    "data2.head()"
   ],
   "metadata": {
    "collapsed": false,
    "pycharm": {
     "name": "#%%\n"
    }
   }
  },
  {
   "cell_type": "code",
   "execution_count": 100,
   "outputs": [
    {
     "data": {
      "text/plain": "                mean                                                     \\\n               月薪最大值                                                      \n工作经验要求          1年经验          2年经验        3-4年经验        5-7年经验   8-9年经验   \n地区                                                                        \n上海      16000.000000  18625.000000  19611.111111  21200.000000      NaN   \n东莞               NaN  20000.000000  27666.666667           NaN      NaN   \n中山               NaN           NaN  15000.000000           NaN      NaN   \n佛山      18500.000000  16000.000000  19250.000000  17000.000000  24000.0   \n北京      20000.000000  15000.000000  21666.666667  21000.000000      NaN   \n南京      32666.666667  15000.000000  21153.846154  13500.000000      NaN   \n南宁               NaN  15000.000000           NaN  25000.000000      NaN   \n南通               NaN  20000.000000  12000.000000           NaN      NaN   \n厦门      15000.000000  16000.000000  30000.000000           NaN      NaN   \n合肥      16000.000000  29500.000000  23000.000000           NaN      NaN   \n大连      12000.000000  18000.000000  19000.000000  18000.000000      NaN   \n天津               NaN           NaN  32500.000000           NaN      NaN   \n宁波               NaN  27500.000000  30000.000000           NaN      NaN   \n宜宾               NaN           NaN  10000.000000           NaN      NaN   \n常州               NaN   8000.000000  18000.000000           NaN      NaN   \n常熟               NaN           NaN           NaN  20000.000000      NaN   \n广州      21714.285714  17090.909091  19250.000000  19500.000000      NaN   \n延吉               NaN           NaN  20000.000000           NaN      NaN   \n惠州               NaN  25000.000000  21250.000000           NaN      NaN   \n成都      15000.000000  27600.000000  25000.000000           NaN      NaN   \n扬州               NaN           NaN  21000.000000           NaN      NaN   \n无锡      25000.000000           NaN           NaN           NaN      NaN   \n昆山               NaN  15000.000000  15400.000000           NaN      NaN   \n昆明               NaN           NaN           NaN  20000.000000      NaN   \n杭州      18333.333333  22500.000000  24166.666667  20000.000000      NaN   \n桂林               NaN  21500.000000           NaN           NaN      NaN   \n武汉      20000.000000  20000.000000  21818.181818  19000.000000      NaN   \n济南      25000.000000           NaN  20000.000000           NaN      NaN   \n海口               NaN           NaN  25000.000000           NaN      NaN   \n深圳      20888.888889  19294.117647  20904.761905  21947.368421  30000.0   \n珠海               NaN           NaN  17500.000000           NaN      NaN   \n福州      14000.000000           NaN  15000.000000           NaN      NaN   \n芜湖      23000.000000           NaN           NaN           NaN      NaN   \n苏州      12333.333333  22000.000000  19200.000000  15000.000000      NaN   \n西安               NaN           NaN  15000.000000  30000.000000      NaN   \n重庆               NaN  14000.000000  23833.333333  30000.000000  30000.0   \n长春               NaN  18000.000000           NaN           NaN      NaN   \n长沙               NaN  14000.000000  25428.571429  18700.000000      NaN   \n青岛      13000.000000  17500.000000           NaN           NaN      NaN   \n\n                                                                              \\\n                             月薪最小值                                             \n工作经验要求          无需经验          1年经验          2年经验        3-4年经验        5-7年经验   \n地区                                                                             \n上海               NaN   9666.666667  11500.000000  13055.555556  13800.000000   \n东莞               NaN           NaN  10000.000000  17000.000000           NaN   \n中山               NaN           NaN           NaN  10000.000000           NaN   \n佛山               NaN  11500.000000  10000.000000  13250.000000  10000.000000   \n北京               NaN  15000.000000  10000.000000  12000.000000  11500.000000   \n南京               NaN  21000.000000   8000.000000  13153.846154   9000.000000   \n南宁               NaN           NaN  12000.000000           NaN  15000.000000   \n南通               NaN           NaN  15000.000000   8000.000000           NaN   \n厦门      15000.000000   8000.000000  11000.000000  21666.666667           NaN   \n合肥               NaN  11500.000000  15750.000000  16000.000000           NaN   \n大连               NaN   8000.000000   9000.000000  11000.000000  10000.000000   \n天津               NaN           NaN           NaN  17500.000000           NaN   \n宁波               NaN           NaN  16000.000000  20000.000000           NaN   \n宜宾               NaN           NaN           NaN   6000.000000           NaN   \n常州               NaN           NaN   4000.000000  12500.000000           NaN   \n常熟               NaN           NaN           NaN           NaN  16000.000000   \n广州               NaN  13000.000000  10545.454545  11375.000000  11500.000000   \n延吉               NaN           NaN           NaN  13000.000000           NaN   \n惠州               NaN           NaN  20000.000000  13750.000000           NaN   \n成都               NaN  10000.000000  17600.000000  15250.000000           NaN   \n扬州               NaN           NaN           NaN  15666.666667           NaN   \n无锡               NaN  15000.000000           NaN           NaN           NaN   \n昆山               NaN           NaN   8000.000000   9800.000000           NaN   \n昆明               NaN           NaN           NaN           NaN  15000.000000   \n杭州               NaN  10000.000000  12500.000000  16666.666667  12500.000000   \n桂林               NaN           NaN  13000.000000           NaN           NaN   \n武汉               NaN  12500.000000  12500.000000  14090.909091  13000.000000   \n济南               NaN  15000.000000           NaN  10000.000000           NaN   \n海口               NaN           NaN           NaN  15000.000000           NaN   \n深圳      19142.857143  12222.222222  12647.058824  12690.476190  12684.210526   \n珠海               NaN           NaN           NaN  11500.000000           NaN   \n福州               NaN  10000.000000           NaN  10000.000000           NaN   \n芜湖               NaN  16000.000000           NaN           NaN           NaN   \n苏州               NaN   8000.000000  12000.000000  13200.000000  10000.000000   \n西安               NaN           NaN           NaN  10000.000000  25000.000000   \n重庆               NaN           NaN   9000.000000  14666.666667  15000.000000   \n长春               NaN           NaN  12000.000000           NaN           NaN   \n长沙               NaN           NaN   8666.666667  14000.000000  12025.000000   \n青岛               NaN   9000.000000  10000.000000           NaN           NaN   \n\n        ...   median                                                        \\\n        ...    月薪最大值                               月薪最小值                     \n工作经验要求  ...   3-4年经验   5-7年经验   8-9年经验     无需经验     1年经验     2年经验   3-4年经验   \n地区      ...                                                                  \n上海      ...  18500.0  19000.0      NaN      NaN  12000.0  11500.0  13000.0   \n东莞      ...  25000.0      NaN      NaN      NaN      NaN  10000.0  20000.0   \n中山      ...  15000.0      NaN      NaN      NaN      NaN      NaN  10000.0   \n佛山      ...  18500.0  17000.0  24000.0      NaN  11500.0  10000.0  15000.0   \n北京      ...  20000.0  21000.0      NaN      NaN  15000.0  10000.0  11000.0   \n南京      ...  20000.0  13500.0      NaN      NaN  18000.0   8000.0  15000.0   \n南宁      ...      NaN  25000.0      NaN      NaN      NaN  12000.0      NaN   \n南通      ...  12000.0      NaN      NaN      NaN      NaN  15000.0   8000.0   \n厦门      ...  30000.0      NaN      NaN  15000.0   8000.0  11000.0  20000.0   \n合肥      ...  23000.0      NaN      NaN      NaN  11500.0  16500.0  16000.0   \n大连      ...  19000.0  18000.0      NaN      NaN   8000.0   9000.0  11000.0   \n天津      ...  32500.0      NaN      NaN      NaN      NaN      NaN  17500.0   \n宁波      ...  30000.0      NaN      NaN      NaN      NaN  16000.0  20000.0   \n宜宾      ...  10000.0      NaN      NaN      NaN      NaN      NaN   6000.0   \n常州      ...  18000.0      NaN      NaN      NaN      NaN   4000.0  12500.0   \n常熟      ...      NaN  20000.0      NaN      NaN      NaN      NaN      NaN   \n广州      ...  16000.0  19000.0      NaN      NaN  12000.0  10000.0  10000.0   \n延吉      ...  20000.0      NaN      NaN      NaN      NaN      NaN  13000.0   \n惠州      ...  20000.0      NaN      NaN      NaN      NaN  20000.0  13500.0   \n成都      ...  20000.0      NaN      NaN      NaN  10000.0  18000.0  13500.0   \n扬州      ...  23500.0      NaN      NaN      NaN      NaN      NaN  16500.0   \n无锡      ...      NaN      NaN      NaN      NaN  15000.0      NaN      NaN   \n昆山      ...  15000.0      NaN      NaN      NaN      NaN   8000.0  10000.0   \n昆明      ...      NaN  20000.0      NaN      NaN      NaN      NaN      NaN   \n杭州      ...  22500.0  20000.0      NaN      NaN   9000.0  12500.0  15500.0   \n桂林      ...      NaN      NaN      NaN      NaN      NaN  13000.0      NaN   \n武汉      ...  20000.0  19000.0      NaN      NaN  12500.0  12500.0  15000.0   \n济南      ...  20000.0      NaN      NaN      NaN  15000.0      NaN  10000.0   \n海口      ...  25000.0      NaN      NaN      NaN      NaN      NaN  15000.0   \n深圳      ...  20000.0  20000.0  30000.0  18000.0  13000.0  12000.0  13000.0   \n珠海      ...  17500.0      NaN      NaN      NaN      NaN      NaN  11500.0   \n福州      ...  15000.0      NaN      NaN      NaN  10000.0      NaN  10000.0   \n芜湖      ...      NaN      NaN      NaN      NaN  16000.0      NaN      NaN   \n苏州      ...  23000.0  15000.0      NaN      NaN   8000.0  12000.0  15000.0   \n西安      ...  15000.0  30000.0      NaN      NaN      NaN      NaN  10000.0   \n重庆      ...  25000.0  30000.0  30000.0      NaN      NaN   9000.0  15000.0   \n长春      ...      NaN      NaN      NaN      NaN      NaN  12000.0      NaN   \n长沙      ...  18000.0  18500.0      NaN      NaN      NaN   7000.0  13000.0   \n青岛      ...      NaN      NaN      NaN      NaN   9000.0  10000.0      NaN   \n\n                                   \n                                   \n工作经验要求   5-7年经验   8-9年经验     无需经验  \n地区                                 \n上海      12500.0      NaN      NaN  \n东莞          NaN      NaN      NaN  \n中山          NaN      NaN      NaN  \n佛山      10000.0  12500.0      NaN  \n北京      11500.0      NaN      NaN  \n南京       9000.0      NaN      NaN  \n南宁      15000.0      NaN      NaN  \n南通          NaN      NaN      NaN  \n厦门          NaN      NaN  12000.0  \n合肥          NaN      NaN      NaN  \n大连      10000.0      NaN      NaN  \n天津          NaN      NaN      NaN  \n宁波          NaN      NaN      NaN  \n宜宾          NaN      NaN      NaN  \n常州          NaN      NaN      NaN  \n常熟      16000.0      NaN      NaN  \n广州      10000.0      NaN      NaN  \n延吉          NaN      NaN      NaN  \n惠州          NaN      NaN      NaN  \n成都          NaN      NaN      NaN  \n扬州          NaN      NaN      NaN  \n无锡          NaN      NaN      NaN  \n昆山          NaN      NaN      NaN  \n昆明      15000.0      NaN      NaN  \n杭州      12500.0      NaN      NaN  \n桂林          NaN      NaN      NaN  \n武汉      13000.0      NaN      NaN  \n济南          NaN      NaN      NaN  \n海口          NaN      NaN      NaN  \n深圳      12000.0  20000.0  12000.0  \n珠海          NaN      NaN      NaN  \n福州          NaN      NaN      NaN  \n芜湖          NaN      NaN      NaN  \n苏州      10000.0      NaN      NaN  \n西安      25000.0      NaN      NaN  \n重庆      15000.0  18000.0      NaN  \n长春          NaN      NaN      NaN  \n长沙      10000.0      NaN      NaN  \n青岛          NaN      NaN      NaN  \n\n[39 rows x 24 columns]",
      "text/html": "<div>\n<style scoped>\n    .dataframe tbody tr th:only-of-type {\n        vertical-align: middle;\n    }\n\n    .dataframe tbody tr th {\n        vertical-align: top;\n    }\n\n    .dataframe thead tr th {\n        text-align: left;\n    }\n\n    .dataframe thead tr:last-of-type th {\n        text-align: right;\n    }\n</style>\n<table border=\"1\" class=\"dataframe\">\n  <thead>\n    <tr>\n      <th></th>\n      <th colspan=\"10\" halign=\"left\">mean</th>\n      <th>...</th>\n      <th colspan=\"10\" halign=\"left\">median</th>\n    </tr>\n    <tr>\n      <th></th>\n      <th colspan=\"6\" halign=\"left\">月薪最大值</th>\n      <th colspan=\"4\" halign=\"left\">月薪最小值</th>\n      <th>...</th>\n      <th colspan=\"4\" halign=\"left\">月薪最大值</th>\n      <th colspan=\"6\" halign=\"left\">月薪最小值</th>\n    </tr>\n    <tr>\n      <th>工作经验要求</th>\n      <th>1年经验</th>\n      <th>2年经验</th>\n      <th>3-4年经验</th>\n      <th>5-7年经验</th>\n      <th>8-9年经验</th>\n      <th>无需经验</th>\n      <th>1年经验</th>\n      <th>2年经验</th>\n      <th>3-4年经验</th>\n      <th>5-7年经验</th>\n      <th>...</th>\n      <th>3-4年经验</th>\n      <th>5-7年经验</th>\n      <th>8-9年经验</th>\n      <th>无需经验</th>\n      <th>1年经验</th>\n      <th>2年经验</th>\n      <th>3-4年经验</th>\n      <th>5-7年经验</th>\n      <th>8-9年经验</th>\n      <th>无需经验</th>\n    </tr>\n    <tr>\n      <th>地区</th>\n      <th></th>\n      <th></th>\n      <th></th>\n      <th></th>\n      <th></th>\n      <th></th>\n      <th></th>\n      <th></th>\n      <th></th>\n      <th></th>\n      <th></th>\n      <th></th>\n      <th></th>\n      <th></th>\n      <th></th>\n      <th></th>\n      <th></th>\n      <th></th>\n      <th></th>\n      <th></th>\n      <th></th>\n    </tr>\n  </thead>\n  <tbody>\n    <tr>\n      <th>上海</th>\n      <td>16000.000000</td>\n      <td>18625.000000</td>\n      <td>19611.111111</td>\n      <td>21200.000000</td>\n      <td>NaN</td>\n      <td>NaN</td>\n      <td>9666.666667</td>\n      <td>11500.000000</td>\n      <td>13055.555556</td>\n      <td>13800.000000</td>\n      <td>...</td>\n      <td>18500.0</td>\n      <td>19000.0</td>\n      <td>NaN</td>\n      <td>NaN</td>\n      <td>12000.0</td>\n      <td>11500.0</td>\n      <td>13000.0</td>\n      <td>12500.0</td>\n      <td>NaN</td>\n      <td>NaN</td>\n    </tr>\n    <tr>\n      <th>东莞</th>\n      <td>NaN</td>\n      <td>20000.000000</td>\n      <td>27666.666667</td>\n      <td>NaN</td>\n      <td>NaN</td>\n      <td>NaN</td>\n      <td>NaN</td>\n      <td>10000.000000</td>\n      <td>17000.000000</td>\n      <td>NaN</td>\n      <td>...</td>\n      <td>25000.0</td>\n      <td>NaN</td>\n      <td>NaN</td>\n      <td>NaN</td>\n      <td>NaN</td>\n      <td>10000.0</td>\n      <td>20000.0</td>\n      <td>NaN</td>\n      <td>NaN</td>\n      <td>NaN</td>\n    </tr>\n    <tr>\n      <th>中山</th>\n      <td>NaN</td>\n      <td>NaN</td>\n      <td>15000.000000</td>\n      <td>NaN</td>\n      <td>NaN</td>\n      <td>NaN</td>\n      <td>NaN</td>\n      <td>NaN</td>\n      <td>10000.000000</td>\n      <td>NaN</td>\n      <td>...</td>\n      <td>15000.0</td>\n      <td>NaN</td>\n      <td>NaN</td>\n      <td>NaN</td>\n      <td>NaN</td>\n      <td>NaN</td>\n      <td>10000.0</td>\n      <td>NaN</td>\n      <td>NaN</td>\n      <td>NaN</td>\n    </tr>\n    <tr>\n      <th>佛山</th>\n      <td>18500.000000</td>\n      <td>16000.000000</td>\n      <td>19250.000000</td>\n      <td>17000.000000</td>\n      <td>24000.0</td>\n      <td>NaN</td>\n      <td>11500.000000</td>\n      <td>10000.000000</td>\n      <td>13250.000000</td>\n      <td>10000.000000</td>\n      <td>...</td>\n      <td>18500.0</td>\n      <td>17000.0</td>\n      <td>24000.0</td>\n      <td>NaN</td>\n      <td>11500.0</td>\n      <td>10000.0</td>\n      <td>15000.0</td>\n      <td>10000.0</td>\n      <td>12500.0</td>\n      <td>NaN</td>\n    </tr>\n    <tr>\n      <th>北京</th>\n      <td>20000.000000</td>\n      <td>15000.000000</td>\n      <td>21666.666667</td>\n      <td>21000.000000</td>\n      <td>NaN</td>\n      <td>NaN</td>\n      <td>15000.000000</td>\n      <td>10000.000000</td>\n      <td>12000.000000</td>\n      <td>11500.000000</td>\n      <td>...</td>\n      <td>20000.0</td>\n      <td>21000.0</td>\n      <td>NaN</td>\n      <td>NaN</td>\n      <td>15000.0</td>\n      <td>10000.0</td>\n      <td>11000.0</td>\n      <td>11500.0</td>\n      <td>NaN</td>\n      <td>NaN</td>\n    </tr>\n    <tr>\n      <th>南京</th>\n      <td>32666.666667</td>\n      <td>15000.000000</td>\n      <td>21153.846154</td>\n      <td>13500.000000</td>\n      <td>NaN</td>\n      <td>NaN</td>\n      <td>21000.000000</td>\n      <td>8000.000000</td>\n      <td>13153.846154</td>\n      <td>9000.000000</td>\n      <td>...</td>\n      <td>20000.0</td>\n      <td>13500.0</td>\n      <td>NaN</td>\n      <td>NaN</td>\n      <td>18000.0</td>\n      <td>8000.0</td>\n      <td>15000.0</td>\n      <td>9000.0</td>\n      <td>NaN</td>\n      <td>NaN</td>\n    </tr>\n    <tr>\n      <th>南宁</th>\n      <td>NaN</td>\n      <td>15000.000000</td>\n      <td>NaN</td>\n      <td>25000.000000</td>\n      <td>NaN</td>\n      <td>NaN</td>\n      <td>NaN</td>\n      <td>12000.000000</td>\n      <td>NaN</td>\n      <td>15000.000000</td>\n      <td>...</td>\n      <td>NaN</td>\n      <td>25000.0</td>\n      <td>NaN</td>\n      <td>NaN</td>\n      <td>NaN</td>\n      <td>12000.0</td>\n      <td>NaN</td>\n      <td>15000.0</td>\n      <td>NaN</td>\n      <td>NaN</td>\n    </tr>\n    <tr>\n      <th>南通</th>\n      <td>NaN</td>\n      <td>20000.000000</td>\n      <td>12000.000000</td>\n      <td>NaN</td>\n      <td>NaN</td>\n      <td>NaN</td>\n      <td>NaN</td>\n      <td>15000.000000</td>\n      <td>8000.000000</td>\n      <td>NaN</td>\n      <td>...</td>\n      <td>12000.0</td>\n      <td>NaN</td>\n      <td>NaN</td>\n      <td>NaN</td>\n      <td>NaN</td>\n      <td>15000.0</td>\n      <td>8000.0</td>\n      <td>NaN</td>\n      <td>NaN</td>\n      <td>NaN</td>\n    </tr>\n    <tr>\n      <th>厦门</th>\n      <td>15000.000000</td>\n      <td>16000.000000</td>\n      <td>30000.000000</td>\n      <td>NaN</td>\n      <td>NaN</td>\n      <td>15000.000000</td>\n      <td>8000.000000</td>\n      <td>11000.000000</td>\n      <td>21666.666667</td>\n      <td>NaN</td>\n      <td>...</td>\n      <td>30000.0</td>\n      <td>NaN</td>\n      <td>NaN</td>\n      <td>15000.0</td>\n      <td>8000.0</td>\n      <td>11000.0</td>\n      <td>20000.0</td>\n      <td>NaN</td>\n      <td>NaN</td>\n      <td>12000.0</td>\n    </tr>\n    <tr>\n      <th>合肥</th>\n      <td>16000.000000</td>\n      <td>29500.000000</td>\n      <td>23000.000000</td>\n      <td>NaN</td>\n      <td>NaN</td>\n      <td>NaN</td>\n      <td>11500.000000</td>\n      <td>15750.000000</td>\n      <td>16000.000000</td>\n      <td>NaN</td>\n      <td>...</td>\n      <td>23000.0</td>\n      <td>NaN</td>\n      <td>NaN</td>\n      <td>NaN</td>\n      <td>11500.0</td>\n      <td>16500.0</td>\n      <td>16000.0</td>\n      <td>NaN</td>\n      <td>NaN</td>\n      <td>NaN</td>\n    </tr>\n    <tr>\n      <th>大连</th>\n      <td>12000.000000</td>\n      <td>18000.000000</td>\n      <td>19000.000000</td>\n      <td>18000.000000</td>\n      <td>NaN</td>\n      <td>NaN</td>\n      <td>8000.000000</td>\n      <td>9000.000000</td>\n      <td>11000.000000</td>\n      <td>10000.000000</td>\n      <td>...</td>\n      <td>19000.0</td>\n      <td>18000.0</td>\n      <td>NaN</td>\n      <td>NaN</td>\n      <td>8000.0</td>\n      <td>9000.0</td>\n      <td>11000.0</td>\n      <td>10000.0</td>\n      <td>NaN</td>\n      <td>NaN</td>\n    </tr>\n    <tr>\n      <th>天津</th>\n      <td>NaN</td>\n      <td>NaN</td>\n      <td>32500.000000</td>\n      <td>NaN</td>\n      <td>NaN</td>\n      <td>NaN</td>\n      <td>NaN</td>\n      <td>NaN</td>\n      <td>17500.000000</td>\n      <td>NaN</td>\n      <td>...</td>\n      <td>32500.0</td>\n      <td>NaN</td>\n      <td>NaN</td>\n      <td>NaN</td>\n      <td>NaN</td>\n      <td>NaN</td>\n      <td>17500.0</td>\n      <td>NaN</td>\n      <td>NaN</td>\n      <td>NaN</td>\n    </tr>\n    <tr>\n      <th>宁波</th>\n      <td>NaN</td>\n      <td>27500.000000</td>\n      <td>30000.000000</td>\n      <td>NaN</td>\n      <td>NaN</td>\n      <td>NaN</td>\n      <td>NaN</td>\n      <td>16000.000000</td>\n      <td>20000.000000</td>\n      <td>NaN</td>\n      <td>...</td>\n      <td>30000.0</td>\n      <td>NaN</td>\n      <td>NaN</td>\n      <td>NaN</td>\n      <td>NaN</td>\n      <td>16000.0</td>\n      <td>20000.0</td>\n      <td>NaN</td>\n      <td>NaN</td>\n      <td>NaN</td>\n    </tr>\n    <tr>\n      <th>宜宾</th>\n      <td>NaN</td>\n      <td>NaN</td>\n      <td>10000.000000</td>\n      <td>NaN</td>\n      <td>NaN</td>\n      <td>NaN</td>\n      <td>NaN</td>\n      <td>NaN</td>\n      <td>6000.000000</td>\n      <td>NaN</td>\n      <td>...</td>\n      <td>10000.0</td>\n      <td>NaN</td>\n      <td>NaN</td>\n      <td>NaN</td>\n      <td>NaN</td>\n      <td>NaN</td>\n      <td>6000.0</td>\n      <td>NaN</td>\n      <td>NaN</td>\n      <td>NaN</td>\n    </tr>\n    <tr>\n      <th>常州</th>\n      <td>NaN</td>\n      <td>8000.000000</td>\n      <td>18000.000000</td>\n      <td>NaN</td>\n      <td>NaN</td>\n      <td>NaN</td>\n      <td>NaN</td>\n      <td>4000.000000</td>\n      <td>12500.000000</td>\n      <td>NaN</td>\n      <td>...</td>\n      <td>18000.0</td>\n      <td>NaN</td>\n      <td>NaN</td>\n      <td>NaN</td>\n      <td>NaN</td>\n      <td>4000.0</td>\n      <td>12500.0</td>\n      <td>NaN</td>\n      <td>NaN</td>\n      <td>NaN</td>\n    </tr>\n    <tr>\n      <th>常熟</th>\n      <td>NaN</td>\n      <td>NaN</td>\n      <td>NaN</td>\n      <td>20000.000000</td>\n      <td>NaN</td>\n      <td>NaN</td>\n      <td>NaN</td>\n      <td>NaN</td>\n      <td>NaN</td>\n      <td>16000.000000</td>\n      <td>...</td>\n      <td>NaN</td>\n      <td>20000.0</td>\n      <td>NaN</td>\n      <td>NaN</td>\n      <td>NaN</td>\n      <td>NaN</td>\n      <td>NaN</td>\n      <td>16000.0</td>\n      <td>NaN</td>\n      <td>NaN</td>\n    </tr>\n    <tr>\n      <th>广州</th>\n      <td>21714.285714</td>\n      <td>17090.909091</td>\n      <td>19250.000000</td>\n      <td>19500.000000</td>\n      <td>NaN</td>\n      <td>NaN</td>\n      <td>13000.000000</td>\n      <td>10545.454545</td>\n      <td>11375.000000</td>\n      <td>11500.000000</td>\n      <td>...</td>\n      <td>16000.0</td>\n      <td>19000.0</td>\n      <td>NaN</td>\n      <td>NaN</td>\n      <td>12000.0</td>\n      <td>10000.0</td>\n      <td>10000.0</td>\n      <td>10000.0</td>\n      <td>NaN</td>\n      <td>NaN</td>\n    </tr>\n    <tr>\n      <th>延吉</th>\n      <td>NaN</td>\n      <td>NaN</td>\n      <td>20000.000000</td>\n      <td>NaN</td>\n      <td>NaN</td>\n      <td>NaN</td>\n      <td>NaN</td>\n      <td>NaN</td>\n      <td>13000.000000</td>\n      <td>NaN</td>\n      <td>...</td>\n      <td>20000.0</td>\n      <td>NaN</td>\n      <td>NaN</td>\n      <td>NaN</td>\n      <td>NaN</td>\n      <td>NaN</td>\n      <td>13000.0</td>\n      <td>NaN</td>\n      <td>NaN</td>\n      <td>NaN</td>\n    </tr>\n    <tr>\n      <th>惠州</th>\n      <td>NaN</td>\n      <td>25000.000000</td>\n      <td>21250.000000</td>\n      <td>NaN</td>\n      <td>NaN</td>\n      <td>NaN</td>\n      <td>NaN</td>\n      <td>20000.000000</td>\n      <td>13750.000000</td>\n      <td>NaN</td>\n      <td>...</td>\n      <td>20000.0</td>\n      <td>NaN</td>\n      <td>NaN</td>\n      <td>NaN</td>\n      <td>NaN</td>\n      <td>20000.0</td>\n      <td>13500.0</td>\n      <td>NaN</td>\n      <td>NaN</td>\n      <td>NaN</td>\n    </tr>\n    <tr>\n      <th>成都</th>\n      <td>15000.000000</td>\n      <td>27600.000000</td>\n      <td>25000.000000</td>\n      <td>NaN</td>\n      <td>NaN</td>\n      <td>NaN</td>\n      <td>10000.000000</td>\n      <td>17600.000000</td>\n      <td>15250.000000</td>\n      <td>NaN</td>\n      <td>...</td>\n      <td>20000.0</td>\n      <td>NaN</td>\n      <td>NaN</td>\n      <td>NaN</td>\n      <td>10000.0</td>\n      <td>18000.0</td>\n      <td>13500.0</td>\n      <td>NaN</td>\n      <td>NaN</td>\n      <td>NaN</td>\n    </tr>\n    <tr>\n      <th>扬州</th>\n      <td>NaN</td>\n      <td>NaN</td>\n      <td>21000.000000</td>\n      <td>NaN</td>\n      <td>NaN</td>\n      <td>NaN</td>\n      <td>NaN</td>\n      <td>NaN</td>\n      <td>15666.666667</td>\n      <td>NaN</td>\n      <td>...</td>\n      <td>23500.0</td>\n      <td>NaN</td>\n      <td>NaN</td>\n      <td>NaN</td>\n      <td>NaN</td>\n      <td>NaN</td>\n      <td>16500.0</td>\n      <td>NaN</td>\n      <td>NaN</td>\n      <td>NaN</td>\n    </tr>\n    <tr>\n      <th>无锡</th>\n      <td>25000.000000</td>\n      <td>NaN</td>\n      <td>NaN</td>\n      <td>NaN</td>\n      <td>NaN</td>\n      <td>NaN</td>\n      <td>15000.000000</td>\n      <td>NaN</td>\n      <td>NaN</td>\n      <td>NaN</td>\n      <td>...</td>\n      <td>NaN</td>\n      <td>NaN</td>\n      <td>NaN</td>\n      <td>NaN</td>\n      <td>15000.0</td>\n      <td>NaN</td>\n      <td>NaN</td>\n      <td>NaN</td>\n      <td>NaN</td>\n      <td>NaN</td>\n    </tr>\n    <tr>\n      <th>昆山</th>\n      <td>NaN</td>\n      <td>15000.000000</td>\n      <td>15400.000000</td>\n      <td>NaN</td>\n      <td>NaN</td>\n      <td>NaN</td>\n      <td>NaN</td>\n      <td>8000.000000</td>\n      <td>9800.000000</td>\n      <td>NaN</td>\n      <td>...</td>\n      <td>15000.0</td>\n      <td>NaN</td>\n      <td>NaN</td>\n      <td>NaN</td>\n      <td>NaN</td>\n      <td>8000.0</td>\n      <td>10000.0</td>\n      <td>NaN</td>\n      <td>NaN</td>\n      <td>NaN</td>\n    </tr>\n    <tr>\n      <th>昆明</th>\n      <td>NaN</td>\n      <td>NaN</td>\n      <td>NaN</td>\n      <td>20000.000000</td>\n      <td>NaN</td>\n      <td>NaN</td>\n      <td>NaN</td>\n      <td>NaN</td>\n      <td>NaN</td>\n      <td>15000.000000</td>\n      <td>...</td>\n      <td>NaN</td>\n      <td>20000.0</td>\n      <td>NaN</td>\n      <td>NaN</td>\n      <td>NaN</td>\n      <td>NaN</td>\n      <td>NaN</td>\n      <td>15000.0</td>\n      <td>NaN</td>\n      <td>NaN</td>\n    </tr>\n    <tr>\n      <th>杭州</th>\n      <td>18333.333333</td>\n      <td>22500.000000</td>\n      <td>24166.666667</td>\n      <td>20000.000000</td>\n      <td>NaN</td>\n      <td>NaN</td>\n      <td>10000.000000</td>\n      <td>12500.000000</td>\n      <td>16666.666667</td>\n      <td>12500.000000</td>\n      <td>...</td>\n      <td>22500.0</td>\n      <td>20000.0</td>\n      <td>NaN</td>\n      <td>NaN</td>\n      <td>9000.0</td>\n      <td>12500.0</td>\n      <td>15500.0</td>\n      <td>12500.0</td>\n      <td>NaN</td>\n      <td>NaN</td>\n    </tr>\n    <tr>\n      <th>桂林</th>\n      <td>NaN</td>\n      <td>21500.000000</td>\n      <td>NaN</td>\n      <td>NaN</td>\n      <td>NaN</td>\n      <td>NaN</td>\n      <td>NaN</td>\n      <td>13000.000000</td>\n      <td>NaN</td>\n      <td>NaN</td>\n      <td>...</td>\n      <td>NaN</td>\n      <td>NaN</td>\n      <td>NaN</td>\n      <td>NaN</td>\n      <td>NaN</td>\n      <td>13000.0</td>\n      <td>NaN</td>\n      <td>NaN</td>\n      <td>NaN</td>\n      <td>NaN</td>\n    </tr>\n    <tr>\n      <th>武汉</th>\n      <td>20000.000000</td>\n      <td>20000.000000</td>\n      <td>21818.181818</td>\n      <td>19000.000000</td>\n      <td>NaN</td>\n      <td>NaN</td>\n      <td>12500.000000</td>\n      <td>12500.000000</td>\n      <td>14090.909091</td>\n      <td>13000.000000</td>\n      <td>...</td>\n      <td>20000.0</td>\n      <td>19000.0</td>\n      <td>NaN</td>\n      <td>NaN</td>\n      <td>12500.0</td>\n      <td>12500.0</td>\n      <td>15000.0</td>\n      <td>13000.0</td>\n      <td>NaN</td>\n      <td>NaN</td>\n    </tr>\n    <tr>\n      <th>济南</th>\n      <td>25000.000000</td>\n      <td>NaN</td>\n      <td>20000.000000</td>\n      <td>NaN</td>\n      <td>NaN</td>\n      <td>NaN</td>\n      <td>15000.000000</td>\n      <td>NaN</td>\n      <td>10000.000000</td>\n      <td>NaN</td>\n      <td>...</td>\n      <td>20000.0</td>\n      <td>NaN</td>\n      <td>NaN</td>\n      <td>NaN</td>\n      <td>15000.0</td>\n      <td>NaN</td>\n      <td>10000.0</td>\n      <td>NaN</td>\n      <td>NaN</td>\n      <td>NaN</td>\n    </tr>\n    <tr>\n      <th>海口</th>\n      <td>NaN</td>\n      <td>NaN</td>\n      <td>25000.000000</td>\n      <td>NaN</td>\n      <td>NaN</td>\n      <td>NaN</td>\n      <td>NaN</td>\n      <td>NaN</td>\n      <td>15000.000000</td>\n      <td>NaN</td>\n      <td>...</td>\n      <td>25000.0</td>\n      <td>NaN</td>\n      <td>NaN</td>\n      <td>NaN</td>\n      <td>NaN</td>\n      <td>NaN</td>\n      <td>15000.0</td>\n      <td>NaN</td>\n      <td>NaN</td>\n      <td>NaN</td>\n    </tr>\n    <tr>\n      <th>深圳</th>\n      <td>20888.888889</td>\n      <td>19294.117647</td>\n      <td>20904.761905</td>\n      <td>21947.368421</td>\n      <td>30000.0</td>\n      <td>19142.857143</td>\n      <td>12222.222222</td>\n      <td>12647.058824</td>\n      <td>12690.476190</td>\n      <td>12684.210526</td>\n      <td>...</td>\n      <td>20000.0</td>\n      <td>20000.0</td>\n      <td>30000.0</td>\n      <td>18000.0</td>\n      <td>13000.0</td>\n      <td>12000.0</td>\n      <td>13000.0</td>\n      <td>12000.0</td>\n      <td>20000.0</td>\n      <td>12000.0</td>\n    </tr>\n    <tr>\n      <th>珠海</th>\n      <td>NaN</td>\n      <td>NaN</td>\n      <td>17500.000000</td>\n      <td>NaN</td>\n      <td>NaN</td>\n      <td>NaN</td>\n      <td>NaN</td>\n      <td>NaN</td>\n      <td>11500.000000</td>\n      <td>NaN</td>\n      <td>...</td>\n      <td>17500.0</td>\n      <td>NaN</td>\n      <td>NaN</td>\n      <td>NaN</td>\n      <td>NaN</td>\n      <td>NaN</td>\n      <td>11500.0</td>\n      <td>NaN</td>\n      <td>NaN</td>\n      <td>NaN</td>\n    </tr>\n    <tr>\n      <th>福州</th>\n      <td>14000.000000</td>\n      <td>NaN</td>\n      <td>15000.000000</td>\n      <td>NaN</td>\n      <td>NaN</td>\n      <td>NaN</td>\n      <td>10000.000000</td>\n      <td>NaN</td>\n      <td>10000.000000</td>\n      <td>NaN</td>\n      <td>...</td>\n      <td>15000.0</td>\n      <td>NaN</td>\n      <td>NaN</td>\n      <td>NaN</td>\n      <td>10000.0</td>\n      <td>NaN</td>\n      <td>10000.0</td>\n      <td>NaN</td>\n      <td>NaN</td>\n      <td>NaN</td>\n    </tr>\n    <tr>\n      <th>芜湖</th>\n      <td>23000.000000</td>\n      <td>NaN</td>\n      <td>NaN</td>\n      <td>NaN</td>\n      <td>NaN</td>\n      <td>NaN</td>\n      <td>16000.000000</td>\n      <td>NaN</td>\n      <td>NaN</td>\n      <td>NaN</td>\n      <td>...</td>\n      <td>NaN</td>\n      <td>NaN</td>\n      <td>NaN</td>\n      <td>NaN</td>\n      <td>16000.0</td>\n      <td>NaN</td>\n      <td>NaN</td>\n      <td>NaN</td>\n      <td>NaN</td>\n      <td>NaN</td>\n    </tr>\n    <tr>\n      <th>苏州</th>\n      <td>12333.333333</td>\n      <td>22000.000000</td>\n      <td>19200.000000</td>\n      <td>15000.000000</td>\n      <td>NaN</td>\n      <td>NaN</td>\n      <td>8000.000000</td>\n      <td>12000.000000</td>\n      <td>13200.000000</td>\n      <td>10000.000000</td>\n      <td>...</td>\n      <td>23000.0</td>\n      <td>15000.0</td>\n      <td>NaN</td>\n      <td>NaN</td>\n      <td>8000.0</td>\n      <td>12000.0</td>\n      <td>15000.0</td>\n      <td>10000.0</td>\n      <td>NaN</td>\n      <td>NaN</td>\n    </tr>\n    <tr>\n      <th>西安</th>\n      <td>NaN</td>\n      <td>NaN</td>\n      <td>15000.000000</td>\n      <td>30000.000000</td>\n      <td>NaN</td>\n      <td>NaN</td>\n      <td>NaN</td>\n      <td>NaN</td>\n      <td>10000.000000</td>\n      <td>25000.000000</td>\n      <td>...</td>\n      <td>15000.0</td>\n      <td>30000.0</td>\n      <td>NaN</td>\n      <td>NaN</td>\n      <td>NaN</td>\n      <td>NaN</td>\n      <td>10000.0</td>\n      <td>25000.0</td>\n      <td>NaN</td>\n      <td>NaN</td>\n    </tr>\n    <tr>\n      <th>重庆</th>\n      <td>NaN</td>\n      <td>14000.000000</td>\n      <td>23833.333333</td>\n      <td>30000.000000</td>\n      <td>30000.0</td>\n      <td>NaN</td>\n      <td>NaN</td>\n      <td>9000.000000</td>\n      <td>14666.666667</td>\n      <td>15000.000000</td>\n      <td>...</td>\n      <td>25000.0</td>\n      <td>30000.0</td>\n      <td>30000.0</td>\n      <td>NaN</td>\n      <td>NaN</td>\n      <td>9000.0</td>\n      <td>15000.0</td>\n      <td>15000.0</td>\n      <td>18000.0</td>\n      <td>NaN</td>\n    </tr>\n    <tr>\n      <th>长春</th>\n      <td>NaN</td>\n      <td>18000.000000</td>\n      <td>NaN</td>\n      <td>NaN</td>\n      <td>NaN</td>\n      <td>NaN</td>\n      <td>NaN</td>\n      <td>12000.000000</td>\n      <td>NaN</td>\n      <td>NaN</td>\n      <td>...</td>\n      <td>NaN</td>\n      <td>NaN</td>\n      <td>NaN</td>\n      <td>NaN</td>\n      <td>NaN</td>\n      <td>12000.0</td>\n      <td>NaN</td>\n      <td>NaN</td>\n      <td>NaN</td>\n      <td>NaN</td>\n    </tr>\n    <tr>\n      <th>长沙</th>\n      <td>NaN</td>\n      <td>14000.000000</td>\n      <td>25428.571429</td>\n      <td>18700.000000</td>\n      <td>NaN</td>\n      <td>NaN</td>\n      <td>NaN</td>\n      <td>8666.666667</td>\n      <td>14000.000000</td>\n      <td>12025.000000</td>\n      <td>...</td>\n      <td>18000.0</td>\n      <td>18500.0</td>\n      <td>NaN</td>\n      <td>NaN</td>\n      <td>NaN</td>\n      <td>7000.0</td>\n      <td>13000.0</td>\n      <td>10000.0</td>\n      <td>NaN</td>\n      <td>NaN</td>\n    </tr>\n    <tr>\n      <th>青岛</th>\n      <td>13000.000000</td>\n      <td>17500.000000</td>\n      <td>NaN</td>\n      <td>NaN</td>\n      <td>NaN</td>\n      <td>NaN</td>\n      <td>9000.000000</td>\n      <td>10000.000000</td>\n      <td>NaN</td>\n      <td>NaN</td>\n      <td>...</td>\n      <td>NaN</td>\n      <td>NaN</td>\n      <td>NaN</td>\n      <td>NaN</td>\n      <td>9000.0</td>\n      <td>10000.0</td>\n      <td>NaN</td>\n      <td>NaN</td>\n      <td>NaN</td>\n      <td>NaN</td>\n    </tr>\n  </tbody>\n</table>\n<p>39 rows × 24 columns</p>\n</div>"
     },
     "execution_count": 100,
     "metadata": {},
     "output_type": "execute_result"
    }
   ],
   "source": [
    "pd.pivot_table(data2, values = ['月薪最小值','月薪最大值'], index = '地区', columns='工作经验要求', aggfunc = ['mean','median'])"
   ],
   "metadata": {
    "collapsed": false,
    "pycharm": {
     "name": "#%%\n"
    }
   }
  },
  {
   "cell_type": "code",
   "execution_count": 101,
   "outputs": [
    {
     "data": {
      "text/plain": "             mean               median       \n            月薪最大值         月薪最小值  月薪最大值  月薪最小值\n地区                                           \n上海   19538.461538  12666.666667  19000  13000\n东莞   25750.000000  15250.000000  22500  15500\n中山   15000.000000  10000.000000  15000  10000\n佛山   19333.333333  12000.000000  19000  11000\n北京   20285.714286  12000.000000  20000  11000\n南京   21842.105263  13684.210526  20000  15000\n南宁   20000.000000  13500.000000  20000  13500\n南通   16000.000000  11500.000000  16000  11500\n厦门   21714.285714  15285.714286  18000  12000\n合肥   24714.285714  14571.428571  23000  15000\n大连   17200.000000   9800.000000  18000  10000\n天津   32500.000000  17500.000000  32500  17500\n宁波   28750.000000  18000.000000  30000  17500\n宜宾   10000.000000   6000.000000  10000   6000\n常州   14666.666667   9666.666667  12000   8000\n常熟   20000.000000  16000.000000  20000  16000\n广州   19093.750000  11468.750000  16000  10000\n延吉   20000.000000  13000.000000  20000  13000\n惠州   22000.000000  15000.000000  25000  15000\n成都   25214.285714  15714.285714  22500  15000\n扬州   21000.000000  15666.666667  23500  16500\n无锡   25000.000000  15000.000000  25000  15000\n昆山   15333.333333   9500.000000  15000   9000\n昆明   20000.000000  15000.000000  20000  15000\n杭州   21923.076923  13846.153846  20000  15000\n桂林   21500.000000  13000.000000  21500  13000\n武汉   21058.823529  13588.235294  20000  15000\n济南   22500.000000  12500.000000  22500  12500\n海口   25000.000000  15000.000000  25000  15000\n深圳   20798.076923  12634.615385  20000  12500\n珠海   17500.000000  11500.000000  17500  11500\n福州   14500.000000  10000.000000  14500  10000\n芜湖   23000.000000  16000.000000  23000  16000\n苏州   17454.545455  11272.727273  15000  10000\n西安   22500.000000  17500.000000  22500  17500\n重庆   23100.000000  13900.000000  25000  15000\n长春   18000.000000  12000.000000  18000  12000\n长沙   19800.000000  12150.000000  18000  11000\n青岛   16000.000000   9666.666667  13000   9000\nAll  20618.798956  12868.146214  20000  12000",
      "text/html": "<div>\n<style scoped>\n    .dataframe tbody tr th:only-of-type {\n        vertical-align: middle;\n    }\n\n    .dataframe tbody tr th {\n        vertical-align: top;\n    }\n\n    .dataframe thead tr th {\n        text-align: left;\n    }\n\n    .dataframe thead tr:last-of-type th {\n        text-align: right;\n    }\n</style>\n<table border=\"1\" class=\"dataframe\">\n  <thead>\n    <tr>\n      <th></th>\n      <th colspan=\"2\" halign=\"left\">mean</th>\n      <th colspan=\"2\" halign=\"left\">median</th>\n    </tr>\n    <tr>\n      <th></th>\n      <th>月薪最大值</th>\n      <th>月薪最小值</th>\n      <th>月薪最大值</th>\n      <th>月薪最小值</th>\n    </tr>\n    <tr>\n      <th>地区</th>\n      <th></th>\n      <th></th>\n      <th></th>\n      <th></th>\n    </tr>\n  </thead>\n  <tbody>\n    <tr>\n      <th>上海</th>\n      <td>19538.461538</td>\n      <td>12666.666667</td>\n      <td>19000</td>\n      <td>13000</td>\n    </tr>\n    <tr>\n      <th>东莞</th>\n      <td>25750.000000</td>\n      <td>15250.000000</td>\n      <td>22500</td>\n      <td>15500</td>\n    </tr>\n    <tr>\n      <th>中山</th>\n      <td>15000.000000</td>\n      <td>10000.000000</td>\n      <td>15000</td>\n      <td>10000</td>\n    </tr>\n    <tr>\n      <th>佛山</th>\n      <td>19333.333333</td>\n      <td>12000.000000</td>\n      <td>19000</td>\n      <td>11000</td>\n    </tr>\n    <tr>\n      <th>北京</th>\n      <td>20285.714286</td>\n      <td>12000.000000</td>\n      <td>20000</td>\n      <td>11000</td>\n    </tr>\n    <tr>\n      <th>南京</th>\n      <td>21842.105263</td>\n      <td>13684.210526</td>\n      <td>20000</td>\n      <td>15000</td>\n    </tr>\n    <tr>\n      <th>南宁</th>\n      <td>20000.000000</td>\n      <td>13500.000000</td>\n      <td>20000</td>\n      <td>13500</td>\n    </tr>\n    <tr>\n      <th>南通</th>\n      <td>16000.000000</td>\n      <td>11500.000000</td>\n      <td>16000</td>\n      <td>11500</td>\n    </tr>\n    <tr>\n      <th>厦门</th>\n      <td>21714.285714</td>\n      <td>15285.714286</td>\n      <td>18000</td>\n      <td>12000</td>\n    </tr>\n    <tr>\n      <th>合肥</th>\n      <td>24714.285714</td>\n      <td>14571.428571</td>\n      <td>23000</td>\n      <td>15000</td>\n    </tr>\n    <tr>\n      <th>大连</th>\n      <td>17200.000000</td>\n      <td>9800.000000</td>\n      <td>18000</td>\n      <td>10000</td>\n    </tr>\n    <tr>\n      <th>天津</th>\n      <td>32500.000000</td>\n      <td>17500.000000</td>\n      <td>32500</td>\n      <td>17500</td>\n    </tr>\n    <tr>\n      <th>宁波</th>\n      <td>28750.000000</td>\n      <td>18000.000000</td>\n      <td>30000</td>\n      <td>17500</td>\n    </tr>\n    <tr>\n      <th>宜宾</th>\n      <td>10000.000000</td>\n      <td>6000.000000</td>\n      <td>10000</td>\n      <td>6000</td>\n    </tr>\n    <tr>\n      <th>常州</th>\n      <td>14666.666667</td>\n      <td>9666.666667</td>\n      <td>12000</td>\n      <td>8000</td>\n    </tr>\n    <tr>\n      <th>常熟</th>\n      <td>20000.000000</td>\n      <td>16000.000000</td>\n      <td>20000</td>\n      <td>16000</td>\n    </tr>\n    <tr>\n      <th>广州</th>\n      <td>19093.750000</td>\n      <td>11468.750000</td>\n      <td>16000</td>\n      <td>10000</td>\n    </tr>\n    <tr>\n      <th>延吉</th>\n      <td>20000.000000</td>\n      <td>13000.000000</td>\n      <td>20000</td>\n      <td>13000</td>\n    </tr>\n    <tr>\n      <th>惠州</th>\n      <td>22000.000000</td>\n      <td>15000.000000</td>\n      <td>25000</td>\n      <td>15000</td>\n    </tr>\n    <tr>\n      <th>成都</th>\n      <td>25214.285714</td>\n      <td>15714.285714</td>\n      <td>22500</td>\n      <td>15000</td>\n    </tr>\n    <tr>\n      <th>扬州</th>\n      <td>21000.000000</td>\n      <td>15666.666667</td>\n      <td>23500</td>\n      <td>16500</td>\n    </tr>\n    <tr>\n      <th>无锡</th>\n      <td>25000.000000</td>\n      <td>15000.000000</td>\n      <td>25000</td>\n      <td>15000</td>\n    </tr>\n    <tr>\n      <th>昆山</th>\n      <td>15333.333333</td>\n      <td>9500.000000</td>\n      <td>15000</td>\n      <td>9000</td>\n    </tr>\n    <tr>\n      <th>昆明</th>\n      <td>20000.000000</td>\n      <td>15000.000000</td>\n      <td>20000</td>\n      <td>15000</td>\n    </tr>\n    <tr>\n      <th>杭州</th>\n      <td>21923.076923</td>\n      <td>13846.153846</td>\n      <td>20000</td>\n      <td>15000</td>\n    </tr>\n    <tr>\n      <th>桂林</th>\n      <td>21500.000000</td>\n      <td>13000.000000</td>\n      <td>21500</td>\n      <td>13000</td>\n    </tr>\n    <tr>\n      <th>武汉</th>\n      <td>21058.823529</td>\n      <td>13588.235294</td>\n      <td>20000</td>\n      <td>15000</td>\n    </tr>\n    <tr>\n      <th>济南</th>\n      <td>22500.000000</td>\n      <td>12500.000000</td>\n      <td>22500</td>\n      <td>12500</td>\n    </tr>\n    <tr>\n      <th>海口</th>\n      <td>25000.000000</td>\n      <td>15000.000000</td>\n      <td>25000</td>\n      <td>15000</td>\n    </tr>\n    <tr>\n      <th>深圳</th>\n      <td>20798.076923</td>\n      <td>12634.615385</td>\n      <td>20000</td>\n      <td>12500</td>\n    </tr>\n    <tr>\n      <th>珠海</th>\n      <td>17500.000000</td>\n      <td>11500.000000</td>\n      <td>17500</td>\n      <td>11500</td>\n    </tr>\n    <tr>\n      <th>福州</th>\n      <td>14500.000000</td>\n      <td>10000.000000</td>\n      <td>14500</td>\n      <td>10000</td>\n    </tr>\n    <tr>\n      <th>芜湖</th>\n      <td>23000.000000</td>\n      <td>16000.000000</td>\n      <td>23000</td>\n      <td>16000</td>\n    </tr>\n    <tr>\n      <th>苏州</th>\n      <td>17454.545455</td>\n      <td>11272.727273</td>\n      <td>15000</td>\n      <td>10000</td>\n    </tr>\n    <tr>\n      <th>西安</th>\n      <td>22500.000000</td>\n      <td>17500.000000</td>\n      <td>22500</td>\n      <td>17500</td>\n    </tr>\n    <tr>\n      <th>重庆</th>\n      <td>23100.000000</td>\n      <td>13900.000000</td>\n      <td>25000</td>\n      <td>15000</td>\n    </tr>\n    <tr>\n      <th>长春</th>\n      <td>18000.000000</td>\n      <td>12000.000000</td>\n      <td>18000</td>\n      <td>12000</td>\n    </tr>\n    <tr>\n      <th>长沙</th>\n      <td>19800.000000</td>\n      <td>12150.000000</td>\n      <td>18000</td>\n      <td>11000</td>\n    </tr>\n    <tr>\n      <th>青岛</th>\n      <td>16000.000000</td>\n      <td>9666.666667</td>\n      <td>13000</td>\n      <td>9000</td>\n    </tr>\n    <tr>\n      <th>All</th>\n      <td>20618.798956</td>\n      <td>12868.146214</td>\n      <td>20000</td>\n      <td>12000</td>\n    </tr>\n  </tbody>\n</table>\n</div>"
     },
     "execution_count": 101,
     "metadata": {},
     "output_type": "execute_result"
    }
   ],
   "source": [
    "pd.pivot_table(data2, values = ['月薪最小值','月薪最大值'], index = '地区', aggfunc = ['mean','median'], margins=True)"
   ],
   "metadata": {
    "collapsed": false,
    "pycharm": {
     "name": "#%%\n"
    }
   }
  },
  {
   "cell_type": "code",
   "execution_count": 103,
   "outputs": [
    {
     "data": {
      "text/plain": "            mean               median       \n           月薪最大值         月薪最小值  月薪最大值  月薪最小值\n地区                                          \n成都  25214.285714  15714.285714  22500  15000",
      "text/html": "<div>\n<style scoped>\n    .dataframe tbody tr th:only-of-type {\n        vertical-align: middle;\n    }\n\n    .dataframe tbody tr th {\n        vertical-align: top;\n    }\n\n    .dataframe thead tr th {\n        text-align: left;\n    }\n\n    .dataframe thead tr:last-of-type th {\n        text-align: right;\n    }\n</style>\n<table border=\"1\" class=\"dataframe\">\n  <thead>\n    <tr>\n      <th></th>\n      <th colspan=\"2\" halign=\"left\">mean</th>\n      <th colspan=\"2\" halign=\"left\">median</th>\n    </tr>\n    <tr>\n      <th></th>\n      <th>月薪最大值</th>\n      <th>月薪最小值</th>\n      <th>月薪最大值</th>\n      <th>月薪最小值</th>\n    </tr>\n    <tr>\n      <th>地区</th>\n      <th></th>\n      <th></th>\n      <th></th>\n      <th></th>\n    </tr>\n  </thead>\n  <tbody>\n    <tr>\n      <th>成都</th>\n      <td>25214.285714</td>\n      <td>15714.285714</td>\n      <td>22500</td>\n      <td>15000</td>\n    </tr>\n  </tbody>\n</table>\n</div>"
     },
     "execution_count": 103,
     "metadata": {},
     "output_type": "execute_result"
    }
   ],
   "source": [
    "table = pd.pivot_table(data2, values = ['月薪最小值','月薪最大值'], index = '地区', aggfunc = ['mean','median'],margins=True)\n",
    "table.query('地区==\"成都\"')"
   ],
   "metadata": {
    "collapsed": false,
    "pycharm": {
     "name": "#%%\n"
    }
   }
  },
  {
   "cell_type": "code",
   "execution_count": 108,
   "outputs": [
    {
     "ename": "KeyError",
     "evalue": "'月薪最大值'",
     "output_type": "error",
     "traceback": [
      "\u001B[1;31m---------------------------------------------------------------------------\u001B[0m",
      "\u001B[1;31mKeyError\u001B[0m                                  Traceback (most recent call last)",
      "File \u001B[1;32mD:\\DL_Homework\\Kaggle2_Titanic\\Project_Titanic\\venv\\lib\\site-packages\\pandas\\core\\indexes\\base.py:3800\u001B[0m, in \u001B[0;36mIndex.get_loc\u001B[1;34m(self, key, method, tolerance)\u001B[0m\n\u001B[0;32m   3799\u001B[0m \u001B[38;5;28;01mtry\u001B[39;00m:\n\u001B[1;32m-> 3800\u001B[0m     \u001B[38;5;28;01mreturn\u001B[39;00m \u001B[38;5;28;43mself\u001B[39;49m\u001B[38;5;241;43m.\u001B[39;49m\u001B[43m_engine\u001B[49m\u001B[38;5;241;43m.\u001B[39;49m\u001B[43mget_loc\u001B[49m\u001B[43m(\u001B[49m\u001B[43mcasted_key\u001B[49m\u001B[43m)\u001B[49m\n\u001B[0;32m   3801\u001B[0m \u001B[38;5;28;01mexcept\u001B[39;00m \u001B[38;5;167;01mKeyError\u001B[39;00m \u001B[38;5;28;01mas\u001B[39;00m err:\n",
      "File \u001B[1;32mD:\\DL_Homework\\Kaggle2_Titanic\\Project_Titanic\\venv\\lib\\site-packages\\pandas\\_libs\\index.pyx:138\u001B[0m, in \u001B[0;36mpandas._libs.index.IndexEngine.get_loc\u001B[1;34m()\u001B[0m\n",
      "File \u001B[1;32mD:\\DL_Homework\\Kaggle2_Titanic\\Project_Titanic\\venv\\lib\\site-packages\\pandas\\_libs\\index.pyx:165\u001B[0m, in \u001B[0;36mpandas._libs.index.IndexEngine.get_loc\u001B[1;34m()\u001B[0m\n",
      "File \u001B[1;32mpandas\\_libs\\hashtable_class_helper.pxi:5745\u001B[0m, in \u001B[0;36mpandas._libs.hashtable.PyObjectHashTable.get_item\u001B[1;34m()\u001B[0m\n",
      "File \u001B[1;32mpandas\\_libs\\hashtable_class_helper.pxi:5753\u001B[0m, in \u001B[0;36mpandas._libs.hashtable.PyObjectHashTable.get_item\u001B[1;34m()\u001B[0m\n",
      "\u001B[1;31mKeyError\u001B[0m: '月薪最大值'",
      "\nThe above exception was the direct cause of the following exception:\n",
      "\u001B[1;31mKeyError\u001B[0m                                  Traceback (most recent call last)",
      "Cell \u001B[1;32mIn [108], line 2\u001B[0m\n\u001B[0;32m      1\u001B[0m table \u001B[38;5;241m=\u001B[39m pd\u001B[38;5;241m.\u001B[39mpivot_table(data2, values \u001B[38;5;241m=\u001B[39m [\u001B[38;5;124m'\u001B[39m\u001B[38;5;124m月薪最小值\u001B[39m\u001B[38;5;124m'\u001B[39m,\u001B[38;5;124m'\u001B[39m\u001B[38;5;124m月薪最大值\u001B[39m\u001B[38;5;124m'\u001B[39m], index \u001B[38;5;241m=\u001B[39m \u001B[38;5;124m'\u001B[39m\u001B[38;5;124m地区\u001B[39m\u001B[38;5;124m'\u001B[39m, aggfunc \u001B[38;5;241m=\u001B[39m [\u001B[38;5;124m'\u001B[39m\u001B[38;5;124mmean\u001B[39m\u001B[38;5;124m'\u001B[39m])\n\u001B[1;32m----> 2\u001B[0m table\u001B[38;5;241m.\u001B[39mmelt(id_vars\u001B[38;5;241m=\u001B[39m[\u001B[38;5;124m'\u001B[39m\u001B[38;5;124m月薪最大值\u001B[39m\u001B[38;5;124m'\u001B[39m],var_name\u001B[38;5;241m=\u001B[39m\u001B[38;5;124m'\u001B[39m\u001B[38;5;124m工作经验要求\u001B[39m\u001B[38;5;124m'\u001B[39m,value_name\u001B[38;5;241m=\u001B[39m\u001B[38;5;124m'\u001B[39m\u001B[38;5;124m月薪最小值\u001B[39m\u001B[38;5;124m'\u001B[39m)\n",
      "File \u001B[1;32mD:\\DL_Homework\\Kaggle2_Titanic\\Project_Titanic\\venv\\lib\\site-packages\\pandas\\core\\frame.py:9117\u001B[0m, in \u001B[0;36mDataFrame.melt\u001B[1;34m(self, id_vars, value_vars, var_name, value_name, col_level, ignore_index)\u001B[0m\n\u001B[0;32m   9106\u001B[0m \u001B[38;5;129m@Appender\u001B[39m(_shared_docs[\u001B[38;5;124m\"\u001B[39m\u001B[38;5;124mmelt\u001B[39m\u001B[38;5;124m\"\u001B[39m] \u001B[38;5;241m%\u001B[39m {\u001B[38;5;124m\"\u001B[39m\u001B[38;5;124mcaller\u001B[39m\u001B[38;5;124m\"\u001B[39m: \u001B[38;5;124m\"\u001B[39m\u001B[38;5;124mdf.melt(\u001B[39m\u001B[38;5;124m\"\u001B[39m, \u001B[38;5;124m\"\u001B[39m\u001B[38;5;124mother\u001B[39m\u001B[38;5;124m\"\u001B[39m: \u001B[38;5;124m\"\u001B[39m\u001B[38;5;124mmelt\u001B[39m\u001B[38;5;124m\"\u001B[39m})\n\u001B[0;32m   9107\u001B[0m \u001B[38;5;28;01mdef\u001B[39;00m \u001B[38;5;21mmelt\u001B[39m(\n\u001B[0;32m   9108\u001B[0m     \u001B[38;5;28mself\u001B[39m,\n\u001B[1;32m   (...)\u001B[0m\n\u001B[0;32m   9114\u001B[0m     ignore_index: \u001B[38;5;28mbool\u001B[39m \u001B[38;5;241m=\u001B[39m \u001B[38;5;28;01mTrue\u001B[39;00m,\n\u001B[0;32m   9115\u001B[0m ) \u001B[38;5;241m-\u001B[39m\u001B[38;5;241m>\u001B[39m DataFrame:\n\u001B[1;32m-> 9117\u001B[0m     \u001B[38;5;28;01mreturn\u001B[39;00m \u001B[43mmelt\u001B[49m\u001B[43m(\u001B[49m\n\u001B[0;32m   9118\u001B[0m \u001B[43m        \u001B[49m\u001B[38;5;28;43mself\u001B[39;49m\u001B[43m,\u001B[49m\n\u001B[0;32m   9119\u001B[0m \u001B[43m        \u001B[49m\u001B[43mid_vars\u001B[49m\u001B[38;5;241;43m=\u001B[39;49m\u001B[43mid_vars\u001B[49m\u001B[43m,\u001B[49m\n\u001B[0;32m   9120\u001B[0m \u001B[43m        \u001B[49m\u001B[43mvalue_vars\u001B[49m\u001B[38;5;241;43m=\u001B[39;49m\u001B[43mvalue_vars\u001B[49m\u001B[43m,\u001B[49m\n\u001B[0;32m   9121\u001B[0m \u001B[43m        \u001B[49m\u001B[43mvar_name\u001B[49m\u001B[38;5;241;43m=\u001B[39;49m\u001B[43mvar_name\u001B[49m\u001B[43m,\u001B[49m\n\u001B[0;32m   9122\u001B[0m \u001B[43m        \u001B[49m\u001B[43mvalue_name\u001B[49m\u001B[38;5;241;43m=\u001B[39;49m\u001B[43mvalue_name\u001B[49m\u001B[43m,\u001B[49m\n\u001B[0;32m   9123\u001B[0m \u001B[43m        \u001B[49m\u001B[43mcol_level\u001B[49m\u001B[38;5;241;43m=\u001B[39;49m\u001B[43mcol_level\u001B[49m\u001B[43m,\u001B[49m\n\u001B[0;32m   9124\u001B[0m \u001B[43m        \u001B[49m\u001B[43mignore_index\u001B[49m\u001B[38;5;241;43m=\u001B[39;49m\u001B[43mignore_index\u001B[49m\u001B[43m,\u001B[49m\n\u001B[0;32m   9125\u001B[0m \u001B[43m    \u001B[49m\u001B[43m)\u001B[49m\u001B[38;5;241m.\u001B[39m__finalize__(\u001B[38;5;28mself\u001B[39m, method\u001B[38;5;241m=\u001B[39m\u001B[38;5;124m\"\u001B[39m\u001B[38;5;124mmelt\u001B[39m\u001B[38;5;124m\"\u001B[39m)\n",
      "File \u001B[1;32mD:\\DL_Homework\\Kaggle2_Titanic\\Project_Titanic\\venv\\lib\\site-packages\\pandas\\core\\reshape\\melt.py:133\u001B[0m, in \u001B[0;36mmelt\u001B[1;34m(frame, id_vars, value_vars, var_name, value_name, col_level, ignore_index)\u001B[0m\n\u001B[0;32m    131\u001B[0m mdata \u001B[38;5;241m=\u001B[39m {}\n\u001B[0;32m    132\u001B[0m \u001B[38;5;28;01mfor\u001B[39;00m col \u001B[38;5;129;01min\u001B[39;00m id_vars:\n\u001B[1;32m--> 133\u001B[0m     id_data \u001B[38;5;241m=\u001B[39m \u001B[43mframe\u001B[49m\u001B[38;5;241;43m.\u001B[39;49m\u001B[43mpop\u001B[49m\u001B[43m(\u001B[49m\u001B[43mcol\u001B[49m\u001B[43m)\u001B[49m\n\u001B[0;32m    134\u001B[0m     \u001B[38;5;28;01mif\u001B[39;00m is_extension_array_dtype(id_data):\n\u001B[0;32m    135\u001B[0m         \u001B[38;5;28;01mif\u001B[39;00m K \u001B[38;5;241m>\u001B[39m \u001B[38;5;241m0\u001B[39m:\n",
      "File \u001B[1;32mD:\\DL_Homework\\Kaggle2_Titanic\\Project_Titanic\\venv\\lib\\site-packages\\pandas\\core\\frame.py:5677\u001B[0m, in \u001B[0;36mDataFrame.pop\u001B[1;34m(self, item)\u001B[0m\n\u001B[0;32m   5636\u001B[0m \u001B[38;5;28;01mdef\u001B[39;00m \u001B[38;5;21mpop\u001B[39m(\u001B[38;5;28mself\u001B[39m, item: Hashable) \u001B[38;5;241m-\u001B[39m\u001B[38;5;241m>\u001B[39m Series:\n\u001B[0;32m   5637\u001B[0m     \u001B[38;5;124;03m\"\"\"\u001B[39;00m\n\u001B[0;32m   5638\u001B[0m \u001B[38;5;124;03m    Return item and drop from frame. Raise KeyError if not found.\u001B[39;00m\n\u001B[0;32m   5639\u001B[0m \n\u001B[1;32m   (...)\u001B[0m\n\u001B[0;32m   5675\u001B[0m \u001B[38;5;124;03m    3  monkey        NaN\u001B[39;00m\n\u001B[0;32m   5676\u001B[0m \u001B[38;5;124;03m    \"\"\"\u001B[39;00m\n\u001B[1;32m-> 5677\u001B[0m     \u001B[38;5;28;01mreturn\u001B[39;00m \u001B[38;5;28;43msuper\u001B[39;49m\u001B[43m(\u001B[49m\u001B[43m)\u001B[49m\u001B[38;5;241;43m.\u001B[39;49m\u001B[43mpop\u001B[49m\u001B[43m(\u001B[49m\u001B[43mitem\u001B[49m\u001B[38;5;241;43m=\u001B[39;49m\u001B[43mitem\u001B[49m\u001B[43m)\u001B[49m\n",
      "File \u001B[1;32mD:\\DL_Homework\\Kaggle2_Titanic\\Project_Titanic\\venv\\lib\\site-packages\\pandas\\core\\generic.py:922\u001B[0m, in \u001B[0;36mNDFrame.pop\u001B[1;34m(self, item)\u001B[0m\n\u001B[0;32m    921\u001B[0m \u001B[38;5;28;01mdef\u001B[39;00m \u001B[38;5;21mpop\u001B[39m(\u001B[38;5;28mself\u001B[39m, item: Hashable) \u001B[38;5;241m-\u001B[39m\u001B[38;5;241m>\u001B[39m Series \u001B[38;5;241m|\u001B[39m Any:\n\u001B[1;32m--> 922\u001B[0m     result \u001B[38;5;241m=\u001B[39m \u001B[38;5;28;43mself\u001B[39;49m\u001B[43m[\u001B[49m\u001B[43mitem\u001B[49m\u001B[43m]\u001B[49m\n\u001B[0;32m    923\u001B[0m     \u001B[38;5;28;01mdel\u001B[39;00m \u001B[38;5;28mself\u001B[39m[item]\n\u001B[0;32m    925\u001B[0m     \u001B[38;5;28;01mreturn\u001B[39;00m result\n",
      "File \u001B[1;32mD:\\DL_Homework\\Kaggle2_Titanic\\Project_Titanic\\venv\\lib\\site-packages\\pandas\\core\\frame.py:3804\u001B[0m, in \u001B[0;36mDataFrame.__getitem__\u001B[1;34m(self, key)\u001B[0m\n\u001B[0;32m   3802\u001B[0m \u001B[38;5;28;01mif\u001B[39;00m is_single_key:\n\u001B[0;32m   3803\u001B[0m     \u001B[38;5;28;01mif\u001B[39;00m \u001B[38;5;28mself\u001B[39m\u001B[38;5;241m.\u001B[39mcolumns\u001B[38;5;241m.\u001B[39mnlevels \u001B[38;5;241m>\u001B[39m \u001B[38;5;241m1\u001B[39m:\n\u001B[1;32m-> 3804\u001B[0m         \u001B[38;5;28;01mreturn\u001B[39;00m \u001B[38;5;28;43mself\u001B[39;49m\u001B[38;5;241;43m.\u001B[39;49m\u001B[43m_getitem_multilevel\u001B[49m\u001B[43m(\u001B[49m\u001B[43mkey\u001B[49m\u001B[43m)\u001B[49m\n\u001B[0;32m   3805\u001B[0m     indexer \u001B[38;5;241m=\u001B[39m \u001B[38;5;28mself\u001B[39m\u001B[38;5;241m.\u001B[39mcolumns\u001B[38;5;241m.\u001B[39mget_loc(key)\n\u001B[0;32m   3806\u001B[0m     \u001B[38;5;28;01mif\u001B[39;00m is_integer(indexer):\n",
      "File \u001B[1;32mD:\\DL_Homework\\Kaggle2_Titanic\\Project_Titanic\\venv\\lib\\site-packages\\pandas\\core\\frame.py:3855\u001B[0m, in \u001B[0;36mDataFrame._getitem_multilevel\u001B[1;34m(self, key)\u001B[0m\n\u001B[0;32m   3853\u001B[0m \u001B[38;5;28;01mdef\u001B[39;00m \u001B[38;5;21m_getitem_multilevel\u001B[39m(\u001B[38;5;28mself\u001B[39m, key):\n\u001B[0;32m   3854\u001B[0m     \u001B[38;5;66;03m# self.columns is a MultiIndex\u001B[39;00m\n\u001B[1;32m-> 3855\u001B[0m     loc \u001B[38;5;241m=\u001B[39m \u001B[38;5;28;43mself\u001B[39;49m\u001B[38;5;241;43m.\u001B[39;49m\u001B[43mcolumns\u001B[49m\u001B[38;5;241;43m.\u001B[39;49m\u001B[43mget_loc\u001B[49m\u001B[43m(\u001B[49m\u001B[43mkey\u001B[49m\u001B[43m)\u001B[49m\n\u001B[0;32m   3856\u001B[0m     \u001B[38;5;28;01mif\u001B[39;00m \u001B[38;5;28misinstance\u001B[39m(loc, (\u001B[38;5;28mslice\u001B[39m, np\u001B[38;5;241m.\u001B[39mndarray)):\n\u001B[0;32m   3857\u001B[0m         new_columns \u001B[38;5;241m=\u001B[39m \u001B[38;5;28mself\u001B[39m\u001B[38;5;241m.\u001B[39mcolumns[loc]\n",
      "File \u001B[1;32mD:\\DL_Homework\\Kaggle2_Titanic\\Project_Titanic\\venv\\lib\\site-packages\\pandas\\core\\indexes\\multi.py:2915\u001B[0m, in \u001B[0;36mMultiIndex.get_loc\u001B[1;34m(self, key, method)\u001B[0m\n\u001B[0;32m   2912\u001B[0m     \u001B[38;5;28;01mreturn\u001B[39;00m mask\n\u001B[0;32m   2914\u001B[0m \u001B[38;5;28;01mif\u001B[39;00m \u001B[38;5;129;01mnot\u001B[39;00m \u001B[38;5;28misinstance\u001B[39m(key, \u001B[38;5;28mtuple\u001B[39m):\n\u001B[1;32m-> 2915\u001B[0m     loc \u001B[38;5;241m=\u001B[39m \u001B[38;5;28;43mself\u001B[39;49m\u001B[38;5;241;43m.\u001B[39;49m\u001B[43m_get_level_indexer\u001B[49m\u001B[43m(\u001B[49m\u001B[43mkey\u001B[49m\u001B[43m,\u001B[49m\u001B[43m \u001B[49m\u001B[43mlevel\u001B[49m\u001B[38;5;241;43m=\u001B[39;49m\u001B[38;5;241;43m0\u001B[39;49m\u001B[43m)\u001B[49m\n\u001B[0;32m   2916\u001B[0m     \u001B[38;5;28;01mreturn\u001B[39;00m _maybe_to_slice(loc)\n\u001B[0;32m   2918\u001B[0m keylen \u001B[38;5;241m=\u001B[39m \u001B[38;5;28mlen\u001B[39m(key)\n",
      "File \u001B[1;32mD:\\DL_Homework\\Kaggle2_Titanic\\Project_Titanic\\venv\\lib\\site-packages\\pandas\\core\\indexes\\multi.py:3262\u001B[0m, in \u001B[0;36mMultiIndex._get_level_indexer\u001B[1;34m(self, key, level, indexer)\u001B[0m\n\u001B[0;32m   3258\u001B[0m         \u001B[38;5;28;01mreturn\u001B[39;00m \u001B[38;5;28mslice\u001B[39m(i, j, step)\n\u001B[0;32m   3260\u001B[0m \u001B[38;5;28;01melse\u001B[39;00m:\n\u001B[1;32m-> 3262\u001B[0m     idx \u001B[38;5;241m=\u001B[39m \u001B[38;5;28;43mself\u001B[39;49m\u001B[38;5;241;43m.\u001B[39;49m\u001B[43m_get_loc_single_level_index\u001B[49m\u001B[43m(\u001B[49m\u001B[43mlevel_index\u001B[49m\u001B[43m,\u001B[49m\u001B[43m \u001B[49m\u001B[43mkey\u001B[49m\u001B[43m)\u001B[49m\n\u001B[0;32m   3264\u001B[0m     \u001B[38;5;28;01mif\u001B[39;00m level \u001B[38;5;241m>\u001B[39m \u001B[38;5;241m0\u001B[39m \u001B[38;5;129;01mor\u001B[39;00m \u001B[38;5;28mself\u001B[39m\u001B[38;5;241m.\u001B[39m_lexsort_depth \u001B[38;5;241m==\u001B[39m \u001B[38;5;241m0\u001B[39m:\n\u001B[0;32m   3265\u001B[0m         \u001B[38;5;66;03m# Desired level is not sorted\u001B[39;00m\n\u001B[0;32m   3266\u001B[0m         \u001B[38;5;28;01mif\u001B[39;00m \u001B[38;5;28misinstance\u001B[39m(idx, \u001B[38;5;28mslice\u001B[39m):\n\u001B[0;32m   3267\u001B[0m             \u001B[38;5;66;03m# test_get_loc_partial_timestamp_multiindex\u001B[39;00m\n",
      "File \u001B[1;32mD:\\DL_Homework\\Kaggle2_Titanic\\Project_Titanic\\venv\\lib\\site-packages\\pandas\\core\\indexes\\multi.py:2848\u001B[0m, in \u001B[0;36mMultiIndex._get_loc_single_level_index\u001B[1;34m(self, level_index, key)\u001B[0m\n\u001B[0;32m   2846\u001B[0m     \u001B[38;5;28;01mreturn\u001B[39;00m \u001B[38;5;241m-\u001B[39m\u001B[38;5;241m1\u001B[39m\n\u001B[0;32m   2847\u001B[0m \u001B[38;5;28;01melse\u001B[39;00m:\n\u001B[1;32m-> 2848\u001B[0m     \u001B[38;5;28;01mreturn\u001B[39;00m \u001B[43mlevel_index\u001B[49m\u001B[38;5;241;43m.\u001B[39;49m\u001B[43mget_loc\u001B[49m\u001B[43m(\u001B[49m\u001B[43mkey\u001B[49m\u001B[43m)\u001B[49m\n",
      "File \u001B[1;32mD:\\DL_Homework\\Kaggle2_Titanic\\Project_Titanic\\venv\\lib\\site-packages\\pandas\\core\\indexes\\base.py:3802\u001B[0m, in \u001B[0;36mIndex.get_loc\u001B[1;34m(self, key, method, tolerance)\u001B[0m\n\u001B[0;32m   3800\u001B[0m     \u001B[38;5;28;01mreturn\u001B[39;00m \u001B[38;5;28mself\u001B[39m\u001B[38;5;241m.\u001B[39m_engine\u001B[38;5;241m.\u001B[39mget_loc(casted_key)\n\u001B[0;32m   3801\u001B[0m \u001B[38;5;28;01mexcept\u001B[39;00m \u001B[38;5;167;01mKeyError\u001B[39;00m \u001B[38;5;28;01mas\u001B[39;00m err:\n\u001B[1;32m-> 3802\u001B[0m     \u001B[38;5;28;01mraise\u001B[39;00m \u001B[38;5;167;01mKeyError\u001B[39;00m(key) \u001B[38;5;28;01mfrom\u001B[39;00m \u001B[38;5;21;01merr\u001B[39;00m\n\u001B[0;32m   3803\u001B[0m \u001B[38;5;28;01mexcept\u001B[39;00m \u001B[38;5;167;01mTypeError\u001B[39;00m:\n\u001B[0;32m   3804\u001B[0m     \u001B[38;5;66;03m# If we have a listlike key, _check_indexing_error will raise\u001B[39;00m\n\u001B[0;32m   3805\u001B[0m     \u001B[38;5;66;03m#  InvalidIndexError. Otherwise we fall through and re-raise\u001B[39;00m\n\u001B[0;32m   3806\u001B[0m     \u001B[38;5;66;03m#  the TypeError.\u001B[39;00m\n\u001B[0;32m   3807\u001B[0m     \u001B[38;5;28mself\u001B[39m\u001B[38;5;241m.\u001B[39m_check_indexing_error(key)\n",
      "\u001B[1;31mKeyError\u001B[0m: '月薪最大值'"
     ]
    }
   ],
   "source": [
    "table = pd.pivot_table(data2, values = ['月薪最小值','月薪最大值'], index = '地区', aggfunc = ['mean'])\n",
    "table.melt(id_vars=['月薪最大值'],var_name='工作经验要求',value_name='月薪最小值')"
   ],
   "metadata": {
    "collapsed": false,
    "pycharm": {
     "name": "#%%\n"
    }
   }
  },
  {
   "cell_type": "markdown",
   "source": [
    "#### 1. concat()"
   ],
   "metadata": {
    "collapsed": false,
    "pycharm": {
     "name": "#%% md\n"
    }
   }
  },
  {
   "cell_type": "code",
   "execution_count": 109,
   "outputs": [],
   "source": [
    "df1 = pd.DataFrame({'A': ['A0', 'A1', 'A2', 'A3'],\n",
    "                    'B': ['B0', 'B1', 'B2', 'B3'],\n",
    "                    'C': ['C0', 'C1', 'C2', 'C3'],\n",
    "                    'D': ['D0', 'D1', 'D2', 'D3']},\n",
    "                   index=[0, 1, 2, 3])\n",
    "\n",
    "\n",
    "df2 = pd.DataFrame({'A': ['A4', 'A5', 'A6', 'A7'],\n",
    "                    'B': ['B4', 'B5', 'B6', 'B7'],\n",
    "                    'C': ['C4', 'C5', 'C6', 'C7'],\n",
    "                    'D': ['D4', 'D5', 'D6', 'D7']},\n",
    "                   index=[4, 5, 6, 7])\n",
    "\n",
    "\n",
    "df3 = pd.DataFrame({'A': ['A8', 'A9', 'A10', 'A11'],\n",
    "                    'B': ['B8', 'B9', 'B10', 'B11'],\n",
    "                    'C': ['C8', 'C9', 'C10', 'C11'],\n",
    "                    'D': ['D8', 'D9', 'D10', 'D11']},\n",
    "                   index=[8, 9, 10, 11])\n",
    "\n",
    "\n",
    "df4 = pd.DataFrame({'B': ['B2', 'B3', 'B6', 'B7'],\n",
    "                    'D': ['D2', 'D3', 'D6', 'D7'],\n",
    "                    'F': ['F2', 'F3', 'F6', 'F7']},\n",
    "                   index=[2, 3, 6, 7])"
   ],
   "metadata": {
    "collapsed": false,
    "pycharm": {
     "name": "#%%\n"
    }
   }
  },
  {
   "cell_type": "code",
   "execution_count": 110,
   "outputs": [
    {
     "data": {
      "text/plain": "    A   B   C   D\n0  A0  B0  C0  D0\n1  A1  B1  C1  D1\n2  A2  B2  C2  D2\n3  A3  B3  C3  D3\n4  A4  B4  C4  D4\n5  A5  B5  C5  D5\n6  A6  B6  C6  D6\n7  A7  B7  C7  D7",
      "text/html": "<div>\n<style scoped>\n    .dataframe tbody tr th:only-of-type {\n        vertical-align: middle;\n    }\n\n    .dataframe tbody tr th {\n        vertical-align: top;\n    }\n\n    .dataframe thead th {\n        text-align: right;\n    }\n</style>\n<table border=\"1\" class=\"dataframe\">\n  <thead>\n    <tr style=\"text-align: right;\">\n      <th></th>\n      <th>A</th>\n      <th>B</th>\n      <th>C</th>\n      <th>D</th>\n    </tr>\n  </thead>\n  <tbody>\n    <tr>\n      <th>0</th>\n      <td>A0</td>\n      <td>B0</td>\n      <td>C0</td>\n      <td>D0</td>\n    </tr>\n    <tr>\n      <th>1</th>\n      <td>A1</td>\n      <td>B1</td>\n      <td>C1</td>\n      <td>D1</td>\n    </tr>\n    <tr>\n      <th>2</th>\n      <td>A2</td>\n      <td>B2</td>\n      <td>C2</td>\n      <td>D2</td>\n    </tr>\n    <tr>\n      <th>3</th>\n      <td>A3</td>\n      <td>B3</td>\n      <td>C3</td>\n      <td>D3</td>\n    </tr>\n    <tr>\n      <th>4</th>\n      <td>A4</td>\n      <td>B4</td>\n      <td>C4</td>\n      <td>D4</td>\n    </tr>\n    <tr>\n      <th>5</th>\n      <td>A5</td>\n      <td>B5</td>\n      <td>C5</td>\n      <td>D5</td>\n    </tr>\n    <tr>\n      <th>6</th>\n      <td>A6</td>\n      <td>B6</td>\n      <td>C6</td>\n      <td>D6</td>\n    </tr>\n    <tr>\n      <th>7</th>\n      <td>A7</td>\n      <td>B7</td>\n      <td>C7</td>\n      <td>D7</td>\n    </tr>\n  </tbody>\n</table>\n</div>"
     },
     "execution_count": 110,
     "metadata": {},
     "output_type": "execute_result"
    }
   ],
   "source": [
    "pd.concat([df1, df2])"
   ],
   "metadata": {
    "collapsed": false,
    "pycharm": {
     "name": "#%%\n"
    }
   }
  },
  {
   "cell_type": "code",
   "execution_count": 111,
   "outputs": [
    {
     "data": {
      "text/plain": "     A   B    C   D    F\n0   A0  B0   C0  D0  NaN\n1   A1  B1   C1  D1  NaN\n2   A2  B2   C2  D2  NaN\n3   A3  B3   C3  D3  NaN\n4  NaN  B2  NaN  D2   F2\n5  NaN  B3  NaN  D3   F3\n6  NaN  B6  NaN  D6   F6\n7  NaN  B7  NaN  D7   F7",
      "text/html": "<div>\n<style scoped>\n    .dataframe tbody tr th:only-of-type {\n        vertical-align: middle;\n    }\n\n    .dataframe tbody tr th {\n        vertical-align: top;\n    }\n\n    .dataframe thead th {\n        text-align: right;\n    }\n</style>\n<table border=\"1\" class=\"dataframe\">\n  <thead>\n    <tr style=\"text-align: right;\">\n      <th></th>\n      <th>A</th>\n      <th>B</th>\n      <th>C</th>\n      <th>D</th>\n      <th>F</th>\n    </tr>\n  </thead>\n  <tbody>\n    <tr>\n      <th>0</th>\n      <td>A0</td>\n      <td>B0</td>\n      <td>C0</td>\n      <td>D0</td>\n      <td>NaN</td>\n    </tr>\n    <tr>\n      <th>1</th>\n      <td>A1</td>\n      <td>B1</td>\n      <td>C1</td>\n      <td>D1</td>\n      <td>NaN</td>\n    </tr>\n    <tr>\n      <th>2</th>\n      <td>A2</td>\n      <td>B2</td>\n      <td>C2</td>\n      <td>D2</td>\n      <td>NaN</td>\n    </tr>\n    <tr>\n      <th>3</th>\n      <td>A3</td>\n      <td>B3</td>\n      <td>C3</td>\n      <td>D3</td>\n      <td>NaN</td>\n    </tr>\n    <tr>\n      <th>4</th>\n      <td>NaN</td>\n      <td>B2</td>\n      <td>NaN</td>\n      <td>D2</td>\n      <td>F2</td>\n    </tr>\n    <tr>\n      <th>5</th>\n      <td>NaN</td>\n      <td>B3</td>\n      <td>NaN</td>\n      <td>D3</td>\n      <td>F3</td>\n    </tr>\n    <tr>\n      <th>6</th>\n      <td>NaN</td>\n      <td>B6</td>\n      <td>NaN</td>\n      <td>D6</td>\n      <td>F6</td>\n    </tr>\n    <tr>\n      <th>7</th>\n      <td>NaN</td>\n      <td>B7</td>\n      <td>NaN</td>\n      <td>D7</td>\n      <td>F7</td>\n    </tr>\n  </tbody>\n</table>\n</div>"
     },
     "execution_count": 111,
     "metadata": {},
     "output_type": "execute_result"
    }
   ],
   "source": [
    "pd.concat([df1, df4], ignore_index=True)"
   ],
   "metadata": {
    "collapsed": false,
    "pycharm": {
     "name": "#%%\n"
    }
   }
  },
  {
   "cell_type": "code",
   "execution_count": 112,
   "outputs": [
    {
     "data": {
      "text/plain": "     A    B    C    D    B    D    F\n0   A0   B0   C0   D0  NaN  NaN  NaN\n1   A1   B1   C1   D1  NaN  NaN  NaN\n2   A2   B2   C2   D2   B2   D2   F2\n3   A3   B3   C3   D3   B3   D3   F3\n6  NaN  NaN  NaN  NaN   B6   D6   F6\n7  NaN  NaN  NaN  NaN   B7   D7   F7",
      "text/html": "<div>\n<style scoped>\n    .dataframe tbody tr th:only-of-type {\n        vertical-align: middle;\n    }\n\n    .dataframe tbody tr th {\n        vertical-align: top;\n    }\n\n    .dataframe thead th {\n        text-align: right;\n    }\n</style>\n<table border=\"1\" class=\"dataframe\">\n  <thead>\n    <tr style=\"text-align: right;\">\n      <th></th>\n      <th>A</th>\n      <th>B</th>\n      <th>C</th>\n      <th>D</th>\n      <th>B</th>\n      <th>D</th>\n      <th>F</th>\n    </tr>\n  </thead>\n  <tbody>\n    <tr>\n      <th>0</th>\n      <td>A0</td>\n      <td>B0</td>\n      <td>C0</td>\n      <td>D0</td>\n      <td>NaN</td>\n      <td>NaN</td>\n      <td>NaN</td>\n    </tr>\n    <tr>\n      <th>1</th>\n      <td>A1</td>\n      <td>B1</td>\n      <td>C1</td>\n      <td>D1</td>\n      <td>NaN</td>\n      <td>NaN</td>\n      <td>NaN</td>\n    </tr>\n    <tr>\n      <th>2</th>\n      <td>A2</td>\n      <td>B2</td>\n      <td>C2</td>\n      <td>D2</td>\n      <td>B2</td>\n      <td>D2</td>\n      <td>F2</td>\n    </tr>\n    <tr>\n      <th>3</th>\n      <td>A3</td>\n      <td>B3</td>\n      <td>C3</td>\n      <td>D3</td>\n      <td>B3</td>\n      <td>D3</td>\n      <td>F3</td>\n    </tr>\n    <tr>\n      <th>6</th>\n      <td>NaN</td>\n      <td>NaN</td>\n      <td>NaN</td>\n      <td>NaN</td>\n      <td>B6</td>\n      <td>D6</td>\n      <td>F6</td>\n    </tr>\n    <tr>\n      <th>7</th>\n      <td>NaN</td>\n      <td>NaN</td>\n      <td>NaN</td>\n      <td>NaN</td>\n      <td>B7</td>\n      <td>D7</td>\n      <td>F7</td>\n    </tr>\n  </tbody>\n</table>\n</div>"
     },
     "execution_count": 112,
     "metadata": {},
     "output_type": "execute_result"
    }
   ],
   "source": [
    "pd.concat([df1,df4],axis=1)"
   ],
   "metadata": {
    "collapsed": false,
    "pycharm": {
     "name": "#%%\n"
    }
   }
  },
  {
   "cell_type": "code",
   "execution_count": 113,
   "outputs": [
    {
     "data": {
      "text/plain": "    A   B   C   D   B   D   F\n2  A2  B2  C2  D2  B2  D2  F2\n3  A3  B3  C3  D3  B3  D3  F3",
      "text/html": "<div>\n<style scoped>\n    .dataframe tbody tr th:only-of-type {\n        vertical-align: middle;\n    }\n\n    .dataframe tbody tr th {\n        vertical-align: top;\n    }\n\n    .dataframe thead th {\n        text-align: right;\n    }\n</style>\n<table border=\"1\" class=\"dataframe\">\n  <thead>\n    <tr style=\"text-align: right;\">\n      <th></th>\n      <th>A</th>\n      <th>B</th>\n      <th>C</th>\n      <th>D</th>\n      <th>B</th>\n      <th>D</th>\n      <th>F</th>\n    </tr>\n  </thead>\n  <tbody>\n    <tr>\n      <th>2</th>\n      <td>A2</td>\n      <td>B2</td>\n      <td>C2</td>\n      <td>D2</td>\n      <td>B2</td>\n      <td>D2</td>\n      <td>F2</td>\n    </tr>\n    <tr>\n      <th>3</th>\n      <td>A3</td>\n      <td>B3</td>\n      <td>C3</td>\n      <td>D3</td>\n      <td>B3</td>\n      <td>D3</td>\n      <td>F3</td>\n    </tr>\n  </tbody>\n</table>\n</div>"
     },
     "execution_count": 113,
     "metadata": {},
     "output_type": "execute_result"
    }
   ],
   "source": [
    "pd.concat([df1,df4],axis=1,join='inner')"
   ],
   "metadata": {
    "collapsed": false,
    "pycharm": {
     "name": "#%%\n"
    }
   }
  },
  {
   "cell_type": "code",
   "execution_count": 114,
   "outputs": [
    {
     "data": {
      "text/plain": "    A   B   C   D    B    D    F\n0  A0  B0  C0  D0  NaN  NaN  NaN\n1  A1  B1  C1  D1  NaN  NaN  NaN\n2  A2  B2  C2  D2   B2   D2   F2\n3  A3  B3  C3  D3   B3   D3   F3",
      "text/html": "<div>\n<style scoped>\n    .dataframe tbody tr th:only-of-type {\n        vertical-align: middle;\n    }\n\n    .dataframe tbody tr th {\n        vertical-align: top;\n    }\n\n    .dataframe thead th {\n        text-align: right;\n    }\n</style>\n<table border=\"1\" class=\"dataframe\">\n  <thead>\n    <tr style=\"text-align: right;\">\n      <th></th>\n      <th>A</th>\n      <th>B</th>\n      <th>C</th>\n      <th>D</th>\n      <th>B</th>\n      <th>D</th>\n      <th>F</th>\n    </tr>\n  </thead>\n  <tbody>\n    <tr>\n      <th>0</th>\n      <td>A0</td>\n      <td>B0</td>\n      <td>C0</td>\n      <td>D0</td>\n      <td>NaN</td>\n      <td>NaN</td>\n      <td>NaN</td>\n    </tr>\n    <tr>\n      <th>1</th>\n      <td>A1</td>\n      <td>B1</td>\n      <td>C1</td>\n      <td>D1</td>\n      <td>NaN</td>\n      <td>NaN</td>\n      <td>NaN</td>\n    </tr>\n    <tr>\n      <th>2</th>\n      <td>A2</td>\n      <td>B2</td>\n      <td>C2</td>\n      <td>D2</td>\n      <td>B2</td>\n      <td>D2</td>\n      <td>F2</td>\n    </tr>\n    <tr>\n      <th>3</th>\n      <td>A3</td>\n      <td>B3</td>\n      <td>C3</td>\n      <td>D3</td>\n      <td>B3</td>\n      <td>D3</td>\n      <td>F3</td>\n    </tr>\n  </tbody>\n</table>\n</div>"
     },
     "execution_count": 114,
     "metadata": {},
     "output_type": "execute_result"
    }
   ],
   "source": [
    "pd.concat([df1, df4], axis=1).reindex(df1.index)"
   ],
   "metadata": {
    "collapsed": false,
    "pycharm": {
     "name": "#%%\n"
    }
   }
  },
  {
   "cell_type": "code",
   "execution_count": 115,
   "outputs": [
    {
     "data": {
      "text/plain": "        A    B    C    D\nx 0    A0   B0   C0   D0\n  1    A1   B1   C1   D1\n  2    A2   B2   C2   D2\n  3    A3   B3   C3   D3\ny 4    A4   B4   C4   D4\n  5    A5   B5   C5   D5\n  6    A6   B6   C6   D6\n  7    A7   B7   C7   D7\nz 8    A8   B8   C8   D8\n  9    A9   B9   C9   D9\n  10  A10  B10  C10  D10\n  11  A11  B11  C11  D11",
      "text/html": "<div>\n<style scoped>\n    .dataframe tbody tr th:only-of-type {\n        vertical-align: middle;\n    }\n\n    .dataframe tbody tr th {\n        vertical-align: top;\n    }\n\n    .dataframe thead th {\n        text-align: right;\n    }\n</style>\n<table border=\"1\" class=\"dataframe\">\n  <thead>\n    <tr style=\"text-align: right;\">\n      <th></th>\n      <th></th>\n      <th>A</th>\n      <th>B</th>\n      <th>C</th>\n      <th>D</th>\n    </tr>\n  </thead>\n  <tbody>\n    <tr>\n      <th rowspan=\"4\" valign=\"top\">x</th>\n      <th>0</th>\n      <td>A0</td>\n      <td>B0</td>\n      <td>C0</td>\n      <td>D0</td>\n    </tr>\n    <tr>\n      <th>1</th>\n      <td>A1</td>\n      <td>B1</td>\n      <td>C1</td>\n      <td>D1</td>\n    </tr>\n    <tr>\n      <th>2</th>\n      <td>A2</td>\n      <td>B2</td>\n      <td>C2</td>\n      <td>D2</td>\n    </tr>\n    <tr>\n      <th>3</th>\n      <td>A3</td>\n      <td>B3</td>\n      <td>C3</td>\n      <td>D3</td>\n    </tr>\n    <tr>\n      <th rowspan=\"4\" valign=\"top\">y</th>\n      <th>4</th>\n      <td>A4</td>\n      <td>B4</td>\n      <td>C4</td>\n      <td>D4</td>\n    </tr>\n    <tr>\n      <th>5</th>\n      <td>A5</td>\n      <td>B5</td>\n      <td>C5</td>\n      <td>D5</td>\n    </tr>\n    <tr>\n      <th>6</th>\n      <td>A6</td>\n      <td>B6</td>\n      <td>C6</td>\n      <td>D6</td>\n    </tr>\n    <tr>\n      <th>7</th>\n      <td>A7</td>\n      <td>B7</td>\n      <td>C7</td>\n      <td>D7</td>\n    </tr>\n    <tr>\n      <th rowspan=\"4\" valign=\"top\">z</th>\n      <th>8</th>\n      <td>A8</td>\n      <td>B8</td>\n      <td>C8</td>\n      <td>D8</td>\n    </tr>\n    <tr>\n      <th>9</th>\n      <td>A9</td>\n      <td>B9</td>\n      <td>C9</td>\n      <td>D9</td>\n    </tr>\n    <tr>\n      <th>10</th>\n      <td>A10</td>\n      <td>B10</td>\n      <td>C10</td>\n      <td>D10</td>\n    </tr>\n    <tr>\n      <th>11</th>\n      <td>A11</td>\n      <td>B11</td>\n      <td>C11</td>\n      <td>D11</td>\n    </tr>\n  </tbody>\n</table>\n</div>"
     },
     "execution_count": 115,
     "metadata": {},
     "output_type": "execute_result"
    }
   ],
   "source": [
    "pd.concat([df1, df2, df3], keys=['x', 'y', 'z'])"
   ],
   "metadata": {
    "collapsed": false,
    "pycharm": {
     "name": "#%%\n"
    }
   }
  },
  {
   "cell_type": "markdown",
   "source": [
    "#### 2. merge()"
   ],
   "metadata": {
    "collapsed": false,
    "pycharm": {
     "name": "#%% md\n"
    }
   }
  },
  {
   "cell_type": "code",
   "execution_count": 116,
   "outputs": [],
   "source": [
    "left = pd.DataFrame({'key': ['K0', 'K1', 'K2', 'K3'],\n",
    "                     'A': ['A0', 'A1', 'A2', 'A3'],\n",
    "                     'B': ['B0', 'B1', 'B2', 'B3']})\n",
    "\n",
    "right = pd.DataFrame({'key': ['K0', 'K1', 'K2', 'K3'],\n",
    "                      'C': ['C0', 'C1', 'C2', 'C3'],\n",
    "                      'D': ['D0', 'D1', 'D2', 'D3']})"
   ],
   "metadata": {
    "collapsed": false,
    "pycharm": {
     "name": "#%%\n"
    }
   }
  },
  {
   "cell_type": "code",
   "execution_count": 117,
   "outputs": [
    {
     "data": {
      "text/plain": "  key   A   B   C   D\n0  K0  A0  B0  C0  D0\n1  K1  A1  B1  C1  D1\n2  K2  A2  B2  C2  D2\n3  K3  A3  B3  C3  D3",
      "text/html": "<div>\n<style scoped>\n    .dataframe tbody tr th:only-of-type {\n        vertical-align: middle;\n    }\n\n    .dataframe tbody tr th {\n        vertical-align: top;\n    }\n\n    .dataframe thead th {\n        text-align: right;\n    }\n</style>\n<table border=\"1\" class=\"dataframe\">\n  <thead>\n    <tr style=\"text-align: right;\">\n      <th></th>\n      <th>key</th>\n      <th>A</th>\n      <th>B</th>\n      <th>C</th>\n      <th>D</th>\n    </tr>\n  </thead>\n  <tbody>\n    <tr>\n      <th>0</th>\n      <td>K0</td>\n      <td>A0</td>\n      <td>B0</td>\n      <td>C0</td>\n      <td>D0</td>\n    </tr>\n    <tr>\n      <th>1</th>\n      <td>K1</td>\n      <td>A1</td>\n      <td>B1</td>\n      <td>C1</td>\n      <td>D1</td>\n    </tr>\n    <tr>\n      <th>2</th>\n      <td>K2</td>\n      <td>A2</td>\n      <td>B2</td>\n      <td>C2</td>\n      <td>D2</td>\n    </tr>\n    <tr>\n      <th>3</th>\n      <td>K3</td>\n      <td>A3</td>\n      <td>B3</td>\n      <td>C3</td>\n      <td>D3</td>\n    </tr>\n  </tbody>\n</table>\n</div>"
     },
     "execution_count": 117,
     "metadata": {},
     "output_type": "execute_result"
    }
   ],
   "source": [
    "pd.merge(left, right, on='key')"
   ],
   "metadata": {
    "collapsed": false,
    "pycharm": {
     "name": "#%%\n"
    }
   }
  },
  {
   "cell_type": "code",
   "execution_count": 118,
   "outputs": [],
   "source": [
    "left = pd.DataFrame({'key1': ['K0', 'K0', 'K1', 'K2'],\n",
    "                     'key2': ['K0', 'K1', 'K0', 'K1'],\n",
    "                     'A': ['A0', 'A1', 'A2', 'A3'],\n",
    "                     'B': ['B0', 'B1', 'B2', 'B3']})\n",
    "\n",
    "\n",
    "right = pd.DataFrame({'key1': ['K0', 'K1', 'K1', 'K2'],\n",
    "                      'key2': ['K0', 'K0', 'K0', 'K0'],\n",
    "                      'C': ['C0', 'C1', 'C2', 'C3'],\n",
    "                      'D': ['D0', 'D1', 'D2', 'D3']})"
   ],
   "metadata": {
    "collapsed": false,
    "pycharm": {
     "name": "#%%\n"
    }
   }
  },
  {
   "cell_type": "code",
   "execution_count": 119,
   "outputs": [
    {
     "data": {
      "text/plain": "  key1 key2   A   B   C   D\n0   K0   K0  A0  B0  C0  D0\n1   K1   K0  A2  B2  C1  D1\n2   K1   K0  A2  B2  C2  D2",
      "text/html": "<div>\n<style scoped>\n    .dataframe tbody tr th:only-of-type {\n        vertical-align: middle;\n    }\n\n    .dataframe tbody tr th {\n        vertical-align: top;\n    }\n\n    .dataframe thead th {\n        text-align: right;\n    }\n</style>\n<table border=\"1\" class=\"dataframe\">\n  <thead>\n    <tr style=\"text-align: right;\">\n      <th></th>\n      <th>key1</th>\n      <th>key2</th>\n      <th>A</th>\n      <th>B</th>\n      <th>C</th>\n      <th>D</th>\n    </tr>\n  </thead>\n  <tbody>\n    <tr>\n      <th>0</th>\n      <td>K0</td>\n      <td>K0</td>\n      <td>A0</td>\n      <td>B0</td>\n      <td>C0</td>\n      <td>D0</td>\n    </tr>\n    <tr>\n      <th>1</th>\n      <td>K1</td>\n      <td>K0</td>\n      <td>A2</td>\n      <td>B2</td>\n      <td>C1</td>\n      <td>D1</td>\n    </tr>\n    <tr>\n      <th>2</th>\n      <td>K1</td>\n      <td>K0</td>\n      <td>A2</td>\n      <td>B2</td>\n      <td>C2</td>\n      <td>D2</td>\n    </tr>\n  </tbody>\n</table>\n</div>"
     },
     "execution_count": 119,
     "metadata": {},
     "output_type": "execute_result"
    }
   ],
   "source": [
    "pd.merge(left, right, on=['key1', 'key2'])"
   ],
   "metadata": {
    "collapsed": false,
    "pycharm": {
     "name": "#%%\n"
    }
   }
  },
  {
   "cell_type": "code",
   "execution_count": 120,
   "outputs": [
    {
     "data": {
      "text/plain": "  key1 key2   A   B    C    D\n0   K0   K0  A0  B0   C0   D0\n1   K0   K1  A1  B1  NaN  NaN\n2   K1   K0  A2  B2   C1   D1\n3   K1   K0  A2  B2   C2   D2\n4   K2   K1  A3  B3  NaN  NaN",
      "text/html": "<div>\n<style scoped>\n    .dataframe tbody tr th:only-of-type {\n        vertical-align: middle;\n    }\n\n    .dataframe tbody tr th {\n        vertical-align: top;\n    }\n\n    .dataframe thead th {\n        text-align: right;\n    }\n</style>\n<table border=\"1\" class=\"dataframe\">\n  <thead>\n    <tr style=\"text-align: right;\">\n      <th></th>\n      <th>key1</th>\n      <th>key2</th>\n      <th>A</th>\n      <th>B</th>\n      <th>C</th>\n      <th>D</th>\n    </tr>\n  </thead>\n  <tbody>\n    <tr>\n      <th>0</th>\n      <td>K0</td>\n      <td>K0</td>\n      <td>A0</td>\n      <td>B0</td>\n      <td>C0</td>\n      <td>D0</td>\n    </tr>\n    <tr>\n      <th>1</th>\n      <td>K0</td>\n      <td>K1</td>\n      <td>A1</td>\n      <td>B1</td>\n      <td>NaN</td>\n      <td>NaN</td>\n    </tr>\n    <tr>\n      <th>2</th>\n      <td>K1</td>\n      <td>K0</td>\n      <td>A2</td>\n      <td>B2</td>\n      <td>C1</td>\n      <td>D1</td>\n    </tr>\n    <tr>\n      <th>3</th>\n      <td>K1</td>\n      <td>K0</td>\n      <td>A2</td>\n      <td>B2</td>\n      <td>C2</td>\n      <td>D2</td>\n    </tr>\n    <tr>\n      <th>4</th>\n      <td>K2</td>\n      <td>K1</td>\n      <td>A3</td>\n      <td>B3</td>\n      <td>NaN</td>\n      <td>NaN</td>\n    </tr>\n  </tbody>\n</table>\n</div>"
     },
     "execution_count": 120,
     "metadata": {},
     "output_type": "execute_result"
    }
   ],
   "source": [
    "pd.merge(left, right, how='left', on=['key1', 'key2'])"
   ],
   "metadata": {
    "collapsed": false,
    "pycharm": {
     "name": "#%%\n"
    }
   }
  },
  {
   "cell_type": "code",
   "execution_count": 121,
   "outputs": [
    {
     "data": {
      "text/plain": "  key1 key2    A    B   C   D\n0   K0   K0   A0   B0  C0  D0\n1   K1   K0   A2   B2  C1  D1\n2   K1   K0   A2   B2  C2  D2\n3   K2   K0  NaN  NaN  C3  D3",
      "text/html": "<div>\n<style scoped>\n    .dataframe tbody tr th:only-of-type {\n        vertical-align: middle;\n    }\n\n    .dataframe tbody tr th {\n        vertical-align: top;\n    }\n\n    .dataframe thead th {\n        text-align: right;\n    }\n</style>\n<table border=\"1\" class=\"dataframe\">\n  <thead>\n    <tr style=\"text-align: right;\">\n      <th></th>\n      <th>key1</th>\n      <th>key2</th>\n      <th>A</th>\n      <th>B</th>\n      <th>C</th>\n      <th>D</th>\n    </tr>\n  </thead>\n  <tbody>\n    <tr>\n      <th>0</th>\n      <td>K0</td>\n      <td>K0</td>\n      <td>A0</td>\n      <td>B0</td>\n      <td>C0</td>\n      <td>D0</td>\n    </tr>\n    <tr>\n      <th>1</th>\n      <td>K1</td>\n      <td>K0</td>\n      <td>A2</td>\n      <td>B2</td>\n      <td>C1</td>\n      <td>D1</td>\n    </tr>\n    <tr>\n      <th>2</th>\n      <td>K1</td>\n      <td>K0</td>\n      <td>A2</td>\n      <td>B2</td>\n      <td>C2</td>\n      <td>D2</td>\n    </tr>\n    <tr>\n      <th>3</th>\n      <td>K2</td>\n      <td>K0</td>\n      <td>NaN</td>\n      <td>NaN</td>\n      <td>C3</td>\n      <td>D3</td>\n    </tr>\n  </tbody>\n</table>\n</div>"
     },
     "execution_count": 121,
     "metadata": {},
     "output_type": "execute_result"
    }
   ],
   "source": [
    "pd.merge(left, right, how='right', on=['key1', 'key2'])"
   ],
   "metadata": {
    "collapsed": false,
    "pycharm": {
     "name": "#%%\n"
    }
   }
  },
  {
   "cell_type": "code",
   "execution_count": 122,
   "outputs": [
    {
     "data": {
      "text/plain": "  key1 key2    A    B    C    D\n0   K0   K0   A0   B0   C0   D0\n1   K0   K1   A1   B1  NaN  NaN\n2   K1   K0   A2   B2   C1   D1\n3   K1   K0   A2   B2   C2   D2\n4   K2   K1   A3   B3  NaN  NaN\n5   K2   K0  NaN  NaN   C3   D3",
      "text/html": "<div>\n<style scoped>\n    .dataframe tbody tr th:only-of-type {\n        vertical-align: middle;\n    }\n\n    .dataframe tbody tr th {\n        vertical-align: top;\n    }\n\n    .dataframe thead th {\n        text-align: right;\n    }\n</style>\n<table border=\"1\" class=\"dataframe\">\n  <thead>\n    <tr style=\"text-align: right;\">\n      <th></th>\n      <th>key1</th>\n      <th>key2</th>\n      <th>A</th>\n      <th>B</th>\n      <th>C</th>\n      <th>D</th>\n    </tr>\n  </thead>\n  <tbody>\n    <tr>\n      <th>0</th>\n      <td>K0</td>\n      <td>K0</td>\n      <td>A0</td>\n      <td>B0</td>\n      <td>C0</td>\n      <td>D0</td>\n    </tr>\n    <tr>\n      <th>1</th>\n      <td>K0</td>\n      <td>K1</td>\n      <td>A1</td>\n      <td>B1</td>\n      <td>NaN</td>\n      <td>NaN</td>\n    </tr>\n    <tr>\n      <th>2</th>\n      <td>K1</td>\n      <td>K0</td>\n      <td>A2</td>\n      <td>B2</td>\n      <td>C1</td>\n      <td>D1</td>\n    </tr>\n    <tr>\n      <th>3</th>\n      <td>K1</td>\n      <td>K0</td>\n      <td>A2</td>\n      <td>B2</td>\n      <td>C2</td>\n      <td>D2</td>\n    </tr>\n    <tr>\n      <th>4</th>\n      <td>K2</td>\n      <td>K1</td>\n      <td>A3</td>\n      <td>B3</td>\n      <td>NaN</td>\n      <td>NaN</td>\n    </tr>\n    <tr>\n      <th>5</th>\n      <td>K2</td>\n      <td>K0</td>\n      <td>NaN</td>\n      <td>NaN</td>\n      <td>C3</td>\n      <td>D3</td>\n    </tr>\n  </tbody>\n</table>\n</div>"
     },
     "execution_count": 122,
     "metadata": {},
     "output_type": "execute_result"
    }
   ],
   "source": [
    "pd.merge(left, right, how='outer', on=['key1', 'key2'])"
   ],
   "metadata": {
    "collapsed": false,
    "pycharm": {
     "name": "#%%\n"
    }
   }
  },
  {
   "cell_type": "code",
   "execution_count": 123,
   "outputs": [
    {
     "data": {
      "text/plain": "  key1 key2   A   B   C   D\n0   K0   K0  A0  B0  C0  D0\n1   K1   K0  A2  B2  C1  D1\n2   K1   K0  A2  B2  C2  D2",
      "text/html": "<div>\n<style scoped>\n    .dataframe tbody tr th:only-of-type {\n        vertical-align: middle;\n    }\n\n    .dataframe tbody tr th {\n        vertical-align: top;\n    }\n\n    .dataframe thead th {\n        text-align: right;\n    }\n</style>\n<table border=\"1\" class=\"dataframe\">\n  <thead>\n    <tr style=\"text-align: right;\">\n      <th></th>\n      <th>key1</th>\n      <th>key2</th>\n      <th>A</th>\n      <th>B</th>\n      <th>C</th>\n      <th>D</th>\n    </tr>\n  </thead>\n  <tbody>\n    <tr>\n      <th>0</th>\n      <td>K0</td>\n      <td>K0</td>\n      <td>A0</td>\n      <td>B0</td>\n      <td>C0</td>\n      <td>D0</td>\n    </tr>\n    <tr>\n      <th>1</th>\n      <td>K1</td>\n      <td>K0</td>\n      <td>A2</td>\n      <td>B2</td>\n      <td>C1</td>\n      <td>D1</td>\n    </tr>\n    <tr>\n      <th>2</th>\n      <td>K1</td>\n      <td>K0</td>\n      <td>A2</td>\n      <td>B2</td>\n      <td>C2</td>\n      <td>D2</td>\n    </tr>\n  </tbody>\n</table>\n</div>"
     },
     "execution_count": 123,
     "metadata": {},
     "output_type": "execute_result"
    }
   ],
   "source": [
    "pd.merge(left, right, how='inner', on=['key1', 'key2'])"
   ],
   "metadata": {
    "collapsed": false,
    "pycharm": {
     "name": "#%%\n"
    }
   }
  },
  {
   "cell_type": "code",
   "execution_count": 124,
   "outputs": [
    {
     "data": {
      "text/plain": "    k  v_l  v_r\n0  K0    1    4\n1  K0    1    5",
      "text/html": "<div>\n<style scoped>\n    .dataframe tbody tr th:only-of-type {\n        vertical-align: middle;\n    }\n\n    .dataframe tbody tr th {\n        vertical-align: top;\n    }\n\n    .dataframe thead th {\n        text-align: right;\n    }\n</style>\n<table border=\"1\" class=\"dataframe\">\n  <thead>\n    <tr style=\"text-align: right;\">\n      <th></th>\n      <th>k</th>\n      <th>v_l</th>\n      <th>v_r</th>\n    </tr>\n  </thead>\n  <tbody>\n    <tr>\n      <th>0</th>\n      <td>K0</td>\n      <td>1</td>\n      <td>4</td>\n    </tr>\n    <tr>\n      <th>1</th>\n      <td>K0</td>\n      <td>1</td>\n      <td>5</td>\n    </tr>\n  </tbody>\n</table>\n</div>"
     },
     "execution_count": 124,
     "metadata": {},
     "output_type": "execute_result"
    }
   ],
   "source": [
    "left = pd.DataFrame({'k': ['K0', 'K1', 'K2'], 'v': [1, 2, 3]})\n",
    "right = pd.DataFrame({'k': ['K0', 'K0', 'K3'], 'v': [4, 5, 6]})\n",
    "\n",
    "pd.merge(left, right, on='k', suffixes=['_l', '_r'])"
   ],
   "metadata": {
    "collapsed": false,
    "pycharm": {
     "name": "#%%\n"
    }
   }
  },
  {
   "cell_type": "markdown",
   "source": [
    "#### 3. join()"
   ],
   "metadata": {
    "collapsed": false,
    "pycharm": {
     "name": "#%% md\n"
    }
   }
  },
  {
   "cell_type": "code",
   "execution_count": 125,
   "outputs": [],
   "source": [
    "left = pd.DataFrame({'A': ['A0', 'A1', 'A2'],\n",
    "                     'B': ['B0', 'B1', 'B2']},\n",
    "                     index=['K0', 'K1', 'K2'])\n",
    "\n",
    "\n",
    "right = pd.DataFrame({'C': ['C0', 'C2', 'C3'],\n",
    "                      'D': ['D0', 'D2', 'D3']},\n",
    "                      index=['K0', 'K2', 'K3'])"
   ],
   "metadata": {
    "collapsed": false,
    "pycharm": {
     "name": "#%%\n"
    }
   }
  },
  {
   "cell_type": "code",
   "execution_count": 126,
   "outputs": [
    {
     "data": {
      "text/plain": "     A   B    C    D\nK0  A0  B0   C0   D0\nK1  A1  B1  NaN  NaN\nK2  A2  B2   C2   D2",
      "text/html": "<div>\n<style scoped>\n    .dataframe tbody tr th:only-of-type {\n        vertical-align: middle;\n    }\n\n    .dataframe tbody tr th {\n        vertical-align: top;\n    }\n\n    .dataframe thead th {\n        text-align: right;\n    }\n</style>\n<table border=\"1\" class=\"dataframe\">\n  <thead>\n    <tr style=\"text-align: right;\">\n      <th></th>\n      <th>A</th>\n      <th>B</th>\n      <th>C</th>\n      <th>D</th>\n    </tr>\n  </thead>\n  <tbody>\n    <tr>\n      <th>K0</th>\n      <td>A0</td>\n      <td>B0</td>\n      <td>C0</td>\n      <td>D0</td>\n    </tr>\n    <tr>\n      <th>K1</th>\n      <td>A1</td>\n      <td>B1</td>\n      <td>NaN</td>\n      <td>NaN</td>\n    </tr>\n    <tr>\n      <th>K2</th>\n      <td>A2</td>\n      <td>B2</td>\n      <td>C2</td>\n      <td>D2</td>\n    </tr>\n  </tbody>\n</table>\n</div>"
     },
     "execution_count": 126,
     "metadata": {},
     "output_type": "execute_result"
    }
   ],
   "source": [
    "# 合并 left 和 right，并按照 left 的索引进行对齐\n",
    "\n",
    "left.join(right)"
   ],
   "metadata": {
    "collapsed": false,
    "pycharm": {
     "name": "#%%\n"
    }
   }
  },
  {
   "cell_type": "code",
   "execution_count": 127,
   "outputs": [
    {
     "data": {
      "text/plain": "      A    B    C    D\nK0   A0   B0   C0   D0\nK1   A1   B1  NaN  NaN\nK2   A2   B2   C2   D2\nK3  NaN  NaN   C3   D3",
      "text/html": "<div>\n<style scoped>\n    .dataframe tbody tr th:only-of-type {\n        vertical-align: middle;\n    }\n\n    .dataframe tbody tr th {\n        vertical-align: top;\n    }\n\n    .dataframe thead th {\n        text-align: right;\n    }\n</style>\n<table border=\"1\" class=\"dataframe\">\n  <thead>\n    <tr style=\"text-align: right;\">\n      <th></th>\n      <th>A</th>\n      <th>B</th>\n      <th>C</th>\n      <th>D</th>\n    </tr>\n  </thead>\n  <tbody>\n    <tr>\n      <th>K0</th>\n      <td>A0</td>\n      <td>B0</td>\n      <td>C0</td>\n      <td>D0</td>\n    </tr>\n    <tr>\n      <th>K1</th>\n      <td>A1</td>\n      <td>B1</td>\n      <td>NaN</td>\n      <td>NaN</td>\n    </tr>\n    <tr>\n      <th>K2</th>\n      <td>A2</td>\n      <td>B2</td>\n      <td>C2</td>\n      <td>D2</td>\n    </tr>\n    <tr>\n      <th>K3</th>\n      <td>NaN</td>\n      <td>NaN</td>\n      <td>C3</td>\n      <td>D3</td>\n    </tr>\n  </tbody>\n</table>\n</div>"
     },
     "execution_count": 127,
     "metadata": {},
     "output_type": "execute_result"
    }
   ],
   "source": [
    "left.join(right, how='outer')\n",
    "\n",
    "#pd.merge(left, right, left_index=True, right_index=True, how='outer')"
   ],
   "metadata": {
    "collapsed": false,
    "pycharm": {
     "name": "#%%\n"
    }
   }
  },
  {
   "cell_type": "code",
   "execution_count": 128,
   "outputs": [
    {
     "data": {
      "text/plain": "     A   B   C   D\nK0  A0  B0  C0  D0\nK2  A2  B2  C2  D2",
      "text/html": "<div>\n<style scoped>\n    .dataframe tbody tr th:only-of-type {\n        vertical-align: middle;\n    }\n\n    .dataframe tbody tr th {\n        vertical-align: top;\n    }\n\n    .dataframe thead th {\n        text-align: right;\n    }\n</style>\n<table border=\"1\" class=\"dataframe\">\n  <thead>\n    <tr style=\"text-align: right;\">\n      <th></th>\n      <th>A</th>\n      <th>B</th>\n      <th>C</th>\n      <th>D</th>\n    </tr>\n  </thead>\n  <tbody>\n    <tr>\n      <th>K0</th>\n      <td>A0</td>\n      <td>B0</td>\n      <td>C0</td>\n      <td>D0</td>\n    </tr>\n    <tr>\n      <th>K2</th>\n      <td>A2</td>\n      <td>B2</td>\n      <td>C2</td>\n      <td>D2</td>\n    </tr>\n  </tbody>\n</table>\n</div>"
     },
     "execution_count": 128,
     "metadata": {},
     "output_type": "execute_result"
    }
   ],
   "source": [
    "left.join(right, how='inner')\n",
    "\n",
    "#pd.merge(left, right, left_index=True, right_index=True, how='inner')"
   ],
   "metadata": {
    "collapsed": false,
    "pycharm": {
     "name": "#%%\n"
    }
   }
  },
  {
   "cell_type": "code",
   "execution_count": 129,
   "outputs": [],
   "source": [
    "left = pd.DataFrame({'A': ['A0', 'A1', 'A2', 'A3'],\n",
    "                     'B': ['B0', 'B1', 'B2', 'B3'],\n",
    "                     'key': ['K0', 'K1', 'K0', 'K1']})\n",
    "\n",
    "\n",
    "right = pd.DataFrame({'C': ['C0', 'C1'],\n",
    "                      'D': ['D0', 'D1']},\n",
    "                      index=['K0', 'K1'])"
   ],
   "metadata": {
    "collapsed": false,
    "pycharm": {
     "name": "#%%\n"
    }
   }
  },
  {
   "cell_type": "code",
   "execution_count": 130,
   "outputs": [
    {
     "data": {
      "text/plain": "    A   B key   C   D\n0  A0  B0  K0  C0  D0\n1  A1  B1  K1  C1  D1\n2  A2  B2  K0  C0  D0\n3  A3  B3  K1  C1  D1",
      "text/html": "<div>\n<style scoped>\n    .dataframe tbody tr th:only-of-type {\n        vertical-align: middle;\n    }\n\n    .dataframe tbody tr th {\n        vertical-align: top;\n    }\n\n    .dataframe thead th {\n        text-align: right;\n    }\n</style>\n<table border=\"1\" class=\"dataframe\">\n  <thead>\n    <tr style=\"text-align: right;\">\n      <th></th>\n      <th>A</th>\n      <th>B</th>\n      <th>key</th>\n      <th>C</th>\n      <th>D</th>\n    </tr>\n  </thead>\n  <tbody>\n    <tr>\n      <th>0</th>\n      <td>A0</td>\n      <td>B0</td>\n      <td>K0</td>\n      <td>C0</td>\n      <td>D0</td>\n    </tr>\n    <tr>\n      <th>1</th>\n      <td>A1</td>\n      <td>B1</td>\n      <td>K1</td>\n      <td>C1</td>\n      <td>D1</td>\n    </tr>\n    <tr>\n      <th>2</th>\n      <td>A2</td>\n      <td>B2</td>\n      <td>K0</td>\n      <td>C0</td>\n      <td>D0</td>\n    </tr>\n    <tr>\n      <th>3</th>\n      <td>A3</td>\n      <td>B3</td>\n      <td>K1</td>\n      <td>C1</td>\n      <td>D1</td>\n    </tr>\n  </tbody>\n</table>\n</div>"
     },
     "execution_count": 130,
     "metadata": {},
     "output_type": "execute_result"
    }
   ],
   "source": [
    "left.join(right, on='key')"
   ],
   "metadata": {
    "collapsed": false,
    "pycharm": {
     "name": "#%%\n"
    }
   }
  },
  {
   "cell_type": "markdown",
   "source": [
    "重新产生数据并按下图所示进行连接（根据 key1 和 key2）\n",
    "[29题](https://www.heywhale.com/mw/project/63c8d2233bec5a26452ca6a3)"
   ],
   "metadata": {
    "collapsed": false,
    "pycharm": {
     "name": "#%% md\n"
    }
   }
  },
  {
   "cell_type": "code",
   "execution_count": 131,
   "outputs": [],
   "source": [
    "left = pd.DataFrame({'A': ['A0', 'A1', 'A2', 'A3'],\n",
    "                     'B': ['B0', 'B1', 'B2', 'B3'],\n",
    "                     'key1': ['K0', 'K0', 'K1', 'K2'],\n",
    "                     'key2': ['K0', 'K1', 'K0', 'K1']})\n",
    "\n",
    "# 构建index\n",
    "index = pd.MultiIndex.from_tuples([('K0', 'K0'), ('K1', 'K0'),\n",
    "                                  ('K2', 'K0'), ('K2', 'K1')])\n",
    "\n",
    "\n",
    "right = pd.DataFrame({'C': ['C0', 'C1', 'C2', 'C3'],\n",
    "                   'D': ['D0', 'D1', 'D2', 'D3']},\n",
    "                  index=index)"
   ],
   "metadata": {
    "collapsed": false,
    "pycharm": {
     "name": "#%%\n"
    }
   }
  },
  {
   "cell_type": "code",
   "execution_count": null,
   "outputs": [],
   "source": [],
   "metadata": {
    "collapsed": false,
    "pycharm": {
     "name": "#%%\n"
    }
   }
  }
 ],
 "metadata": {
  "kernelspec": {
   "display_name": "Python 3",
   "language": "python",
   "name": "python3"
  },
  "language_info": {
   "codemirror_mode": {
    "name": "ipython",
    "version": 2
   },
   "file_extension": ".py",
   "mimetype": "text/x-python",
   "name": "python",
   "nbconvert_exporter": "python",
   "pygments_lexer": "ipython2",
   "version": "2.7.6"
  }
 },
 "nbformat": 4,
 "nbformat_minor": 0
}