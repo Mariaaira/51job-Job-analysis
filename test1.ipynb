{
 "cells": [
  {
   "cell_type": "code",
   "execution_count": 49,
   "metadata": {
    "collapsed": true,
    "pycharm": {
     "name": "#%%\n"
    }
   },
   "outputs": [],
   "source": [
    "import pandas as pd"
   ]
  },
  {
   "cell_type": "code",
   "execution_count": 50,
   "outputs": [],
   "source": [
    "data = pd.read_csv(r\"D:\\Crawler\\51job\\job2.csv\")"
   ],
   "metadata": {
    "collapsed": false,
    "pycharm": {
     "name": "#%%\n"
    }
   }
  },
  {
   "cell_type": "code",
   "execution_count": 51,
   "outputs": [
    {
     "data": {
      "text/plain": "  职位描述或任职要求\n0       NaN\n1       NaN\n2       NaN\n3       NaN\n4       NaN",
      "text/html": "<div>\n<style scoped>\n    .dataframe tbody tr th:only-of-type {\n        vertical-align: middle;\n    }\n\n    .dataframe tbody tr th {\n        vertical-align: top;\n    }\n\n    .dataframe thead th {\n        text-align: right;\n    }\n</style>\n<table border=\"1\" class=\"dataframe\">\n  <thead>\n    <tr style=\"text-align: right;\">\n      <th></th>\n      <th>职位描述或任职要求</th>\n    </tr>\n  </thead>\n  <tbody>\n    <tr>\n      <th>0</th>\n      <td>NaN</td>\n    </tr>\n    <tr>\n      <th>1</th>\n      <td>NaN</td>\n    </tr>\n    <tr>\n      <th>2</th>\n      <td>NaN</td>\n    </tr>\n    <tr>\n      <th>3</th>\n      <td>NaN</td>\n    </tr>\n    <tr>\n      <th>4</th>\n      <td>NaN</td>\n    </tr>\n  </tbody>\n</table>\n</div>"
     },
     "execution_count": 51,
     "metadata": {},
     "output_type": "execute_result"
    }
   ],
   "source": [
    "data.head()"
   ],
   "metadata": {
    "collapsed": false,
    "pycharm": {
     "name": "#%%\n"
    }
   }
  },
  {
   "cell_type": "code",
   "execution_count": 52,
   "outputs": [],
   "source": [
    "data.dropna(inplace=True)"
   ],
   "metadata": {
    "collapsed": false,
    "pycharm": {
     "name": "#%%\n"
    }
   }
  },
  {
   "cell_type": "code",
   "execution_count": 53,
   "outputs": [
    {
     "data": {
      "text/plain": "                                            职位描述或任职要求\n0   1、根据公司要求独立完成基于Android系统平台进行应用程序开发设计、调试工作2、独立完成...\n1   岗位职责：1、负责Android客户端APP产品研发，参与技术方案设计和改进。2、负责And...\n2   任职要求：1、大专及以上学历2、5年以上安卓原生开发经验3、熟悉java开发语言，熟悉kot...\n3   职位描述：1、配合设计师实现交互效果，配合后台工程师完成应用开发；2、独立负责公司安卓端的研...\n4   职位描述及要求:岗位职责：1、负责Android平台客户端产品开发和维护工作，并负责在实际开...\n..                                                ...\n86  任职要求：1、大专及以上学历2、5年以上安卓原生开发经验3、熟悉java开发语言，熟悉kot...\n87  岗位职责：负责HUD产品的Android应用开发。任职要求：1、本科，电子/软件相关专业，3...\n88  工作职责:1、根据需求进行android平台客户端app的设计、开发、维护和优化；2、能够配...\n89  车辆车机安卓框架工程师1.独立完成基于Android系统平台进行车机应用程序开发设计、调试工...\n90  1.负责移动平台Android客户端的应用开发；2.负责Android手机平台应用软件的需求...\n\n[91 rows x 1 columns]",
      "text/html": "<div>\n<style scoped>\n    .dataframe tbody tr th:only-of-type {\n        vertical-align: middle;\n    }\n\n    .dataframe tbody tr th {\n        vertical-align: top;\n    }\n\n    .dataframe thead th {\n        text-align: right;\n    }\n</style>\n<table border=\"1\" class=\"dataframe\">\n  <thead>\n    <tr style=\"text-align: right;\">\n      <th></th>\n      <th>职位描述或任职要求</th>\n    </tr>\n  </thead>\n  <tbody>\n    <tr>\n      <th>0</th>\n      <td>1、根据公司要求独立完成基于Android系统平台进行应用程序开发设计、调试工作2、独立完成...</td>\n    </tr>\n    <tr>\n      <th>1</th>\n      <td>岗位职责：1、负责Android客户端APP产品研发，参与技术方案设计和改进。2、负责And...</td>\n    </tr>\n    <tr>\n      <th>2</th>\n      <td>任职要求：1、大专及以上学历2、5年以上安卓原生开发经验3、熟悉java开发语言，熟悉kot...</td>\n    </tr>\n    <tr>\n      <th>3</th>\n      <td>职位描述：1、配合设计师实现交互效果，配合后台工程师完成应用开发；2、独立负责公司安卓端的研...</td>\n    </tr>\n    <tr>\n      <th>4</th>\n      <td>职位描述及要求:岗位职责：1、负责Android平台客户端产品开发和维护工作，并负责在实际开...</td>\n    </tr>\n    <tr>\n      <th>...</th>\n      <td>...</td>\n    </tr>\n    <tr>\n      <th>86</th>\n      <td>任职要求：1、大专及以上学历2、5年以上安卓原生开发经验3、熟悉java开发语言，熟悉kot...</td>\n    </tr>\n    <tr>\n      <th>87</th>\n      <td>岗位职责：负责HUD产品的Android应用开发。任职要求：1、本科，电子/软件相关专业，3...</td>\n    </tr>\n    <tr>\n      <th>88</th>\n      <td>工作职责:1、根据需求进行android平台客户端app的设计、开发、维护和优化；2、能够配...</td>\n    </tr>\n    <tr>\n      <th>89</th>\n      <td>车辆车机安卓框架工程师1.独立完成基于Android系统平台进行车机应用程序开发设计、调试工...</td>\n    </tr>\n    <tr>\n      <th>90</th>\n      <td>1.负责移动平台Android客户端的应用开发；2.负责Android手机平台应用软件的需求...</td>\n    </tr>\n  </tbody>\n</table>\n<p>91 rows × 1 columns</p>\n</div>"
     },
     "execution_count": 53,
     "metadata": {},
     "output_type": "execute_result"
    }
   ],
   "source": [
    "data.reset_index(drop=True)"
   ],
   "metadata": {
    "collapsed": false,
    "pycharm": {
     "name": "#%%\n"
    }
   }
  },
  {
   "cell_type": "code",
   "execution_count": 54,
   "outputs": [
    {
     "data": {
      "text/plain": "(91, 1)"
     },
     "execution_count": 54,
     "metadata": {},
     "output_type": "execute_result"
    }
   ],
   "source": [
    "data.shape"
   ],
   "metadata": {
    "collapsed": false,
    "pycharm": {
     "name": "#%%\n"
    }
   }
  },
  {
   "cell_type": "code",
   "execution_count": 55,
   "outputs": [],
   "source": [
    "data = pd.DataFrame(data)"
   ],
   "metadata": {
    "collapsed": false,
    "pycharm": {
     "name": "#%%\n"
    }
   }
  },
  {
   "cell_type": "code",
   "execution_count": 56,
   "outputs": [],
   "source": [
    "data.drop_duplicates(inplace= True)"
   ],
   "metadata": {
    "collapsed": false,
    "pycharm": {
     "name": "#%%\n"
    }
   }
  },
  {
   "cell_type": "code",
   "execution_count": 57,
   "outputs": [
    {
     "data": {
      "text/plain": "(30, 1)"
     },
     "execution_count": 57,
     "metadata": {},
     "output_type": "execute_result"
    }
   ],
   "source": [
    "data.shape"
   ],
   "metadata": {
    "collapsed": false,
    "pycharm": {
     "name": "#%%\n"
    }
   }
  },
  {
   "cell_type": "code",
   "execution_count": 58,
   "outputs": [
    {
     "data": {
      "text/plain": "                                             职位描述或任职要求\n51   1、根据公司要求独立完成基于Android系统平台进行应用程序开发设计、调试工作2、独立完成...\n52   岗位职责：1、负责Android客户端APP产品研发，参与技术方案设计和改进。2、负责And...\n54   任职要求：1、大专及以上学历2、5年以上安卓原生开发经验3、熟悉java开发语言，熟悉kot...\n55   职位描述：1、配合设计师实现交互效果，配合后台工程师完成应用开发；2、独立负责公司安卓端的研...\n56   职位描述及要求:岗位职责：1、负责Android平台客户端产品开发和维护工作，并负责在实际开...\n57   职责描述：1、根据需求设计功能模块的技术方案；2、独立进行功能模块的开发编码与调试；3、负责...\n59   来都来了，投一个吧，我回复超快哟~~试一试嘛岗位职责：1、负责Android手机软件的开发及...\n60   1、负责公司业务所需的Android的设计和开发；2、参与项目需求分析、产品模块的概要和详细...\n61   1.精通Android基础功能开发，拥有良好的编程风格，扎实的编程基础和数据结构算法基础；2...\n63   岗位职责：1、根据需求进行APP软件设计、开发和维护；2、负责相关技术文档编写；3、负责与服...\n64   工作职责：1、参与产品设计，使用流程等，方案讨论，负责Android客户端软件开发工作;2、...\n87   【岗位职责】1.Brother自有产品的的AndroidApp开发和优化；2.负责调研、产品...\n88   岗位职责：负责HUD产品的Android应用开发。任职要求：1.本科及以上，3年及以上安卓开...\n91   岗位职责1、负责公司AIOT相关android端应用app的开发和性能优化；2、对客户端架构...\n93   任职要求：1、熟悉java编程语言；2、熟练应用Oracle、MySql、SQLServer...\n97   一、岗位职责：1、自动化系统及相关产品的Android应用程序设计开发、调测、发布、维护。2...\n100  岗位要求1、良好的Java/C++语言基础，熟悉常用数据结构和算法，熟悉设计模式2、熟练掌握...\n101  1、负责公司基于android平台系统整合与应用的开发；2、负责项目设计,以及项目核心功能的...\n103  任职要求：1.大专及以上学历，计算机/电子等相关专业优先；2.1年以上Android应用开发...\n104  工作职责:1、参与安卓产品的开发；2、负责产品系统的需求澄清以及文档编写工作；3、负责安卓驱...\n105  1.负责完成Android平台移动应用产品开发及架构设计。2.对项目的需求，进行系统分析并提...\n107  岗位职责：1.基于Android平台进行手机软件的设计、开发、需求分析等；2.熟悉手机客户端...\n108  岗位职责：1.Android客户端功能模块的技术方案规划和设计2.Android客户端代码的...\n109  1.负责移动平台Android客户端的应用开发；2.负责Android手机平台应用软件的需求...\n111  岗位职责：1、负责Android平板APP智能工具柜APP设计及研发；2、负责硬件驱动设计3...\n112  1.负责移动平台Android客户端的应用开发；2.负责Android手机平台应用软件的需求...\n113  职位描述：1.主导公司App相关开发；2.参与业务需求设计讨论，基于Android平台进行应...\n116  工作职责:1、根据需求进行android平台客户端app的设计、开发、维护和优化；2、能够配...\n164  岗位职责：负责HUD产品的Android应用开发。任职要求：1、本科，电子/软件相关专业，3...\n166  车辆车机安卓框架工程师1.独立完成基于Android系统平台进行车机应用程序开发设计、调试工...",
      "text/html": "<div>\n<style scoped>\n    .dataframe tbody tr th:only-of-type {\n        vertical-align: middle;\n    }\n\n    .dataframe tbody tr th {\n        vertical-align: top;\n    }\n\n    .dataframe thead th {\n        text-align: right;\n    }\n</style>\n<table border=\"1\" class=\"dataframe\">\n  <thead>\n    <tr style=\"text-align: right;\">\n      <th></th>\n      <th>职位描述或任职要求</th>\n    </tr>\n  </thead>\n  <tbody>\n    <tr>\n      <th>51</th>\n      <td>1、根据公司要求独立完成基于Android系统平台进行应用程序开发设计、调试工作2、独立完成...</td>\n    </tr>\n    <tr>\n      <th>52</th>\n      <td>岗位职责：1、负责Android客户端APP产品研发，参与技术方案设计和改进。2、负责And...</td>\n    </tr>\n    <tr>\n      <th>54</th>\n      <td>任职要求：1、大专及以上学历2、5年以上安卓原生开发经验3、熟悉java开发语言，熟悉kot...</td>\n    </tr>\n    <tr>\n      <th>55</th>\n      <td>职位描述：1、配合设计师实现交互效果，配合后台工程师完成应用开发；2、独立负责公司安卓端的研...</td>\n    </tr>\n    <tr>\n      <th>56</th>\n      <td>职位描述及要求:岗位职责：1、负责Android平台客户端产品开发和维护工作，并负责在实际开...</td>\n    </tr>\n    <tr>\n      <th>57</th>\n      <td>职责描述：1、根据需求设计功能模块的技术方案；2、独立进行功能模块的开发编码与调试；3、负责...</td>\n    </tr>\n    <tr>\n      <th>59</th>\n      <td>来都来了，投一个吧，我回复超快哟~~试一试嘛岗位职责：1、负责Android手机软件的开发及...</td>\n    </tr>\n    <tr>\n      <th>60</th>\n      <td>1、负责公司业务所需的Android的设计和开发；2、参与项目需求分析、产品模块的概要和详细...</td>\n    </tr>\n    <tr>\n      <th>61</th>\n      <td>1.精通Android基础功能开发，拥有良好的编程风格，扎实的编程基础和数据结构算法基础；2...</td>\n    </tr>\n    <tr>\n      <th>63</th>\n      <td>岗位职责：1、根据需求进行APP软件设计、开发和维护；2、负责相关技术文档编写；3、负责与服...</td>\n    </tr>\n    <tr>\n      <th>64</th>\n      <td>工作职责：1、参与产品设计，使用流程等，方案讨论，负责Android客户端软件开发工作;2、...</td>\n    </tr>\n    <tr>\n      <th>87</th>\n      <td>【岗位职责】1.Brother自有产品的的AndroidApp开发和优化；2.负责调研、产品...</td>\n    </tr>\n    <tr>\n      <th>88</th>\n      <td>岗位职责：负责HUD产品的Android应用开发。任职要求：1.本科及以上，3年及以上安卓开...</td>\n    </tr>\n    <tr>\n      <th>91</th>\n      <td>岗位职责1、负责公司AIOT相关android端应用app的开发和性能优化；2、对客户端架构...</td>\n    </tr>\n    <tr>\n      <th>93</th>\n      <td>任职要求：1、熟悉java编程语言；2、熟练应用Oracle、MySql、SQLServer...</td>\n    </tr>\n    <tr>\n      <th>97</th>\n      <td>一、岗位职责：1、自动化系统及相关产品的Android应用程序设计开发、调测、发布、维护。2...</td>\n    </tr>\n    <tr>\n      <th>100</th>\n      <td>岗位要求1、良好的Java/C++语言基础，熟悉常用数据结构和算法，熟悉设计模式2、熟练掌握...</td>\n    </tr>\n    <tr>\n      <th>101</th>\n      <td>1、负责公司基于android平台系统整合与应用的开发；2、负责项目设计,以及项目核心功能的...</td>\n    </tr>\n    <tr>\n      <th>103</th>\n      <td>任职要求：1.大专及以上学历，计算机/电子等相关专业优先；2.1年以上Android应用开发...</td>\n    </tr>\n    <tr>\n      <th>104</th>\n      <td>工作职责:1、参与安卓产品的开发；2、负责产品系统的需求澄清以及文档编写工作；3、负责安卓驱...</td>\n    </tr>\n    <tr>\n      <th>105</th>\n      <td>1.负责完成Android平台移动应用产品开发及架构设计。2.对项目的需求，进行系统分析并提...</td>\n    </tr>\n    <tr>\n      <th>107</th>\n      <td>岗位职责：1.基于Android平台进行手机软件的设计、开发、需求分析等；2.熟悉手机客户端...</td>\n    </tr>\n    <tr>\n      <th>108</th>\n      <td>岗位职责：1.Android客户端功能模块的技术方案规划和设计2.Android客户端代码的...</td>\n    </tr>\n    <tr>\n      <th>109</th>\n      <td>1.负责移动平台Android客户端的应用开发；2.负责Android手机平台应用软件的需求...</td>\n    </tr>\n    <tr>\n      <th>111</th>\n      <td>岗位职责：1、负责Android平板APP智能工具柜APP设计及研发；2、负责硬件驱动设计3...</td>\n    </tr>\n    <tr>\n      <th>112</th>\n      <td>1.负责移动平台Android客户端的应用开发；2.负责Android手机平台应用软件的需求...</td>\n    </tr>\n    <tr>\n      <th>113</th>\n      <td>职位描述：1.主导公司App相关开发；2.参与业务需求设计讨论，基于Android平台进行应...</td>\n    </tr>\n    <tr>\n      <th>116</th>\n      <td>工作职责:1、根据需求进行android平台客户端app的设计、开发、维护和优化；2、能够配...</td>\n    </tr>\n    <tr>\n      <th>164</th>\n      <td>岗位职责：负责HUD产品的Android应用开发。任职要求：1、本科，电子/软件相关专业，3...</td>\n    </tr>\n    <tr>\n      <th>166</th>\n      <td>车辆车机安卓框架工程师1.独立完成基于Android系统平台进行车机应用程序开发设计、调试工...</td>\n    </tr>\n  </tbody>\n</table>\n</div>"
     },
     "execution_count": 58,
     "metadata": {},
     "output_type": "execute_result"
    }
   ],
   "source": [
    "data"
   ],
   "metadata": {
    "collapsed": false,
    "pycharm": {
     "name": "#%%\n"
    }
   }
  },
  {
   "cell_type": "code",
   "execution_count": 59,
   "outputs": [],
   "source": [
    "data.to_csv('test.csv',header = True,index=0)"
   ],
   "metadata": {
    "collapsed": false,
    "pycharm": {
     "name": "#%%\n"
    }
   }
  },
  {
   "cell_type": "code",
   "execution_count": null,
   "outputs": [],
   "source": [],
   "metadata": {
    "collapsed": false,
    "pycharm": {
     "name": "#%%\n"
    }
   }
  }
 ],
 "metadata": {
  "kernelspec": {
   "display_name": "Python 3",
   "language": "python",
   "name": "python3"
  },
  "language_info": {
   "codemirror_mode": {
    "name": "ipython",
    "version": 2
   },
   "file_extension": ".py",
   "mimetype": "text/x-python",
   "name": "python",
   "nbconvert_exporter": "python",
   "pygments_lexer": "ipython2",
   "version": "2.7.6"
  }
 },
 "nbformat": 4,
 "nbformat_minor": 0
}