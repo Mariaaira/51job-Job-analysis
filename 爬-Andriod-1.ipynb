{
 "cells": [
  {
   "cell_type": "markdown",
   "source": [
    "### 51job-修改后能跑通的代码"
   ],
   "metadata": {
    "collapsed": false,
    "pycharm": {
     "name": "#%% md\n"
    }
   }
  },
  {
   "cell_type": "code",
   "execution_count": 11,
   "metadata": {
    "collapsed": true,
    "pycharm": {
     "name": "#%%\n"
    }
   },
   "outputs": [],
   "source": [
    "from time import sleep\n",
    "from lxml import etree\n",
    "from selenium.webdriver import Chrome\n",
    "from selenium.webdriver.chrome.options import Options\n",
    "from selenium.webdriver.common.keys import Keys\n",
    "import re"
   ]
  },
  {
   "cell_type": "code",
   "execution_count": 12,
   "outputs": [],
   "source": [
    "职位名称=[]\n",
    "公司名称=[]\n",
    "工作经验要求=[]\n",
    "学历要求=[]\n",
    "工作地点=[]\n",
    "薪酬=[]\n",
    "发布时间=[]\n",
    "职位描述或任职要求=[]\n",
    "#\n",
    "# 更新时间=[]\n",
    "城市地区=[]\n",
    "公司福利=[]\n",
    "公司规模=[]\n",
    "公司类型=[]\n",
    "公司标签=[]\n",
    "规模类型=[]\n",
    "# 地区经验学历=[]"
   ],
   "metadata": {
    "collapsed": false,
    "pycharm": {
     "name": "#%%\n"
    }
   }
  },
  {
   "cell_type": "code",
   "execution_count": 13,
   "outputs": [
    {
     "name": "stdout",
     "output_type": "stream",
     "text": [
      "已爬完1页\n"
     ]
    },
    {
     "ename": "StaleElementReferenceException",
     "evalue": "Message: stale element reference: element is not attached to the page document\n  (Session info: chrome=109.0.5414.120)\nStacktrace:\nBacktrace:\n\t(No symbol) [0x00ECF243]\n\t(No symbol) [0x00E57FD1]\n\t(No symbol) [0x00D4D04D]\n\t(No symbol) [0x00D4FD34]\n\t(No symbol) [0x00D4FBE5]\n\t(No symbol) [0x00D4FE80]\n\t(No symbol) [0x00D7BD55]\n\t(No symbol) [0x00D7C22B]\n\t(No symbol) [0x00D72CA1]\n\t(No symbol) [0x00D985D4]\n\t(No symbol) [0x00D72BFF]\n\t(No symbol) [0x00D98804]\n\t(No symbol) [0x00DAC9EB]\n\t(No symbol) [0x00D98386]\n\t(No symbol) [0x00D7163C]\n\t(No symbol) [0x00D7269D]\n\tGetHandleVerifier [0x01169A22+2655074]\n\tGetHandleVerifier [0x0115CA24+2601828]\n\tGetHandleVerifier [0x00F78C0A+619850]\n\tGetHandleVerifier [0x00F77830+614768]\n\t(No symbol) [0x00E605FC]\n\t(No symbol) [0x00E65968]\n\t(No symbol) [0x00E65A55]\n\t(No symbol) [0x00E7051B]\n\tBaseThreadInitThunk [0x762600F9+25]\n\tRtlGetAppContainerNamedObjectPath [0x77E97BBE+286]\n\tRtlGetAppContainerNamedObjectPath [0x77E97B8E+238]\n",
     "output_type": "error",
     "traceback": [
      "\u001B[1;31m---------------------------------------------------------------------------\u001B[0m",
      "\u001B[1;31mStaleElementReferenceException\u001B[0m            Traceback (most recent call last)",
      "Cell \u001B[1;32mIn [13], line 57\u001B[0m\n\u001B[0;32m     53\u001B[0m \u001B[38;5;66;03m# '//*[@id=\"app\"]/div/div[2]/div/div/div[2]/div/div[2]/div/div[2]/div[1]/div\u001B[39;00m\n\u001B[0;32m     54\u001B[0m \u001B[38;5;66;03m# //*[@id=\"app\"]/div/div[2]/div/div/div[2]/div/div[2]/div/div[2]/div[1]/div[1]/a/div/span[1]\u001B[39;00m\n\u001B[0;32m     56\u001B[0m \u001B[38;5;28;01mfor\u001B[39;00m i \u001B[38;5;129;01min\u001B[39;00m \u001B[38;5;28mrange\u001B[39m(\u001B[38;5;28mlen\u001B[39m(joblist)):\n\u001B[1;32m---> 57\u001B[0m     joblist[i]\u001B[38;5;241m.\u001B[39mfind_element(By\u001B[38;5;241m.\u001B[39mXPATH, \u001B[38;5;124m'\u001B[39m\u001B[38;5;124m./a/div/span[1]\u001B[39m\u001B[38;5;124m'\u001B[39m)\u001B[38;5;241m.\u001B[39mclick()\n\u001B[0;32m     58\u001B[0m     sleep(\u001B[38;5;241m2\u001B[39m)\n\u001B[0;32m     59\u001B[0m     handles\u001B[38;5;241m=\u001B[39mdriver\u001B[38;5;241m.\u001B[39mwindow_handles\n",
      "File \u001B[1;32mD:\\DL_Homework\\Kaggle2_Titanic\\Project_Titanic\\venv\\lib\\site-packages\\selenium\\webdriver\\remote\\webelement.py:433\u001B[0m, in \u001B[0;36mWebElement.find_element\u001B[1;34m(self, by, value)\u001B[0m\n\u001B[0;32m    430\u001B[0m     by \u001B[38;5;241m=\u001B[39m By\u001B[38;5;241m.\u001B[39mCSS_SELECTOR\n\u001B[0;32m    431\u001B[0m     value \u001B[38;5;241m=\u001B[39m \u001B[38;5;124m'\u001B[39m\u001B[38;5;124m[name=\u001B[39m\u001B[38;5;124m\"\u001B[39m\u001B[38;5;132;01m%s\u001B[39;00m\u001B[38;5;124m\"\u001B[39m\u001B[38;5;124m]\u001B[39m\u001B[38;5;124m'\u001B[39m \u001B[38;5;241m%\u001B[39m value\n\u001B[1;32m--> 433\u001B[0m \u001B[38;5;28;01mreturn\u001B[39;00m \u001B[38;5;28;43mself\u001B[39;49m\u001B[38;5;241;43m.\u001B[39;49m\u001B[43m_execute\u001B[49m\u001B[43m(\u001B[49m\u001B[43mCommand\u001B[49m\u001B[38;5;241;43m.\u001B[39;49m\u001B[43mFIND_CHILD_ELEMENT\u001B[49m\u001B[43m,\u001B[49m\u001B[43m \u001B[49m\u001B[43m{\u001B[49m\u001B[38;5;124;43m\"\u001B[39;49m\u001B[38;5;124;43musing\u001B[39;49m\u001B[38;5;124;43m\"\u001B[39;49m\u001B[43m:\u001B[49m\u001B[43m \u001B[49m\u001B[43mby\u001B[49m\u001B[43m,\u001B[49m\u001B[43m \u001B[49m\u001B[38;5;124;43m\"\u001B[39;49m\u001B[38;5;124;43mvalue\u001B[39;49m\u001B[38;5;124;43m\"\u001B[39;49m\u001B[43m:\u001B[49m\u001B[43m \u001B[49m\u001B[43mvalue\u001B[49m\u001B[43m}\u001B[49m\u001B[43m)\u001B[49m[\u001B[38;5;124m\"\u001B[39m\u001B[38;5;124mvalue\u001B[39m\u001B[38;5;124m\"\u001B[39m]\n",
      "File \u001B[1;32mD:\\DL_Homework\\Kaggle2_Titanic\\Project_Titanic\\venv\\lib\\site-packages\\selenium\\webdriver\\remote\\webelement.py:410\u001B[0m, in \u001B[0;36mWebElement._execute\u001B[1;34m(self, command, params)\u001B[0m\n\u001B[0;32m    408\u001B[0m     params \u001B[38;5;241m=\u001B[39m {}\n\u001B[0;32m    409\u001B[0m params[\u001B[38;5;124m\"\u001B[39m\u001B[38;5;124mid\u001B[39m\u001B[38;5;124m\"\u001B[39m] \u001B[38;5;241m=\u001B[39m \u001B[38;5;28mself\u001B[39m\u001B[38;5;241m.\u001B[39m_id\n\u001B[1;32m--> 410\u001B[0m \u001B[38;5;28;01mreturn\u001B[39;00m \u001B[38;5;28;43mself\u001B[39;49m\u001B[38;5;241;43m.\u001B[39;49m\u001B[43m_parent\u001B[49m\u001B[38;5;241;43m.\u001B[39;49m\u001B[43mexecute\u001B[49m\u001B[43m(\u001B[49m\u001B[43mcommand\u001B[49m\u001B[43m,\u001B[49m\u001B[43m \u001B[49m\u001B[43mparams\u001B[49m\u001B[43m)\u001B[49m\n",
      "File \u001B[1;32mD:\\DL_Homework\\Kaggle2_Titanic\\Project_Titanic\\venv\\lib\\site-packages\\selenium\\webdriver\\remote\\webdriver.py:444\u001B[0m, in \u001B[0;36mWebDriver.execute\u001B[1;34m(self, driver_command, params)\u001B[0m\n\u001B[0;32m    442\u001B[0m response \u001B[38;5;241m=\u001B[39m \u001B[38;5;28mself\u001B[39m\u001B[38;5;241m.\u001B[39mcommand_executor\u001B[38;5;241m.\u001B[39mexecute(driver_command, params)\n\u001B[0;32m    443\u001B[0m \u001B[38;5;28;01mif\u001B[39;00m response:\n\u001B[1;32m--> 444\u001B[0m     \u001B[38;5;28;43mself\u001B[39;49m\u001B[38;5;241;43m.\u001B[39;49m\u001B[43merror_handler\u001B[49m\u001B[38;5;241;43m.\u001B[39;49m\u001B[43mcheck_response\u001B[49m\u001B[43m(\u001B[49m\u001B[43mresponse\u001B[49m\u001B[43m)\u001B[49m\n\u001B[0;32m    445\u001B[0m     response[\u001B[38;5;124m\"\u001B[39m\u001B[38;5;124mvalue\u001B[39m\u001B[38;5;124m\"\u001B[39m] \u001B[38;5;241m=\u001B[39m \u001B[38;5;28mself\u001B[39m\u001B[38;5;241m.\u001B[39m_unwrap_value(response\u001B[38;5;241m.\u001B[39mget(\u001B[38;5;124m\"\u001B[39m\u001B[38;5;124mvalue\u001B[39m\u001B[38;5;124m\"\u001B[39m, \u001B[38;5;28;01mNone\u001B[39;00m))\n\u001B[0;32m    446\u001B[0m     \u001B[38;5;28;01mreturn\u001B[39;00m response\n",
      "File \u001B[1;32mD:\\DL_Homework\\Kaggle2_Titanic\\Project_Titanic\\venv\\lib\\site-packages\\selenium\\webdriver\\remote\\errorhandler.py:249\u001B[0m, in \u001B[0;36mErrorHandler.check_response\u001B[1;34m(self, response)\u001B[0m\n\u001B[0;32m    247\u001B[0m         alert_text \u001B[38;5;241m=\u001B[39m value[\u001B[38;5;124m\"\u001B[39m\u001B[38;5;124malert\u001B[39m\u001B[38;5;124m\"\u001B[39m]\u001B[38;5;241m.\u001B[39mget(\u001B[38;5;124m\"\u001B[39m\u001B[38;5;124mtext\u001B[39m\u001B[38;5;124m\"\u001B[39m)\n\u001B[0;32m    248\u001B[0m     \u001B[38;5;28;01mraise\u001B[39;00m exception_class(message, screen, stacktrace, alert_text)  \u001B[38;5;66;03m# type: ignore[call-arg]  # mypy is not smart enough here\u001B[39;00m\n\u001B[1;32m--> 249\u001B[0m \u001B[38;5;28;01mraise\u001B[39;00m exception_class(message, screen, stacktrace)\n",
      "\u001B[1;31mStaleElementReferenceException\u001B[0m: Message: stale element reference: element is not attached to the page document\n  (Session info: chrome=109.0.5414.120)\nStacktrace:\nBacktrace:\n\t(No symbol) [0x00ECF243]\n\t(No symbol) [0x00E57FD1]\n\t(No symbol) [0x00D4D04D]\n\t(No symbol) [0x00D4FD34]\n\t(No symbol) [0x00D4FBE5]\n\t(No symbol) [0x00D4FE80]\n\t(No symbol) [0x00D7BD55]\n\t(No symbol) [0x00D7C22B]\n\t(No symbol) [0x00D72CA1]\n\t(No symbol) [0x00D985D4]\n\t(No symbol) [0x00D72BFF]\n\t(No symbol) [0x00D98804]\n\t(No symbol) [0x00DAC9EB]\n\t(No symbol) [0x00D98386]\n\t(No symbol) [0x00D7163C]\n\t(No symbol) [0x00D7269D]\n\tGetHandleVerifier [0x01169A22+2655074]\n\tGetHandleVerifier [0x0115CA24+2601828]\n\tGetHandleVerifier [0x00F78C0A+619850]\n\tGetHandleVerifier [0x00F77830+614768]\n\t(No symbol) [0x00E605FC]\n\t(No symbol) [0x00E65968]\n\t(No symbol) [0x00E65A55]\n\t(No symbol) [0x00E7051B]\n\tBaseThreadInitThunk [0x762600F9+25]\n\tRtlGetAppContainerNamedObjectPath [0x77E97BBE+286]\n\tRtlGetAppContainerNamedObjectPath [0x77E97B8E+238]\n"
     ]
    }
   ],
   "source": [
    "from selenium.webdriver.common.by import By\n",
    "\n",
    "option=Options()\n",
    "option.add_argument('--disable-blink-features=AutomationControlled')\n",
    "option.add_argument(\"--log-level=3\")\n",
    "option.add_argument(\"--use-fake-ui-for-media-stream\")\n",
    "driver = Chrome(options=option)\n",
    "driver.get('https://www.51job.com')\n",
    "\n",
    "driver.find_element(By.ID,'kwdselectid').send_keys('金融',Keys.ENTER)\n",
    "sleep(10)\n",
    "for k in range(1,30):\n",
    "    handles=driver.window_handles\n",
    "    driver.switch_to.window(handles[-1])\n",
    "    page1=driver.page_source\n",
    "    # print(page1)\n",
    "\n",
    "    issuedate=re.findall(r'.*?class=\"time\">(.*?)</span>',page1)  # 发布时间\n",
    "    发布时间=发布时间+issuedate\n",
    "\n",
    "#     # updatedate=re.findall(r'\"job_name\":\".*?\".*?\"updatedate\":\"(.*?)\"',page1)#更新时间\n",
    "#     # 更新时间=更新时间+updatedate\n",
    "#\n",
    "    jobwelf=re.findall(r'.*?class=\"tags\".*?title=\"(.*?)\"',page1)#公司福利\n",
    "    公司福利=公司福利+jobwelf\n",
    "\n",
    "    job_name=re.findall(r'.*?title=\".*?\" class=\"jname at\">(.*?)</span><span',page1) #职位名称\n",
    "    职位名称=职位名称+job_name\n",
    "\n",
    "    company_name=re.findall(r'.*?class=\"cname at\">(.*?)</a>',page1)#公司名称\n",
    "    公司名称=公司名称+company_name\n",
    "\n",
    "    providesalary_text=re.findall(r'.*?class=\"sal\">(.*?)</span>',page1)#薪酬\n",
    "    薪酬=薪酬+providesalary_text\n",
    "\n",
    "    companysize_text=re.findall(r'.*?class=\"dc at\">.*?\\|  (.*?)</p>',page1)#公司规模\n",
    "    公司规模=公司规模+companysize_text\n",
    "\n",
    "    companytype_text=re.findall(r'.*?class=\"dc at\">(.*?)  \\|',page1)#公司类型\n",
    "    公司类型=公司类型+companytype_text\n",
    "\n",
    "    companytype_size_text=re.findall(r'.*?class=\"dc at\">(.*?)</p>',page1)\n",
    "    规模类型=规模类型+companytype_size_text\n",
    "\n",
    "    companyind_text=re.findall(r'.*?class=\"int at\">(.*?)</p>',page1)#公司标签\n",
    "    公司标签=公司标签+companyind_text\n",
    "\n",
    "    # attribute_text=re.findall(r'\"attribute_text\":(\\[.*?\\])',page1)#地区经验学历\n",
    "    # 地区经验学历=地区经验学历+attribute_text\n",
    "\n",
    "\n",
    "    joblist=driver.find_elements(By.XPATH, '//*[@id=\"app\"]/div/div[2]/div/div/div[2]/div/div[2]/div/div[2]/div[1]/div')\n",
    "    # '//*[@id=\"app\"]/div/div[2]/div/div/div[2]/div/div[2]/div/div[2]/div[1]/div\n",
    "    # //*[@id=\"app\"]/div/div[2]/div/div/div[2]/div/div[2]/div/div[2]/div[1]/div[1]/a/div/span[1]\n",
    "\n",
    "    for i in range(len(joblist)):\n",
    "        joblist[i].find_element(By.XPATH, './a/div/span[1]').click()\n",
    "        sleep(2)\n",
    "        handles=driver.window_handles\n",
    "        driver.switch_to.window(handles[-1])\n",
    "        page2=driver.page_source\n",
    "        html2=etree.HTML(page2)\n",
    "        # print(page2)\n",
    "        city=\"\".join(html2.xpath('/html/body/div[2]/div[2]/div[2]/div/div[1]/p/text()[1]')).replace('\\xa0','')#城市地区\n",
    "        城市地区.append(city)\n",
    "\n",
    "        work_exp=\"\".join(html2.xpath('/html/body/div[2]/div[2]/div[2]/div/div[1]/p/text()[2]')).replace('\\xa0','')#工作经验\n",
    "        工作经验要求.append(work_exp)\n",
    "\n",
    "        degree=\"\".join(html2.xpath('/html/body/div[2]/div[2]/div[2]/div/div[1]/p/text()[3]')).replace('\\xa0','')#学历\n",
    "        学历要求.append(degree)\n",
    "\n",
    "        con=\"\".join(html2.xpath('/html/body/div[2]/div[2]/div[3]/div[1]/div/text()')).replace(' ','').replace('\\n','')\n",
    "        职位描述或任职要求.append(con)\n",
    "        #\n",
    "        # location=\"\".join(html2.xpath('/html/body/div[2]/div[2]/div[3]/div[2]/div/p/text()'))#工作地点\n",
    "        # 工作地点.append(location)\n",
    "        #\n",
    "        # jobwelf = \"\".join(html2.xpath('/html/body/div[2]/div[2]/div[2]/div/div[1]/div/div/text()'))\n",
    "        # 公司福利.append(jobwelf)\n",
    "\n",
    "        driver.close()\n",
    "        handles=driver.window_handles\n",
    "        driver.switch_to.window(handles[-1])\n",
    "    handles=driver.window_handles\n",
    "    driver.switch_to.window(handles[-1])\n",
    "    js=\"var q=document.documentElement.scrollTop=10000\"  # 滚动到最下面\n",
    "    driver.execute_script(js)\n",
    "    sleep(1)\n",
    "    target=driver.find_element(By.XPATH, '//button[@class=\"btn-next\"]')\n",
    "    driver.execute_script('arguments[0].click();',target)\n",
    "    sleep(3)\n",
    "    handles=driver.window_handles\n",
    "    driver.switch_to.window(handles[-1])\n",
    "    print(f\"已爬完{k}页\")\n",
    "print('已完成')\n",
    "    # print(f\"已爬完{k}页\")\n",
    "#     break"
   ],
   "metadata": {
    "collapsed": false,
    "pycharm": {
     "name": "#%%\n"
    }
   }
  },
  {
   "cell_type": "code",
   "execution_count": 14,
   "outputs": [],
   "source": [
    "import pandas as pd\n",
    "info ={\n",
    "    '职位名称':职位名称,\n",
    "    '公司名称':公司名称,\n",
    "    '薪酬':薪酬,\n",
    "    '城市地区':城市地区,\n",
    "    '学历要求':学历要求,\n",
    "    '工作经验要求':工作经验要求,\n",
    "    '发布时间':发布时间,\n",
    "    '公司规模':公司规模,\n",
    "    '公司福利':公司福利,\n",
    "    '公司类型':公司类型,\n",
    "    '公司标签':公司标签,\n",
    "    '工作地点':工作地点,\n",
    "    '职位描述或任职要求':职位描述或任职要求,\n",
    "    '规模类型':规模类型,\n",
    "}\n",
    "    # '更新时间':更新时间,\n",
    "    # '地区经验学历':地区经验学历\n",
    "# fd = pd.DataFrame(info)\n",
    "fd = pd.DataFrame(pd.DataFrame.from_dict(info, orient='index').values.T, columns=list(info.keys()))\n",
    "fd.to_csv('金融page9-10.csv',header = True,index=0)"
   ],
   "metadata": {
    "collapsed": false,
    "pycharm": {
     "name": "#%%\n"
    }
   }
  },
  {
   "cell_type": "code",
   "execution_count": null,
   "outputs": [],
   "source": [],
   "metadata": {
    "collapsed": false,
    "pycharm": {
     "name": "#%%\n"
    }
   }
  }
 ],
 "metadata": {
  "kernelspec": {
   "display_name": "Python 3",
   "language": "python",
   "name": "python3"
  },
  "language_info": {
   "codemirror_mode": {
    "name": "ipython",
    "version": 2
   },
   "file_extension": ".py",
   "mimetype": "text/x-python",
   "name": "python",
   "nbconvert_exporter": "python",
   "pygments_lexer": "ipython2",
   "version": "2.7.6"
  }
 },
 "nbformat": 4,
 "nbformat_minor": 0
}